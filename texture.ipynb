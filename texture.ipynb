{
 "cells": [
  {
   "cell_type": "markdown",
   "metadata": {},
   "source": [
    "[ ] Fix the latent variance calculations. (I think it's just taking total variance instead of the 2 norm of z vectors.)"
   ]
  },
  {
   "cell_type": "code",
   "execution_count": null,
   "metadata": {},
   "outputs": [],
   "source": [
    "import numpy as np\n",
    "import pandas as pd\n",
    "import scanpy as sc\n",
    "import matplotlib.pyplot as plt\n",
    "from matplotlib.colors import ListedColormap\n",
    "import torch\n",
    "from torch.utils.data import DataLoader, TensorDataset\n",
    "import lightning as L\n",
    "import torch.nn.functional as F\n",
    "\n",
    "import warnings\n",
    "warnings.filterwarnings(\"ignore\")\n",
    "from importlib import reload\n",
    "\n",
    "# this ensures that I can update the class without losing my variables in my notebook\n",
    "import xenium_cluster\n",
    "reload(xenium_cluster)\n",
    "from xenium_cluster import XeniumCluster\n",
    "from utils.metrics import *"
   ]
  },
  {
   "cell_type": "code",
   "execution_count": null,
   "metadata": {},
   "outputs": [],
   "source": [
    "# Path to your .gz file\n",
    "file_path = 'data/hBreast/transcripts.csv.gz'\n",
    "\n",
    "# Read the gzipped CSV file into a DataFrame\n",
    "df_transcripts = pd.read_csv(file_path, compression='gzip')\n",
    "df_transcripts.head()"
   ]
  },
  {
   "cell_type": "code",
   "execution_count": null,
   "metadata": {},
   "outputs": [],
   "source": [
    "clustering = XeniumCluster(data=df_transcripts, dataset_name=\"hBreast\")\n",
    "clustering.set_spot_size(100)\n",
    "clustering.create_spot_data(third_dim=False, save_data=True)"
   ]
  },
  {
   "cell_type": "code",
   "execution_count": null,
   "metadata": {},
   "outputs": [],
   "source": [
    "HIGHLY_VARIABLE = False\n",
    "clustering.normalize_counts(clustering.xenium_spot_data)"
   ]
  },
  {
   "cell_type": "code",
   "execution_count": null,
   "metadata": {},
   "outputs": [],
   "source": [
    "HIGHLY_VARIABLE = True\n",
    "clustering.filter_only_high_variable_genes(clustering.xenium_spot_data)\n",
    "# generate the neigborhood graph based on pca\n",
    "sc.tl.pca(clustering.xenium_spot_data, svd_solver='arpack')\n",
    "sc.pl.pca_variance_ratio(clustering.xenium_spot_data)\n",
    "clustering.xenium_spot_data = clustering.xenium_spot_data[:,clustering.xenium_spot_data.var.highly_variable==True]"
   ]
  },
  {
   "cell_type": "code",
   "execution_count": null,
   "metadata": {},
   "outputs": [],
   "source": [
    "clustering.xenium_spot_data.var, clustering.xenium_spot_data.var.shape"
   ]
  },
  {
   "cell_type": "code",
   "execution_count": null,
   "metadata": {},
   "outputs": [],
   "source": [
    "clustering.xenium_spot_data.obs, clustering.xenium_spot_data.obs.shape"
   ]
  },
  {
   "cell_type": "code",
   "execution_count": null,
   "metadata": {},
   "outputs": [],
   "source": [
    "expression_data = pd.DataFrame(clustering.xenium_spot_data.X, columns=clustering.xenium_spot_data.var.index)\n",
    "clustering.xenium_spot_data.obs.index = clustering.xenium_spot_data.obs.index.astype(int)\n",
    "input_data = clustering.xenium_spot_data.obs.join(expression_data)\n",
    "input_data.head()"
   ]
  },
  {
   "cell_type": "markdown",
   "metadata": {},
   "source": [
    "### Reconstruction Loss\n",
    "\n",
    "Input: $X$\n",
    "\n",
    "Reconstruction: $X^{'}$\n",
    "\n",
    "$$(X - X^{'})^2$$\n",
    "\n",
    "### Spatial Loss\n",
    "\n",
    "Left Boundary $(l)$: $\\max(0, j - n)$\n",
    "\n",
    "Right Boundary $(r)$: $\\min(0, j + n)$\n",
    "\n",
    "Top Boundary $(t)$: $\\max(0, i - n)$\n",
    "\n",
    "Bottom Boundary $(b)$: $\\min(0, i + n)$\n",
    "\n",
    "$$\\frac{1}{IJ} \\sum_{i=1}^I \\sum_{j=1}^{J} \\frac{1}{(r-l+1)(b-t+1)}\\sum_{i^{'} = b}^{t} \\sum_{j^{'}=l}^{r} D_{KL}(C[i^{'}, j^{'}], C[i, j]) $$\n",
    "\n",
    "### Entropy Regularization\n",
    "\n",
    "$$- \\frac{1}{IJK} \\sum_{i=1}^{I}\\sum_{j=1}^{J}\\sum_{k=1}^{K} p_{i,j}(k) \\log(p_{i,j}(k)) $$"
   ]
  },
  {
   "cell_type": "code",
   "execution_count": null,
   "metadata": {},
   "outputs": [],
   "source": [
    "import os\n",
    "os.environ[\"CUDA_VISIBLE_DEVICES\"] = \"[1]\"\n"
   ]
  },
  {
   "cell_type": "code",
   "execution_count": 288,
   "metadata": {},
   "outputs": [
    {
     "name": "stdout",
     "output_type": "stream",
     "text": [
      "Epoch 0:   0%|          | 0/1 [1:22:15<?, ?it/s]\n",
      "Epoch 0:   0%|          | 0/1 [1:21:24<?, ?it/s]\n",
      "Epoch 0:   0%|          | 0/1 [1:17:47<?, ?it/s]\n",
      "Epoch 0:   0%|          | 0/1 [1:13:53<?, ?it/s]\n",
      "Epoch 0:   0%|          | 0/1 [1:13:11<?, ?it/s]\n",
      "Epoch 0:   0%|          | 0/1 [1:06:46<?, ?it/s]\n",
      "Epoch 0:   0%|          | 0/1 [1:06:20<?, ?it/s]\n",
      "Epoch 0:   0%|          | 0/1 [1:05:26<?, ?it/s]\n",
      "Epoch 0:   0%|          | 0/1 [50:08<?, ?it/s]\n",
      "Epoch 0:   0%|          | 0/1 [40:16<?, ?it/s]\n",
      "Epoch 0:   0%|          | 0/1 [37:15<?, ?it/s]\n",
      "Epoch 0:   0%|          | 0/1 [36:43<?, ?it/s]\n",
      "Epoch 0:   0%|          | 0/1 [04:20<?, ?it/s]\n"
     ]
    }
   ],
   "source": [
    "class ClassifierAutoEncoder(L.LightningModule):\n",
    "\n",
    "    def __init__(\n",
    "            self,\n",
    "            spot_height,\n",
    "            spot_width,\n",
    "            spot_depth = None,\n",
    "            within_cluster_distance_hyperparam = 1,\n",
    "            within_cluster_penalty_hyperparam = 1, \n",
    "            spatial_penalty_hyperparam = 1,\n",
    "            entropy_penalty_hyperparam = 1,\n",
    "            cluster_util_penalty_hyperparam = 1,\n",
    "            neighborhood_size = 5,\n",
    "            num_clusters = 10\n",
    "        ):\n",
    "\n",
    "        self.within_cluster_distance_hyperparam = within_cluster_distance_hyperparam\n",
    "        self.within_cluster_penalty_hyperparam = within_cluster_penalty_hyperparam\n",
    "        self.spatial_penalty_hyperparam = spatial_penalty_hyperparam\n",
    "        self.entropy_penalty_hyperparam = entropy_penalty_hyperparam\n",
    "        self.cluster_util_penalty_hyperparam = cluster_util_penalty_hyperparam\n",
    "        self.neighborhood_size = neighborhood_size\n",
    "        self.num_clusters = num_clusters\n",
    "        self.input_size = 180 if HIGHLY_VARIABLE else 541\n",
    "        self.kernel_size = 5\n",
    "        self.stride = 2\n",
    "        self.padding = 0\n",
    "        self.spot_height = spot_height\n",
    "        self.spot_width = spot_width\n",
    "        self.spot_depth = spot_depth\n",
    "\n",
    "        self.loss_array = []\n",
    "\n",
    "        super(ClassifierAutoEncoder, self).__init__()\n",
    "\n",
    "        # Encoder Layers\n",
    "        in_channels = self.input_size\n",
    "        # out channels needs to be multiplied by the same quantity the number of spots is reduced by\n",
    "        out_channels = self.calculate_out_channels(in_channels, self.kernel_size, self.stride, self.padding)\n",
    "        in_size_enc1 = torch.tensor([self.spot_height, self.spot_width], dtype=int)\n",
    "        out_size_enc1 = self.calculate_output_size(in_size_enc1, self.kernel_size, self.stride, self.padding)\n",
    "        print(in_size_enc1, out_size_enc1)\n",
    "        self.enc_conv1 = torch.nn.Conv2d(in_channels, out_channels, kernel_size=self.kernel_size, stride=self.stride, padding=self.padding)\n",
    "        self.enc_batchnorm1 = torch.nn.BatchNorm2d(out_channels)\n",
    "\n",
    "        in_channels = out_channels\n",
    "        out_channels = self.calculate_out_channels(in_channels, self.kernel_size, self.stride, self.padding)\n",
    "        in_size_enc2 = out_size_enc1\n",
    "        out_size_enc2 = self.calculate_output_size(in_size_enc2, self.kernel_size, self.stride, self.padding)\n",
    "        print(in_size_enc2, out_size_enc2)\n",
    "        self.enc_conv2 = torch.nn.Conv2d(in_channels, out_channels, kernel_size=self.kernel_size, stride=self.stride, padding=self.padding)\n",
    "        self.enc_batchnorm2 = torch.nn.BatchNorm2d(out_channels)\n",
    "\n",
    "        in_channels = out_channels\n",
    "        out_channels = self.adjust_out_channels(self.calculate_out_channels(in_channels, self.kernel_size, self.stride, self.padding), self.spot_height, self.spot_width)\n",
    "        in_size_enc3 = out_size_enc2\n",
    "        out_size_enc3 = self.calculate_output_size(in_size_enc3, self.kernel_size, self.stride, self.padding)\n",
    "        print(in_size_enc3, out_size_enc3)\n",
    "        self.enc_conv3 = torch.nn.Conv2d(in_channels, out_channels, kernel_size=self.kernel_size, stride=self.stride, padding=self.padding)\n",
    "        self.enc_batchnorm3 = torch.nn.BatchNorm2d(out_channels)\n",
    "\n",
    "        self.activation = torch.nn.LeakyReLU()\n",
    "\n",
    "        # Decoder Layers\n",
    "        in_channels = out_channels\n",
    "        in_size_dec1 = out_size_enc3\n",
    "        out_size_dec1 = self.calculate_output_size(in_size_dec1, self.kernel_size, self.stride, self.padding, transpose=True)\n",
    "        output_padding1 = torch.max(torch.abs(out_size_dec1 - in_size_enc3)).item()\n",
    "        if output_padding1:\n",
    "            out_size_dec1 = self.calculate_output_size(in_size_dec1, self.kernel_size, self.stride, self.padding, output_padding=output_padding1, transpose=True)\n",
    "        print(in_size_dec1, out_size_dec1)\n",
    "        self.dec_conv1 = torch.nn.ConvTranspose2d(in_channels, 256, kernel_size=self.kernel_size, stride=self.stride, padding=self.padding, output_padding=output_padding1)\n",
    "        self.dec_batchnorm1 = torch.nn.BatchNorm2d(256)\n",
    "\n",
    "        in_size_dec2 = out_size_dec1\n",
    "        out_size_dec2 = self.calculate_output_size(in_size_dec2, self.kernel_size, self.stride, self.padding, transpose=True)\n",
    "        output_padding2 = torch.max(torch.abs(out_size_dec2 - in_size_enc2)).item()\n",
    "        if output_padding2:\n",
    "            out_size_dec2 = self.calculate_output_size(in_size_dec2, self.kernel_size, self.stride, self.padding, output_padding=output_padding2, transpose=True)\n",
    "        print(in_size_dec2, out_size_dec2)\n",
    "        self.dec_conv2 = torch.nn.ConvTranspose2d(256, 256, kernel_size=self.kernel_size, stride=self.stride, padding=self.padding, output_padding=output_padding2)\n",
    "        self.dec_batchnorm2 = torch.nn.BatchNorm2d(256)\n",
    "\n",
    "        in_size_dec3 = out_size_dec2\n",
    "        out_size_dec3 = self.calculate_output_size(in_size_dec3, self.kernel_size, self.stride, self.padding, transpose=True)\n",
    "        output_padding3 = torch.max(torch.abs(out_size_dec3 - in_size_enc1)).item()\n",
    "        if output_padding3:\n",
    "            out_size_dec3 = self.calculate_output_size(in_size_dec3, self.kernel_size, self.stride, self.padding, output_padding=output_padding3, transpose=True) \n",
    "        print(in_size_dec3, out_size_dec3)     \n",
    "        self.dec_conv3 = torch.nn.ConvTranspose2d(256, self.input_size, kernel_size=self.kernel_size, stride=self.stride, padding=self.padding, output_padding=output_padding3)\n",
    "\n",
    "        # cluster layers\n",
    "        in_channels = torch.prod(out_size_enc3).item()\n",
    "        self.clust_linear1 = torch.nn.Linear(in_channels, 256)\n",
    "        self.clust_linear2 = torch.nn.Linear(256, 128)\n",
    "        self.clust_linear3 = torch.nn.Linear(128, self.num_clusters)\n",
    "        self.clust_softmax = torch.nn.Softmax(dim=1)\n",
    "\n",
    "        self.encoder = torch.nn.Sequential(\n",
    "            self.enc_conv1,\n",
    "            self.enc_batchnorm1,\n",
    "            self.activation,\n",
    "            self.enc_conv2, \n",
    "            self.enc_batchnorm2,   \n",
    "            self.activation,       \n",
    "            self.enc_conv3,  \n",
    "            self.enc_batchnorm3    \n",
    "        )\n",
    "\n",
    "        self.decoder = torch.nn.Sequential(\n",
    "            self.dec_conv1,\n",
    "            self.dec_batchnorm1,\n",
    "            self.activation,\n",
    "            self.dec_conv2, \n",
    "            self.dec_batchnorm2,\n",
    "            self.activation,          \n",
    "            self.dec_conv3, \n",
    "        )\n",
    "\n",
    "        self.cluster_assignment = torch.nn.Sequential(\n",
    "            self.clust_linear1,\n",
    "            self.activation,\n",
    "            self.clust_linear2,\n",
    "            self.activation,\n",
    "            self.clust_linear3,\n",
    "            self.clust_softmax \n",
    "        )\n",
    "\n",
    "    @staticmethod\n",
    "    def calculate_output_size(input_size, kernel_size, stride, padding, dilation=1, output_padding=0, transpose=False):\n",
    "        if transpose:\n",
    "            output_size = (input_size - 1) * stride - 2 * padding + dilation * (kernel_size - 1) + output_padding + 1\n",
    "        else:\n",
    "            output_size = (input_size + (2 * padding) - kernel_size) // stride + 1\n",
    "        return output_size\n",
    "\n",
    "    @staticmethod\n",
    "    def calculate_out_channels(in_channels, kernel_size, stride, padding):\n",
    "        output_size = (in_channels - 1) * stride + kernel_size - (2 * padding)\n",
    "        return output_size\n",
    "\n",
    "    @staticmethod\n",
    "    def adjust_out_channels(out_channels, height, width):\n",
    "        total_pixels = height * width\n",
    "        if out_channels % total_pixels == 0:\n",
    "            return out_channels \n",
    "        else:\n",
    "            return ((out_channels // total_pixels) + 1) * total_pixels\n",
    "        \n",
    "    def training_step(self, batch, batch_idx):\n",
    "\n",
    "        x, x_hat, z, cluster = self(batch)\n",
    "\n",
    "        try:\n",
    "            zeros = self.training_mask(x).unsqueeze(0).unsqueeze(0)\n",
    "\n",
    "            # Apply mask to input and reconstruction\n",
    "            x_masked = x * zeros\n",
    "            x_hat_masked = x_hat * zeros\n",
    "            z_masked = z * torch.flatten(zeros).view(-1,1)\n",
    "            cluster_masked = cluster * torch.flatten(zeros).view(-1,1)\n",
    "        except:\n",
    "            # Apply mask to input and reconstruction\n",
    "            x_masked = x\n",
    "            x_hat_masked = x_hat\n",
    "            z_masked = z\n",
    "            cluster_masked = cluster\n",
    "            print(\"The masking procedure did not work.\")\n",
    "\n",
    "        loss = self.spatial_loss_function(x_masked, x_hat_masked, z_masked, cluster_masked)\n",
    "\n",
    "        formatted_loss = round(loss.item(), 4)\n",
    "        print(formatted_loss)\n",
    "        self.loss_array.append(formatted_loss)\n",
    "        print(f\"# of Clusters: {cluster_masked.argmax(dim=1).unique().numel()}\")\n",
    "\n",
    "        return loss\n",
    "\n",
    "    def validation_step(self, batch, batch_idx):\n",
    "        x, x_hat, z, cluster = self(batch)\n",
    "        try:\n",
    "            zeros = self.training_mask(x).unsqueeze(0).unsqueeze(0)\n",
    "\n",
    "            # Apply mask to input and reconstruction\n",
    "            x_masked = x * zeros\n",
    "            x_hat_masked = x_hat * zeros\n",
    "            z_masked = z * torch.flatten(zeros).view(-1,1)\n",
    "            cluster_masked = cluster * torch.flatten(zeros).view(-1,1)\n",
    "        except:\n",
    "            # Apply mask to input and reconstruction\n",
    "            x_masked = x\n",
    "            x_hat_masked = x_hat\n",
    "            z_masked = z\n",
    "            cluster_masked = cluster\n",
    "            print(\"The masking procedure did not work.\")\n",
    "\n",
    "        loss = self.spatial_loss_function(x_masked, x_hat_masked, z_masked, cluster_masked)\n",
    "\n",
    "        return loss\n",
    "\n",
    "    def test_step(self, batch, batch_idx):\n",
    "        x, x_hat, z, cluster = self(batch)\n",
    "        try:\n",
    "            zeros = self.training_mask(x).unsqueeze(0).unsqueeze(0)\n",
    "\n",
    "            # Apply mask to input and reconstruction\n",
    "            x_masked = x * zeros\n",
    "            x_hat_masked = x_hat * zeros\n",
    "            z_masked = z * torch.flatten(zeros).view(-1,1)\n",
    "            cluster_masked = cluster * torch.flatten(zeros).view(-1,1)\n",
    "        except:\n",
    "            # Apply mask to input and reconstruction\n",
    "            x_masked = x\n",
    "            x_hat_masked = x_hat\n",
    "            z_masked = z\n",
    "            cluster_masked = cluster\n",
    "            print(\"The masking procedure did not work.\")\n",
    "\n",
    "        loss = self.spatial_loss_function(x_masked, x_hat_masked, z_masked, cluster_masked)\n",
    "\n",
    "        return loss\n",
    "\n",
    "    def cluster_utilization_and_entropy_loss(self, cluster_probs, min_cluster_rate=0.1, beta=1.0):\n",
    "        # Assuming cluster_probs is a Tensor of shape [N, num_clusters]\n",
    "        # where N is the number of samples and num_clusters is the number of possible clusters.\n",
    "\n",
    "        # Calculate the mean probability of each cluster being chosen across all samples\n",
    "        mean_probs = torch.mean(cluster_probs, dim=0)\n",
    "        \n",
    "        # Calculate the shortfall for each cluster from the minimum rate\n",
    "        shortfalls = min_cluster_rate - mean_probs\n",
    "        \n",
    "        # Apply ReLU to get positive shortfalls only (negative values become zero)\n",
    "        positive_shortfalls = torch.nn.functional.relu(shortfalls)\n",
    "        \n",
    "        # Square the shortfalls to penalize larger deviations more severely\n",
    "        squared_penalties = positive_shortfalls ** 2\n",
    "        \n",
    "        # Sum the squared penalties to get the total utilization loss\n",
    "        utilization_loss = torch.sum(squared_penalties)\n",
    "        \n",
    "        # Calculate entropy of the mean probabilities to encourage confident predictions\n",
    "        entropy = -torch.sum(mean_probs * torch.log(mean_probs + 1e-10))  # Adding a small constant to prevent log(0)\n",
    "        \n",
    "        # Total loss combines utilization loss and entropy scaled by a factor beta\n",
    "        total_loss = utilization_loss + beta * entropy\n",
    "        \n",
    "        return total_loss\n",
    "\n",
    "\n",
    "    def spatial_loss_function(self, input, reconstruction, latents, cluster_assignments):\n",
    "        reconstruction_loss = F.mse_loss(input, reconstruction)\n",
    "        within_cluster_penalty = self.within_cluster_average_latent_dissimilarity(latents, cluster_assignments)\n",
    "        spatial_cluster_penalty = self.neighboring_cluster_dissimilarity(cluster_assignments, input)\n",
    "        within_cluster_distance = self.within_cluster_distance(cluster_assignments, input)\n",
    "        entropy_penalty = self.entropy_regularization(cluster_assignments, input)\n",
    "        diff_clusters = self.cluster_utilization_and_entropy_loss(cluster_assignments)\n",
    "        print(f\"\"\"LOSS CONTRIBUTIONS: \n",
    "              (Reconstruct, Within, Within Distance, Spatial, Cluster Different) \n",
    "              ({reconstruction_loss}, {self.within_cluster_penalty_hyperparam * within_cluster_penalty}, {self.within_cluster_distance_hyperparam * within_cluster_distance}, {self.spatial_penalty_hyperparam * spatial_cluster_penalty}, {self.cluster_util_penalty_hyperparam * diff_clusters})\n",
    "              \"\"\")\n",
    "        return reconstruction_loss + self.within_cluster_distance_hyperparam * within_cluster_distance + self.within_cluster_distance_hyperparam * within_cluster_distance\n",
    "\n",
    "    def within_cluster_average_latent_dissimilarity(self, z, cluster, margin=5.0, samples_per_cluster=25):\n",
    "        cluster_assignments = cluster.argmax(dim=1)\n",
    "        # Initialize triplet loss function\n",
    "        triplet_loss = torch.nn.TripletMarginLoss(margin=margin)\n",
    "\n",
    "        # Find unique clusters\n",
    "        unique_clusters = cluster_assignments.unique()\n",
    "\n",
    "        # Preparing lists to hold anchor, positive, and negative examples\n",
    "        anchor_list = []\n",
    "        positive_list = []\n",
    "        negative_list = []\n",
    "\n",
    "        # Loop through each cluster to select anchor and positive, and find negative from other clusters\n",
    "        for cluster in unique_clusters:\n",
    "            # Indices for current cluster and other clusters\n",
    "            current_cluster_indices = (cluster_assignments == cluster).nonzero().squeeze()\n",
    "            other_clusters_indices = (cluster_assignments != cluster).nonzero().squeeze()\n",
    "\n",
    "            # Check if there are enough samples\n",
    "            for _ in range(samples_per_cluster):\n",
    "                if current_cluster_indices.numel() > 1 and other_clusters_indices.numel() > 1:\n",
    "                    # Randomly choose one sample to be the anchor and another to be the positive sample\n",
    "                    anchor_pos_indices = torch.randperm(len(current_cluster_indices))[:2]\n",
    "                    anchor_index = current_cluster_indices[anchor_pos_indices[0]]\n",
    "                    positive_index = current_cluster_indices[anchor_pos_indices[1]]\n",
    "\n",
    "                    # Randomly choose one sample from another cluster to be the negative sample\n",
    "                    negative_index = other_clusters_indices[torch.randperm(len(other_clusters_indices))[0]]\n",
    "\n",
    "                    # Add to lists\n",
    "                    anchor_list.append(z[anchor_index])\n",
    "                    positive_list.append(z[positive_index])\n",
    "                    negative_list.append(z[negative_index])\n",
    "\n",
    "        # Stack lists to create tensors for the triplet loss calculation\n",
    "        if anchor_list:\n",
    "            anchor_tensor = torch.stack(anchor_list)\n",
    "            positive_tensor = torch.stack(positive_list)\n",
    "            negative_tensor = torch.stack(negative_list)\n",
    "\n",
    "            # Calculate the triplet loss\n",
    "            loss = triplet_loss(anchor_tensor, positive_tensor, negative_tensor) \n",
    "            return loss\n",
    "\n",
    "        # Compute a penalty based on the norm of embeddings when no triplets are available\n",
    "        penalty = torch.norm(1000. * z, p=2)  # You can adjust the norm type and scaling factor as needed\n",
    "        return penalty\n",
    "    \n",
    "\n",
    "    def within_cluster_distance(self, cluster_probabilities, x):\n",
    "        device = cluster_probabilities.device  # Get the device of the probabilities (presumably GPU)\n",
    "        batch, channels, height, width = x.shape\n",
    "        num_clusters = cluster_probabilities.size(1)\n",
    "        \n",
    "        # Reshape cluster probabilities and coordinates for pairwise distance computation\n",
    "        cluster_probabilities = cluster_probabilities.view(height * width, num_clusters)\n",
    "        coordinates = torch.stack(torch.meshgrid(torch.arange(height, device=device), torch.arange(width, device=device)), dim=-1)\n",
    "        coordinates = coordinates.view(-1, 2).float()  # Flatten and convert to float\n",
    "        coordinates /= max(height, width)  # Normalize coordinates\n",
    "\n",
    "        # Calculate the pairwise probability that points belong to the same cluster\n",
    "        same_cluster_probs = torch.matmul(cluster_probabilities, cluster_probabilities.t())\n",
    "\n",
    "        # Compute pairwise distances for all points\n",
    "        pairwise_distances = torch.cdist(coordinates, coordinates, p=2)\n",
    "\n",
    "        # Weight distances by the pairwise cluster probabilities\n",
    "        within_cluster_distances = same_cluster_probs * pairwise_distances\n",
    "\n",
    "        # Since we've computed all pairs twice, we halve the result (and ignore the diagonal)\n",
    "        mask = torch.ones(within_cluster_distances.size(), device=device).fill_diagonal_(0)\n",
    "        within_cluster_distances *= mask\n",
    "\n",
    "        # Sum over upper triangle matrix to avoid double-counting pairs\n",
    "        total_within_cluster_distance = within_cluster_distances.triu(diagonal=1).sum()\n",
    "\n",
    "        return total_within_cluster_distance\n",
    "\n",
    "    \n",
    "    def neighboring_cluster_dissimilarity(self, cluster, x, zero_correction = 1e-9):\n",
    "        batch, channels, height, width = x.shape\n",
    "        spots, num_clusters = cluster.shape\n",
    "        spatial_cluster = cluster.view(height, width, num_clusters)\n",
    "        dissimilarity_values = []\n",
    "        for i in range(height):\n",
    "            for j in range(width):\n",
    "\n",
    "                left_boundary = max(0, j - self.neighborhood_size)\n",
    "                right_boundary = min(width, j + self.neighborhood_size + 1)\n",
    "                top_boundary = max(0, i - self.neighborhood_size)\n",
    "                bottom_boundary = min(height, i + self.neighborhood_size + 1)\n",
    "                neighborhood = spatial_cluster[top_boundary:bottom_boundary, left_boundary:right_boundary]\n",
    "\n",
    "                central_pixel_distr = spatial_cluster[i, j, :].unsqueeze(0).unsqueeze(0)\n",
    "                kl_divergences = F.kl_div((central_pixel_distr + zero_correction).log(), neighborhood + zero_correction, reduction='none', log_target=False)\n",
    "                dissimilarity = kl_divergences.sum(dim=-1).mean(dim=(0, 1))\n",
    "\n",
    "                dissimilarity_values.append(dissimilarity.unsqueeze(0))\n",
    "\n",
    "        dissimilarities = torch.cat(dissimilarity_values).to(x.device)\n",
    "        return torch.sum(dissimilarities)  \n",
    "    \n",
    "    def entropy_regularization(self, cluster_probs, x, zero_correction = 1e-9):\n",
    "        batch, channels, height, width = x.shape\n",
    "        spots, num_clusters = cluster_probs.shape\n",
    "        spatial_cluster = cluster_probs.view(height, width, num_clusters)\n",
    "        entropy = -torch.sum(spatial_cluster * torch.log(spatial_cluster + zero_correction), dim=2)\n",
    "        entropy_loss = torch.mean(entropy)\n",
    "        return entropy_loss\n",
    "\n",
    "    def forward(self, x):\n",
    "\n",
    "        batch, channels, height, width = x.shape\n",
    "\n",
    "        # Encoding path\n",
    "        x1 = self.enc_conv1(x)\n",
    "        x1 = self.enc_batchnorm1(x1)\n",
    "        x1 = self.activation(x1)\n",
    "        \n",
    "        x2 = self.enc_conv2(x1)\n",
    "        x2 = self.enc_batchnorm2(x2)\n",
    "        x2 = self.activation(x2)\n",
    "        \n",
    "        x3 = self.enc_conv3(x2)\n",
    "        x3 = self.enc_batchnorm3(x3)\n",
    "        z = self.activation(x3)\n",
    "        z = z.view(1, -1, height, width)\n",
    "\n",
    "        # Decoding path\n",
    "        d1 = self.dec_conv1(x3)\n",
    "        d1 = self.dec_batchnorm1(d1)\n",
    "        d1 = self.activation(d1)\n",
    "        # d1 += x2  # Residual connection from x3 to d1\n",
    "\n",
    "        d2 = self.dec_conv2(d1)\n",
    "        d2 = self.dec_batchnorm2(d2)\n",
    "        d2 = self.activation(d2)\n",
    "        # d2 += x1  # Residual connection from x2 to d2\n",
    "\n",
    "        x_hat = self.dec_conv3(d2)\n",
    "\n",
    "        # Flattening for clustering\n",
    "        batch_size, channels, height, width = z.size()\n",
    "        z = z.view(batch_size * height * width, channels)\n",
    "        cluster = self.cluster_assignment(z)\n",
    "\n",
    "        return x, x_hat, z, cluster\n",
    "\n",
    "    def configure_optimizers(self):\n",
    "        optimizer = torch.optim.Adam(self.parameters(), lr=1e-4)\n",
    "        return optimizer"
   ]
  },
  {
   "cell_type": "code",
   "execution_count": 289,
   "metadata": {},
   "outputs": [
    {
     "data": {
      "text/plain": [
       "torch.Size([180, 88, 104])"
      ]
     },
     "execution_count": 289,
     "metadata": {},
     "output_type": "execute_result"
    }
   ],
   "source": [
    "gene_data = []\n",
    "\n",
    "for gene in clustering.xenium_spot_data.var.index:\n",
    "    gene_channel = pd.pivot(input_data, index = 'row', columns = 'col', values = f\"{gene}\").fillna(0)\n",
    "    gene_tensor = torch.tensor(gene_channel.to_numpy())\n",
    "    gene_data.append(gene_tensor)\n",
    "\n",
    "input_tensor = torch.stack(gene_data, dim=0)\n",
    "input_tensor.shape"
   ]
  },
  {
   "cell_type": "code",
   "execution_count": 290,
   "metadata": {},
   "outputs": [
    {
     "name": "stdout",
     "output_type": "stream",
     "text": [
      "torch.Size([180, 88, 104])\n",
      "tensor([ 88, 104]) tensor([42, 50])\n",
      "tensor([42, 50]) tensor([19, 23])\n",
      "tensor([19, 23]) tensor([ 8, 10])\n",
      "tensor([ 8, 10]) tensor([19, 23])\n",
      "tensor([19, 23]) tensor([42, 50])\n",
      "tensor([42, 50]) tensor([ 88, 104])\n"
     ]
    }
   ],
   "source": [
    "channels, spot_height, spot_width = input_tensor.shape\n",
    "input_tensor = input_tensor.float()\n",
    "input_tensor.to(dtype=torch.float32)\n",
    "print(input_tensor.shape)\n",
    "dataset = [input_tensor]\n",
    "dataloader = DataLoader(dataset, batch_size=1)\n",
    "\n",
    "model = ClassifierAutoEncoder(spot_height, spot_width, within_cluster_distance_hyperparam = 1e-6, within_cluster_penalty_hyperparam = 0.5, spatial_penalty_hyperparam = 0.1, cluster_util_penalty_hyperparam = 1, neighborhood_size = 20, num_clusters=10)"
   ]
  },
  {
   "cell_type": "code",
   "execution_count": 291,
   "metadata": {},
   "outputs": [
    {
     "name": "stderr",
     "output_type": "stream",
     "text": [
      "GPU available: False, used: False\n",
      "TPU available: False, using: 0 TPU cores\n",
      "IPU available: False, using: 0 IPUs\n",
      "HPU available: False, using: 0 HPUs\n",
      "\n",
      "   | Name               | Type            | Params\n",
      "--------------------------------------------------------\n",
      "0  | enc_conv1          | Conv2d          | 1.6 M \n",
      "1  | enc_batchnorm1     | BatchNorm2d     | 726   \n",
      "2  | enc_conv2          | Conv2d          | 6.6 M \n",
      "3  | enc_batchnorm2     | BatchNorm2d     | 1.5 K \n",
      "4  | enc_conv3          | Conv2d          | 166 M \n",
      "5  | enc_batchnorm3     | BatchNorm2d     | 18.3 K\n",
      "6  | activation         | LeakyReLU       | 0     \n",
      "7  | dec_conv1          | ConvTranspose2d | 58.6 M\n",
      "8  | dec_batchnorm1     | BatchNorm2d     | 512   \n",
      "9  | dec_conv2          | ConvTranspose2d | 1.6 M \n",
      "10 | dec_batchnorm2     | BatchNorm2d     | 512   \n",
      "11 | dec_conv3          | ConvTranspose2d | 1.2 M \n",
      "12 | clust_linear1      | Linear          | 20.7 K\n",
      "13 | clust_linear2      | Linear          | 32.9 K\n",
      "14 | clust_linear3      | Linear          | 1.3 K \n",
      "15 | clust_softmax      | Softmax         | 0     \n",
      "16 | encoder            | Sequential      | 175 M \n",
      "17 | decoder            | Sequential      | 61.4 M\n",
      "18 | cluster_assignment | Sequential      | 54.9 K\n",
      "--------------------------------------------------------\n",
      "236 M     Trainable params\n",
      "0         Non-trainable params\n",
      "236 M     Total params\n",
      "945.980   Total estimated model params size (MB)\n"
     ]
    },
    {
     "name": "stdout",
     "output_type": "stream",
     "text": [
      "Epoch 0:   0%|          | 0/1 [00:00<?, ?it/s] torch.Size([1, 363, 42, 50])\n",
      "torch.Size([1, 729, 19, 23])\n",
      "torch.Size([1, 9152, 8, 10])\n",
      "torch.Size([1, 80, 88, 104])\n",
      "torch.Size([1, 256, 19, 23])\n",
      "torch.Size([1, 256, 42, 50])\n",
      "torch.Size([1, 180, 88, 104])\n",
      "The masking procedure did not work.\n",
      "LOSS CONTRIBUTIONS: \n",
      "              (Reconstruct, Within, Within Distance, Spatial, Cluster Different) \n",
      "              (3.7445485591888428, 2.405184507369995, 2.0260918140411377, 1.565032958984375, 2.3010449409484863)\n",
      "              \n",
      "7.3357\n",
      "# of Clusters: 9\n",
      "Epoch 1:   0%|          | 0/1 [00:00<?, ?it/s, v_num=345]        torch.Size([1, 363, 42, 50])\n",
      "torch.Size([1, 729, 19, 23])\n",
      "torch.Size([1, 9152, 8, 10])\n",
      "torch.Size([1, 80, 88, 104])\n",
      "torch.Size([1, 256, 19, 23])\n",
      "torch.Size([1, 256, 42, 50])\n",
      "torch.Size([1, 180, 88, 104])\n",
      "The masking procedure did not work.\n",
      "LOSS CONTRIBUTIONS: \n",
      "              (Reconstruct, Within, Within Distance, Spatial, Cluster Different) \n",
      "              (3.5574252605438232, 2.3027069568634033, 2.025827407836914, 0.973797619342804, 2.301102876663208)\n",
      "              \n",
      "6.5571\n",
      "# of Clusters: 9\n"
     ]
    }
   ],
   "source": [
    "trainer = L.Trainer(max_epochs=100)\n",
    "trainer.fit(model=model, train_dataloaders=dataloader)"
   ]
  },
  {
   "cell_type": "code",
   "execution_count": 88,
   "metadata": {},
   "outputs": [
    {
     "data": {
      "text/plain": [
       "[<matplotlib.lines.Line2D at 0x7f155bf693f0>]"
      ]
     },
     "execution_count": 88,
     "metadata": {},
     "output_type": "execute_result"
    },
    {
     "data": {
      "image/png": "[encoded data removed]",
      "text/plain": [
       "<Figure size 640x480 with 1 Axes>"
      ]
     },
     "metadata": {},
     "output_type": "display_data"
    }
   ],
   "source": [
    "plt.plot(range(len(model.loss_array)), model.loss_array)"
   ]
  },
  {
   "cell_type": "code",
   "execution_count": 89,
   "metadata": {},
   "outputs": [
    {
     "name": "stdout",
     "output_type": "stream",
     "text": [
      "Predicting DataLoader 0:   0%|          | 0/1 [00:00<?, ?it/s]"
     ]
    },
    {
     "name": "stdout",
     "output_type": "stream",
     "text": [
      "Predicting DataLoader 0: 100%|██████████| 1/1 [00:02<00:00,  0.36it/s]\n"
     ]
    }
   ],
   "source": [
    "predictions = trainer.predict(model = model, dataloaders = dataloader)"
   ]
  },
  {
   "cell_type": "code",
   "execution_count": 90,
   "metadata": {},
   "outputs": [
    {
     "data": {
      "text/plain": [
       "tensor([[0.1060, 0.1020, 0.0972,  ..., 0.1029, 0.0946, 0.0969],\n",
       "        [0.1073, 0.1014, 0.0973,  ..., 0.1024, 0.0973, 0.0963],\n",
       "        [0.1057, 0.1024, 0.0969,  ..., 0.1017, 0.0952, 0.0978],\n",
       "        ...,\n",
       "        [0.1059, 0.1016, 0.0975,  ..., 0.1022, 0.0956, 0.0969],\n",
       "        [0.1047, 0.1023, 0.0967,  ..., 0.1027, 0.0954, 0.0979],\n",
       "        [0.1067, 0.1015, 0.0979,  ..., 0.1031, 0.0958, 0.0968]])"
      ]
     },
     "execution_count": 90,
     "metadata": {},
     "output_type": "execute_result"
    }
   ],
   "source": [
    "# Plot the tensor\n",
    "inputs, reconstruction, latents, clusters = predictions[0]\n",
    "clusters"
   ]
  },
  {
   "cell_type": "code",
   "execution_count": 91,
   "metadata": {},
   "outputs": [
    {
     "data": {
      "text/plain": [
       "(array([ 6.,  0.,  0.,  0.,  0., 53.,  1.,  0.,  0.,  0.,  0.,  0.,  0.,\n",
       "         0.,  0.,  0.,  0.,  0.,  0.]),\n",
       " array([ 1.,  2.,  3.,  4.,  5.,  6.,  7.,  8.,  9., 10., 11., 12., 13.,\n",
       "        14., 15., 16., 17., 18., 19., 20.]),\n",
       " <BarContainer object of 19 artists>)"
      ]
     },
     "execution_count": 91,
     "metadata": {},
     "output_type": "execute_result"
    },
    {
     "data": {
      "image/png": "[encoded data removed]",
      "text/plain": [
       "<Figure size 640x480 with 1 Axes>"
      ]
     },
     "metadata": {},
     "output_type": "display_data"
    }
   ],
   "source": [
    "clusters.argmax(dim=1)\n",
    "plt.hist(clusters.argmax(dim=1), bins=range(1, 21))"
   ]
  },
  {
   "cell_type": "code",
   "execution_count": 92,
   "metadata": {},
   "outputs": [
    {
     "data": {
      "text/plain": [
       "torch.Size([1, 180, 88, 104])"
      ]
     },
     "execution_count": 92,
     "metadata": {},
     "output_type": "execute_result"
    }
   ],
   "source": [
    "inputs.shape"
   ]
  },
  {
   "cell_type": "code",
   "execution_count": 93,
   "metadata": {},
   "outputs": [
    {
     "data": {
      "image/png": "[encoded data removed]",
      "text/plain": [
       "<Figure size 600x600 with 2 Axes>"
      ]
     },
     "metadata": {},
     "output_type": "display_data"
    }
   ],
   "source": [
    "# Plot the tensor\n",
    "inputs, reconstruction, latents, clusters = predictions[0]\n",
    "num_possible_clusters = clusters.shape[1]\n",
    "\n",
    "# Get unique values and create a colormap\n",
    "batch, channels, height, width = inputs.shape\n",
    "clusters = clusters.argmax(dim=1).view(height, width)\n",
    "clusters_np = clusters.numpy()\n",
    "\n",
    "colors = plt.cm.get_cmap('viridis', num_possible_clusters)\n",
    "colormap = ListedColormap(colors(np.linspace(0, 1, num_possible_clusters)))\n",
    "\n",
    "# Plotting\n",
    "plt.figure(figsize=(6, 6))\n",
    "plt.imshow(clusters_np, cmap=colormap, interpolation='nearest')\n",
    "plt.colorbar(ticks=range(num_possible_clusters), label='Cluster Values')\n",
    "plt.title('Cluster Visualization with Unique Colors')\n",
    "plt.show()"
   ]
  },
  {
   "cell_type": "code",
   "execution_count": 94,
   "metadata": {},
   "outputs": [
    {
     "data": {
      "text/plain": [
       "<matplotlib.image.AxesImage at 0x7f155ad94c70>"
      ]
     },
     "execution_count": 94,
     "metadata": {},
     "output_type": "execute_result"
    },
    {
     "data": {
      "image/png": "[encoded data removed]",
      "text/plain": [
       "<Figure size 640x480 with 1 Axes>"
      ]
     },
     "metadata": {},
     "output_type": "display_data"
    }
   ],
   "source": [
    "zeros = inputs.view(channels, height, width)\n",
    "zeros = (zeros.sum(dim=0) != 0)\n",
    "zeros = torch.tensor(zeros, dtype=int)\n",
    "\n",
    "plt.imshow(zeros)"
   ]
  },
  {
   "cell_type": "code",
   "execution_count": 95,
   "metadata": {},
   "outputs": [
    {
     "data": {
      "image/png": "[encoded data removed]",
      "text/plain": [
       "<Figure size 600x600 with 2 Axes>"
      ]
     },
     "metadata": {},
     "output_type": "display_data"
    }
   ],
   "source": [
    "# Plot the tensor\n",
    "inputs, reconstruction, latents, clusters = predictions[0]\n",
    "num_possible_clusters = clusters.shape[1] + 1\n",
    "\n",
    "# Get unique values and create a colormap\n",
    "batch, channels, height, width = inputs.shape\n",
    "zeros = inputs.view(channels, height, width)\n",
    "zeros = (zeros.sum(dim=0) != 0)\n",
    "zeros = torch.tensor(zeros, dtype=int)\n",
    "clusters = clusters.argmax(dim=1).view(height, width)\n",
    "clusters = (clusters + 1) * zeros\n",
    "clusters_np = clusters.numpy()\n",
    "\n",
    "colors = plt.cm.get_cmap('viridis', num_possible_clusters)\n",
    "colormap = ListedColormap(colors(np.linspace(0, 1, num_possible_clusters)))\n",
    "\n",
    "# Plotting\n",
    "plt.figure(figsize=(6, 6))\n",
    "plt.imshow(clusters_np, cmap=colormap, interpolation='nearest')\n",
    "plt.colorbar(ticks=range(num_possible_clusters), label='Cluster Values')\n",
    "plt.title('Cluster Visualization with Unique Colors')\n",
    "plt.show()"
   ]
  },
  {
   "cell_type": "code",
   "execution_count": null,
   "metadata": {},
   "outputs": [],
   "source": [
    "colormap"
   ]
  },
  {
   "cell_type": "markdown",
   "metadata": {},
   "source": [
    "Try: Contrastive Loss\n",
    "\n",
    "Include: Post-Processing Clean Up (like Graph Cut or Markov Random Fields)"
   ]
  },
  {
   "cell_type": "markdown",
   "metadata": {},
   "source": [
    "1. Neighborhood Size and Spatial Penalty\n",
    "     - Conditional Random Fields\n",
    "2. Loss Function Weights\n",
    "\n",
    "      - Hyperparameter Tuning: Review the weights (within_cluster_distance_hyperparam, within_cluster_penalty_hyperparam, spatial_penalty_hyperparam, entropy_penalty_hyperparam, cluster_util_penalty_hyperparam) assigned to each component of the loss function. Experiment with these to see if increasing the weight of the spatial penalty helps improve spatial coherence.\n",
    "\n",
    "3. Clustering Mechanism and Output Layer\n",
    "     - Increase the latent dimension (originally was 15).\n",
    "4. Data Preprocessing and Batch Effects\n",
    "Make sure that the input data is appropriately preprocessed and normalized. Variations in data scaling or the presence of outliers can adversely affect clustering performance.\n",
    "\n",
    "Normalization and Standardization: Ensure that your data input to the model is well-preprocessed, including tasks like normalization or standardization, especially if dealing with image data.\n",
    "Batch Effects: Sometimes, how data is batched during training can affect learning dynamics, especially in cases where spatial relationships are important. Make sure the batching process does not obscure spatial relationships.\n"
   ]
  },
  {
   "cell_type": "markdown",
   "metadata": {},
   "source": [
    "1. Modifying Convolutional Kernel Size and Stride\n",
    "     - Smaller kernels.\n",
    "     - Larger strides.\n",
    "\n",
    "2. Incorporating Dilated Convolutions\n",
    "Dilated convolutions can help expand the receptive field without increasing the direct overlap of the convolution kernels. This approach allows the model to integrate spatial context from a broader area without necessarily forcing close-by pixels to share similar feature representations as strongly as standard convolutions do.\n",
    "\n",
    "3. Advanced Architectural Changes\n",
    "Incorporating elements that specifically address the preservation of spatial boundaries, such as CRFs (Conditional Random Fields) integrated within or after the deep learning model, can significantly enhance the ability to maintain clear and meaningful cluster boundaries. CRFs are particularly adept at modeling spatial relationships and can enforce cluster boundary consistency more effectively."
   ]
  },
  {
   "cell_type": "markdown",
   "metadata": {},
   "source": [
    " Use Strided Convolutions for Downsampling\n",
    "Instead of traditional pooling layers, you can use strided convolutions to reduce spatial dimensions. This method effectively reduces the height and width while increasing the depth (number of channels), which compensates for the reduced spatial resolution by capturing more detailed feature information in the channel dimension.\n",
    "\n",
    "Upsampling in Decoder: In the decoder, you can use transposed convolutions (often called deconvolutions) with appropriate stride to upsample the spatial dimensions back to the original size.\n",
    "2. Incorporate Dilated Convolutions\n",
    "Dilated convolutions allow you to expand the receptive field without reducing the spatial dimension of the output. This technique can be particularly useful if you want to capture broader context without losing resolution.\n",
    "\n",
    "3. Max-Pooling with Indices (Max-Unpooling)\n",
    "A specific technique that can be helpful is max-pooling with indices, often used in segmentation tasks:\n",
    "\n",
    "Max-Pooling with Indices: This type of pooling keeps track of the positions of the maxima within each pooling window. This information is then used during the upsampling phase to place the values back into their original locations, allowing for precise reconstruction.\n",
    "Max-Unpooling: In the decoder, use the stored indices to perform max-unpooling, which restores the data to its original dimensions by placing the max values back into their recorded positions, while other values are typically set to zero.\n",
    "4. PixelShuffle for Upsampling\n",
    "The PixelShuffle operation is an efficient and simple way to increase the resolution of an image or feature map. It works by rearranging elements from a low-resolution input into a high-resolution output, by reshuffling the tensor dimensions:\n",
    "\n",
    "Increase Channels Instead of Downsampling: Modify the encoder to increase the number of channels rather than reducing the spatial dimensions. Then, in the decoder, use PixelShuffle to reduce the channel depth while increasing the spatial dimensions back to the original.\n",
    "5. Bottleneck Layers\n",
    "Consider using bottleneck layers that first increase the channel dimensions (deepen) and then reduce them back:\n",
    "\n",
    "Implementation: Use 1x1 convolutions to expand the channel dimensions followed by 3x3 convolutions to process features, then another 1x1 convolution to compress the channels back. This method helps in capturing complex features without changing the spatial dimensions.\n",
    "6. Using Convolutional Layers with Padding and Custom Dilation\n",
    "Use a combination of custom dilation and padding settings to adjust how the field of view of each convolutional operation is spread across the input:\n",
    "\n",
    "Custom Settings: By adjusting dilation and padding, you can manage to capture more contextual information without necessarily having to pool and thus reduce the spatial dimensions."
   ]
  },
  {
   "cell_type": "markdown",
   "metadata": {},
   "source": []
  }
 ],
 "metadata": {
  "kernelspec": {
   "display_name": "xenium-1YUjn3qu-py3.10",
   "language": "python",
   "name": "python3"
  },
  "language_info": {
   "codemirror_mode": {
    "name": "ipython",
    "version": 3
   },
   "file_extension": ".py",
   "mimetype": "text/x-python",
   "name": "python",
   "nbconvert_exporter": "python",
   "pygments_lexer": "ipython3",
   "version": "3.10.12"
  }
 },
 "nbformat": 4,
 "nbformat_minor": 2
}
