{
 "cells": [
  {
   "cell_type": "code",
   "execution_count": null,
   "metadata": {},
   "outputs": [],
   "source": [
    "import pandas as pd\n",
    "import json\n",
    "\n",
    "import warnings \n",
    "warnings.filterwarnings(\"ignore\")\n",
    "from importlib import reload\n",
    "\n",
    "# this ensures that I can update the class without losing my variables in my notebook\n",
    "import xenium_cluster\n",
    "reload(xenium_cluster)\n",
    "from xenium_cluster import XeniumCluster\n",
    "from utils.metrics import *"
   ]
  },
  {
   "cell_type": "code",
   "execution_count": null,
   "metadata": {},
   "outputs": [],
   "source": [
    "# Path to your .gz file\n",
    "file_path = 'data/hBreast/transcripts.csv.gz'\n",
    "\n",
    "# Read the gzipped CSV file into a DataFrame\n",
    "df_transcripts = pd.read_csv(file_path, compression='gzip')"
   ]
  },
  {
   "cell_type": "code",
   "execution_count": null,
   "metadata": {},
   "outputs": [],
   "source": [
    "def run_experiment(data, dataset_name: str, current_spot_size: int, third_dim: bool, resolutions: list, n_clusters=3):\n",
    "    \n",
    "    clustering = XeniumCluster(data=data, dataset_name=dataset_name)\n",
    "    clustering.set_spot_size(current_spot_size)\n",
    "    clustering.create_spot_data(third_dim=third_dim, save_data=True)\n",
    "\n",
    "    print(f\"The size of the spot data is {clustering.xenium_spot_data.shape}\")\n",
    "\n",
    "    clustering.normalize_counts(clustering.xenium_spot_data)\n",
    "    clustering.generate_neighborhood_graph(clustering.xenium_spot_data, plot_pcas=False)\n",
    "\n",
    "    hierarchical_cluster = clustering.Hierarchical(clustering.xenium_spot_data, embedding=\"umap\", save_plot=True, num_clusters=n_clusters, include_spatial=True)\n",
    "    hierarchical_cluster_no_spatial = clustering.Hierarchical(clustering.xenium_spot_data, embedding=\"umap\", save_plot=True, num_clusters=n_clusters, include_spatial=False)\n",
    "    k_means_cluster = clustering.KMeans(clustering.xenium_spot_data, save_plot=True, K=n_clusters)\n",
    "    k_means_cluster_no_spatial = clustering.KMeans(clustering.xenium_spot_data, save_plot=True, K=n_clusters, include_spatial=False)\n",
    "    Leiden_cluster = clustering.Leiden(clustering.xenium_spot_data, resolutions, embedding=\"umap\", save_plot=True)\n",
    "    Louvain_cluster = clustering.Louvain(clustering.xenium_spot_data, resolutions, embedding=\"umap\", save_plot=True)\n",
    "\n",
    "    return Leiden_cluster, Louvain_cluster, hierarchical_cluster, hierarchical_cluster_no_spatial, k_means_cluster, k_means_cluster_no_spatial"
   ]
  },
  {
   "cell_type": "code",
   "execution_count": null,
   "metadata": {},
   "outputs": [],
   "source": [
    "cluster_dict = {\"Leiden\": {}, \"Louvain\": {}, \"Hierarchical\": {}, \"K-Means\": {}}\n",
    "cluster_results_filepath = \"results/clusters_w_plots_3_26.json\""
   ]
  },
  {
   "cell_type": "code",
   "execution_count": null,
   "metadata": {},
   "outputs": [],
   "source": [
    "resolutions = [0.6]\n",
    "for spot_size in [75]:\n",
    "    for third_dim in [False, True]:\n",
    "        for K in [6,10]:\n",
    "            Leiden_cluster, Louvain_cluster, hierarchical_cluster, hierarchical_cluster_no_spatial, k_means_cluster, k_means_cluster_no_spatial = run_experiment(df_transcripts, \"hBreast\", spot_size, third_dim, resolutions, n_clusters=K)\n",
    "\n",
    "            # Leiden\n",
    "            if \"Leiden\" not in cluster_dict:\n",
    "                cluster_dict[\"Leiden\"] = {}\n",
    "            if spot_size not in cluster_dict[\"Leiden\"]:\n",
    "                cluster_dict[\"Leiden\"][spot_size] = {}\n",
    "            cluster_dict[\"Leiden\"][spot_size][third_dim] = {res: clusters.tolist() for res, clusters in Leiden_cluster.items()}\n",
    "\n",
    "            # Louvain\n",
    "            if \"Louvain\" not in cluster_dict:\n",
    "                cluster_dict[\"Louvain\"] = {}\n",
    "            if spot_size not in cluster_dict[\"Louvain\"]:\n",
    "                cluster_dict[\"Louvain\"][spot_size] = {}\n",
    "            cluster_dict[\"Louvain\"][spot_size][third_dim] = {res: clusters.tolist() for res, clusters in Louvain_cluster.items()}\n",
    "\n",
    "            # Hierarchical\n",
    "            if \"Hierarchical\" not in cluster_dict:\n",
    "                cluster_dict[\"Hierarchical\"] = {}\n",
    "            if spot_size not in cluster_dict[\"Hierarchical\"]:\n",
    "                cluster_dict[\"Hierarchical\"][spot_size] = {}\n",
    "            cluster_dict[\"Hierarchical\"][spot_size][third_dim] = {True: hierarchical_cluster.tolist()}\n",
    "\n",
    "            # Hierarchical\n",
    "            if \"Hierarchical\" not in cluster_dict:\n",
    "                cluster_dict[\"Hierarchical\"] = {}\n",
    "            if spot_size not in cluster_dict[\"Hierarchical\"]:\n",
    "                cluster_dict[\"Hierarchical\"][spot_size] = {}\n",
    "            cluster_dict[\"Hierarchical\"][spot_size][third_dim] = {False: hierarchical_cluster_no_spatial.tolist()}\n",
    "\n",
    "            # K-Means Spatial\n",
    "            if \"K-Means\" not in cluster_dict:\n",
    "                cluster_dict[\"K-Means\"] = {}\n",
    "            if spot_size not in cluster_dict[\"K-Means\"]:\n",
    "                cluster_dict[\"K-Means\"][spot_size] = {}\n",
    "            cluster_dict[\"K-Means\"][spot_size][third_dim] = {True: k_means_cluster.tolist()}\n",
    "\n",
    "            # K-Means No Spatial\n",
    "            if \"K-Means\" not in cluster_dict:\n",
    "                cluster_dict[\"K-Means\"] = {}\n",
    "            if spot_size not in cluster_dict[\"K-Means\"]:\n",
    "                cluster_dict[\"K-Means\"][spot_size] = {}\n",
    "            cluster_dict[\"K-Means\"][spot_size][third_dim] = {False: k_means_cluster_no_spatial.tolist()}\n",
    "\n",
    "            print(f\"Cluster with spot size {(spot_size, third_dim, K)} completed.\")\n",
    "            with open(cluster_results_filepath, \"w\") as f:\n",
    "                json.dump(cluster_dict, f, indent=4)"
   ]
  },
  {
   "cell_type": "code",
   "execution_count": null,
   "metadata": {},
   "outputs": [],
   "source": []
  }
 ],
 "metadata": {
  "kernelspec": {
   "display_name": "xenium-1YUjn3qu-py3.10",
   "language": "python",
   "name": "python3"
  },
  "language_info": {
   "codemirror_mode": {
    "name": "ipython",
    "version": 3
   },
   "file_extension": ".py",
   "mimetype": "text/x-python",
   "name": "python",
   "nbconvert_exporter": "python",
   "pygments_lexer": "ipython3",
   "version": "3.10.12"
  }
 },
 "nbformat": 4,
 "nbformat_minor": 2
}
