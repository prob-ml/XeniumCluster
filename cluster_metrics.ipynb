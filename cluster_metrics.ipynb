{
 "cells": [
  {
   "cell_type": "code",
   "execution_count": 1,
   "metadata": {},
   "outputs": [],
   "source": [
    "import json\n",
    "import jsonlines\n",
    "import os\n",
    "import numpy as np\n",
    "import pandas as pd\n",
    "import scanpy as sc\n",
    "import anndata as ad\n",
    "from sklearn.metrics import silhouette_score\n",
    "\n",
    "from importlib import reload\n",
    "import xenium_cluster\n",
    "reload(xenium_cluster)\n",
    "from xenium_cluster import XeniumCluster\n",
    "\n",
    "from scipy.sparse import csr_matrix"
   ]
  },
  {
   "cell_type": "markdown",
   "metadata": {},
   "source": [
    "# Variables Setup"
   ]
  },
  {
   "cell_type": "code",
   "execution_count": 2,
   "metadata": {},
   "outputs": [],
   "source": [
    "dataset_name = \"hBreast\"\n",
    "models = [\"BayXenSmooth\", \"Leiden\", \"Louvain\", \"K-Means\", \"K-Means_No_Spatial\", \"Hierarchical\", \"Hierarchical_No_Spatial\", \"BayesSpace\"]\n",
    "resolutions = [0.75, 1.0]\n",
    "spot_sizes = [100, 75, 50]\n",
    "K_values = [17]"
   ]
  },
  {
   "cell_type": "code",
   "execution_count": 3,
   "metadata": {},
   "outputs": [],
   "source": [
    "# BayXenSmooth Hyperparameters\n",
    "BayXenSmooth_PCs = [5, 10, 15, 25]\n",
    "KMeansInit = True\n",
    "neighborhood_sizes = [1,2,3,4,5]\n",
    "sample_for_assignment = False\n",
    "concentration_amp = 1.0\n",
    "spatial_norms = [0.05, 0.1, 0.25, 0.5, 1.0]\n",
    "aggs = [\"sum\", \"mean\"]"
   ]
  },
  {
   "cell_type": "markdown",
   "metadata": {},
   "source": [
    "# Load Data"
   ]
  },
  {
   "cell_type": "code",
   "execution_count": 4,
   "metadata": {},
   "outputs": [],
   "source": [
    "# Path to your .gz file\n",
    "file_path = f'data/{dataset_name}/transcripts.csv.gz'\n",
    "\n",
    "# Read the gzipped CSV file into a DataFrame\n",
    "df_transcripts = pd.read_csv(file_path, compression='gzip')\n",
    "\n",
    "# drop cells without ids\n",
    "df_transcripts = df_transcripts[df_transcripts[\"cell_id\"] != -1]\n",
    "\n",
    "# drop blanks and controls\n",
    "df_transcripts = df_transcripts[~df_transcripts[\"feature_name\"].str.startswith('BLANK_') & ~df_transcripts[\"feature_name\"].str.startswith('NegControl')]"
   ]
  },
  {
   "cell_type": "markdown",
   "metadata": {},
   "source": [
    "# Other Metric Implementations\n",
    "\n",
    "- Variation Index (TODO) If we want to compare competing methods clustering with our clustering.\n"
   ]
  },
  {
   "cell_type": "code",
   "execution_count": 5,
   "metadata": {},
   "outputs": [],
   "source": [
    "def morans_i_cluster_similarity(clustering, locations, clusters):\n",
    "    print(\"Starting Moran's I Calculation.\")\n",
    "    moran_clusters = ad.AnnData(locations)\n",
    "    sc.pp.neighbors(moran_clusters, n_pcs=0, n_neighbors=100)\n",
    "    print(\"Neighbors calculated.\")\n",
    "\n",
    "    cluster_labels = clusters.values\n",
    "    # Calculate Moran's I for the binary presence of each cluster\n",
    "    unique_clusters = np.unique(cluster_labels)\n",
    "    morans_i_results = {}\n",
    "    for cluster in unique_clusters:\n",
    "        cluster_indicator = (cluster_labels == cluster).astype(int)\n",
    "        morans_i = sc.metrics.morans_i(moran_clusters, vals=cluster_indicator)\n",
    "        morans_i_results[cluster] = morans_i\n",
    "\n",
    "    print(\"Done!\")\n",
    "    return np.mean(list(morans_i_results.values()))"
   ]
  },
  {
   "cell_type": "code",
   "execution_count": 6,
   "metadata": {},
   "outputs": [],
   "source": [
    "def gearys_c_cluster_similarity(clustering, locations, clusters):\n",
    "    print(\"Starting Gearys's C Calculation.\")\n",
    "    gearys_clusters = ad.AnnData(locations)\n",
    "    sc.pp.neighbors(gearys_clusters, n_pcs=0, n_neighbors=100)\n",
    "    print(\"Neighbors calculated.\")\n",
    "\n",
    "    cluster_labels = clusters.values\n",
    "    # Calculate Gearys C for the binary presence of each cluster\n",
    "    unique_clusters = np.unique(cluster_labels)\n",
    "    gearys_c_results = {}\n",
    "    for cluster in unique_clusters:\n",
    "        cluster_indicator = (cluster_labels == cluster).astype(int)\n",
    "        gearys_c = sc.metrics.gearys_c(gearys_clusters, vals=cluster_indicator)\n",
    "        gearys_c_results[cluster] = gearys_c\n",
    "\n",
    "    print(\"Done!\")\n",
    "    return np.mean(list(gearys_c_results.values()))"
   ]
  },
  {
   "cell_type": "code",
   "execution_count": 7,
   "metadata": {},
   "outputs": [],
   "source": [
    "def save_results(results, dataset_name, method, metric_name, spot_size, n_pcs=None, resolution=None, K=17, neighborhood_size=1, sample_for_assignment=True, concentration_amp=1.0):\n",
    "    if resolution is not None:\n",
    "        directory = f\"results/{dataset_name}/{method}/{resolution}/{metric_name}/{spot_size}\"\n",
    "    elif method == \"BayXenSmooth\":\n",
    "        directory = f\"results/{dataset_name}/{method}/clusters/PCA/{n_pcs}/KMEANSINIT=True/NEIGHBORSIZE={neighborhood_size}/NUMCLUSTERS={K}/SPATIALINIT={True if spatial_norm > 0.0 else False}/SAMPLEFORASSIGNMENT={sample_for_assignment}/SPATIALNORM={spatial_norm}/SPATIALPRIORMULT={concentration_amp}/SPOTSIZE={spot_size}/AGG={agg}\"\n",
    "    else:\n",
    "        directory = f\"results/{dataset_name}/{method}/{K}/{metric_name}/{spot_size}\"\n",
    "    print(directory)\n",
    "    if not os.path.exists(directory):\n",
    "        os.makedirs(directory)\n",
    "    with jsonlines.open(f\"{directory}/{metric_name}.jsonl\", mode='w') as writer:\n",
    "        try:\n",
    "            for key, value in results.items():\n",
    "                writer.write({key: value})\n",
    "        except AttributeError: # b/c it's not a dictionary so .items() fails\n",
    "            writer.write(results)"
   ]
  },
  {
   "cell_type": "markdown",
   "metadata": {},
   "source": [
    "# Calculate the Silhouette Score (and other metrics of note.)"
   ]
  },
  {
   "cell_type": "code",
   "execution_count": null,
   "metadata": {},
   "outputs": [],
   "source": [
    "for spot_size in spot_sizes:\n",
    "    clustering = XeniumCluster(data=df_transcripts, dataset_name=dataset_name)\n",
    "    clustering.set_spot_size(spot_size)\n",
    "    clustering.create_spot_data(third_dim=False, save_data=True)\n",
    "    locations = clustering.xenium_spot_data.obs[[\"row\", \"col\"]]\n",
    "    for model in models:\n",
    "        for K in K_values:\n",
    "            if model in [\"Leiden\", \"Louvain\"]:\n",
    "                for resolution in resolutions:\n",
    "                    clusters = pd.read_csv(f\"results/{dataset_name}/{model}/{resolution}/clusters/{spot_size}/clusters_RES={resolution}.csv\")[f\"{model} cluster\"]\n",
    "                    save_results(silhouette_score(locations, clusters), dataset_name, model, \"silhouette_score\", spot_size, resolution=resolution)\n",
    "                    save_results(morans_i_cluster_similarity(clustering, locations, clusters), dataset_name, model, \"morans_i\", spot_size, resolution=resolution)\n",
    "                    save_results(gearys_c_cluster_similarity(clustering, locations, clusters), dataset_name, model, \"gearys_c\", spot_size, resolution=resolution)\n",
    "            elif model == \"BayXenSmooth\":\n",
    "                min_expressions_per_spot = 10\n",
    "                clustering.xenium_spot_data = clustering.xenium_spot_data[clustering.xenium_spot_data.X.sum(axis=1) > min_expressions_per_spot]\n",
    "                for neighborhood_size in neighborhood_sizes:\n",
    "                    clusters = pd.read_csv(f\"results/{dataset_name}/{model}/clusters/PCA/{BayXenSmooth_PCs}/KMEANSINIT=True/NEIGHBORSIZE={neighborhood_size}/NUMCLUSTERS={K}/SPATIALINIT=True/SAMPLEFORASSIGNMENT={sample_for_assignment}/SPATIALNORM={spatial_norm}/SPATIALPRIORMULT={concentration_amp}/SPOTSIZE={spot_size}/AGG={agg}/clusters_K={K}.csv\")[f\"{model} cluster\"]\n",
    "                    save_results(silhouette_score(locations, clusters), dataset_name, model, \"silhouette_score\", spot_size, K=K)\n",
    "                    save_results(morans_i_cluster_similarity(clustering, locations, clusters), dataset_name, model, \"morans_i\", spot_size, K=K, sample_for_assignment=sample_for_assignment)\n",
    "                    save_results(gearys_c_cluster_similarity(clustering, locations, clusters), dataset_name, model, \"gearys_c\", spot_size, K=K, sample_for_assignment=sample_for_assignment)\n",
    "            else:\n",
    "                clusters = pd.read_csv(f\"results/{dataset_name}/{model}/{K}/clusters/{spot_size}/clusters_K={K}.csv\")[f\"{model} cluster\"]\n",
    "                save_results(silhouette_score(locations, clusters), dataset_name, model, \"silhouette_score\", spot_size, K=K)\n",
    "                save_results(morans_i_cluster_similarity(clustering, locations, clusters), dataset_name, model, \"morans_i\", spot_size, K=K)\n",
    "                save_results(gearys_c_cluster_similarity(clustering, locations, clusters), dataset_name, model, \"gearys_c\", spot_size, K=K)"
   ]
  },
  {
   "cell_type": "markdown",
   "metadata": {},
   "source": [
    "# Marker Gene Autocorrelation"
   ]
  },
  {
   "cell_type": "code",
   "execution_count": 8,
   "metadata": {},
   "outputs": [],
   "source": [
    "MARKER_GENES = [\"BANK1\", \"CEACAM6\", \"FASN\", \"FGL2\", \"IL7R\", \"KRT6B\", \"POSTN\", \"TCIM\"]"
   ]
  },
  {
   "cell_type": "code",
   "execution_count": 9,
   "metadata": {},
   "outputs": [],
   "source": [
    "def gene_morans_i(clustering, locations, clusters, num_neighbors=100, marker_genes=MARKER_GENES):\n",
    "    print(\"Starting Moran's I Calculation.\")\n",
    "    moran_clusters = ad.AnnData(locations)\n",
    "    sc.pp.neighbors(moran_clusters, n_pcs=0, n_neighbors=num_neighbors)\n",
    "    print(\"Neighbors calculated.\")\n",
    "\n",
    "    # Create a binary adjacency matrix indicating if points are in the same cluster\n",
    "    cluster_labels = clusters.values\n",
    "    same_cluster = (cluster_labels[:, None] == cluster_labels).astype(int)\n",
    "    print(moran_clusters.obsp[\"connectivities\"].shape, same_cluster.shape)\n",
    "    moran_clusters.obsp[\"connectivities\"] = moran_clusters.obsp[\"connectivities\"].multiply(csr_matrix(same_cluster))\n",
    "    print(\"Connectivities formed.\")\n",
    "\n",
    "    # Calculate Moran's I for the genes\n",
    "    morans_i = sc.metrics.morans_i(moran_clusters, vals=clustering.xenium_spot_data.X.T)\n",
    "\n",
    "    morans_i_dict = dict(zip(clustering.xenium_spot_data.var.index, morans_i))\n",
    "\n",
    "    for gene in marker_genes:\n",
    "        print(num_neighbors, gene, morans_i_dict[gene])\n",
    "\n",
    "    return morans_i_dict"
   ]
  },
  {
   "cell_type": "code",
   "execution_count": 10,
   "metadata": {},
   "outputs": [],
   "source": [
    "def gene_gearys_c(clustering, locations, clusters, num_neighbors=100):\n",
    "    print(\"Starting Geary's C Calculation.\")\n",
    "    gearys_clusters = ad.AnnData(locations)\n",
    "    sc.pp.neighbors(gearys_clusters, n_pcs=0, n_neighbors=num_neighbors)\n",
    "    print(\"Neighbors calculated.\")\n",
    "\n",
    "    # Create a binary adjacency matrix indicating if points are in the same cluster\n",
    "    cluster_labels = clusters.values\n",
    "    same_cluster = (cluster_labels[:, None] == cluster_labels).astype(int)\n",
    "    gearys_clusters.obsp[\"connectivities\"] = gearys_clusters.obsp[\"connectivities\"].multiply(csr_matrix(same_cluster))\n",
    "    print(\"Connectivities formed.\")\n",
    "\n",
    "    # Calculate Geary's C for the genes\n",
    "    gearys_c= sc.metrics.gearys_c(gearys_clusters, vals=clustering.xenium_spot_data.X.T)\n",
    "\n",
    "    gearys_c_dict = dict(zip(clustering.xenium_spot_data.var.index, gearys_c))\n",
    "\n",
    "    return gearys_c_dict"
   ]
  },
  {
   "cell_type": "code",
   "execution_count": 11,
   "metadata": {},
   "outputs": [],
   "source": [
    "models = [\"BayXenSmooth\"]\n",
    "spot_sizes = [50]\n",
    "spatial_norms = [0.0, 0.05, 0.1]\n",
    "neighborhood_sizes = [1]\n",
    "concentration_amps = [0.05, 0.1, 0.25, 0.5, 0.75, 1.0, 1.5, 2.0, 2.5]\n",
    "num_neighboring_spots = [100]"
   ]
  },
  {
   "cell_type": "code",
   "execution_count": 13,
   "metadata": {},
   "outputs": [
    {
     "name": "stderr",
     "output_type": "stream",
     "text": [
      "/home/roko/.cache/pypoetry/virtualenvs/xenium-1YUjn3qu-py3.10/lib/python3.10/site-packages/anndata/_core/aligned_df.py:67: ImplicitModificationWarning: Transforming to str index.\n",
      "  warnings.warn(\"Transforming to str index.\", ImplicitModificationWarning)\n",
      "/home/roko/.cache/pypoetry/virtualenvs/xenium-1YUjn3qu-py3.10/lib/python3.10/site-packages/anndata/utils.py:292: UserWarning: X converted to numpy array with dtype float64\n",
      "  warnings.warn(f\"{name} converted to numpy array with dtype {arr.dtype}\")\n"
     ]
    },
    {
     "name": "stdout",
     "output_type": "stream",
     "text": [
      "BayXenSmooth\n",
      "Starting Moran's I Calculation.\n"
     ]
    },
    {
     "name": "stderr",
     "output_type": "stream",
     "text": [
      "/home/roko/.cache/pypoetry/virtualenvs/xenium-1YUjn3qu-py3.10/lib/python3.10/site-packages/numba/np/ufunc/parallel.py:371: NumbaWarning: The TBB threading layer requires TBB version 2021 update 6 or later i.e., TBB_INTERFACE_VERSION >= 12060. Found TBB_INTERFACE_VERSION = 12050. The TBB threading layer is disabled.\n",
      "  warnings.warn(problem)\n"
     ]
    },
    {
     "name": "stdout",
     "output_type": "stream",
     "text": [
      "Neighbors calculated.\n",
      "(23444, 23444) (23444, 23444)\n",
      "Connectivities formed.\n",
      "100 BANK1 0.907708372307093\n",
      "100 CEACAM6 0.36694726585440274\n",
      "100 FASN 1.0287252809835987\n",
      "100 FGL2 0.4729363475587714\n",
      "100 IL7R 0.7981575606475667\n",
      "100 KRT6B 0.6059627150835672\n",
      "100 POSTN 0.4718064927858906\n",
      "100 TCIM 0.3961110999178802\n",
      "results/hBreast/BayXenSmooth/clusters/PCA/5/KMEANSINIT=True/NEIGHBORSIZE=1/NUMCLUSTERS=17/SPATIALINIT=False/SAMPLEFORASSIGNMENT=False/SPATIALNORM=0.0/SPATIALPRIORMULT=0.05/SPOTSIZE=50/AGG=sum\n",
      "BayXenSmooth with run 50um, 1 neighbors, sample=False, spatial_norm=0.0, concentraion_amp=0.05, n_pcs=5 and agg=sum done!\n",
      "Starting Moran's I Calculation.\n"
     ]
    },
    {
     "name": "stderr",
     "output_type": "stream",
     "text": [
      "/home/roko/.cache/pypoetry/virtualenvs/xenium-1YUjn3qu-py3.10/lib/python3.10/site-packages/anndata/utils.py:292: UserWarning: X converted to numpy array with dtype float64\n",
      "  warnings.warn(f\"{name} converted to numpy array with dtype {arr.dtype}\")\n"
     ]
    },
    {
     "name": "stdout",
     "output_type": "stream",
     "text": [
      "Neighbors calculated.\n",
      "(23444, 23444) (23444, 23444)\n",
      "Connectivities formed.\n",
      "100 BANK1 0.8664561884388431\n",
      "100 CEACAM6 0.3671266131375941\n",
      "100 FASN 1.0399797863580122\n",
      "100 FGL2 0.46761238178875386\n",
      "100 IL7R 0.770122446616413\n",
      "100 KRT6B 0.5810328261130902\n",
      "100 POSTN 0.49422181327000436\n",
      "100 TCIM 0.3928073887159673\n",
      "results/hBreast/BayXenSmooth/clusters/PCA/5/KMEANSINIT=True/NEIGHBORSIZE=1/NUMCLUSTERS=17/SPATIALINIT=False/SAMPLEFORASSIGNMENT=False/SPATIALNORM=0.0/SPATIALPRIORMULT=0.1/SPOTSIZE=50/AGG=sum\n",
      "BayXenSmooth with run 50um, 1 neighbors, sample=False, spatial_norm=0.0, concentraion_amp=0.1, n_pcs=5 and agg=sum done!\n",
      "Starting Moran's I Calculation.\n"
     ]
    },
    {
     "name": "stderr",
     "output_type": "stream",
     "text": [
      "/home/roko/.cache/pypoetry/virtualenvs/xenium-1YUjn3qu-py3.10/lib/python3.10/site-packages/anndata/utils.py:292: UserWarning: X converted to numpy array with dtype float64\n",
      "  warnings.warn(f\"{name} converted to numpy array with dtype {arr.dtype}\")\n"
     ]
    },
    {
     "name": "stdout",
     "output_type": "stream",
     "text": [
      "Neighbors calculated.\n",
      "(23444, 23444) (23444, 23444)\n",
      "Connectivities formed.\n",
      "100 BANK1 0.9013540400963999\n",
      "100 CEACAM6 0.3722699814623138\n",
      "100 FASN 1.0417717919501297\n",
      "100 FGL2 0.4714815147306872\n",
      "100 IL7R 0.7924309395325487\n",
      "100 KRT6B 0.6091459465111415\n",
      "100 POSTN 0.4636496699075181\n",
      "100 TCIM 0.422113190040078\n",
      "results/hBreast/BayXenSmooth/clusters/PCA/5/KMEANSINIT=True/NEIGHBORSIZE=1/NUMCLUSTERS=17/SPATIALINIT=False/SAMPLEFORASSIGNMENT=False/SPATIALNORM=0.0/SPATIALPRIORMULT=0.25/SPOTSIZE=50/AGG=sum\n",
      "BayXenSmooth with run 50um, 1 neighbors, sample=False, spatial_norm=0.0, concentraion_amp=0.25, n_pcs=5 and agg=sum done!\n",
      "Starting Moran's I Calculation.\n"
     ]
    },
    {
     "name": "stderr",
     "output_type": "stream",
     "text": [
      "/home/roko/.cache/pypoetry/virtualenvs/xenium-1YUjn3qu-py3.10/lib/python3.10/site-packages/anndata/utils.py:292: UserWarning: X converted to numpy array with dtype float64\n",
      "  warnings.warn(f\"{name} converted to numpy array with dtype {arr.dtype}\")\n"
     ]
    },
    {
     "name": "stdout",
     "output_type": "stream",
     "text": [
      "Neighbors calculated.\n",
      "(23444, 23444) (23444, 23444)\n",
      "Connectivities formed.\n",
      "100 BANK1 0.9132280311451105\n",
      "100 CEACAM6 0.376453858629086\n",
      "100 FASN 1.0602720093967484\n",
      "100 FGL2 0.47151320060036733\n",
      "100 IL7R 0.798136322667526\n",
      "100 KRT6B 0.6138334956099044\n",
      "100 POSTN 0.4565838458438176\n",
      "100 TCIM 0.422760666221624\n",
      "results/hBreast/BayXenSmooth/clusters/PCA/5/KMEANSINIT=True/NEIGHBORSIZE=1/NUMCLUSTERS=17/SPATIALINIT=False/SAMPLEFORASSIGNMENT=False/SPATIALNORM=0.0/SPATIALPRIORMULT=0.5/SPOTSIZE=50/AGG=sum\n",
      "BayXenSmooth with run 50um, 1 neighbors, sample=False, spatial_norm=0.0, concentraion_amp=0.5, n_pcs=5 and agg=sum done!\n",
      "Starting Moran's I Calculation.\n"
     ]
    },
    {
     "name": "stderr",
     "output_type": "stream",
     "text": [
      "/home/roko/.cache/pypoetry/virtualenvs/xenium-1YUjn3qu-py3.10/lib/python3.10/site-packages/anndata/utils.py:292: UserWarning: X converted to numpy array with dtype float64\n",
      "  warnings.warn(f\"{name} converted to numpy array with dtype {arr.dtype}\")\n"
     ]
    },
    {
     "name": "stdout",
     "output_type": "stream",
     "text": [
      "Neighbors calculated.\n",
      "(23444, 23444) (23444, 23444)\n",
      "Connectivities formed.\n",
      "100 BANK1 0.8506480812467765\n",
      "100 CEACAM6 0.3641460701776132\n",
      "100 FASN 1.0216866604029813\n",
      "100 FGL2 0.45856857777861193\n",
      "100 IL7R 0.7496667771951949\n",
      "100 KRT6B 0.5724020257067722\n",
      "100 POSTN 0.4987581300042256\n",
      "100 TCIM 0.38355100676751963\n",
      "results/hBreast/BayXenSmooth/clusters/PCA/5/KMEANSINIT=True/NEIGHBORSIZE=1/NUMCLUSTERS=17/SPATIALINIT=False/SAMPLEFORASSIGNMENT=False/SPATIALNORM=0.0/SPATIALPRIORMULT=0.75/SPOTSIZE=50/AGG=sum\n",
      "BayXenSmooth with run 50um, 1 neighbors, sample=False, spatial_norm=0.0, concentraion_amp=0.75, n_pcs=5 and agg=sum done!\n",
      "Starting Moran's I Calculation.\n"
     ]
    },
    {
     "name": "stderr",
     "output_type": "stream",
     "text": [
      "/home/roko/.cache/pypoetry/virtualenvs/xenium-1YUjn3qu-py3.10/lib/python3.10/site-packages/anndata/utils.py:292: UserWarning: X converted to numpy array with dtype float64\n",
      "  warnings.warn(f\"{name} converted to numpy array with dtype {arr.dtype}\")\n"
     ]
    },
    {
     "name": "stdout",
     "output_type": "stream",
     "text": [
      "Neighbors calculated.\n",
      "(23444, 23444) (23444, 23444)\n",
      "Connectivities formed.\n",
      "100 BANK1 0.872071584679825\n",
      "100 CEACAM6 0.37307862205663916\n",
      "100 FASN 1.0489175172396978\n",
      "100 FGL2 0.4597437616399861\n",
      "100 IL7R 0.7504776408762411\n",
      "100 KRT6B 0.5956722969424479\n",
      "100 POSTN 0.4829689666639248\n",
      "100 TCIM 0.38143165375851246\n",
      "results/hBreast/BayXenSmooth/clusters/PCA/5/KMEANSINIT=True/NEIGHBORSIZE=1/NUMCLUSTERS=17/SPATIALINIT=False/SAMPLEFORASSIGNMENT=False/SPATIALNORM=0.0/SPATIALPRIORMULT=1.0/SPOTSIZE=50/AGG=sum\n",
      "BayXenSmooth with run 50um, 1 neighbors, sample=False, spatial_norm=0.0, concentraion_amp=1.0, n_pcs=5 and agg=sum done!\n",
      "Starting Moran's I Calculation.\n"
     ]
    },
    {
     "name": "stderr",
     "output_type": "stream",
     "text": [
      "/home/roko/.cache/pypoetry/virtualenvs/xenium-1YUjn3qu-py3.10/lib/python3.10/site-packages/anndata/utils.py:292: UserWarning: X converted to numpy array with dtype float64\n",
      "  warnings.warn(f\"{name} converted to numpy array with dtype {arr.dtype}\")\n"
     ]
    },
    {
     "name": "stdout",
     "output_type": "stream",
     "text": [
      "Neighbors calculated.\n",
      "(23444, 23444) (23444, 23444)\n",
      "Connectivities formed.\n",
      "100 BANK1 0.8918239569270486\n",
      "100 CEACAM6 0.3665310143749828\n",
      "100 FASN 1.0005548006597031\n",
      "100 FGL2 0.47765482593059827\n",
      "100 IL7R 0.7857962775661747\n",
      "100 KRT6B 0.5808889879605673\n",
      "100 POSTN 0.48073323865858497\n",
      "100 TCIM 0.4045861163667592\n",
      "results/hBreast/BayXenSmooth/clusters/PCA/5/KMEANSINIT=True/NEIGHBORSIZE=1/NUMCLUSTERS=17/SPATIALINIT=False/SAMPLEFORASSIGNMENT=False/SPATIALNORM=0.0/SPATIALPRIORMULT=1.5/SPOTSIZE=50/AGG=sum\n",
      "BayXenSmooth with run 50um, 1 neighbors, sample=False, spatial_norm=0.0, concentraion_amp=1.5, n_pcs=5 and agg=sum done!\n",
      "Starting Moran's I Calculation.\n"
     ]
    },
    {
     "name": "stderr",
     "output_type": "stream",
     "text": [
      "/home/roko/.cache/pypoetry/virtualenvs/xenium-1YUjn3qu-py3.10/lib/python3.10/site-packages/anndata/utils.py:292: UserWarning: X converted to numpy array with dtype float64\n",
      "  warnings.warn(f\"{name} converted to numpy array with dtype {arr.dtype}\")\n"
     ]
    },
    {
     "name": "stdout",
     "output_type": "stream",
     "text": [
      "Neighbors calculated.\n",
      "(23444, 23444) (23444, 23444)\n",
      "Connectivities formed.\n",
      "100 BANK1 0.8866972929172813\n",
      "100 CEACAM6 0.37024254178890426\n",
      "100 FASN 1.0281770131861987\n",
      "100 FGL2 0.4744950079970219\n",
      "100 IL7R 0.7919171021359603\n",
      "100 KRT6B 0.5905029794020245\n",
      "100 POSTN 0.45890966113251447\n",
      "100 TCIM 0.3826283688055651\n",
      "results/hBreast/BayXenSmooth/clusters/PCA/5/KMEANSINIT=True/NEIGHBORSIZE=1/NUMCLUSTERS=17/SPATIALINIT=False/SAMPLEFORASSIGNMENT=False/SPATIALNORM=0.0/SPATIALPRIORMULT=2.0/SPOTSIZE=50/AGG=sum\n",
      "BayXenSmooth with run 50um, 1 neighbors, sample=False, spatial_norm=0.0, concentraion_amp=2.0, n_pcs=5 and agg=sum done!\n",
      "Starting Moran's I Calculation.\n"
     ]
    },
    {
     "name": "stderr",
     "output_type": "stream",
     "text": [
      "/home/roko/.cache/pypoetry/virtualenvs/xenium-1YUjn3qu-py3.10/lib/python3.10/site-packages/anndata/utils.py:292: UserWarning: X converted to numpy array with dtype float64\n",
      "  warnings.warn(f\"{name} converted to numpy array with dtype {arr.dtype}\")\n"
     ]
    },
    {
     "name": "stdout",
     "output_type": "stream",
     "text": [
      "Neighbors calculated.\n",
      "(23444, 23444) (23444, 23444)\n",
      "Connectivities formed.\n",
      "100 BANK1 0.9094800078149564\n",
      "100 CEACAM6 0.3804987190131091\n",
      "100 FASN 1.0677604865091697\n",
      "100 FGL2 0.4571075096062451\n",
      "100 IL7R 0.8016080135094679\n",
      "100 KRT6B 0.616574634629247\n",
      "100 POSTN 0.42165609065359194\n",
      "100 TCIM 0.4560177136356973\n",
      "results/hBreast/BayXenSmooth/clusters/PCA/5/KMEANSINIT=True/NEIGHBORSIZE=1/NUMCLUSTERS=17/SPATIALINIT=False/SAMPLEFORASSIGNMENT=False/SPATIALNORM=0.0/SPATIALPRIORMULT=2.5/SPOTSIZE=50/AGG=sum\n",
      "BayXenSmooth with run 50um, 1 neighbors, sample=False, spatial_norm=0.0, concentraion_amp=2.5, n_pcs=5 and agg=sum done!\n",
      "Starting Moran's I Calculation.\n"
     ]
    },
    {
     "name": "stderr",
     "output_type": "stream",
     "text": [
      "/home/roko/.cache/pypoetry/virtualenvs/xenium-1YUjn3qu-py3.10/lib/python3.10/site-packages/anndata/utils.py:292: UserWarning: X converted to numpy array with dtype float64\n",
      "  warnings.warn(f\"{name} converted to numpy array with dtype {arr.dtype}\")\n"
     ]
    },
    {
     "name": "stdout",
     "output_type": "stream",
     "text": [
      "Neighbors calculated.\n",
      "(23444, 23444) (23444, 23444)\n",
      "Connectivities formed.\n",
      "100 BANK1 0.7920974502831047\n",
      "100 CEACAM6 0.3560013487328159\n",
      "100 FASN 0.9053338513795508\n",
      "100 FGL2 0.42415304780320506\n",
      "100 IL7R 0.7198413601016797\n",
      "100 KRT6B 0.5291760984054154\n",
      "100 POSTN 0.48646658732808695\n",
      "100 TCIM 0.5322718288954031\n",
      "results/hBreast/BayXenSmooth/clusters/PCA/25/KMEANSINIT=True/NEIGHBORSIZE=1/NUMCLUSTERS=17/SPATIALINIT=False/SAMPLEFORASSIGNMENT=False/SPATIALNORM=0.0/SPATIALPRIORMULT=0.05/SPOTSIZE=50/AGG=sum\n",
      "BayXenSmooth with run 50um, 1 neighbors, sample=False, spatial_norm=0.0, concentraion_amp=0.05, n_pcs=25 and agg=sum done!\n",
      "Starting Moran's I Calculation.\n"
     ]
    },
    {
     "name": "stderr",
     "output_type": "stream",
     "text": [
      "/home/roko/.cache/pypoetry/virtualenvs/xenium-1YUjn3qu-py3.10/lib/python3.10/site-packages/anndata/utils.py:292: UserWarning: X converted to numpy array with dtype float64\n",
      "  warnings.warn(f\"{name} converted to numpy array with dtype {arr.dtype}\")\n"
     ]
    },
    {
     "name": "stdout",
     "output_type": "stream",
     "text": [
      "Neighbors calculated.\n",
      "(23444, 23444) (23444, 23444)\n",
      "Connectivities formed.\n",
      "100 BANK1 0.7797192820204939\n",
      "100 CEACAM6 0.37416743554002413\n",
      "100 FASN 0.9245108011747527\n",
      "100 FGL2 0.40099166729456276\n",
      "100 IL7R 0.6527978649540217\n",
      "100 KRT6B 0.5012385185713061\n",
      "100 POSTN 0.46330931313925955\n",
      "100 TCIM 0.5364391601939815\n",
      "results/hBreast/BayXenSmooth/clusters/PCA/25/KMEANSINIT=True/NEIGHBORSIZE=1/NUMCLUSTERS=17/SPATIALINIT=False/SAMPLEFORASSIGNMENT=False/SPATIALNORM=0.0/SPATIALPRIORMULT=0.1/SPOTSIZE=50/AGG=sum\n",
      "BayXenSmooth with run 50um, 1 neighbors, sample=False, spatial_norm=0.0, concentraion_amp=0.1, n_pcs=25 and agg=sum done!\n",
      "Starting Moran's I Calculation.\n"
     ]
    },
    {
     "name": "stderr",
     "output_type": "stream",
     "text": [
      "/home/roko/.cache/pypoetry/virtualenvs/xenium-1YUjn3qu-py3.10/lib/python3.10/site-packages/anndata/utils.py:292: UserWarning: X converted to numpy array with dtype float64\n",
      "  warnings.warn(f\"{name} converted to numpy array with dtype {arr.dtype}\")\n"
     ]
    },
    {
     "name": "stdout",
     "output_type": "stream",
     "text": [
      "Neighbors calculated.\n",
      "(23444, 23444) (23444, 23444)\n",
      "Connectivities formed.\n",
      "100 BANK1 0.7765436403515826\n",
      "100 CEACAM6 0.35460515986159996\n",
      "100 FASN 0.8726872547514374\n",
      "100 FGL2 0.42914285938897234\n",
      "100 IL7R 0.7180305715917054\n",
      "100 KRT6B 0.5200322349871456\n",
      "100 POSTN 0.481199285165808\n",
      "100 TCIM 0.5499687635032444\n",
      "results/hBreast/BayXenSmooth/clusters/PCA/25/KMEANSINIT=True/NEIGHBORSIZE=1/NUMCLUSTERS=17/SPATIALINIT=False/SAMPLEFORASSIGNMENT=False/SPATIALNORM=0.0/SPATIALPRIORMULT=0.25/SPOTSIZE=50/AGG=sum\n",
      "BayXenSmooth with run 50um, 1 neighbors, sample=False, spatial_norm=0.0, concentraion_amp=0.25, n_pcs=25 and agg=sum done!\n",
      "Starting Moran's I Calculation.\n"
     ]
    },
    {
     "name": "stderr",
     "output_type": "stream",
     "text": [
      "/home/roko/.cache/pypoetry/virtualenvs/xenium-1YUjn3qu-py3.10/lib/python3.10/site-packages/anndata/utils.py:292: UserWarning: X converted to numpy array with dtype float64\n",
      "  warnings.warn(f\"{name} converted to numpy array with dtype {arr.dtype}\")\n"
     ]
    },
    {
     "name": "stdout",
     "output_type": "stream",
     "text": [
      "Neighbors calculated.\n",
      "(23444, 23444) (23444, 23444)\n",
      "Connectivities formed.\n",
      "100 BANK1 0.8197635573345315\n",
      "100 CEACAM6 0.37355393717169605\n",
      "100 FASN 0.8817740172835913\n",
      "100 FGL2 0.4137559995783901\n",
      "100 IL7R 0.6716791588586208\n",
      "100 KRT6B 0.5115116902928719\n",
      "100 POSTN 0.48132938817418336\n",
      "100 TCIM 0.5521830342264952\n",
      "results/hBreast/BayXenSmooth/clusters/PCA/25/KMEANSINIT=True/NEIGHBORSIZE=1/NUMCLUSTERS=17/SPATIALINIT=False/SAMPLEFORASSIGNMENT=False/SPATIALNORM=0.0/SPATIALPRIORMULT=0.5/SPOTSIZE=50/AGG=sum\n",
      "BayXenSmooth with run 50um, 1 neighbors, sample=False, spatial_norm=0.0, concentraion_amp=0.5, n_pcs=25 and agg=sum done!\n",
      "Starting Moran's I Calculation.\n"
     ]
    },
    {
     "name": "stderr",
     "output_type": "stream",
     "text": [
      "/home/roko/.cache/pypoetry/virtualenvs/xenium-1YUjn3qu-py3.10/lib/python3.10/site-packages/anndata/utils.py:292: UserWarning: X converted to numpy array with dtype float64\n",
      "  warnings.warn(f\"{name} converted to numpy array with dtype {arr.dtype}\")\n"
     ]
    },
    {
     "name": "stdout",
     "output_type": "stream",
     "text": [
      "Neighbors calculated.\n",
      "(23444, 23444) (23444, 23444)\n",
      "Connectivities formed.\n",
      "100 BANK1 0.775190437125118\n",
      "100 CEACAM6 0.3690618439976505\n",
      "100 FASN 0.8826226794197226\n",
      "100 FGL2 0.42426140426802894\n",
      "100 IL7R 0.7110919872089505\n",
      "100 KRT6B 0.5145711978627016\n",
      "100 POSTN 0.4794807521870446\n",
      "100 TCIM 0.5045798613812973\n",
      "results/hBreast/BayXenSmooth/clusters/PCA/25/KMEANSINIT=True/NEIGHBORSIZE=1/NUMCLUSTERS=17/SPATIALINIT=False/SAMPLEFORASSIGNMENT=False/SPATIALNORM=0.0/SPATIALPRIORMULT=0.75/SPOTSIZE=50/AGG=sum\n",
      "BayXenSmooth with run 50um, 1 neighbors, sample=False, spatial_norm=0.0, concentraion_amp=0.75, n_pcs=25 and agg=sum done!\n",
      "Starting Moran's I Calculation.\n"
     ]
    },
    {
     "name": "stderr",
     "output_type": "stream",
     "text": [
      "/home/roko/.cache/pypoetry/virtualenvs/xenium-1YUjn3qu-py3.10/lib/python3.10/site-packages/anndata/utils.py:292: UserWarning: X converted to numpy array with dtype float64\n",
      "  warnings.warn(f\"{name} converted to numpy array with dtype {arr.dtype}\")\n"
     ]
    },
    {
     "name": "stdout",
     "output_type": "stream",
     "text": [
      "Neighbors calculated.\n",
      "(23444, 23444) (23444, 23444)\n",
      "Connectivities formed.\n",
      "100 BANK1 0.7779866812702539\n",
      "100 CEACAM6 0.35678343721370814\n",
      "100 FASN 0.8766095253485524\n",
      "100 FGL2 0.43018794973947233\n",
      "100 IL7R 0.7183201969931009\n",
      "100 KRT6B 0.520982191013513\n",
      "100 POSTN 0.4886875115160382\n",
      "100 TCIM 0.5586639170558663\n",
      "results/hBreast/BayXenSmooth/clusters/PCA/25/KMEANSINIT=True/NEIGHBORSIZE=1/NUMCLUSTERS=17/SPATIALINIT=False/SAMPLEFORASSIGNMENT=False/SPATIALNORM=0.0/SPATIALPRIORMULT=1.0/SPOTSIZE=50/AGG=sum\n",
      "BayXenSmooth with run 50um, 1 neighbors, sample=False, spatial_norm=0.0, concentraion_amp=1.0, n_pcs=25 and agg=sum done!\n",
      "Starting Moran's I Calculation.\n"
     ]
    },
    {
     "name": "stderr",
     "output_type": "stream",
     "text": [
      "/home/roko/.cache/pypoetry/virtualenvs/xenium-1YUjn3qu-py3.10/lib/python3.10/site-packages/anndata/utils.py:292: UserWarning: X converted to numpy array with dtype float64\n",
      "  warnings.warn(f\"{name} converted to numpy array with dtype {arr.dtype}\")\n"
     ]
    },
    {
     "name": "stdout",
     "output_type": "stream",
     "text": [
      "Neighbors calculated.\n",
      "(23444, 23444) (23444, 23444)\n",
      "Connectivities formed.\n",
      "100 BANK1 0.6335145823203018\n",
      "100 CEACAM6 0.35263652427479314\n",
      "100 FASN 0.9079728959787154\n",
      "100 FGL2 0.4325568780380431\n",
      "100 IL7R 0.6772077124560275\n",
      "100 KRT6B 0.5301277286800261\n",
      "100 POSTN 0.5003258006352092\n",
      "100 TCIM 0.5008741044163542\n",
      "results/hBreast/BayXenSmooth/clusters/PCA/25/KMEANSINIT=True/NEIGHBORSIZE=1/NUMCLUSTERS=17/SPATIALINIT=False/SAMPLEFORASSIGNMENT=False/SPATIALNORM=0.0/SPATIALPRIORMULT=1.5/SPOTSIZE=50/AGG=sum\n",
      "BayXenSmooth with run 50um, 1 neighbors, sample=False, spatial_norm=0.0, concentraion_amp=1.5, n_pcs=25 and agg=sum done!\n",
      "Starting Moran's I Calculation.\n"
     ]
    },
    {
     "name": "stderr",
     "output_type": "stream",
     "text": [
      "/home/roko/.cache/pypoetry/virtualenvs/xenium-1YUjn3qu-py3.10/lib/python3.10/site-packages/anndata/utils.py:292: UserWarning: X converted to numpy array with dtype float64\n",
      "  warnings.warn(f\"{name} converted to numpy array with dtype {arr.dtype}\")\n"
     ]
    },
    {
     "name": "stdout",
     "output_type": "stream",
     "text": [
      "Neighbors calculated.\n",
      "(23444, 23444) (23444, 23444)\n",
      "Connectivities formed.\n",
      "100 BANK1 0.7583889461826681\n",
      "100 CEACAM6 0.36038460473972556\n",
      "100 FASN 0.8617641459824639\n",
      "100 FGL2 0.4415961609488341\n",
      "100 IL7R 0.688861687986178\n",
      "100 KRT6B 0.509790058164313\n",
      "100 POSTN 0.48181437006220273\n",
      "100 TCIM 0.544110330731954\n",
      "results/hBreast/BayXenSmooth/clusters/PCA/25/KMEANSINIT=True/NEIGHBORSIZE=1/NUMCLUSTERS=17/SPATIALINIT=False/SAMPLEFORASSIGNMENT=False/SPATIALNORM=0.0/SPATIALPRIORMULT=2.0/SPOTSIZE=50/AGG=sum\n",
      "BayXenSmooth with run 50um, 1 neighbors, sample=False, spatial_norm=0.0, concentraion_amp=2.0, n_pcs=25 and agg=sum done!\n",
      "Starting Moran's I Calculation.\n"
     ]
    },
    {
     "name": "stderr",
     "output_type": "stream",
     "text": [
      "/home/roko/.cache/pypoetry/virtualenvs/xenium-1YUjn3qu-py3.10/lib/python3.10/site-packages/anndata/utils.py:292: UserWarning: X converted to numpy array with dtype float64\n",
      "  warnings.warn(f\"{name} converted to numpy array with dtype {arr.dtype}\")\n"
     ]
    },
    {
     "name": "stdout",
     "output_type": "stream",
     "text": [
      "Neighbors calculated.\n",
      "(23444, 23444) (23444, 23444)\n",
      "Connectivities formed.\n",
      "100 BANK1 0.8728544803139869\n",
      "100 CEACAM6 0.3615924817665722\n",
      "100 FASN 1.0048323070239888\n",
      "100 FGL2 0.4667564695003773\n",
      "100 IL7R 0.7812216364028283\n",
      "100 KRT6B 0.5759155808682525\n",
      "100 POSTN 0.45240557598044717\n",
      "100 TCIM 0.42015407906946456\n",
      "results/hBreast/BayXenSmooth/clusters/PCA/5/KMEANSINIT=True/NEIGHBORSIZE=1/NUMCLUSTERS=17/SPATIALINIT=True/SAMPLEFORASSIGNMENT=False/SPATIALNORM=0.05/SPATIALPRIORMULT=0.05/SPOTSIZE=50/AGG=sum\n",
      "BayXenSmooth with run 50um, 1 neighbors, sample=False, spatial_norm=0.05, concentraion_amp=0.05, n_pcs=5 and agg=sum done!\n",
      "Starting Moran's I Calculation.\n"
     ]
    },
    {
     "name": "stderr",
     "output_type": "stream",
     "text": [
      "/home/roko/.cache/pypoetry/virtualenvs/xenium-1YUjn3qu-py3.10/lib/python3.10/site-packages/anndata/utils.py:292: UserWarning: X converted to numpy array with dtype float64\n",
      "  warnings.warn(f\"{name} converted to numpy array with dtype {arr.dtype}\")\n"
     ]
    },
    {
     "name": "stdout",
     "output_type": "stream",
     "text": [
      "Neighbors calculated.\n",
      "(23444, 23444) (23444, 23444)\n",
      "Connectivities formed.\n",
      "100 BANK1 0.9937487996458387\n",
      "100 CEACAM6 0.38299940755283174\n",
      "100 FASN 1.0219915291333737\n",
      "100 FGL2 0.47372014015607655\n",
      "100 IL7R 0.820960595341149\n",
      "100 KRT6B 0.27180799846894027\n",
      "100 POSTN 0.4946461107789426\n",
      "100 TCIM 0.4134912749415494\n",
      "results/hBreast/BayXenSmooth/clusters/PCA/5/KMEANSINIT=True/NEIGHBORSIZE=1/NUMCLUSTERS=17/SPATIALINIT=True/SAMPLEFORASSIGNMENT=False/SPATIALNORM=0.05/SPATIALPRIORMULT=0.1/SPOTSIZE=50/AGG=sum\n",
      "BayXenSmooth with run 50um, 1 neighbors, sample=False, spatial_norm=0.05, concentraion_amp=0.1, n_pcs=5 and agg=sum done!\n",
      "Starting Moran's I Calculation.\n"
     ]
    },
    {
     "name": "stderr",
     "output_type": "stream",
     "text": [
      "/home/roko/.cache/pypoetry/virtualenvs/xenium-1YUjn3qu-py3.10/lib/python3.10/site-packages/anndata/utils.py:292: UserWarning: X converted to numpy array with dtype float64\n",
      "  warnings.warn(f\"{name} converted to numpy array with dtype {arr.dtype}\")\n"
     ]
    },
    {
     "name": "stdout",
     "output_type": "stream",
     "text": [
      "Neighbors calculated.\n",
      "(23444, 23444) (23444, 23444)\n",
      "Connectivities formed.\n",
      "100 BANK1 0.8878598919706894\n",
      "100 CEACAM6 0.3732024485058791\n",
      "100 FASN 1.0561568045095198\n",
      "100 FGL2 0.46565089070382526\n",
      "100 IL7R 0.764754496985258\n",
      "100 KRT6B 0.5977933208868866\n",
      "100 POSTN 0.4931446030328917\n",
      "100 TCIM 0.407505075353471\n",
      "results/hBreast/BayXenSmooth/clusters/PCA/5/KMEANSINIT=True/NEIGHBORSIZE=1/NUMCLUSTERS=17/SPATIALINIT=True/SAMPLEFORASSIGNMENT=False/SPATIALNORM=0.05/SPATIALPRIORMULT=0.25/SPOTSIZE=50/AGG=sum\n",
      "BayXenSmooth with run 50um, 1 neighbors, sample=False, spatial_norm=0.05, concentraion_amp=0.25, n_pcs=5 and agg=sum done!\n",
      "Starting Moran's I Calculation.\n"
     ]
    },
    {
     "name": "stderr",
     "output_type": "stream",
     "text": [
      "/home/roko/.cache/pypoetry/virtualenvs/xenium-1YUjn3qu-py3.10/lib/python3.10/site-packages/anndata/utils.py:292: UserWarning: X converted to numpy array with dtype float64\n",
      "  warnings.warn(f\"{name} converted to numpy array with dtype {arr.dtype}\")\n"
     ]
    },
    {
     "name": "stdout",
     "output_type": "stream",
     "text": [
      "Neighbors calculated.\n",
      "(23444, 23444) (23444, 23444)\n",
      "Connectivities formed.\n",
      "100 BANK1 0.9019161715486619\n",
      "100 CEACAM6 0.36524768989393985\n",
      "100 FASN 1.0284290307869455\n",
      "100 FGL2 0.47222953511798155\n",
      "100 IL7R 0.7842823632047512\n",
      "100 KRT6B 0.6002752077344724\n",
      "100 POSTN 0.47087672167684674\n",
      "100 TCIM 0.36432494624417955\n",
      "results/hBreast/BayXenSmooth/clusters/PCA/5/KMEANSINIT=True/NEIGHBORSIZE=1/NUMCLUSTERS=17/SPATIALINIT=True/SAMPLEFORASSIGNMENT=False/SPATIALNORM=0.05/SPATIALPRIORMULT=0.5/SPOTSIZE=50/AGG=sum\n",
      "BayXenSmooth with run 50um, 1 neighbors, sample=False, spatial_norm=0.05, concentraion_amp=0.5, n_pcs=5 and agg=sum done!\n",
      "Starting Moran's I Calculation.\n"
     ]
    },
    {
     "name": "stderr",
     "output_type": "stream",
     "text": [
      "/home/roko/.cache/pypoetry/virtualenvs/xenium-1YUjn3qu-py3.10/lib/python3.10/site-packages/anndata/utils.py:292: UserWarning: X converted to numpy array with dtype float64\n",
      "  warnings.warn(f\"{name} converted to numpy array with dtype {arr.dtype}\")\n"
     ]
    },
    {
     "name": "stdout",
     "output_type": "stream",
     "text": [
      "Neighbors calculated.\n",
      "(23444, 23444) (23444, 23444)\n",
      "Connectivities formed.\n",
      "100 BANK1 0.8741165223282531\n",
      "100 CEACAM6 0.37471263219643597\n",
      "100 FASN 1.0257449898185889\n",
      "100 FGL2 0.45684466195473955\n",
      "100 IL7R 0.760076283422988\n",
      "100 KRT6B 0.5940767872901185\n",
      "100 POSTN 0.4616007316177204\n",
      "100 TCIM 0.4073220320967417\n",
      "results/hBreast/BayXenSmooth/clusters/PCA/5/KMEANSINIT=True/NEIGHBORSIZE=1/NUMCLUSTERS=17/SPATIALINIT=True/SAMPLEFORASSIGNMENT=False/SPATIALNORM=0.05/SPATIALPRIORMULT=0.75/SPOTSIZE=50/AGG=sum\n",
      "BayXenSmooth with run 50um, 1 neighbors, sample=False, spatial_norm=0.05, concentraion_amp=0.75, n_pcs=5 and agg=sum done!\n",
      "Starting Moran's I Calculation.\n"
     ]
    },
    {
     "name": "stderr",
     "output_type": "stream",
     "text": [
      "/home/roko/.cache/pypoetry/virtualenvs/xenium-1YUjn3qu-py3.10/lib/python3.10/site-packages/anndata/utils.py:292: UserWarning: X converted to numpy array with dtype float64\n",
      "  warnings.warn(f\"{name} converted to numpy array with dtype {arr.dtype}\")\n"
     ]
    },
    {
     "name": "stdout",
     "output_type": "stream",
     "text": [
      "Neighbors calculated.\n",
      "(23444, 23444) (23444, 23444)\n",
      "Connectivities formed.\n",
      "100 BANK1 0.9267625762309961\n",
      "100 CEACAM6 0.38415663293622343\n",
      "100 FASN 1.054097408027823\n",
      "100 FGL2 0.46498633452943\n",
      "100 IL7R 0.8007474069222418\n",
      "100 KRT6B 0.5342020975059519\n",
      "100 POSTN 0.43718702605917065\n",
      "100 TCIM 0.4797117015227386\n",
      "results/hBreast/BayXenSmooth/clusters/PCA/5/KMEANSINIT=True/NEIGHBORSIZE=1/NUMCLUSTERS=17/SPATIALINIT=True/SAMPLEFORASSIGNMENT=False/SPATIALNORM=0.05/SPATIALPRIORMULT=1.0/SPOTSIZE=50/AGG=sum\n",
      "BayXenSmooth with run 50um, 1 neighbors, sample=False, spatial_norm=0.05, concentraion_amp=1.0, n_pcs=5 and agg=sum done!\n",
      "Starting Moran's I Calculation.\n"
     ]
    },
    {
     "name": "stderr",
     "output_type": "stream",
     "text": [
      "/home/roko/.cache/pypoetry/virtualenvs/xenium-1YUjn3qu-py3.10/lib/python3.10/site-packages/anndata/utils.py:292: UserWarning: X converted to numpy array with dtype float64\n",
      "  warnings.warn(f\"{name} converted to numpy array with dtype {arr.dtype}\")\n"
     ]
    },
    {
     "name": "stdout",
     "output_type": "stream",
     "text": [
      "Neighbors calculated.\n",
      "(23444, 23444) (23444, 23444)\n",
      "Connectivities formed.\n",
      "100 BANK1 0.891641366909332\n",
      "100 CEACAM6 0.3653125501898346\n",
      "100 FASN 1.0224371830351238\n",
      "100 FGL2 0.46955392946794183\n",
      "100 IL7R 0.7788015890863151\n",
      "100 KRT6B 0.5973462867652335\n",
      "100 POSTN 0.4578595221356049\n",
      "100 TCIM 0.43916268154029614\n",
      "results/hBreast/BayXenSmooth/clusters/PCA/5/KMEANSINIT=True/NEIGHBORSIZE=1/NUMCLUSTERS=17/SPATIALINIT=True/SAMPLEFORASSIGNMENT=False/SPATIALNORM=0.05/SPATIALPRIORMULT=1.5/SPOTSIZE=50/AGG=sum\n",
      "BayXenSmooth with run 50um, 1 neighbors, sample=False, spatial_norm=0.05, concentraion_amp=1.5, n_pcs=5 and agg=sum done!\n",
      "Starting Moran's I Calculation.\n"
     ]
    },
    {
     "name": "stderr",
     "output_type": "stream",
     "text": [
      "/home/roko/.cache/pypoetry/virtualenvs/xenium-1YUjn3qu-py3.10/lib/python3.10/site-packages/anndata/utils.py:292: UserWarning: X converted to numpy array with dtype float64\n",
      "  warnings.warn(f\"{name} converted to numpy array with dtype {arr.dtype}\")\n"
     ]
    },
    {
     "name": "stdout",
     "output_type": "stream",
     "text": [
      "Neighbors calculated.\n",
      "(23444, 23444) (23444, 23444)\n",
      "Connectivities formed.\n",
      "100 BANK1 0.8839277670159824\n",
      "100 CEACAM6 0.36675466906849635\n",
      "100 FASN 1.0224293268283202\n",
      "100 FGL2 0.4664399406098475\n",
      "100 IL7R 0.7826285882358233\n",
      "100 KRT6B 0.5864153930070098\n",
      "100 POSTN 0.4740516656708101\n",
      "100 TCIM 0.3929846037989414\n",
      "results/hBreast/BayXenSmooth/clusters/PCA/5/KMEANSINIT=True/NEIGHBORSIZE=1/NUMCLUSTERS=17/SPATIALINIT=True/SAMPLEFORASSIGNMENT=False/SPATIALNORM=0.05/SPATIALPRIORMULT=2.0/SPOTSIZE=50/AGG=sum\n",
      "BayXenSmooth with run 50um, 1 neighbors, sample=False, spatial_norm=0.05, concentraion_amp=2.0, n_pcs=5 and agg=sum done!\n",
      "Starting Moran's I Calculation.\n"
     ]
    },
    {
     "name": "stderr",
     "output_type": "stream",
     "text": [
      "/home/roko/.cache/pypoetry/virtualenvs/xenium-1YUjn3qu-py3.10/lib/python3.10/site-packages/anndata/utils.py:292: UserWarning: X converted to numpy array with dtype float64\n",
      "  warnings.warn(f\"{name} converted to numpy array with dtype {arr.dtype}\")\n"
     ]
    },
    {
     "name": "stdout",
     "output_type": "stream",
     "text": [
      "Neighbors calculated.\n",
      "(23444, 23444) (23444, 23444)\n",
      "Connectivities formed.\n",
      "100 BANK1 0.9079853093503928\n",
      "100 CEACAM6 0.37607409328059227\n",
      "100 FASN 1.0404074469018323\n",
      "100 FGL2 0.47565149996666384\n",
      "100 IL7R 0.7960434037684918\n",
      "100 KRT6B 0.6167832728809207\n",
      "100 POSTN 0.4668602317155101\n",
      "100 TCIM 0.4322008809320095\n",
      "results/hBreast/BayXenSmooth/clusters/PCA/5/KMEANSINIT=True/NEIGHBORSIZE=1/NUMCLUSTERS=17/SPATIALINIT=True/SAMPLEFORASSIGNMENT=False/SPATIALNORM=0.05/SPATIALPRIORMULT=2.5/SPOTSIZE=50/AGG=sum\n",
      "BayXenSmooth with run 50um, 1 neighbors, sample=False, spatial_norm=0.05, concentraion_amp=2.5, n_pcs=5 and agg=sum done!\n",
      "Starting Moran's I Calculation.\n"
     ]
    },
    {
     "name": "stderr",
     "output_type": "stream",
     "text": [
      "/home/roko/.cache/pypoetry/virtualenvs/xenium-1YUjn3qu-py3.10/lib/python3.10/site-packages/anndata/utils.py:292: UserWarning: X converted to numpy array with dtype float64\n",
      "  warnings.warn(f\"{name} converted to numpy array with dtype {arr.dtype}\")\n"
     ]
    },
    {
     "name": "stdout",
     "output_type": "stream",
     "text": [
      "Neighbors calculated.\n",
      "(23444, 23444) (23444, 23444)\n",
      "Connectivities formed.\n",
      "100 BANK1 0.859809841273559\n",
      "100 CEACAM6 0.3465970080318811\n",
      "100 FASN 0.8546759256318563\n",
      "100 FGL2 0.4289292325750789\n",
      "100 IL7R 0.7501066825043926\n",
      "100 KRT6B 0.5025557164208183\n",
      "100 POSTN 0.4963244844145567\n",
      "100 TCIM 0.6091780861535828\n",
      "results/hBreast/BayXenSmooth/clusters/PCA/25/KMEANSINIT=True/NEIGHBORSIZE=1/NUMCLUSTERS=17/SPATIALINIT=True/SAMPLEFORASSIGNMENT=False/SPATIALNORM=0.05/SPATIALPRIORMULT=1.0/SPOTSIZE=50/AGG=sum\n",
      "BayXenSmooth with run 50um, 1 neighbors, sample=False, spatial_norm=0.05, concentraion_amp=1.0, n_pcs=25 and agg=sum done!\n",
      "Starting Moran's I Calculation.\n"
     ]
    },
    {
     "name": "stderr",
     "output_type": "stream",
     "text": [
      "/home/roko/.cache/pypoetry/virtualenvs/xenium-1YUjn3qu-py3.10/lib/python3.10/site-packages/anndata/utils.py:292: UserWarning: X converted to numpy array with dtype float64\n",
      "  warnings.warn(f\"{name} converted to numpy array with dtype {arr.dtype}\")\n"
     ]
    },
    {
     "name": "stdout",
     "output_type": "stream",
     "text": [
      "Neighbors calculated.\n",
      "(23444, 23444) (23444, 23444)\n",
      "Connectivities formed.\n",
      "100 BANK1 0.9239544754759202\n",
      "100 CEACAM6 0.37255585007329717\n",
      "100 FASN 1.0429478397424332\n",
      "100 FGL2 0.4763779744465754\n",
      "100 IL7R 0.8082558071381334\n",
      "100 KRT6B 0.6207148578952593\n",
      "100 POSTN 0.4706923687275549\n",
      "100 TCIM 0.4422114895816697\n",
      "results/hBreast/BayXenSmooth/clusters/PCA/5/KMEANSINIT=True/NEIGHBORSIZE=1/NUMCLUSTERS=17/SPATIALINIT=True/SAMPLEFORASSIGNMENT=False/SPATIALNORM=0.1/SPATIALPRIORMULT=0.05/SPOTSIZE=50/AGG=sum\n",
      "BayXenSmooth with run 50um, 1 neighbors, sample=False, spatial_norm=0.1, concentraion_amp=0.05, n_pcs=5 and agg=sum done!\n",
      "Starting Moran's I Calculation.\n"
     ]
    },
    {
     "name": "stderr",
     "output_type": "stream",
     "text": [
      "/home/roko/.cache/pypoetry/virtualenvs/xenium-1YUjn3qu-py3.10/lib/python3.10/site-packages/anndata/utils.py:292: UserWarning: X converted to numpy array with dtype float64\n",
      "  warnings.warn(f\"{name} converted to numpy array with dtype {arr.dtype}\")\n"
     ]
    },
    {
     "name": "stdout",
     "output_type": "stream",
     "text": [
      "Neighbors calculated.\n",
      "(23444, 23444) (23444, 23444)\n",
      "Connectivities formed.\n",
      "100 BANK1 0.8796324689543642\n",
      "100 CEACAM6 0.3629167618217145\n",
      "100 FASN 1.022910688413301\n",
      "100 FGL2 0.4709417231791623\n",
      "100 IL7R 0.7813598426038066\n",
      "100 KRT6B 0.5846516007715445\n",
      "100 POSTN 0.4693181221105796\n",
      "100 TCIM 0.3946467243723949\n",
      "results/hBreast/BayXenSmooth/clusters/PCA/5/KMEANSINIT=True/NEIGHBORSIZE=1/NUMCLUSTERS=17/SPATIALINIT=True/SAMPLEFORASSIGNMENT=False/SPATIALNORM=0.1/SPATIALPRIORMULT=0.1/SPOTSIZE=50/AGG=sum\n",
      "BayXenSmooth with run 50um, 1 neighbors, sample=False, spatial_norm=0.1, concentraion_amp=0.1, n_pcs=5 and agg=sum done!\n",
      "Starting Moran's I Calculation.\n"
     ]
    },
    {
     "name": "stderr",
     "output_type": "stream",
     "text": [
      "/home/roko/.cache/pypoetry/virtualenvs/xenium-1YUjn3qu-py3.10/lib/python3.10/site-packages/anndata/utils.py:292: UserWarning: X converted to numpy array with dtype float64\n",
      "  warnings.warn(f\"{name} converted to numpy array with dtype {arr.dtype}\")\n"
     ]
    },
    {
     "name": "stdout",
     "output_type": "stream",
     "text": [
      "Neighbors calculated.\n",
      "(23444, 23444) (23444, 23444)\n",
      "Connectivities formed.\n",
      "100 BANK1 0.8992659784408242\n",
      "100 CEACAM6 0.37516992800110355\n",
      "100 FASN 1.0689063093566435\n",
      "100 FGL2 0.4520029784035376\n",
      "100 IL7R 0.7714965753313594\n",
      "100 KRT6B 0.6062333845692744\n",
      "100 POSTN 0.4370113110467006\n",
      "100 TCIM 0.4435373180171278\n",
      "results/hBreast/BayXenSmooth/clusters/PCA/5/KMEANSINIT=True/NEIGHBORSIZE=1/NUMCLUSTERS=17/SPATIALINIT=True/SAMPLEFORASSIGNMENT=False/SPATIALNORM=0.1/SPATIALPRIORMULT=0.25/SPOTSIZE=50/AGG=sum\n",
      "BayXenSmooth with run 50um, 1 neighbors, sample=False, spatial_norm=0.1, concentraion_amp=0.25, n_pcs=5 and agg=sum done!\n",
      "Starting Moran's I Calculation.\n"
     ]
    },
    {
     "name": "stderr",
     "output_type": "stream",
     "text": [
      "/home/roko/.cache/pypoetry/virtualenvs/xenium-1YUjn3qu-py3.10/lib/python3.10/site-packages/anndata/utils.py:292: UserWarning: X converted to numpy array with dtype float64\n",
      "  warnings.warn(f\"{name} converted to numpy array with dtype {arr.dtype}\")\n"
     ]
    },
    {
     "name": "stdout",
     "output_type": "stream",
     "text": [
      "Neighbors calculated.\n",
      "(23444, 23444) (23444, 23444)\n",
      "Connectivities formed.\n",
      "100 BANK1 0.8988500994156746\n",
      "100 CEACAM6 0.37244498945308385\n",
      "100 FASN 1.0375959546827385\n",
      "100 FGL2 0.46873975642685595\n",
      "100 IL7R 0.7730812069747474\n",
      "100 KRT6B 0.6097838761988669\n",
      "100 POSTN 0.46159210022226976\n",
      "100 TCIM 0.42425013414451446\n",
      "results/hBreast/BayXenSmooth/clusters/PCA/5/KMEANSINIT=True/NEIGHBORSIZE=1/NUMCLUSTERS=17/SPATIALINIT=True/SAMPLEFORASSIGNMENT=False/SPATIALNORM=0.1/SPATIALPRIORMULT=0.5/SPOTSIZE=50/AGG=sum\n",
      "BayXenSmooth with run 50um, 1 neighbors, sample=False, spatial_norm=0.1, concentraion_amp=0.5, n_pcs=5 and agg=sum done!\n",
      "Starting Moran's I Calculation.\n"
     ]
    },
    {
     "name": "stderr",
     "output_type": "stream",
     "text": [
      "/home/roko/.cache/pypoetry/virtualenvs/xenium-1YUjn3qu-py3.10/lib/python3.10/site-packages/anndata/utils.py:292: UserWarning: X converted to numpy array with dtype float64\n",
      "  warnings.warn(f\"{name} converted to numpy array with dtype {arr.dtype}\")\n"
     ]
    },
    {
     "name": "stdout",
     "output_type": "stream",
     "text": [
      "Neighbors calculated.\n",
      "(23444, 23444) (23444, 23444)\n",
      "Connectivities formed.\n",
      "100 BANK1 0.9031356735101272\n",
      "100 CEACAM6 0.36920593318382233\n",
      "100 FASN 1.0365097766199194\n",
      "100 FGL2 0.47205120929226413\n",
      "100 IL7R 0.7944510500449341\n",
      "100 KRT6B 0.6096092465168684\n",
      "100 POSTN 0.4720294079867794\n",
      "100 TCIM 0.4459978703435148\n",
      "results/hBreast/BayXenSmooth/clusters/PCA/5/KMEANSINIT=True/NEIGHBORSIZE=1/NUMCLUSTERS=17/SPATIALINIT=True/SAMPLEFORASSIGNMENT=False/SPATIALNORM=0.1/SPATIALPRIORMULT=0.75/SPOTSIZE=50/AGG=sum\n",
      "BayXenSmooth with run 50um, 1 neighbors, sample=False, spatial_norm=0.1, concentraion_amp=0.75, n_pcs=5 and agg=sum done!\n",
      "Starting Moran's I Calculation.\n"
     ]
    },
    {
     "name": "stderr",
     "output_type": "stream",
     "text": [
      "/home/roko/.cache/pypoetry/virtualenvs/xenium-1YUjn3qu-py3.10/lib/python3.10/site-packages/anndata/utils.py:292: UserWarning: X converted to numpy array with dtype float64\n",
      "  warnings.warn(f\"{name} converted to numpy array with dtype {arr.dtype}\")\n"
     ]
    },
    {
     "name": "stdout",
     "output_type": "stream",
     "text": [
      "Neighbors calculated.\n",
      "(23444, 23444) (23444, 23444)\n",
      "Connectivities formed.\n",
      "100 BANK1 0.8792652028868059\n",
      "100 CEACAM6 0.38126873002258943\n",
      "100 FASN 1.0546476401456804\n",
      "100 FGL2 0.4550400322368364\n",
      "100 IL7R 0.7665244940198717\n",
      "100 KRT6B 0.5980580672474275\n",
      "100 POSTN 0.4257184796236536\n",
      "100 TCIM 0.41437695551864046\n",
      "results/hBreast/BayXenSmooth/clusters/PCA/5/KMEANSINIT=True/NEIGHBORSIZE=1/NUMCLUSTERS=17/SPATIALINIT=True/SAMPLEFORASSIGNMENT=False/SPATIALNORM=0.1/SPATIALPRIORMULT=1.0/SPOTSIZE=50/AGG=sum\n",
      "BayXenSmooth with run 50um, 1 neighbors, sample=False, spatial_norm=0.1, concentraion_amp=1.0, n_pcs=5 and agg=sum done!\n",
      "Starting Moran's I Calculation.\n"
     ]
    },
    {
     "name": "stderr",
     "output_type": "stream",
     "text": [
      "/home/roko/.cache/pypoetry/virtualenvs/xenium-1YUjn3qu-py3.10/lib/python3.10/site-packages/anndata/utils.py:292: UserWarning: X converted to numpy array with dtype float64\n",
      "  warnings.warn(f\"{name} converted to numpy array with dtype {arr.dtype}\")\n"
     ]
    },
    {
     "name": "stdout",
     "output_type": "stream",
     "text": [
      "Neighbors calculated.\n",
      "(23444, 23444) (23444, 23444)\n",
      "Connectivities formed.\n",
      "100 BANK1 0.9098191030026338\n",
      "100 CEACAM6 0.3724527742966326\n",
      "100 FASN 1.022617686841909\n",
      "100 FGL2 0.47577534804396404\n",
      "100 IL7R 0.7987808399265461\n",
      "100 KRT6B 0.6008800824423575\n",
      "100 POSTN 0.47932882608575206\n",
      "100 TCIM 0.4018106969458888\n",
      "results/hBreast/BayXenSmooth/clusters/PCA/5/KMEANSINIT=True/NEIGHBORSIZE=1/NUMCLUSTERS=17/SPATIALINIT=True/SAMPLEFORASSIGNMENT=False/SPATIALNORM=0.1/SPATIALPRIORMULT=1.5/SPOTSIZE=50/AGG=sum\n",
      "BayXenSmooth with run 50um, 1 neighbors, sample=False, spatial_norm=0.1, concentraion_amp=1.5, n_pcs=5 and agg=sum done!\n",
      "Starting Moran's I Calculation.\n"
     ]
    },
    {
     "name": "stderr",
     "output_type": "stream",
     "text": [
      "/home/roko/.cache/pypoetry/virtualenvs/xenium-1YUjn3qu-py3.10/lib/python3.10/site-packages/anndata/utils.py:292: UserWarning: X converted to numpy array with dtype float64\n",
      "  warnings.warn(f\"{name} converted to numpy array with dtype {arr.dtype}\")\n"
     ]
    },
    {
     "name": "stdout",
     "output_type": "stream",
     "text": [
      "Neighbors calculated.\n",
      "(23444, 23444) (23444, 23444)\n",
      "Connectivities formed.\n",
      "100 BANK1 0.8892319537596648\n",
      "100 CEACAM6 0.3659285684703437\n",
      "100 FASN 1.0196872809508282\n",
      "100 FGL2 0.4646256829868969\n",
      "100 IL7R 0.7838423306013782\n",
      "100 KRT6B 0.5857430489111849\n",
      "100 POSTN 0.47049944683502454\n",
      "100 TCIM 0.3885285884224637\n",
      "results/hBreast/BayXenSmooth/clusters/PCA/5/KMEANSINIT=True/NEIGHBORSIZE=1/NUMCLUSTERS=17/SPATIALINIT=True/SAMPLEFORASSIGNMENT=False/SPATIALNORM=0.1/SPATIALPRIORMULT=2.0/SPOTSIZE=50/AGG=sum\n",
      "BayXenSmooth with run 50um, 1 neighbors, sample=False, spatial_norm=0.1, concentraion_amp=2.0, n_pcs=5 and agg=sum done!\n",
      "Starting Moran's I Calculation.\n"
     ]
    },
    {
     "name": "stderr",
     "output_type": "stream",
     "text": [
      "/home/roko/.cache/pypoetry/virtualenvs/xenium-1YUjn3qu-py3.10/lib/python3.10/site-packages/anndata/utils.py:292: UserWarning: X converted to numpy array with dtype float64\n",
      "  warnings.warn(f\"{name} converted to numpy array with dtype {arr.dtype}\")\n"
     ]
    },
    {
     "name": "stdout",
     "output_type": "stream",
     "text": [
      "Neighbors calculated.\n",
      "(23444, 23444) (23444, 23444)\n",
      "Connectivities formed.\n",
      "100 BANK1 0.9048589471352902\n",
      "100 CEACAM6 0.37311791992283233\n",
      "100 FASN 1.0449890714098173\n",
      "100 FGL2 0.4764990598933225\n",
      "100 IL7R 0.7934595732398285\n",
      "100 KRT6B 0.6125777332212401\n",
      "100 POSTN 0.468275773407627\n",
      "100 TCIM 0.4014483787492846\n",
      "results/hBreast/BayXenSmooth/clusters/PCA/5/KMEANSINIT=True/NEIGHBORSIZE=1/NUMCLUSTERS=17/SPATIALINIT=True/SAMPLEFORASSIGNMENT=False/SPATIALNORM=0.1/SPATIALPRIORMULT=2.5/SPOTSIZE=50/AGG=sum\n",
      "BayXenSmooth with run 50um, 1 neighbors, sample=False, spatial_norm=0.1, concentraion_amp=2.5, n_pcs=5 and agg=sum done!\n",
      "Starting Moran's I Calculation.\n"
     ]
    },
    {
     "name": "stderr",
     "output_type": "stream",
     "text": [
      "/home/roko/.cache/pypoetry/virtualenvs/xenium-1YUjn3qu-py3.10/lib/python3.10/site-packages/anndata/utils.py:292: UserWarning: X converted to numpy array with dtype float64\n",
      "  warnings.warn(f\"{name} converted to numpy array with dtype {arr.dtype}\")\n"
     ]
    },
    {
     "name": "stdout",
     "output_type": "stream",
     "text": [
      "Neighbors calculated.\n",
      "(23444, 23444) (23444, 23444)\n",
      "Connectivities formed.\n",
      "100 BANK1 0.900485485007846\n",
      "100 CEACAM6 0.37339454748086925\n",
      "100 FASN 0.8977464183575522\n",
      "100 FGL2 0.4173695060276453\n",
      "100 IL7R 0.7008807633691279\n",
      "100 KRT6B 0.3816176454602541\n",
      "100 POSTN 0.5127450015532266\n",
      "100 TCIM 0.5466788684260608\n",
      "results/hBreast/BayXenSmooth/clusters/PCA/25/KMEANSINIT=True/NEIGHBORSIZE=1/NUMCLUSTERS=17/SPATIALINIT=True/SAMPLEFORASSIGNMENT=False/SPATIALNORM=0.1/SPATIALPRIORMULT=1.0/SPOTSIZE=50/AGG=sum\n",
      "BayXenSmooth with run 50um, 1 neighbors, sample=False, spatial_norm=0.1, concentraion_amp=1.0, n_pcs=25 and agg=sum done!\n",
      "Starting Moran's I Calculation.\n"
     ]
    },
    {
     "name": "stderr",
     "output_type": "stream",
     "text": [
      "/home/roko/.cache/pypoetry/virtualenvs/xenium-1YUjn3qu-py3.10/lib/python3.10/site-packages/anndata/utils.py:292: UserWarning: X converted to numpy array with dtype float64\n",
      "  warnings.warn(f\"{name} converted to numpy array with dtype {arr.dtype}\")\n"
     ]
    },
    {
     "name": "stdout",
     "output_type": "stream",
     "text": [
      "Neighbors calculated.\n",
      "(23444, 23444) (23444, 23444)\n",
      "Connectivities formed.\n",
      "100 BANK1 0.9535509292978811\n",
      "100 CEACAM6 0.37881820968139857\n",
      "100 FASN 1.0793431974735999\n",
      "100 FGL2 0.47399314623225913\n",
      "100 IL7R 0.8157904254963043\n",
      "100 KRT6B 0.6300331648273066\n",
      "100 POSTN 0.4379355644321081\n",
      "100 TCIM 0.4225608540779228\n",
      "results/hBreast/BayXenSmooth/clusters/PCA/5/KMEANSINIT=True/NEIGHBORSIZE=1/NUMCLUSTERS=17/SPATIALINIT=False/SAMPLEFORASSIGNMENT=False/SPATIALNORM=0.0/SPATIALPRIORMULT=0.05/SPOTSIZE=50/AGG=mean\n",
      "BayXenSmooth with run 50um, 1 neighbors, sample=False, spatial_norm=0.0, concentraion_amp=0.05, n_pcs=5 and agg=mean done!\n",
      "Starting Moran's I Calculation.\n"
     ]
    },
    {
     "name": "stderr",
     "output_type": "stream",
     "text": [
      "/home/roko/.cache/pypoetry/virtualenvs/xenium-1YUjn3qu-py3.10/lib/python3.10/site-packages/anndata/utils.py:292: UserWarning: X converted to numpy array with dtype float64\n",
      "  warnings.warn(f\"{name} converted to numpy array with dtype {arr.dtype}\")\n"
     ]
    },
    {
     "name": "stdout",
     "output_type": "stream",
     "text": [
      "Neighbors calculated.\n",
      "(23444, 23444) (23444, 23444)\n",
      "Connectivities formed.\n",
      "100 BANK1 0.9488731696528286\n",
      "100 CEACAM6 0.3739600993132112\n",
      "100 FASN 1.046597354751622\n",
      "100 FGL2 0.48087324206120585\n",
      "100 IL7R 0.8290110109484442\n",
      "100 KRT6B 0.6194079425194254\n",
      "100 POSTN 0.4658949717754356\n",
      "100 TCIM 0.4336555906373068\n",
      "results/hBreast/BayXenSmooth/clusters/PCA/5/KMEANSINIT=True/NEIGHBORSIZE=1/NUMCLUSTERS=17/SPATIALINIT=False/SAMPLEFORASSIGNMENT=False/SPATIALNORM=0.0/SPATIALPRIORMULT=0.1/SPOTSIZE=50/AGG=mean\n",
      "BayXenSmooth with run 50um, 1 neighbors, sample=False, spatial_norm=0.0, concentraion_amp=0.1, n_pcs=5 and agg=mean done!\n",
      "Starting Moran's I Calculation.\n"
     ]
    },
    {
     "name": "stderr",
     "output_type": "stream",
     "text": [
      "/home/roko/.cache/pypoetry/virtualenvs/xenium-1YUjn3qu-py3.10/lib/python3.10/site-packages/anndata/utils.py:292: UserWarning: X converted to numpy array with dtype float64\n",
      "  warnings.warn(f\"{name} converted to numpy array with dtype {arr.dtype}\")\n"
     ]
    },
    {
     "name": "stdout",
     "output_type": "stream",
     "text": [
      "Neighbors calculated.\n",
      "(23444, 23444) (23444, 23444)\n",
      "Connectivities formed.\n",
      "100 BANK1 0.9047911233750187\n",
      "100 CEACAM6 0.36878553978731415\n",
      "100 FASN 0.9965911680750233\n",
      "100 FGL2 0.4745074514012086\n",
      "100 IL7R 0.7962611803201786\n",
      "100 KRT6B 0.6017445053951341\n",
      "100 POSTN 0.47753567904716354\n",
      "100 TCIM 0.36200920171140105\n",
      "results/hBreast/BayXenSmooth/clusters/PCA/5/KMEANSINIT=True/NEIGHBORSIZE=1/NUMCLUSTERS=17/SPATIALINIT=False/SAMPLEFORASSIGNMENT=False/SPATIALNORM=0.0/SPATIALPRIORMULT=0.25/SPOTSIZE=50/AGG=mean\n",
      "BayXenSmooth with run 50um, 1 neighbors, sample=False, spatial_norm=0.0, concentraion_amp=0.25, n_pcs=5 and agg=mean done!\n",
      "Starting Moran's I Calculation.\n"
     ]
    },
    {
     "name": "stderr",
     "output_type": "stream",
     "text": [
      "/home/roko/.cache/pypoetry/virtualenvs/xenium-1YUjn3qu-py3.10/lib/python3.10/site-packages/anndata/utils.py:292: UserWarning: X converted to numpy array with dtype float64\n",
      "  warnings.warn(f\"{name} converted to numpy array with dtype {arr.dtype}\")\n"
     ]
    },
    {
     "name": "stdout",
     "output_type": "stream",
     "text": [
      "Neighbors calculated.\n",
      "(23444, 23444) (23444, 23444)\n",
      "Connectivities formed.\n",
      "100 BANK1 0.9409003007573024\n",
      "100 CEACAM6 0.36464138413031055\n",
      "100 FASN 1.0010717276189562\n",
      "100 FGL2 0.4890261205088297\n",
      "100 IL7R 0.8216948215422286\n",
      "100 KRT6B 0.6173829148720186\n",
      "100 POSTN 0.49052271633202654\n",
      "100 TCIM 0.4189863563179208\n",
      "results/hBreast/BayXenSmooth/clusters/PCA/5/KMEANSINIT=True/NEIGHBORSIZE=1/NUMCLUSTERS=17/SPATIALINIT=False/SAMPLEFORASSIGNMENT=False/SPATIALNORM=0.0/SPATIALPRIORMULT=0.5/SPOTSIZE=50/AGG=mean\n",
      "BayXenSmooth with run 50um, 1 neighbors, sample=False, spatial_norm=0.0, concentraion_amp=0.5, n_pcs=5 and agg=mean done!\n",
      "Starting Moran's I Calculation.\n"
     ]
    },
    {
     "name": "stderr",
     "output_type": "stream",
     "text": [
      "/home/roko/.cache/pypoetry/virtualenvs/xenium-1YUjn3qu-py3.10/lib/python3.10/site-packages/anndata/utils.py:292: UserWarning: X converted to numpy array with dtype float64\n",
      "  warnings.warn(f\"{name} converted to numpy array with dtype {arr.dtype}\")\n"
     ]
    },
    {
     "name": "stdout",
     "output_type": "stream",
     "text": [
      "Neighbors calculated.\n",
      "(23444, 23444) (23444, 23444)\n",
      "Connectivities formed.\n",
      "100 BANK1 0.9472614721015612\n",
      "100 CEACAM6 0.380086920188598\n",
      "100 FASN 1.0280229698159167\n",
      "100 FGL2 0.48019480753140437\n",
      "100 IL7R 0.8033605006905933\n",
      "100 KRT6B 0.6333909855534106\n",
      "100 POSTN 0.5007561012166922\n",
      "100 TCIM 0.369656604271696\n",
      "results/hBreast/BayXenSmooth/clusters/PCA/5/KMEANSINIT=True/NEIGHBORSIZE=1/NUMCLUSTERS=17/SPATIALINIT=False/SAMPLEFORASSIGNMENT=False/SPATIALNORM=0.0/SPATIALPRIORMULT=0.75/SPOTSIZE=50/AGG=mean\n",
      "BayXenSmooth with run 50um, 1 neighbors, sample=False, spatial_norm=0.0, concentraion_amp=0.75, n_pcs=5 and agg=mean done!\n",
      "Starting Moran's I Calculation.\n"
     ]
    },
    {
     "name": "stderr",
     "output_type": "stream",
     "text": [
      "/home/roko/.cache/pypoetry/virtualenvs/xenium-1YUjn3qu-py3.10/lib/python3.10/site-packages/anndata/utils.py:292: UserWarning: X converted to numpy array with dtype float64\n",
      "  warnings.warn(f\"{name} converted to numpy array with dtype {arr.dtype}\")\n"
     ]
    },
    {
     "name": "stdout",
     "output_type": "stream",
     "text": [
      "Neighbors calculated.\n",
      "(23444, 23444) (23444, 23444)\n",
      "Connectivities formed.\n",
      "100 BANK1 0.9174933969589092\n",
      "100 CEACAM6 0.3759486592909148\n",
      "100 FASN 1.041810519940393\n",
      "100 FGL2 0.4804126100868558\n",
      "100 IL7R 0.801964525379481\n",
      "100 KRT6B 0.6225153631159464\n",
      "100 POSTN 0.47386867139720196\n",
      "100 TCIM 0.40515504047720385\n",
      "results/hBreast/BayXenSmooth/clusters/PCA/5/KMEANSINIT=True/NEIGHBORSIZE=1/NUMCLUSTERS=17/SPATIALINIT=False/SAMPLEFORASSIGNMENT=False/SPATIALNORM=0.0/SPATIALPRIORMULT=1.0/SPOTSIZE=50/AGG=mean\n",
      "BayXenSmooth with run 50um, 1 neighbors, sample=False, spatial_norm=0.0, concentraion_amp=1.0, n_pcs=5 and agg=mean done!\n",
      "Starting Moran's I Calculation.\n"
     ]
    },
    {
     "name": "stderr",
     "output_type": "stream",
     "text": [
      "/home/roko/.cache/pypoetry/virtualenvs/xenium-1YUjn3qu-py3.10/lib/python3.10/site-packages/anndata/utils.py:292: UserWarning: X converted to numpy array with dtype float64\n",
      "  warnings.warn(f\"{name} converted to numpy array with dtype {arr.dtype}\")\n"
     ]
    },
    {
     "name": "stdout",
     "output_type": "stream",
     "text": [
      "Neighbors calculated.\n",
      "(23444, 23444) (23444, 23444)\n",
      "Connectivities formed.\n",
      "100 BANK1 0.8810202168049669\n",
      "100 CEACAM6 0.3523733777739028\n",
      "100 FASN 0.988014823128954\n",
      "100 FGL2 0.45901627724577626\n",
      "100 IL7R 0.7624062528583578\n",
      "100 KRT6B 0.5756021149585208\n",
      "100 POSTN 0.45891839974052606\n",
      "100 TCIM 0.3765193427286621\n",
      "results/hBreast/BayXenSmooth/clusters/PCA/5/KMEANSINIT=True/NEIGHBORSIZE=1/NUMCLUSTERS=17/SPATIALINIT=False/SAMPLEFORASSIGNMENT=False/SPATIALNORM=0.0/SPATIALPRIORMULT=1.5/SPOTSIZE=50/AGG=mean\n",
      "BayXenSmooth with run 50um, 1 neighbors, sample=False, spatial_norm=0.0, concentraion_amp=1.5, n_pcs=5 and agg=mean done!\n",
      "Starting Moran's I Calculation.\n"
     ]
    },
    {
     "name": "stderr",
     "output_type": "stream",
     "text": [
      "/home/roko/.cache/pypoetry/virtualenvs/xenium-1YUjn3qu-py3.10/lib/python3.10/site-packages/anndata/utils.py:292: UserWarning: X converted to numpy array with dtype float64\n",
      "  warnings.warn(f\"{name} converted to numpy array with dtype {arr.dtype}\")\n"
     ]
    },
    {
     "name": "stdout",
     "output_type": "stream",
     "text": [
      "Neighbors calculated.\n",
      "(23444, 23444) (23444, 23444)\n",
      "Connectivities formed.\n",
      "100 BANK1 0.9003622221600995\n",
      "100 CEACAM6 0.36358920458583255\n",
      "100 FASN 1.0262165002676031\n",
      "100 FGL2 0.46476771708344083\n",
      "100 IL7R 0.7802686958055528\n",
      "100 KRT6B 0.6054068622263279\n",
      "100 POSTN 0.47196677135513976\n",
      "100 TCIM 0.38582105404420397\n",
      "results/hBreast/BayXenSmooth/clusters/PCA/5/KMEANSINIT=True/NEIGHBORSIZE=1/NUMCLUSTERS=17/SPATIALINIT=False/SAMPLEFORASSIGNMENT=False/SPATIALNORM=0.0/SPATIALPRIORMULT=2.0/SPOTSIZE=50/AGG=mean\n",
      "BayXenSmooth with run 50um, 1 neighbors, sample=False, spatial_norm=0.0, concentraion_amp=2.0, n_pcs=5 and agg=mean done!\n",
      "Starting Moran's I Calculation.\n"
     ]
    },
    {
     "name": "stderr",
     "output_type": "stream",
     "text": [
      "/home/roko/.cache/pypoetry/virtualenvs/xenium-1YUjn3qu-py3.10/lib/python3.10/site-packages/anndata/utils.py:292: UserWarning: X converted to numpy array with dtype float64\n",
      "  warnings.warn(f\"{name} converted to numpy array with dtype {arr.dtype}\")\n"
     ]
    },
    {
     "name": "stdout",
     "output_type": "stream",
     "text": [
      "Neighbors calculated.\n",
      "(23444, 23444) (23444, 23444)\n",
      "Connectivities formed.\n",
      "100 BANK1 0.9187518220341045\n",
      "100 CEACAM6 0.3707545221482387\n",
      "100 FASN 1.032219389755112\n",
      "100 FGL2 0.48720057574912495\n",
      "100 IL7R 0.8239712607109981\n",
      "100 KRT6B 0.6081969036592179\n",
      "100 POSTN 0.46301922737524304\n",
      "100 TCIM 0.3781295843118661\n",
      "results/hBreast/BayXenSmooth/clusters/PCA/5/KMEANSINIT=True/NEIGHBORSIZE=1/NUMCLUSTERS=17/SPATIALINIT=False/SAMPLEFORASSIGNMENT=False/SPATIALNORM=0.0/SPATIALPRIORMULT=2.5/SPOTSIZE=50/AGG=mean\n",
      "BayXenSmooth with run 50um, 1 neighbors, sample=False, spatial_norm=0.0, concentraion_amp=2.5, n_pcs=5 and agg=mean done!\n",
      "Starting Moran's I Calculation.\n"
     ]
    },
    {
     "name": "stderr",
     "output_type": "stream",
     "text": [
      "/home/roko/.cache/pypoetry/virtualenvs/xenium-1YUjn3qu-py3.10/lib/python3.10/site-packages/anndata/utils.py:292: UserWarning: X converted to numpy array with dtype float64\n",
      "  warnings.warn(f\"{name} converted to numpy array with dtype {arr.dtype}\")\n"
     ]
    },
    {
     "name": "stdout",
     "output_type": "stream",
     "text": [
      "Neighbors calculated.\n",
      "(23444, 23444) (23444, 23444)\n",
      "Connectivities formed.\n",
      "100 BANK1 0.8289557660887161\n",
      "100 CEACAM6 0.37143016006593715\n",
      "100 FASN 0.8883821662600037\n",
      "100 FGL2 0.4113278225836329\n",
      "100 IL7R 0.6794204204889642\n",
      "100 KRT6B 0.5305470614224771\n",
      "100 POSTN 0.4834271839165564\n",
      "100 TCIM 0.5465155443149698\n",
      "results/hBreast/BayXenSmooth/clusters/PCA/25/KMEANSINIT=True/NEIGHBORSIZE=1/NUMCLUSTERS=17/SPATIALINIT=False/SAMPLEFORASSIGNMENT=False/SPATIALNORM=0.0/SPATIALPRIORMULT=0.05/SPOTSIZE=50/AGG=mean\n",
      "BayXenSmooth with run 50um, 1 neighbors, sample=False, spatial_norm=0.0, concentraion_amp=0.05, n_pcs=25 and agg=mean done!\n",
      "Starting Moran's I Calculation.\n"
     ]
    },
    {
     "name": "stderr",
     "output_type": "stream",
     "text": [
      "/home/roko/.cache/pypoetry/virtualenvs/xenium-1YUjn3qu-py3.10/lib/python3.10/site-packages/anndata/utils.py:292: UserWarning: X converted to numpy array with dtype float64\n",
      "  warnings.warn(f\"{name} converted to numpy array with dtype {arr.dtype}\")\n"
     ]
    },
    {
     "name": "stdout",
     "output_type": "stream",
     "text": [
      "Neighbors calculated.\n",
      "(23444, 23444) (23444, 23444)\n",
      "Connectivities formed.\n",
      "100 BANK1 0.805483293461689\n",
      "100 CEACAM6 0.3701087743413276\n",
      "100 FASN 0.926321576112563\n",
      "100 FGL2 0.41169973593477766\n",
      "100 IL7R 0.6884656351745166\n",
      "100 KRT6B 0.5204119778583572\n",
      "100 POSTN 0.4709733023666579\n",
      "100 TCIM 0.565418743486944\n",
      "results/hBreast/BayXenSmooth/clusters/PCA/25/KMEANSINIT=True/NEIGHBORSIZE=1/NUMCLUSTERS=17/SPATIALINIT=False/SAMPLEFORASSIGNMENT=False/SPATIALNORM=0.0/SPATIALPRIORMULT=0.1/SPOTSIZE=50/AGG=mean\n",
      "BayXenSmooth with run 50um, 1 neighbors, sample=False, spatial_norm=0.0, concentraion_amp=0.1, n_pcs=25 and agg=mean done!\n",
      "Starting Moran's I Calculation.\n"
     ]
    },
    {
     "name": "stderr",
     "output_type": "stream",
     "text": [
      "/home/roko/.cache/pypoetry/virtualenvs/xenium-1YUjn3qu-py3.10/lib/python3.10/site-packages/anndata/utils.py:292: UserWarning: X converted to numpy array with dtype float64\n",
      "  warnings.warn(f\"{name} converted to numpy array with dtype {arr.dtype}\")\n"
     ]
    },
    {
     "name": "stdout",
     "output_type": "stream",
     "text": [
      "Neighbors calculated.\n",
      "(23444, 23444) (23444, 23444)\n",
      "Connectivities formed.\n",
      "100 BANK1 0.3104560296206515\n",
      "100 CEACAM6 0.36420001508750205\n",
      "100 FASN 0.8768332352373349\n",
      "100 FGL2 0.4030689996951578\n",
      "100 IL7R 0.5451796463651502\n",
      "100 KRT6B 0.5228513416618511\n",
      "100 POSTN 0.4956457495436743\n",
      "100 TCIM 0.5719834841867438\n",
      "results/hBreast/BayXenSmooth/clusters/PCA/25/KMEANSINIT=True/NEIGHBORSIZE=1/NUMCLUSTERS=17/SPATIALINIT=False/SAMPLEFORASSIGNMENT=False/SPATIALNORM=0.0/SPATIALPRIORMULT=0.25/SPOTSIZE=50/AGG=mean\n",
      "BayXenSmooth with run 50um, 1 neighbors, sample=False, spatial_norm=0.0, concentraion_amp=0.25, n_pcs=25 and agg=mean done!\n",
      "Starting Moran's I Calculation.\n"
     ]
    },
    {
     "name": "stderr",
     "output_type": "stream",
     "text": [
      "/home/roko/.cache/pypoetry/virtualenvs/xenium-1YUjn3qu-py3.10/lib/python3.10/site-packages/anndata/utils.py:292: UserWarning: X converted to numpy array with dtype float64\n",
      "  warnings.warn(f\"{name} converted to numpy array with dtype {arr.dtype}\")\n"
     ]
    },
    {
     "name": "stdout",
     "output_type": "stream",
     "text": [
      "Neighbors calculated.\n",
      "(23444, 23444) (23444, 23444)\n",
      "Connectivities formed.\n",
      "100 BANK1 0.49868421297181514\n",
      "100 CEACAM6 0.36904763680756747\n",
      "100 FASN 0.9239649341579945\n",
      "100 FGL2 0.4094994962716496\n",
      "100 IL7R 0.6019775012537911\n",
      "100 KRT6B 0.5159185313937713\n",
      "100 POSTN 0.47660843614995546\n",
      "100 TCIM 0.5217101946101541\n",
      "results/hBreast/BayXenSmooth/clusters/PCA/25/KMEANSINIT=True/NEIGHBORSIZE=1/NUMCLUSTERS=17/SPATIALINIT=False/SAMPLEFORASSIGNMENT=False/SPATIALNORM=0.0/SPATIALPRIORMULT=0.5/SPOTSIZE=50/AGG=mean\n",
      "BayXenSmooth with run 50um, 1 neighbors, sample=False, spatial_norm=0.0, concentraion_amp=0.5, n_pcs=25 and agg=mean done!\n",
      "Starting Moran's I Calculation.\n"
     ]
    },
    {
     "name": "stderr",
     "output_type": "stream",
     "text": [
      "/home/roko/.cache/pypoetry/virtualenvs/xenium-1YUjn3qu-py3.10/lib/python3.10/site-packages/anndata/utils.py:292: UserWarning: X converted to numpy array with dtype float64\n",
      "  warnings.warn(f\"{name} converted to numpy array with dtype {arr.dtype}\")\n"
     ]
    },
    {
     "name": "stdout",
     "output_type": "stream",
     "text": [
      "Neighbors calculated.\n",
      "(23444, 23444) (23444, 23444)\n",
      "Connectivities formed.\n",
      "100 BANK1 0.812364831194228\n",
      "100 CEACAM6 0.37780610426912636\n",
      "100 FASN 0.8871041209904655\n",
      "100 FGL2 0.4028887458784557\n",
      "100 IL7R 0.6752522164956931\n",
      "100 KRT6B 0.5231070183148694\n",
      "100 POSTN 0.4870880219773372\n",
      "100 TCIM 0.5401687737710941\n",
      "results/hBreast/BayXenSmooth/clusters/PCA/25/KMEANSINIT=True/NEIGHBORSIZE=1/NUMCLUSTERS=17/SPATIALINIT=False/SAMPLEFORASSIGNMENT=False/SPATIALNORM=0.0/SPATIALPRIORMULT=0.75/SPOTSIZE=50/AGG=mean\n",
      "BayXenSmooth with run 50um, 1 neighbors, sample=False, spatial_norm=0.0, concentraion_amp=0.75, n_pcs=25 and agg=mean done!\n",
      "Starting Moran's I Calculation.\n"
     ]
    },
    {
     "name": "stderr",
     "output_type": "stream",
     "text": [
      "/home/roko/.cache/pypoetry/virtualenvs/xenium-1YUjn3qu-py3.10/lib/python3.10/site-packages/anndata/utils.py:292: UserWarning: X converted to numpy array with dtype float64\n",
      "  warnings.warn(f\"{name} converted to numpy array with dtype {arr.dtype}\")\n"
     ]
    },
    {
     "name": "stdout",
     "output_type": "stream",
     "text": [
      "Neighbors calculated.\n",
      "(23444, 23444) (23444, 23444)\n",
      "Connectivities formed.\n",
      "100 BANK1 0.831879275989532\n",
      "100 CEACAM6 0.36131133593537845\n",
      "100 FASN 0.8866207386343138\n",
      "100 FGL2 0.4137727933566885\n",
      "100 IL7R 0.6858007144684186\n",
      "100 KRT6B 0.5369417195189812\n",
      "100 POSTN 0.49130029257183855\n",
      "100 TCIM 0.5345163547419911\n",
      "results/hBreast/BayXenSmooth/clusters/PCA/25/KMEANSINIT=True/NEIGHBORSIZE=1/NUMCLUSTERS=17/SPATIALINIT=False/SAMPLEFORASSIGNMENT=False/SPATIALNORM=0.0/SPATIALPRIORMULT=1.0/SPOTSIZE=50/AGG=mean\n",
      "BayXenSmooth with run 50um, 1 neighbors, sample=False, spatial_norm=0.0, concentraion_amp=1.0, n_pcs=25 and agg=mean done!\n",
      "Starting Moran's I Calculation.\n"
     ]
    },
    {
     "name": "stderr",
     "output_type": "stream",
     "text": [
      "/home/roko/.cache/pypoetry/virtualenvs/xenium-1YUjn3qu-py3.10/lib/python3.10/site-packages/anndata/utils.py:292: UserWarning: X converted to numpy array with dtype float64\n",
      "  warnings.warn(f\"{name} converted to numpy array with dtype {arr.dtype}\")\n"
     ]
    },
    {
     "name": "stdout",
     "output_type": "stream",
     "text": [
      "Neighbors calculated.\n",
      "(23444, 23444) (23444, 23444)\n",
      "Connectivities formed.\n",
      "100 BANK1 0.8678312561239881\n",
      "100 CEACAM6 0.3534356106177417\n",
      "100 FASN 0.9194672180304548\n",
      "100 FGL2 0.4299975449096111\n",
      "100 IL7R 0.7241978122185477\n",
      "100 KRT6B 0.5569393701776025\n",
      "100 POSTN 0.49410999787604476\n",
      "100 TCIM 0.5457773146098952\n",
      "results/hBreast/BayXenSmooth/clusters/PCA/25/KMEANSINIT=True/NEIGHBORSIZE=1/NUMCLUSTERS=17/SPATIALINIT=False/SAMPLEFORASSIGNMENT=False/SPATIALNORM=0.0/SPATIALPRIORMULT=1.5/SPOTSIZE=50/AGG=mean\n",
      "BayXenSmooth with run 50um, 1 neighbors, sample=False, spatial_norm=0.0, concentraion_amp=1.5, n_pcs=25 and agg=mean done!\n",
      "Starting Moran's I Calculation.\n"
     ]
    },
    {
     "name": "stderr",
     "output_type": "stream",
     "text": [
      "/home/roko/.cache/pypoetry/virtualenvs/xenium-1YUjn3qu-py3.10/lib/python3.10/site-packages/anndata/utils.py:292: UserWarning: X converted to numpy array with dtype float64\n",
      "  warnings.warn(f\"{name} converted to numpy array with dtype {arr.dtype}\")\n"
     ]
    },
    {
     "name": "stdout",
     "output_type": "stream",
     "text": [
      "Neighbors calculated.\n",
      "(23444, 23444) (23444, 23444)\n",
      "Connectivities formed.\n",
      "100 BANK1 0.6367534784342543\n",
      "100 CEACAM6 0.36249456828919197\n",
      "100 FASN 0.8787546307661538\n",
      "100 FGL2 0.4159144493032624\n",
      "100 IL7R 0.5557311664755478\n",
      "100 KRT6B 0.5485174146783006\n",
      "100 POSTN 0.4953545342650125\n",
      "100 TCIM 0.5901470674085375\n",
      "results/hBreast/BayXenSmooth/clusters/PCA/25/KMEANSINIT=True/NEIGHBORSIZE=1/NUMCLUSTERS=17/SPATIALINIT=False/SAMPLEFORASSIGNMENT=False/SPATIALNORM=0.0/SPATIALPRIORMULT=2.0/SPOTSIZE=50/AGG=mean\n",
      "BayXenSmooth with run 50um, 1 neighbors, sample=False, spatial_norm=0.0, concentraion_amp=2.0, n_pcs=25 and agg=mean done!\n",
      "Starting Moran's I Calculation.\n"
     ]
    },
    {
     "name": "stderr",
     "output_type": "stream",
     "text": [
      "/home/roko/.cache/pypoetry/virtualenvs/xenium-1YUjn3qu-py3.10/lib/python3.10/site-packages/anndata/utils.py:292: UserWarning: X converted to numpy array with dtype float64\n",
      "  warnings.warn(f\"{name} converted to numpy array with dtype {arr.dtype}\")\n"
     ]
    },
    {
     "name": "stdout",
     "output_type": "stream",
     "text": [
      "Neighbors calculated.\n",
      "(23444, 23444) (23444, 23444)\n",
      "Connectivities formed.\n",
      "100 BANK1 0.925134945819486\n",
      "100 CEACAM6 0.37344154717229755\n",
      "100 FASN 1.0544336561242846\n",
      "100 FGL2 0.4844280013144262\n",
      "100 IL7R 0.8217719863347122\n",
      "100 KRT6B 0.6175477135404518\n",
      "100 POSTN 0.49895307487599233\n",
      "100 TCIM 0.4125206311068939\n",
      "results/hBreast/BayXenSmooth/clusters/PCA/5/KMEANSINIT=True/NEIGHBORSIZE=1/NUMCLUSTERS=17/SPATIALINIT=True/SAMPLEFORASSIGNMENT=False/SPATIALNORM=0.05/SPATIALPRIORMULT=0.05/SPOTSIZE=50/AGG=mean\n",
      "BayXenSmooth with run 50um, 1 neighbors, sample=False, spatial_norm=0.05, concentraion_amp=0.05, n_pcs=5 and agg=mean done!\n",
      "Starting Moran's I Calculation.\n"
     ]
    },
    {
     "name": "stderr",
     "output_type": "stream",
     "text": [
      "/home/roko/.cache/pypoetry/virtualenvs/xenium-1YUjn3qu-py3.10/lib/python3.10/site-packages/anndata/utils.py:292: UserWarning: X converted to numpy array with dtype float64\n",
      "  warnings.warn(f\"{name} converted to numpy array with dtype {arr.dtype}\")\n"
     ]
    },
    {
     "name": "stdout",
     "output_type": "stream",
     "text": [
      "Neighbors calculated.\n",
      "(23444, 23444) (23444, 23444)\n",
      "Connectivities formed.\n",
      "100 BANK1 0.9200924228609414\n",
      "100 CEACAM6 0.3583900168270914\n",
      "100 FASN 1.0307692061389901\n",
      "100 FGL2 0.47575226746929283\n",
      "100 IL7R 0.8043163017351189\n",
      "100 KRT6B 0.613588955754378\n",
      "100 POSTN 0.4650460755633757\n",
      "100 TCIM 0.42345519324478154\n",
      "results/hBreast/BayXenSmooth/clusters/PCA/5/KMEANSINIT=True/NEIGHBORSIZE=1/NUMCLUSTERS=17/SPATIALINIT=True/SAMPLEFORASSIGNMENT=False/SPATIALNORM=0.05/SPATIALPRIORMULT=0.1/SPOTSIZE=50/AGG=mean\n",
      "BayXenSmooth with run 50um, 1 neighbors, sample=False, spatial_norm=0.05, concentraion_amp=0.1, n_pcs=5 and agg=mean done!\n",
      "Starting Moran's I Calculation.\n"
     ]
    },
    {
     "name": "stderr",
     "output_type": "stream",
     "text": [
      "/home/roko/.cache/pypoetry/virtualenvs/xenium-1YUjn3qu-py3.10/lib/python3.10/site-packages/anndata/utils.py:292: UserWarning: X converted to numpy array with dtype float64\n",
      "  warnings.warn(f\"{name} converted to numpy array with dtype {arr.dtype}\")\n"
     ]
    },
    {
     "name": "stdout",
     "output_type": "stream",
     "text": [
      "Neighbors calculated.\n",
      "(23444, 23444) (23444, 23444)\n",
      "Connectivities formed.\n",
      "100 BANK1 0.8883095245300012\n",
      "100 CEACAM6 0.3697707741798413\n",
      "100 FASN 1.0487199975989263\n",
      "100 FGL2 0.45781335187944067\n",
      "100 IL7R 0.7540852554456353\n",
      "100 KRT6B 0.594017992497562\n",
      "100 POSTN 0.48820491451070697\n",
      "100 TCIM 0.3712011909904877\n",
      "results/hBreast/BayXenSmooth/clusters/PCA/5/KMEANSINIT=True/NEIGHBORSIZE=1/NUMCLUSTERS=17/SPATIALINIT=True/SAMPLEFORASSIGNMENT=False/SPATIALNORM=0.05/SPATIALPRIORMULT=0.25/SPOTSIZE=50/AGG=mean\n",
      "BayXenSmooth with run 50um, 1 neighbors, sample=False, spatial_norm=0.05, concentraion_amp=0.25, n_pcs=5 and agg=mean done!\n",
      "Starting Moran's I Calculation.\n"
     ]
    },
    {
     "name": "stderr",
     "output_type": "stream",
     "text": [
      "/home/roko/.cache/pypoetry/virtualenvs/xenium-1YUjn3qu-py3.10/lib/python3.10/site-packages/anndata/utils.py:292: UserWarning: X converted to numpy array with dtype float64\n",
      "  warnings.warn(f\"{name} converted to numpy array with dtype {arr.dtype}\")\n"
     ]
    },
    {
     "name": "stdout",
     "output_type": "stream",
     "text": [
      "Neighbors calculated.\n",
      "(23444, 23444) (23444, 23444)\n",
      "Connectivities formed.\n",
      "100 BANK1 0.877519707324274\n",
      "100 CEACAM6 0.37272064401740185\n",
      "100 FASN 1.0432036237979536\n",
      "100 FGL2 0.4683222266504408\n",
      "100 IL7R 0.7850327960170067\n",
      "100 KRT6B 0.6117688776850089\n",
      "100 POSTN 0.44707316324628765\n",
      "100 TCIM 0.37554634293350164\n",
      "results/hBreast/BayXenSmooth/clusters/PCA/5/KMEANSINIT=True/NEIGHBORSIZE=1/NUMCLUSTERS=17/SPATIALINIT=True/SAMPLEFORASSIGNMENT=False/SPATIALNORM=0.05/SPATIALPRIORMULT=0.5/SPOTSIZE=50/AGG=mean\n",
      "BayXenSmooth with run 50um, 1 neighbors, sample=False, spatial_norm=0.05, concentraion_amp=0.5, n_pcs=5 and agg=mean done!\n",
      "Starting Moran's I Calculation.\n"
     ]
    },
    {
     "name": "stderr",
     "output_type": "stream",
     "text": [
      "/home/roko/.cache/pypoetry/virtualenvs/xenium-1YUjn3qu-py3.10/lib/python3.10/site-packages/anndata/utils.py:292: UserWarning: X converted to numpy array with dtype float64\n",
      "  warnings.warn(f\"{name} converted to numpy array with dtype {arr.dtype}\")\n"
     ]
    },
    {
     "name": "stdout",
     "output_type": "stream",
     "text": [
      "Neighbors calculated.\n",
      "(23444, 23444) (23444, 23444)\n",
      "Connectivities formed.\n",
      "100 BANK1 0.8978482864217163\n",
      "100 CEACAM6 0.37670339226480853\n",
      "100 FASN 1.0604477681756834\n",
      "100 FGL2 0.4507019792666695\n",
      "100 IL7R 0.7861159534031965\n",
      "100 KRT6B 0.6053477146072215\n",
      "100 POSTN 0.42716753374592326\n",
      "100 TCIM 0.42713788694990495\n",
      "results/hBreast/BayXenSmooth/clusters/PCA/5/KMEANSINIT=True/NEIGHBORSIZE=1/NUMCLUSTERS=17/SPATIALINIT=True/SAMPLEFORASSIGNMENT=False/SPATIALNORM=0.05/SPATIALPRIORMULT=0.75/SPOTSIZE=50/AGG=mean\n",
      "BayXenSmooth with run 50um, 1 neighbors, sample=False, spatial_norm=0.05, concentraion_amp=0.75, n_pcs=5 and agg=mean done!\n",
      "Starting Moran's I Calculation.\n"
     ]
    },
    {
     "name": "stderr",
     "output_type": "stream",
     "text": [
      "/home/roko/.cache/pypoetry/virtualenvs/xenium-1YUjn3qu-py3.10/lib/python3.10/site-packages/anndata/utils.py:292: UserWarning: X converted to numpy array with dtype float64\n",
      "  warnings.warn(f\"{name} converted to numpy array with dtype {arr.dtype}\")\n"
     ]
    },
    {
     "name": "stdout",
     "output_type": "stream",
     "text": [
      "Neighbors calculated.\n",
      "(23444, 23444) (23444, 23444)\n",
      "Connectivities formed.\n",
      "100 BANK1 0.9376566710579551\n",
      "100 CEACAM6 0.37177158014303874\n",
      "100 FASN 1.0436248747375914\n",
      "100 FGL2 0.472360519666272\n",
      "100 IL7R 0.8028153952960898\n",
      "100 KRT6B 0.6258968067332373\n",
      "100 POSTN 0.46350402797439705\n",
      "100 TCIM 0.41296980001326\n",
      "results/hBreast/BayXenSmooth/clusters/PCA/5/KMEANSINIT=True/NEIGHBORSIZE=1/NUMCLUSTERS=17/SPATIALINIT=True/SAMPLEFORASSIGNMENT=False/SPATIALNORM=0.05/SPATIALPRIORMULT=1.0/SPOTSIZE=50/AGG=mean\n",
      "BayXenSmooth with run 50um, 1 neighbors, sample=False, spatial_norm=0.05, concentraion_amp=1.0, n_pcs=5 and agg=mean done!\n",
      "Starting Moran's I Calculation.\n"
     ]
    },
    {
     "name": "stderr",
     "output_type": "stream",
     "text": [
      "/home/roko/.cache/pypoetry/virtualenvs/xenium-1YUjn3qu-py3.10/lib/python3.10/site-packages/anndata/utils.py:292: UserWarning: X converted to numpy array with dtype float64\n",
      "  warnings.warn(f\"{name} converted to numpy array with dtype {arr.dtype}\")\n"
     ]
    },
    {
     "name": "stdout",
     "output_type": "stream",
     "text": [
      "Neighbors calculated.\n",
      "(23444, 23444) (23444, 23444)\n",
      "Connectivities formed.\n",
      "100 BANK1 0.9394957028014953\n",
      "100 CEACAM6 0.37558046973003323\n",
      "100 FASN 1.0478300948597574\n",
      "100 FGL2 0.4885285224454608\n",
      "100 IL7R 0.8324258931082661\n",
      "100 KRT6B 0.6210385958093406\n",
      "100 POSTN 0.4692100813181669\n",
      "100 TCIM 0.43160726575877517\n",
      "results/hBreast/BayXenSmooth/clusters/PCA/5/KMEANSINIT=True/NEIGHBORSIZE=1/NUMCLUSTERS=17/SPATIALINIT=True/SAMPLEFORASSIGNMENT=False/SPATIALNORM=0.05/SPATIALPRIORMULT=1.5/SPOTSIZE=50/AGG=mean\n",
      "BayXenSmooth with run 50um, 1 neighbors, sample=False, spatial_norm=0.05, concentraion_amp=1.5, n_pcs=5 and agg=mean done!\n",
      "Starting Moran's I Calculation.\n"
     ]
    },
    {
     "name": "stderr",
     "output_type": "stream",
     "text": [
      "/home/roko/.cache/pypoetry/virtualenvs/xenium-1YUjn3qu-py3.10/lib/python3.10/site-packages/anndata/utils.py:292: UserWarning: X converted to numpy array with dtype float64\n",
      "  warnings.warn(f\"{name} converted to numpy array with dtype {arr.dtype}\")\n"
     ]
    },
    {
     "name": "stdout",
     "output_type": "stream",
     "text": [
      "Neighbors calculated.\n",
      "(23444, 23444) (23444, 23444)\n",
      "Connectivities formed.\n",
      "100 BANK1 0.9373017084378654\n",
      "100 CEACAM6 0.3683328908133171\n",
      "100 FASN 0.9795792925660308\n",
      "100 FGL2 0.49651274840145426\n",
      "100 IL7R 0.8182036633600994\n",
      "100 KRT6B 0.6199549221164807\n",
      "100 POSTN 0.4944328606702882\n",
      "100 TCIM 0.42422375928234174\n",
      "results/hBreast/BayXenSmooth/clusters/PCA/5/KMEANSINIT=True/NEIGHBORSIZE=1/NUMCLUSTERS=17/SPATIALINIT=True/SAMPLEFORASSIGNMENT=False/SPATIALNORM=0.05/SPATIALPRIORMULT=2.0/SPOTSIZE=50/AGG=mean\n",
      "BayXenSmooth with run 50um, 1 neighbors, sample=False, spatial_norm=0.05, concentraion_amp=2.0, n_pcs=5 and agg=mean done!\n",
      "Starting Moran's I Calculation.\n"
     ]
    },
    {
     "name": "stderr",
     "output_type": "stream",
     "text": [
      "/home/roko/.cache/pypoetry/virtualenvs/xenium-1YUjn3qu-py3.10/lib/python3.10/site-packages/anndata/utils.py:292: UserWarning: X converted to numpy array with dtype float64\n",
      "  warnings.warn(f\"{name} converted to numpy array with dtype {arr.dtype}\")\n"
     ]
    },
    {
     "name": "stdout",
     "output_type": "stream",
     "text": [
      "Neighbors calculated.\n",
      "(23444, 23444) (23444, 23444)\n",
      "Connectivities formed.\n",
      "100 BANK1 0.9073805647342088\n",
      "100 CEACAM6 0.3657533224146092\n",
      "100 FASN 1.0255571249694424\n",
      "100 FGL2 0.47761274237322676\n",
      "100 IL7R 0.8085228863052478\n",
      "100 KRT6B 0.6061822840204879\n",
      "100 POSTN 0.4694913836204643\n",
      "100 TCIM 0.36580605008686906\n",
      "results/hBreast/BayXenSmooth/clusters/PCA/5/KMEANSINIT=True/NEIGHBORSIZE=1/NUMCLUSTERS=17/SPATIALINIT=True/SAMPLEFORASSIGNMENT=False/SPATIALNORM=0.05/SPATIALPRIORMULT=2.5/SPOTSIZE=50/AGG=mean\n",
      "BayXenSmooth with run 50um, 1 neighbors, sample=False, spatial_norm=0.05, concentraion_amp=2.5, n_pcs=5 and agg=mean done!\n",
      "Starting Moran's I Calculation.\n"
     ]
    },
    {
     "name": "stderr",
     "output_type": "stream",
     "text": [
      "/home/roko/.cache/pypoetry/virtualenvs/xenium-1YUjn3qu-py3.10/lib/python3.10/site-packages/anndata/utils.py:292: UserWarning: X converted to numpy array with dtype float64\n",
      "  warnings.warn(f\"{name} converted to numpy array with dtype {arr.dtype}\")\n"
     ]
    },
    {
     "name": "stdout",
     "output_type": "stream",
     "text": [
      "Neighbors calculated.\n",
      "(23444, 23444) (23444, 23444)\n",
      "Connectivities formed.\n",
      "100 BANK1 0.8567459624631877\n",
      "100 CEACAM6 0.35451859017637966\n",
      "100 FASN 0.8701940859130032\n",
      "100 FGL2 0.43676492243989967\n",
      "100 IL7R 0.7306960790342507\n",
      "100 KRT6B 0.550750898752746\n",
      "100 POSTN 0.48786084062181445\n",
      "100 TCIM 0.569932742957946\n",
      "results/hBreast/BayXenSmooth/clusters/PCA/25/KMEANSINIT=True/NEIGHBORSIZE=1/NUMCLUSTERS=17/SPATIALINIT=True/SAMPLEFORASSIGNMENT=False/SPATIALNORM=0.05/SPATIALPRIORMULT=1.0/SPOTSIZE=50/AGG=mean\n",
      "BayXenSmooth with run 50um, 1 neighbors, sample=False, spatial_norm=0.05, concentraion_amp=1.0, n_pcs=25 and agg=mean done!\n",
      "Starting Moran's I Calculation.\n"
     ]
    },
    {
     "name": "stderr",
     "output_type": "stream",
     "text": [
      "/home/roko/.cache/pypoetry/virtualenvs/xenium-1YUjn3qu-py3.10/lib/python3.10/site-packages/anndata/utils.py:292: UserWarning: X converted to numpy array with dtype float64\n",
      "  warnings.warn(f\"{name} converted to numpy array with dtype {arr.dtype}\")\n"
     ]
    },
    {
     "name": "stdout",
     "output_type": "stream",
     "text": [
      "Neighbors calculated.\n",
      "(23444, 23444) (23444, 23444)\n",
      "Connectivities formed.\n",
      "100 BANK1 0.906330606315822\n",
      "100 CEACAM6 0.3815493785630264\n",
      "100 FASN 1.0760352730359952\n",
      "100 FGL2 0.4715242468700831\n",
      "100 IL7R 0.7955663557790172\n",
      "100 KRT6B 0.6263382906321946\n",
      "100 POSTN 0.4471588077216542\n",
      "100 TCIM 0.4240820605009441\n",
      "results/hBreast/BayXenSmooth/clusters/PCA/5/KMEANSINIT=True/NEIGHBORSIZE=1/NUMCLUSTERS=17/SPATIALINIT=True/SAMPLEFORASSIGNMENT=False/SPATIALNORM=0.1/SPATIALPRIORMULT=0.05/SPOTSIZE=50/AGG=mean\n",
      "BayXenSmooth with run 50um, 1 neighbors, sample=False, spatial_norm=0.1, concentraion_amp=0.05, n_pcs=5 and agg=mean done!\n",
      "Starting Moran's I Calculation.\n"
     ]
    },
    {
     "name": "stderr",
     "output_type": "stream",
     "text": [
      "/home/roko/.cache/pypoetry/virtualenvs/xenium-1YUjn3qu-py3.10/lib/python3.10/site-packages/anndata/utils.py:292: UserWarning: X converted to numpy array with dtype float64\n",
      "  warnings.warn(f\"{name} converted to numpy array with dtype {arr.dtype}\")\n"
     ]
    },
    {
     "name": "stdout",
     "output_type": "stream",
     "text": [
      "Neighbors calculated.\n",
      "(23444, 23444) (23444, 23444)\n",
      "Connectivities formed.\n",
      "100 BANK1 0.8722104346020996\n",
      "100 CEACAM6 0.36880992641661275\n",
      "100 FASN 1.013054423316553\n",
      "100 FGL2 0.47359385746170557\n",
      "100 IL7R 0.7878266767227037\n",
      "100 KRT6B 0.5832987671343544\n",
      "100 POSTN 0.46581181752871503\n",
      "100 TCIM 0.38388879319451114\n",
      "results/hBreast/BayXenSmooth/clusters/PCA/5/KMEANSINIT=True/NEIGHBORSIZE=1/NUMCLUSTERS=17/SPATIALINIT=True/SAMPLEFORASSIGNMENT=False/SPATIALNORM=0.1/SPATIALPRIORMULT=0.1/SPOTSIZE=50/AGG=mean\n",
      "BayXenSmooth with run 50um, 1 neighbors, sample=False, spatial_norm=0.1, concentraion_amp=0.1, n_pcs=5 and agg=mean done!\n",
      "Starting Moran's I Calculation.\n"
     ]
    },
    {
     "name": "stderr",
     "output_type": "stream",
     "text": [
      "/home/roko/.cache/pypoetry/virtualenvs/xenium-1YUjn3qu-py3.10/lib/python3.10/site-packages/anndata/utils.py:292: UserWarning: X converted to numpy array with dtype float64\n",
      "  warnings.warn(f\"{name} converted to numpy array with dtype {arr.dtype}\")\n"
     ]
    },
    {
     "name": "stdout",
     "output_type": "stream",
     "text": [
      "Neighbors calculated.\n",
      "(23444, 23444) (23444, 23444)\n",
      "Connectivities formed.\n",
      "100 BANK1 0.8759322997154705\n",
      "100 CEACAM6 0.3664281238920648\n",
      "100 FASN 1.0142281441566168\n",
      "100 FGL2 0.4716698908809114\n",
      "100 IL7R 0.787245719512906\n",
      "100 KRT6B 0.5878696757886436\n",
      "100 POSTN 0.4629472492131902\n",
      "100 TCIM 0.4110295355450153\n",
      "results/hBreast/BayXenSmooth/clusters/PCA/5/KMEANSINIT=True/NEIGHBORSIZE=1/NUMCLUSTERS=17/SPATIALINIT=True/SAMPLEFORASSIGNMENT=False/SPATIALNORM=0.1/SPATIALPRIORMULT=0.25/SPOTSIZE=50/AGG=mean\n",
      "BayXenSmooth with run 50um, 1 neighbors, sample=False, spatial_norm=0.1, concentraion_amp=0.25, n_pcs=5 and agg=mean done!\n",
      "Starting Moran's I Calculation.\n"
     ]
    },
    {
     "name": "stderr",
     "output_type": "stream",
     "text": [
      "/home/roko/.cache/pypoetry/virtualenvs/xenium-1YUjn3qu-py3.10/lib/python3.10/site-packages/anndata/utils.py:292: UserWarning: X converted to numpy array with dtype float64\n",
      "  warnings.warn(f\"{name} converted to numpy array with dtype {arr.dtype}\")\n"
     ]
    },
    {
     "name": "stdout",
     "output_type": "stream",
     "text": [
      "Neighbors calculated.\n",
      "(23444, 23444) (23444, 23444)\n",
      "Connectivities formed.\n",
      "100 BANK1 0.8856107862106186\n",
      "100 CEACAM6 0.3683429556555498\n",
      "100 FASN 1.0087405262910494\n",
      "100 FGL2 0.46911551196234275\n",
      "100 IL7R 0.7867310468390184\n",
      "100 KRT6B 0.5852794688195688\n",
      "100 POSTN 0.45940807075453943\n",
      "100 TCIM 0.4164660814562733\n",
      "results/hBreast/BayXenSmooth/clusters/PCA/5/KMEANSINIT=True/NEIGHBORSIZE=1/NUMCLUSTERS=17/SPATIALINIT=True/SAMPLEFORASSIGNMENT=False/SPATIALNORM=0.1/SPATIALPRIORMULT=0.5/SPOTSIZE=50/AGG=mean\n",
      "BayXenSmooth with run 50um, 1 neighbors, sample=False, spatial_norm=0.1, concentraion_amp=0.5, n_pcs=5 and agg=mean done!\n",
      "Starting Moran's I Calculation.\n"
     ]
    },
    {
     "name": "stderr",
     "output_type": "stream",
     "text": [
      "/home/roko/.cache/pypoetry/virtualenvs/xenium-1YUjn3qu-py3.10/lib/python3.10/site-packages/anndata/utils.py:292: UserWarning: X converted to numpy array with dtype float64\n",
      "  warnings.warn(f\"{name} converted to numpy array with dtype {arr.dtype}\")\n"
     ]
    },
    {
     "name": "stdout",
     "output_type": "stream",
     "text": [
      "Neighbors calculated.\n",
      "(23444, 23444) (23444, 23444)\n",
      "Connectivities formed.\n",
      "100 BANK1 0.906588540339189\n",
      "100 CEACAM6 0.367183332468411\n",
      "100 FASN 1.02386031872385\n",
      "100 FGL2 0.46714114358397807\n",
      "100 IL7R 0.7933048627924101\n",
      "100 KRT6B 0.6073528574442391\n",
      "100 POSTN 0.46840105369671514\n",
      "100 TCIM 0.39317348321684553\n",
      "results/hBreast/BayXenSmooth/clusters/PCA/5/KMEANSINIT=True/NEIGHBORSIZE=1/NUMCLUSTERS=17/SPATIALINIT=True/SAMPLEFORASSIGNMENT=False/SPATIALNORM=0.1/SPATIALPRIORMULT=0.75/SPOTSIZE=50/AGG=mean\n",
      "BayXenSmooth with run 50um, 1 neighbors, sample=False, spatial_norm=0.1, concentraion_amp=0.75, n_pcs=5 and agg=mean done!\n",
      "Starting Moran's I Calculation.\n"
     ]
    },
    {
     "name": "stderr",
     "output_type": "stream",
     "text": [
      "/home/roko/.cache/pypoetry/virtualenvs/xenium-1YUjn3qu-py3.10/lib/python3.10/site-packages/anndata/utils.py:292: UserWarning: X converted to numpy array with dtype float64\n",
      "  warnings.warn(f\"{name} converted to numpy array with dtype {arr.dtype}\")\n"
     ]
    },
    {
     "name": "stdout",
     "output_type": "stream",
     "text": [
      "Neighbors calculated.\n",
      "(23444, 23444) (23444, 23444)\n",
      "Connectivities formed.\n",
      "100 BANK1 0.9118339982754557\n",
      "100 CEACAM6 0.3737053198617258\n",
      "100 FASN 1.0328446238465643\n",
      "100 FGL2 0.47430310086262095\n",
      "100 IL7R 0.800281574188733\n",
      "100 KRT6B 0.6096339661908919\n",
      "100 POSTN 0.4576911765771416\n",
      "100 TCIM 0.4162196941904975\n",
      "results/hBreast/BayXenSmooth/clusters/PCA/5/KMEANSINIT=True/NEIGHBORSIZE=1/NUMCLUSTERS=17/SPATIALINIT=True/SAMPLEFORASSIGNMENT=False/SPATIALNORM=0.1/SPATIALPRIORMULT=1.0/SPOTSIZE=50/AGG=mean\n",
      "BayXenSmooth with run 50um, 1 neighbors, sample=False, spatial_norm=0.1, concentraion_amp=1.0, n_pcs=5 and agg=mean done!\n",
      "Starting Moran's I Calculation.\n"
     ]
    },
    {
     "name": "stderr",
     "output_type": "stream",
     "text": [
      "/home/roko/.cache/pypoetry/virtualenvs/xenium-1YUjn3qu-py3.10/lib/python3.10/site-packages/anndata/utils.py:292: UserWarning: X converted to numpy array with dtype float64\n",
      "  warnings.warn(f\"{name} converted to numpy array with dtype {arr.dtype}\")\n"
     ]
    },
    {
     "name": "stdout",
     "output_type": "stream",
     "text": [
      "Neighbors calculated.\n",
      "(23444, 23444) (23444, 23444)\n",
      "Connectivities formed.\n",
      "100 BANK1 0.9091700580487194\n",
      "100 CEACAM6 0.37551484269076446\n",
      "100 FASN 1.0515568897129606\n",
      "100 FGL2 0.4625753107117002\n",
      "100 IL7R 0.7920823848026103\n",
      "100 KRT6B 0.6010403921830213\n",
      "100 POSTN 0.45711564026442747\n",
      "100 TCIM 0.40558211421025936\n",
      "results/hBreast/BayXenSmooth/clusters/PCA/5/KMEANSINIT=True/NEIGHBORSIZE=1/NUMCLUSTERS=17/SPATIALINIT=True/SAMPLEFORASSIGNMENT=False/SPATIALNORM=0.1/SPATIALPRIORMULT=1.5/SPOTSIZE=50/AGG=mean\n",
      "BayXenSmooth with run 50um, 1 neighbors, sample=False, spatial_norm=0.1, concentraion_amp=1.5, n_pcs=5 and agg=mean done!\n",
      "Starting Moran's I Calculation.\n"
     ]
    },
    {
     "name": "stderr",
     "output_type": "stream",
     "text": [
      "/home/roko/.cache/pypoetry/virtualenvs/xenium-1YUjn3qu-py3.10/lib/python3.10/site-packages/anndata/utils.py:292: UserWarning: X converted to numpy array with dtype float64\n",
      "  warnings.warn(f\"{name} converted to numpy array with dtype {arr.dtype}\")\n"
     ]
    },
    {
     "name": "stdout",
     "output_type": "stream",
     "text": [
      "Neighbors calculated.\n",
      "(23444, 23444) (23444, 23444)\n",
      "Connectivities formed.\n",
      "100 BANK1 0.9192080450754201\n",
      "100 CEACAM6 0.37229639754190896\n",
      "100 FASN 1.0293706936274416\n",
      "100 FGL2 0.4703167326563554\n",
      "100 IL7R 0.8101280864909721\n",
      "100 KRT6B 0.6029850499373693\n",
      "100 POSTN 0.46898553493581374\n",
      "100 TCIM 0.3889830528078014\n",
      "results/hBreast/BayXenSmooth/clusters/PCA/5/KMEANSINIT=True/NEIGHBORSIZE=1/NUMCLUSTERS=17/SPATIALINIT=True/SAMPLEFORASSIGNMENT=False/SPATIALNORM=0.1/SPATIALPRIORMULT=2.0/SPOTSIZE=50/AGG=mean\n",
      "BayXenSmooth with run 50um, 1 neighbors, sample=False, spatial_norm=0.1, concentraion_amp=2.0, n_pcs=5 and agg=mean done!\n",
      "Starting Moran's I Calculation.\n"
     ]
    },
    {
     "name": "stderr",
     "output_type": "stream",
     "text": [
      "/home/roko/.cache/pypoetry/virtualenvs/xenium-1YUjn3qu-py3.10/lib/python3.10/site-packages/anndata/utils.py:292: UserWarning: X converted to numpy array with dtype float64\n",
      "  warnings.warn(f\"{name} converted to numpy array with dtype {arr.dtype}\")\n"
     ]
    },
    {
     "name": "stdout",
     "output_type": "stream",
     "text": [
      "Neighbors calculated.\n",
      "(23444, 23444) (23444, 23444)\n",
      "Connectivities formed.\n",
      "100 BANK1 0.9468793282177659\n",
      "100 CEACAM6 0.37391283510909623\n",
      "100 FASN 1.0434842662661927\n",
      "100 FGL2 0.481098314629049\n",
      "100 IL7R 0.8188698118195004\n",
      "100 KRT6B 0.6269212041490891\n",
      "100 POSTN 0.4682648604088353\n",
      "100 TCIM 0.448570614170274\n",
      "results/hBreast/BayXenSmooth/clusters/PCA/5/KMEANSINIT=True/NEIGHBORSIZE=1/NUMCLUSTERS=17/SPATIALINIT=True/SAMPLEFORASSIGNMENT=False/SPATIALNORM=0.1/SPATIALPRIORMULT=2.5/SPOTSIZE=50/AGG=mean\n",
      "BayXenSmooth with run 50um, 1 neighbors, sample=False, spatial_norm=0.1, concentraion_amp=2.5, n_pcs=5 and agg=mean done!\n",
      "Starting Moran's I Calculation.\n"
     ]
    },
    {
     "name": "stderr",
     "output_type": "stream",
     "text": [
      "/home/roko/.cache/pypoetry/virtualenvs/xenium-1YUjn3qu-py3.10/lib/python3.10/site-packages/anndata/utils.py:292: UserWarning: X converted to numpy array with dtype float64\n",
      "  warnings.warn(f\"{name} converted to numpy array with dtype {arr.dtype}\")\n"
     ]
    },
    {
     "name": "stdout",
     "output_type": "stream",
     "text": [
      "Neighbors calculated.\n",
      "(23444, 23444) (23444, 23444)\n",
      "Connectivities formed.\n",
      "100 BANK1 0.8504945079823981\n",
      "100 CEACAM6 0.3645903833827773\n",
      "100 FASN 0.8893772352359702\n",
      "100 FGL2 0.42206389099913055\n",
      "100 IL7R 0.6880115921224726\n",
      "100 KRT6B 0.558185773440137\n",
      "100 POSTN 0.4920361245132767\n",
      "100 TCIM 0.5524948261375049\n",
      "results/hBreast/BayXenSmooth/clusters/PCA/25/KMEANSINIT=True/NEIGHBORSIZE=1/NUMCLUSTERS=17/SPATIALINIT=True/SAMPLEFORASSIGNMENT=False/SPATIALNORM=0.1/SPATIALPRIORMULT=1.0/SPOTSIZE=50/AGG=mean\n",
      "BayXenSmooth with run 50um, 1 neighbors, sample=False, spatial_norm=0.1, concentraion_amp=1.0, n_pcs=25 and agg=mean done!\n",
      "Starting Moran's I Calculation.\n"
     ]
    },
    {
     "name": "stderr",
     "output_type": "stream",
     "text": [
      "/home/roko/.cache/pypoetry/virtualenvs/xenium-1YUjn3qu-py3.10/lib/python3.10/site-packages/anndata/utils.py:292: UserWarning: X converted to numpy array with dtype float64\n",
      "  warnings.warn(f\"{name} converted to numpy array with dtype {arr.dtype}\")\n"
     ]
    },
    {
     "name": "stdout",
     "output_type": "stream",
     "text": [
      "Neighbors calculated.\n",
      "(23444, 23444) (23444, 23444)\n",
      "Connectivities formed.\n",
      "100 BANK1 0.9326641451907859\n",
      "100 CEACAM6 0.3644706200189561\n",
      "100 FASN 1.0302592103653974\n",
      "100 FGL2 0.47695968877468026\n",
      "100 IL7R 0.8087463504596056\n",
      "100 KRT6B 0.6105215221547051\n",
      "100 POSTN 0.46758579617093937\n",
      "100 TCIM 0.4201107767792882\n",
      "results/hBreast/BayXenSmooth/clusters/PCA/5/KMEANSINIT=True/NEIGHBORSIZE=1/NUMCLUSTERS=17/SPATIALINIT=False/SAMPLEFORASSIGNMENT=True/SPATIALNORM=0.0/SPATIALPRIORMULT=0.05/SPOTSIZE=50/AGG=sum\n",
      "BayXenSmooth with run 50um, 1 neighbors, sample=True, spatial_norm=0.0, concentraion_amp=0.05, n_pcs=5 and agg=sum done!\n",
      "Starting Moran's I Calculation.\n"
     ]
    },
    {
     "name": "stderr",
     "output_type": "stream",
     "text": [
      "/home/roko/.cache/pypoetry/virtualenvs/xenium-1YUjn3qu-py3.10/lib/python3.10/site-packages/anndata/utils.py:292: UserWarning: X converted to numpy array with dtype float64\n",
      "  warnings.warn(f\"{name} converted to numpy array with dtype {arr.dtype}\")\n"
     ]
    },
    {
     "name": "stdout",
     "output_type": "stream",
     "text": [
      "Neighbors calculated.\n",
      "(23444, 23444) (23444, 23444)\n",
      "Connectivities formed.\n",
      "100 BANK1 0.8839196117405004\n",
      "100 CEACAM6 0.3672312224796923\n",
      "100 FASN 1.0428742917942122\n",
      "100 FGL2 0.468049789156414\n",
      "100 IL7R 0.7847023791334509\n",
      "100 KRT6B 0.5922821121975183\n",
      "100 POSTN 0.4929966805483095\n",
      "100 TCIM 0.4144814333064185\n",
      "results/hBreast/BayXenSmooth/clusters/PCA/5/KMEANSINIT=True/NEIGHBORSIZE=1/NUMCLUSTERS=17/SPATIALINIT=False/SAMPLEFORASSIGNMENT=True/SPATIALNORM=0.0/SPATIALPRIORMULT=0.1/SPOTSIZE=50/AGG=sum\n",
      "BayXenSmooth with run 50um, 1 neighbors, sample=True, spatial_norm=0.0, concentraion_amp=0.1, n_pcs=5 and agg=sum done!\n",
      "Starting Moran's I Calculation.\n"
     ]
    },
    {
     "name": "stderr",
     "output_type": "stream",
     "text": [
      "/home/roko/.cache/pypoetry/virtualenvs/xenium-1YUjn3qu-py3.10/lib/python3.10/site-packages/anndata/utils.py:292: UserWarning: X converted to numpy array with dtype float64\n",
      "  warnings.warn(f\"{name} converted to numpy array with dtype {arr.dtype}\")\n"
     ]
    },
    {
     "name": "stdout",
     "output_type": "stream",
     "text": [
      "Neighbors calculated.\n",
      "(23444, 23444) (23444, 23444)\n",
      "Connectivities formed.\n",
      "100 BANK1 0.9097769588129921\n",
      "100 CEACAM6 0.3817652090299655\n",
      "100 FASN 1.0461266193663792\n",
      "100 FGL2 0.47570182798814525\n",
      "100 IL7R 0.8175774591333577\n",
      "100 KRT6B 0.6207256607556355\n",
      "100 POSTN 0.4678180755985276\n",
      "100 TCIM 0.4197947336245973\n",
      "results/hBreast/BayXenSmooth/clusters/PCA/5/KMEANSINIT=True/NEIGHBORSIZE=1/NUMCLUSTERS=17/SPATIALINIT=False/SAMPLEFORASSIGNMENT=True/SPATIALNORM=0.0/SPATIALPRIORMULT=0.25/SPOTSIZE=50/AGG=sum\n",
      "BayXenSmooth with run 50um, 1 neighbors, sample=True, spatial_norm=0.0, concentraion_amp=0.25, n_pcs=5 and agg=sum done!\n",
      "Starting Moran's I Calculation.\n"
     ]
    },
    {
     "name": "stderr",
     "output_type": "stream",
     "text": [
      "/home/roko/.cache/pypoetry/virtualenvs/xenium-1YUjn3qu-py3.10/lib/python3.10/site-packages/anndata/utils.py:292: UserWarning: X converted to numpy array with dtype float64\n",
      "  warnings.warn(f\"{name} converted to numpy array with dtype {arr.dtype}\")\n"
     ]
    },
    {
     "name": "stdout",
     "output_type": "stream",
     "text": [
      "Neighbors calculated.\n",
      "(23444, 23444) (23444, 23444)\n",
      "Connectivities formed.\n",
      "100 BANK1 0.9188856173033695\n",
      "100 CEACAM6 0.3770547225047324\n",
      "100 FASN 1.0617271232232977\n",
      "100 FGL2 0.47771967357229483\n",
      "100 IL7R 0.8140432245539125\n",
      "100 KRT6B 0.6224658565824069\n",
      "100 POSTN 0.46191888277418075\n",
      "100 TCIM 0.42780286033154946\n",
      "results/hBreast/BayXenSmooth/clusters/PCA/5/KMEANSINIT=True/NEIGHBORSIZE=1/NUMCLUSTERS=17/SPATIALINIT=False/SAMPLEFORASSIGNMENT=True/SPATIALNORM=0.0/SPATIALPRIORMULT=0.5/SPOTSIZE=50/AGG=sum\n",
      "BayXenSmooth with run 50um, 1 neighbors, sample=True, spatial_norm=0.0, concentraion_amp=0.5, n_pcs=5 and agg=sum done!\n",
      "Starting Moran's I Calculation.\n"
     ]
    },
    {
     "name": "stderr",
     "output_type": "stream",
     "text": [
      "/home/roko/.cache/pypoetry/virtualenvs/xenium-1YUjn3qu-py3.10/lib/python3.10/site-packages/anndata/utils.py:292: UserWarning: X converted to numpy array with dtype float64\n",
      "  warnings.warn(f\"{name} converted to numpy array with dtype {arr.dtype}\")\n"
     ]
    },
    {
     "name": "stdout",
     "output_type": "stream",
     "text": [
      "Neighbors calculated.\n",
      "(23444, 23444) (23444, 23444)\n",
      "Connectivities formed.\n",
      "100 BANK1 0.832083063551975\n",
      "100 CEACAM6 0.3657997264288849\n",
      "100 FASN 1.0264456362453867\n",
      "100 FGL2 0.46289918153439885\n",
      "100 IL7R 0.7715980839560147\n",
      "100 KRT6B 0.5867381842983682\n",
      "100 POSTN 0.4991956254141276\n",
      "100 TCIM 0.40415794589076004\n",
      "results/hBreast/BayXenSmooth/clusters/PCA/5/KMEANSINIT=True/NEIGHBORSIZE=1/NUMCLUSTERS=17/SPATIALINIT=False/SAMPLEFORASSIGNMENT=True/SPATIALNORM=0.0/SPATIALPRIORMULT=0.75/SPOTSIZE=50/AGG=sum\n",
      "BayXenSmooth with run 50um, 1 neighbors, sample=True, spatial_norm=0.0, concentraion_amp=0.75, n_pcs=5 and agg=sum done!\n",
      "Starting Moran's I Calculation.\n"
     ]
    },
    {
     "name": "stderr",
     "output_type": "stream",
     "text": [
      "/home/roko/.cache/pypoetry/virtualenvs/xenium-1YUjn3qu-py3.10/lib/python3.10/site-packages/anndata/utils.py:292: UserWarning: X converted to numpy array with dtype float64\n",
      "  warnings.warn(f\"{name} converted to numpy array with dtype {arr.dtype}\")\n"
     ]
    },
    {
     "name": "stdout",
     "output_type": "stream",
     "text": [
      "Neighbors calculated.\n",
      "(23444, 23444) (23444, 23444)\n",
      "Connectivities formed.\n",
      "100 BANK1 0.8896616407312318\n",
      "100 CEACAM6 0.3760804899320596\n",
      "100 FASN 1.0428365530456785\n",
      "100 FGL2 0.458240547330253\n",
      "100 IL7R 0.7514323102115523\n",
      "100 KRT6B 0.6058287202265865\n",
      "100 POSTN 0.48288336427854806\n",
      "100 TCIM 0.38551295496255117\n",
      "results/hBreast/BayXenSmooth/clusters/PCA/5/KMEANSINIT=True/NEIGHBORSIZE=1/NUMCLUSTERS=17/SPATIALINIT=False/SAMPLEFORASSIGNMENT=True/SPATIALNORM=0.0/SPATIALPRIORMULT=1.0/SPOTSIZE=50/AGG=sum\n",
      "BayXenSmooth with run 50um, 1 neighbors, sample=True, spatial_norm=0.0, concentraion_amp=1.0, n_pcs=5 and agg=sum done!\n",
      "Starting Moran's I Calculation.\n"
     ]
    },
    {
     "name": "stderr",
     "output_type": "stream",
     "text": [
      "/home/roko/.cache/pypoetry/virtualenvs/xenium-1YUjn3qu-py3.10/lib/python3.10/site-packages/anndata/utils.py:292: UserWarning: X converted to numpy array with dtype float64\n",
      "  warnings.warn(f\"{name} converted to numpy array with dtype {arr.dtype}\")\n"
     ]
    },
    {
     "name": "stdout",
     "output_type": "stream",
     "text": [
      "Neighbors calculated.\n",
      "(23444, 23444) (23444, 23444)\n",
      "Connectivities formed.\n",
      "100 BANK1 0.8989334564133816\n",
      "100 CEACAM6 0.3646146606515226\n",
      "100 FASN 1.0025552892669856\n",
      "100 FGL2 0.4770758716959326\n",
      "100 IL7R 0.7877760548209635\n",
      "100 KRT6B 0.5866033749113128\n",
      "100 POSTN 0.4838027869910887\n",
      "100 TCIM 0.3883788993970795\n",
      "results/hBreast/BayXenSmooth/clusters/PCA/5/KMEANSINIT=True/NEIGHBORSIZE=1/NUMCLUSTERS=17/SPATIALINIT=False/SAMPLEFORASSIGNMENT=True/SPATIALNORM=0.0/SPATIALPRIORMULT=1.5/SPOTSIZE=50/AGG=sum\n",
      "BayXenSmooth with run 50um, 1 neighbors, sample=True, spatial_norm=0.0, concentraion_amp=1.5, n_pcs=5 and agg=sum done!\n",
      "Starting Moran's I Calculation.\n"
     ]
    },
    {
     "name": "stderr",
     "output_type": "stream",
     "text": [
      "/home/roko/.cache/pypoetry/virtualenvs/xenium-1YUjn3qu-py3.10/lib/python3.10/site-packages/anndata/utils.py:292: UserWarning: X converted to numpy array with dtype float64\n",
      "  warnings.warn(f\"{name} converted to numpy array with dtype {arr.dtype}\")\n"
     ]
    },
    {
     "name": "stdout",
     "output_type": "stream",
     "text": [
      "Neighbors calculated.\n",
      "(23444, 23444) (23444, 23444)\n",
      "Connectivities formed.\n",
      "100 BANK1 0.9025613933054749\n",
      "100 CEACAM6 0.371283848247465\n",
      "100 FASN 1.0283029125923786\n",
      "100 FGL2 0.4741845053472776\n",
      "100 IL7R 0.7952906600210861\n",
      "100 KRT6B 0.5961226936257924\n",
      "100 POSTN 0.45808207361566766\n",
      "100 TCIM 0.40336598583424094\n",
      "results/hBreast/BayXenSmooth/clusters/PCA/5/KMEANSINIT=True/NEIGHBORSIZE=1/NUMCLUSTERS=17/SPATIALINIT=False/SAMPLEFORASSIGNMENT=True/SPATIALNORM=0.0/SPATIALPRIORMULT=2.0/SPOTSIZE=50/AGG=sum\n",
      "BayXenSmooth with run 50um, 1 neighbors, sample=True, spatial_norm=0.0, concentraion_amp=2.0, n_pcs=5 and agg=sum done!\n",
      "Starting Moran's I Calculation.\n"
     ]
    },
    {
     "name": "stderr",
     "output_type": "stream",
     "text": [
      "/home/roko/.cache/pypoetry/virtualenvs/xenium-1YUjn3qu-py3.10/lib/python3.10/site-packages/anndata/utils.py:292: UserWarning: X converted to numpy array with dtype float64\n",
      "  warnings.warn(f\"{name} converted to numpy array with dtype {arr.dtype}\")\n"
     ]
    },
    {
     "name": "stdout",
     "output_type": "stream",
     "text": [
      "Neighbors calculated.\n",
      "(23444, 23444) (23444, 23444)\n",
      "Connectivities formed.\n",
      "100 BANK1 0.9222907216205422\n",
      "100 CEACAM6 0.37843619390783156\n",
      "100 FASN 1.0693822435637101\n",
      "100 FGL2 0.4634666315709451\n",
      "100 IL7R 0.7927423950863158\n",
      "100 KRT6B 0.6218616970120044\n",
      "100 POSTN 0.4292217282486683\n",
      "100 TCIM 0.44711928910475557\n",
      "results/hBreast/BayXenSmooth/clusters/PCA/5/KMEANSINIT=True/NEIGHBORSIZE=1/NUMCLUSTERS=17/SPATIALINIT=False/SAMPLEFORASSIGNMENT=True/SPATIALNORM=0.0/SPATIALPRIORMULT=2.5/SPOTSIZE=50/AGG=sum\n",
      "BayXenSmooth with run 50um, 1 neighbors, sample=True, spatial_norm=0.0, concentraion_amp=2.5, n_pcs=5 and agg=sum done!\n",
      "Starting Moran's I Calculation.\n"
     ]
    },
    {
     "name": "stderr",
     "output_type": "stream",
     "text": [
      "/home/roko/.cache/pypoetry/virtualenvs/xenium-1YUjn3qu-py3.10/lib/python3.10/site-packages/anndata/utils.py:292: UserWarning: X converted to numpy array with dtype float64\n",
      "  warnings.warn(f\"{name} converted to numpy array with dtype {arr.dtype}\")\n"
     ]
    },
    {
     "name": "stdout",
     "output_type": "stream",
     "text": [
      "Neighbors calculated.\n",
      "(23444, 23444) (23444, 23444)\n",
      "Connectivities formed.\n",
      "100 BANK1 0.821409959524065\n",
      "100 CEACAM6 0.35479303332768075\n",
      "100 FASN 0.9046890725134618\n",
      "100 FGL2 0.4340626610726024\n",
      "100 IL7R 0.7528693500418884\n",
      "100 KRT6B 0.5453293658216352\n",
      "100 POSTN 0.4913436168679847\n",
      "100 TCIM 0.5508067750253852\n",
      "results/hBreast/BayXenSmooth/clusters/PCA/25/KMEANSINIT=True/NEIGHBORSIZE=1/NUMCLUSTERS=17/SPATIALINIT=False/SAMPLEFORASSIGNMENT=True/SPATIALNORM=0.0/SPATIALPRIORMULT=0.05/SPOTSIZE=50/AGG=sum\n",
      "BayXenSmooth with run 50um, 1 neighbors, sample=True, spatial_norm=0.0, concentraion_amp=0.05, n_pcs=25 and agg=sum done!\n",
      "Starting Moran's I Calculation.\n"
     ]
    },
    {
     "name": "stderr",
     "output_type": "stream",
     "text": [
      "/home/roko/.cache/pypoetry/virtualenvs/xenium-1YUjn3qu-py3.10/lib/python3.10/site-packages/anndata/utils.py:292: UserWarning: X converted to numpy array with dtype float64\n",
      "  warnings.warn(f\"{name} converted to numpy array with dtype {arr.dtype}\")\n"
     ]
    },
    {
     "name": "stdout",
     "output_type": "stream",
     "text": [
      "Neighbors calculated.\n",
      "(23444, 23444) (23444, 23444)\n",
      "Connectivities formed.\n",
      "100 BANK1 0.77372233842672\n",
      "100 CEACAM6 0.36900922788945106\n",
      "100 FASN 0.9271773307460459\n",
      "100 FGL2 0.40675120963256356\n",
      "100 IL7R 0.666719944444423\n",
      "100 KRT6B 0.5120347553633076\n",
      "100 POSTN 0.46776100847388247\n",
      "100 TCIM 0.5530508748966502\n",
      "results/hBreast/BayXenSmooth/clusters/PCA/25/KMEANSINIT=True/NEIGHBORSIZE=1/NUMCLUSTERS=17/SPATIALINIT=False/SAMPLEFORASSIGNMENT=True/SPATIALNORM=0.0/SPATIALPRIORMULT=0.1/SPOTSIZE=50/AGG=sum\n",
      "BayXenSmooth with run 50um, 1 neighbors, sample=True, spatial_norm=0.0, concentraion_amp=0.1, n_pcs=25 and agg=sum done!\n",
      "Starting Moran's I Calculation.\n"
     ]
    },
    {
     "name": "stderr",
     "output_type": "stream",
     "text": [
      "/home/roko/.cache/pypoetry/virtualenvs/xenium-1YUjn3qu-py3.10/lib/python3.10/site-packages/anndata/utils.py:292: UserWarning: X converted to numpy array with dtype float64\n",
      "  warnings.warn(f\"{name} converted to numpy array with dtype {arr.dtype}\")\n"
     ]
    },
    {
     "name": "stdout",
     "output_type": "stream",
     "text": [
      "Neighbors calculated.\n",
      "(23444, 23444) (23444, 23444)\n",
      "Connectivities formed.\n",
      "100 BANK1 0.804554311526364\n",
      "100 CEACAM6 0.354767153473843\n",
      "100 FASN 0.8780433160759065\n",
      "100 FGL2 0.4357814914560306\n",
      "100 IL7R 0.7395131364555543\n",
      "100 KRT6B 0.5373150090865411\n",
      "100 POSTN 0.48835992093207653\n",
      "100 TCIM 0.5742035064750731\n",
      "results/hBreast/BayXenSmooth/clusters/PCA/25/KMEANSINIT=True/NEIGHBORSIZE=1/NUMCLUSTERS=17/SPATIALINIT=False/SAMPLEFORASSIGNMENT=True/SPATIALNORM=0.0/SPATIALPRIORMULT=0.25/SPOTSIZE=50/AGG=sum\n",
      "BayXenSmooth with run 50um, 1 neighbors, sample=True, spatial_norm=0.0, concentraion_amp=0.25, n_pcs=25 and agg=sum done!\n",
      "Starting Moran's I Calculation.\n"
     ]
    },
    {
     "name": "stderr",
     "output_type": "stream",
     "text": [
      "/home/roko/.cache/pypoetry/virtualenvs/xenium-1YUjn3qu-py3.10/lib/python3.10/site-packages/anndata/utils.py:292: UserWarning: X converted to numpy array with dtype float64\n",
      "  warnings.warn(f\"{name} converted to numpy array with dtype {arr.dtype}\")\n"
     ]
    },
    {
     "name": "stdout",
     "output_type": "stream",
     "text": [
      "Neighbors calculated.\n",
      "(23444, 23444) (23444, 23444)\n",
      "Connectivities formed.\n",
      "100 BANK1 0.834933205340929\n",
      "100 CEACAM6 0.3711516122071354\n",
      "100 FASN 0.8875381387732338\n",
      "100 FGL2 0.42438178972388496\n",
      "100 IL7R 0.6887447236457853\n",
      "100 KRT6B 0.5262263303461019\n",
      "100 POSTN 0.48257056314529195\n",
      "100 TCIM 0.554938138382831\n",
      "results/hBreast/BayXenSmooth/clusters/PCA/25/KMEANSINIT=True/NEIGHBORSIZE=1/NUMCLUSTERS=17/SPATIALINIT=False/SAMPLEFORASSIGNMENT=True/SPATIALNORM=0.0/SPATIALPRIORMULT=0.5/SPOTSIZE=50/AGG=sum\n",
      "BayXenSmooth with run 50um, 1 neighbors, sample=True, spatial_norm=0.0, concentraion_amp=0.5, n_pcs=25 and agg=sum done!\n",
      "Starting Moran's I Calculation.\n"
     ]
    },
    {
     "name": "stderr",
     "output_type": "stream",
     "text": [
      "/home/roko/.cache/pypoetry/virtualenvs/xenium-1YUjn3qu-py3.10/lib/python3.10/site-packages/anndata/utils.py:292: UserWarning: X converted to numpy array with dtype float64\n",
      "  warnings.warn(f\"{name} converted to numpy array with dtype {arr.dtype}\")\n"
     ]
    },
    {
     "name": "stdout",
     "output_type": "stream",
     "text": [
      "Neighbors calculated.\n",
      "(23444, 23444) (23444, 23444)\n",
      "Connectivities formed.\n",
      "100 BANK1 0.7895561243379112\n",
      "100 CEACAM6 0.36824015942227717\n",
      "100 FASN 0.885874269552728\n",
      "100 FGL2 0.4272382995511911\n",
      "100 IL7R 0.717501876239274\n",
      "100 KRT6B 0.5293373435100586\n",
      "100 POSTN 0.48236166962081856\n",
      "100 TCIM 0.5140241431634947\n",
      "results/hBreast/BayXenSmooth/clusters/PCA/25/KMEANSINIT=True/NEIGHBORSIZE=1/NUMCLUSTERS=17/SPATIALINIT=False/SAMPLEFORASSIGNMENT=True/SPATIALNORM=0.0/SPATIALPRIORMULT=0.75/SPOTSIZE=50/AGG=sum\n",
      "BayXenSmooth with run 50um, 1 neighbors, sample=True, spatial_norm=0.0, concentraion_amp=0.75, n_pcs=25 and agg=sum done!\n",
      "Starting Moran's I Calculation.\n"
     ]
    },
    {
     "name": "stderr",
     "output_type": "stream",
     "text": [
      "/home/roko/.cache/pypoetry/virtualenvs/xenium-1YUjn3qu-py3.10/lib/python3.10/site-packages/anndata/utils.py:292: UserWarning: X converted to numpy array with dtype float64\n",
      "  warnings.warn(f\"{name} converted to numpy array with dtype {arr.dtype}\")\n"
     ]
    },
    {
     "name": "stdout",
     "output_type": "stream",
     "text": [
      "Neighbors calculated.\n",
      "(23444, 23444) (23444, 23444)\n",
      "Connectivities formed.\n",
      "100 BANK1 0.795896485160909\n",
      "100 CEACAM6 0.3526524361617663\n",
      "100 FASN 0.8796702119182745\n",
      "100 FGL2 0.43616331264447356\n",
      "100 IL7R 0.7343631307886324\n",
      "100 KRT6B 0.5321022168655875\n",
      "100 POSTN 0.48978311452178863\n",
      "100 TCIM 0.5682246810795527\n",
      "results/hBreast/BayXenSmooth/clusters/PCA/25/KMEANSINIT=True/NEIGHBORSIZE=1/NUMCLUSTERS=17/SPATIALINIT=False/SAMPLEFORASSIGNMENT=True/SPATIALNORM=0.0/SPATIALPRIORMULT=1.0/SPOTSIZE=50/AGG=sum\n",
      "BayXenSmooth with run 50um, 1 neighbors, sample=True, spatial_norm=0.0, concentraion_amp=1.0, n_pcs=25 and agg=sum done!\n",
      "Starting Moran's I Calculation.\n"
     ]
    },
    {
     "name": "stderr",
     "output_type": "stream",
     "text": [
      "/home/roko/.cache/pypoetry/virtualenvs/xenium-1YUjn3qu-py3.10/lib/python3.10/site-packages/anndata/utils.py:292: UserWarning: X converted to numpy array with dtype float64\n",
      "  warnings.warn(f\"{name} converted to numpy array with dtype {arr.dtype}\")\n"
     ]
    },
    {
     "name": "stdout",
     "output_type": "stream",
     "text": [
      "Neighbors calculated.\n",
      "(23444, 23444) (23444, 23444)\n",
      "Connectivities formed.\n",
      "100 BANK1 0.6397411434737446\n",
      "100 CEACAM6 0.3535900859809498\n",
      "100 FASN 0.9107973596924052\n",
      "100 FGL2 0.4396192532742811\n",
      "100 IL7R 0.6821521050671853\n",
      "100 KRT6B 0.5405062528870129\n",
      "100 POSTN 0.5079952839851442\n",
      "100 TCIM 0.5041440426107084\n",
      "results/hBreast/BayXenSmooth/clusters/PCA/25/KMEANSINIT=True/NEIGHBORSIZE=1/NUMCLUSTERS=17/SPATIALINIT=False/SAMPLEFORASSIGNMENT=True/SPATIALNORM=0.0/SPATIALPRIORMULT=1.5/SPOTSIZE=50/AGG=sum\n",
      "BayXenSmooth with run 50um, 1 neighbors, sample=True, spatial_norm=0.0, concentraion_amp=1.5, n_pcs=25 and agg=sum done!\n",
      "Starting Moran's I Calculation.\n"
     ]
    },
    {
     "name": "stderr",
     "output_type": "stream",
     "text": [
      "/home/roko/.cache/pypoetry/virtualenvs/xenium-1YUjn3qu-py3.10/lib/python3.10/site-packages/anndata/utils.py:292: UserWarning: X converted to numpy array with dtype float64\n",
      "  warnings.warn(f\"{name} converted to numpy array with dtype {arr.dtype}\")\n"
     ]
    },
    {
     "name": "stdout",
     "output_type": "stream",
     "text": [
      "Neighbors calculated.\n",
      "(23444, 23444) (23444, 23444)\n",
      "Connectivities formed.\n",
      "100 BANK1 0.759843592611048\n",
      "100 CEACAM6 0.35911793905909045\n",
      "100 FASN 0.8588703458233836\n",
      "100 FGL2 0.4468436217867867\n",
      "100 IL7R 0.69216630622257\n",
      "100 KRT6B 0.5095450474328244\n",
      "100 POSTN 0.4755940081749109\n",
      "100 TCIM 0.5459204216406204\n",
      "results/hBreast/BayXenSmooth/clusters/PCA/25/KMEANSINIT=True/NEIGHBORSIZE=1/NUMCLUSTERS=17/SPATIALINIT=False/SAMPLEFORASSIGNMENT=True/SPATIALNORM=0.0/SPATIALPRIORMULT=2.0/SPOTSIZE=50/AGG=sum\n",
      "BayXenSmooth with run 50um, 1 neighbors, sample=True, spatial_norm=0.0, concentraion_amp=2.0, n_pcs=25 and agg=sum done!\n",
      "Starting Moran's I Calculation.\n"
     ]
    },
    {
     "name": "stderr",
     "output_type": "stream",
     "text": [
      "/home/roko/.cache/pypoetry/virtualenvs/xenium-1YUjn3qu-py3.10/lib/python3.10/site-packages/anndata/utils.py:292: UserWarning: X converted to numpy array with dtype float64\n",
      "  warnings.warn(f\"{name} converted to numpy array with dtype {arr.dtype}\")\n"
     ]
    },
    {
     "name": "stdout",
     "output_type": "stream",
     "text": [
      "Neighbors calculated.\n",
      "(23444, 23444) (23444, 23444)\n",
      "Connectivities formed.\n",
      "100 BANK1 0.8811557752210353\n",
      "100 CEACAM6 0.36800398920201777\n",
      "100 FASN 1.0072656941871805\n",
      "100 FGL2 0.47035762131151837\n",
      "100 IL7R 0.7902747414888281\n",
      "100 KRT6B 0.5760158581317794\n",
      "100 POSTN 0.4543840602612161\n",
      "100 TCIM 0.4020469967113906\n",
      "results/hBreast/BayXenSmooth/clusters/PCA/5/KMEANSINIT=True/NEIGHBORSIZE=1/NUMCLUSTERS=17/SPATIALINIT=True/SAMPLEFORASSIGNMENT=True/SPATIALNORM=0.05/SPATIALPRIORMULT=0.05/SPOTSIZE=50/AGG=sum\n",
      "BayXenSmooth with run 50um, 1 neighbors, sample=True, spatial_norm=0.05, concentraion_amp=0.05, n_pcs=5 and agg=sum done!\n",
      "Starting Moran's I Calculation.\n"
     ]
    },
    {
     "name": "stderr",
     "output_type": "stream",
     "text": [
      "/home/roko/.cache/pypoetry/virtualenvs/xenium-1YUjn3qu-py3.10/lib/python3.10/site-packages/anndata/utils.py:292: UserWarning: X converted to numpy array with dtype float64\n",
      "  warnings.warn(f\"{name} converted to numpy array with dtype {arr.dtype}\")\n"
     ]
    },
    {
     "name": "stdout",
     "output_type": "stream",
     "text": [
      "Neighbors calculated.\n",
      "(23444, 23444) (23444, 23444)\n",
      "Connectivities formed.\n",
      "100 BANK1 1.038865958412267\n",
      "100 CEACAM6 0.3838659055787026\n",
      "100 FASN 1.026130555090333\n",
      "100 FGL2 0.4830573512027845\n",
      "100 IL7R 0.8415518511662001\n",
      "100 KRT6B 0.2827189479361522\n",
      "100 POSTN 0.49548399282942707\n",
      "100 TCIM 0.3690085254926071\n",
      "results/hBreast/BayXenSmooth/clusters/PCA/5/KMEANSINIT=True/NEIGHBORSIZE=1/NUMCLUSTERS=17/SPATIALINIT=True/SAMPLEFORASSIGNMENT=True/SPATIALNORM=0.05/SPATIALPRIORMULT=0.1/SPOTSIZE=50/AGG=sum\n",
      "BayXenSmooth with run 50um, 1 neighbors, sample=True, spatial_norm=0.05, concentraion_amp=0.1, n_pcs=5 and agg=sum done!\n",
      "Starting Moran's I Calculation.\n"
     ]
    },
    {
     "name": "stderr",
     "output_type": "stream",
     "text": [
      "/home/roko/.cache/pypoetry/virtualenvs/xenium-1YUjn3qu-py3.10/lib/python3.10/site-packages/anndata/utils.py:292: UserWarning: X converted to numpy array with dtype float64\n",
      "  warnings.warn(f\"{name} converted to numpy array with dtype {arr.dtype}\")\n"
     ]
    },
    {
     "name": "stdout",
     "output_type": "stream",
     "text": [
      "Neighbors calculated.\n",
      "(23444, 23444) (23444, 23444)\n",
      "Connectivities formed.\n",
      "100 BANK1 0.8960539985205555\n",
      "100 CEACAM6 0.3782434857600031\n",
      "100 FASN 1.0594459735735644\n",
      "100 FGL2 0.4674670398128157\n",
      "100 IL7R 0.7615680479408825\n",
      "100 KRT6B 0.6069304778462286\n",
      "100 POSTN 0.4945525347368348\n",
      "100 TCIM 0.41733018566659885\n",
      "results/hBreast/BayXenSmooth/clusters/PCA/5/KMEANSINIT=True/NEIGHBORSIZE=1/NUMCLUSTERS=17/SPATIALINIT=True/SAMPLEFORASSIGNMENT=True/SPATIALNORM=0.05/SPATIALPRIORMULT=0.25/SPOTSIZE=50/AGG=sum\n",
      "BayXenSmooth with run 50um, 1 neighbors, sample=True, spatial_norm=0.05, concentraion_amp=0.25, n_pcs=5 and agg=sum done!\n",
      "Starting Moran's I Calculation.\n"
     ]
    },
    {
     "name": "stderr",
     "output_type": "stream",
     "text": [
      "/home/roko/.cache/pypoetry/virtualenvs/xenium-1YUjn3qu-py3.10/lib/python3.10/site-packages/anndata/utils.py:292: UserWarning: X converted to numpy array with dtype float64\n",
      "  warnings.warn(f\"{name} converted to numpy array with dtype {arr.dtype}\")\n"
     ]
    },
    {
     "name": "stdout",
     "output_type": "stream",
     "text": [
      "Neighbors calculated.\n",
      "(23444, 23444) (23444, 23444)\n",
      "Connectivities formed.\n",
      "100 BANK1 0.9174100824865451\n",
      "100 CEACAM6 0.3661362947109239\n",
      "100 FASN 1.0381019342112758\n",
      "100 FGL2 0.47032871743749566\n",
      "100 IL7R 0.7815627721046144\n",
      "100 KRT6B 0.6210348758656506\n",
      "100 POSTN 0.47505022672193115\n",
      "100 TCIM 0.37531522644216164\n",
      "results/hBreast/BayXenSmooth/clusters/PCA/5/KMEANSINIT=True/NEIGHBORSIZE=1/NUMCLUSTERS=17/SPATIALINIT=True/SAMPLEFORASSIGNMENT=True/SPATIALNORM=0.05/SPATIALPRIORMULT=0.5/SPOTSIZE=50/AGG=sum\n",
      "BayXenSmooth with run 50um, 1 neighbors, sample=True, spatial_norm=0.05, concentraion_amp=0.5, n_pcs=5 and agg=sum done!\n",
      "Starting Moran's I Calculation.\n"
     ]
    },
    {
     "name": "stderr",
     "output_type": "stream",
     "text": [
      "/home/roko/.cache/pypoetry/virtualenvs/xenium-1YUjn3qu-py3.10/lib/python3.10/site-packages/anndata/utils.py:292: UserWarning: X converted to numpy array with dtype float64\n",
      "  warnings.warn(f\"{name} converted to numpy array with dtype {arr.dtype}\")\n"
     ]
    },
    {
     "name": "stdout",
     "output_type": "stream",
     "text": [
      "Neighbors calculated.\n",
      "(23444, 23444) (23444, 23444)\n",
      "Connectivities formed.\n",
      "100 BANK1 0.8959551568699279\n",
      "100 CEACAM6 0.3754510785078306\n",
      "100 FASN 1.0362777994005665\n",
      "100 FGL2 0.46731212761142743\n",
      "100 IL7R 0.7673696061540621\n",
      "100 KRT6B 0.6102755913312489\n",
      "100 POSTN 0.46940825821010324\n",
      "100 TCIM 0.40126637306620244\n",
      "results/hBreast/BayXenSmooth/clusters/PCA/5/KMEANSINIT=True/NEIGHBORSIZE=1/NUMCLUSTERS=17/SPATIALINIT=True/SAMPLEFORASSIGNMENT=True/SPATIALNORM=0.05/SPATIALPRIORMULT=0.75/SPOTSIZE=50/AGG=sum\n",
      "BayXenSmooth with run 50um, 1 neighbors, sample=True, spatial_norm=0.05, concentraion_amp=0.75, n_pcs=5 and agg=sum done!\n",
      "Starting Moran's I Calculation.\n"
     ]
    },
    {
     "name": "stderr",
     "output_type": "stream",
     "text": [
      "/home/roko/.cache/pypoetry/virtualenvs/xenium-1YUjn3qu-py3.10/lib/python3.10/site-packages/anndata/utils.py:292: UserWarning: X converted to numpy array with dtype float64\n",
      "  warnings.warn(f\"{name} converted to numpy array with dtype {arr.dtype}\")\n"
     ]
    },
    {
     "name": "stdout",
     "output_type": "stream",
     "text": [
      "Neighbors calculated.\n",
      "(23444, 23444) (23444, 23444)\n",
      "Connectivities formed.\n",
      "100 BANK1 0.9572905560929167\n",
      "100 CEACAM6 0.38217961651717414\n",
      "100 FASN 1.0607802530628754\n",
      "100 FGL2 0.4684141054899748\n",
      "100 IL7R 0.8123373077744099\n",
      "100 KRT6B 0.5418248077472642\n",
      "100 POSTN 0.4415971017780407\n",
      "100 TCIM 0.4443666815464866\n",
      "results/hBreast/BayXenSmooth/clusters/PCA/5/KMEANSINIT=True/NEIGHBORSIZE=1/NUMCLUSTERS=17/SPATIALINIT=True/SAMPLEFORASSIGNMENT=True/SPATIALNORM=0.05/SPATIALPRIORMULT=1.0/SPOTSIZE=50/AGG=sum\n",
      "BayXenSmooth with run 50um, 1 neighbors, sample=True, spatial_norm=0.05, concentraion_amp=1.0, n_pcs=5 and agg=sum done!\n",
      "Starting Moran's I Calculation.\n"
     ]
    },
    {
     "name": "stderr",
     "output_type": "stream",
     "text": [
      "/home/roko/.cache/pypoetry/virtualenvs/xenium-1YUjn3qu-py3.10/lib/python3.10/site-packages/anndata/utils.py:292: UserWarning: X converted to numpy array with dtype float64\n",
      "  warnings.warn(f\"{name} converted to numpy array with dtype {arr.dtype}\")\n"
     ]
    },
    {
     "name": "stdout",
     "output_type": "stream",
     "text": [
      "Neighbors calculated.\n",
      "(23444, 23444) (23444, 23444)\n",
      "Connectivities formed.\n",
      "100 BANK1 0.8962132046478115\n",
      "100 CEACAM6 0.36837810878596916\n",
      "100 FASN 1.024670934321699\n",
      "100 FGL2 0.4740521820826144\n",
      "100 IL7R 0.7742793157524213\n",
      "100 KRT6B 0.5899884085113088\n",
      "100 POSTN 0.45973490240705306\n",
      "100 TCIM 0.41985454770215275\n",
      "results/hBreast/BayXenSmooth/clusters/PCA/5/KMEANSINIT=True/NEIGHBORSIZE=1/NUMCLUSTERS=17/SPATIALINIT=True/SAMPLEFORASSIGNMENT=True/SPATIALNORM=0.05/SPATIALPRIORMULT=1.5/SPOTSIZE=50/AGG=sum\n",
      "BayXenSmooth with run 50um, 1 neighbors, sample=True, spatial_norm=0.05, concentraion_amp=1.5, n_pcs=5 and agg=sum done!\n",
      "Starting Moran's I Calculation.\n"
     ]
    },
    {
     "name": "stderr",
     "output_type": "stream",
     "text": [
      "/home/roko/.cache/pypoetry/virtualenvs/xenium-1YUjn3qu-py3.10/lib/python3.10/site-packages/anndata/utils.py:292: UserWarning: X converted to numpy array with dtype float64\n",
      "  warnings.warn(f\"{name} converted to numpy array with dtype {arr.dtype}\")\n"
     ]
    },
    {
     "name": "stdout",
     "output_type": "stream",
     "text": [
      "Neighbors calculated.\n",
      "(23444, 23444) (23444, 23444)\n",
      "Connectivities formed.\n",
      "100 BANK1 0.8429608834998169\n",
      "100 CEACAM6 0.3663133465939899\n",
      "100 FASN 1.0219816068781293\n",
      "100 FGL2 0.46577708901787446\n",
      "100 IL7R 0.7808713477702073\n",
      "100 KRT6B 0.587546522712525\n",
      "100 POSTN 0.46793606686865796\n",
      "100 TCIM 0.3978192794571135\n",
      "results/hBreast/BayXenSmooth/clusters/PCA/5/KMEANSINIT=True/NEIGHBORSIZE=1/NUMCLUSTERS=17/SPATIALINIT=True/SAMPLEFORASSIGNMENT=True/SPATIALNORM=0.05/SPATIALPRIORMULT=2.0/SPOTSIZE=50/AGG=sum\n",
      "BayXenSmooth with run 50um, 1 neighbors, sample=True, spatial_norm=0.05, concentraion_amp=2.0, n_pcs=5 and agg=sum done!\n",
      "Starting Moran's I Calculation.\n"
     ]
    },
    {
     "name": "stderr",
     "output_type": "stream",
     "text": [
      "/home/roko/.cache/pypoetry/virtualenvs/xenium-1YUjn3qu-py3.10/lib/python3.10/site-packages/anndata/utils.py:292: UserWarning: X converted to numpy array with dtype float64\n",
      "  warnings.warn(f\"{name} converted to numpy array with dtype {arr.dtype}\")\n"
     ]
    },
    {
     "name": "stdout",
     "output_type": "stream",
     "text": [
      "Neighbors calculated.\n",
      "(23444, 23444) (23444, 23444)\n",
      "Connectivities formed.\n",
      "100 BANK1 0.8682806051400842\n",
      "100 CEACAM6 0.3711417464950431\n",
      "100 FASN 1.0436536789944908\n",
      "100 FGL2 0.4803409005399183\n",
      "100 IL7R 0.8026540455173864\n",
      "100 KRT6B 0.6200428004393345\n",
      "100 POSTN 0.46285841177803805\n",
      "100 TCIM 0.41268574649692485\n",
      "results/hBreast/BayXenSmooth/clusters/PCA/5/KMEANSINIT=True/NEIGHBORSIZE=1/NUMCLUSTERS=17/SPATIALINIT=True/SAMPLEFORASSIGNMENT=True/SPATIALNORM=0.05/SPATIALPRIORMULT=2.5/SPOTSIZE=50/AGG=sum\n",
      "BayXenSmooth with run 50um, 1 neighbors, sample=True, spatial_norm=0.05, concentraion_amp=2.5, n_pcs=5 and agg=sum done!\n",
      "Starting Moran's I Calculation.\n"
     ]
    },
    {
     "name": "stderr",
     "output_type": "stream",
     "text": [
      "/home/roko/.cache/pypoetry/virtualenvs/xenium-1YUjn3qu-py3.10/lib/python3.10/site-packages/anndata/utils.py:292: UserWarning: X converted to numpy array with dtype float64\n",
      "  warnings.warn(f\"{name} converted to numpy array with dtype {arr.dtype}\")\n"
     ]
    },
    {
     "name": "stdout",
     "output_type": "stream",
     "text": [
      "Neighbors calculated.\n",
      "(23444, 23444) (23444, 23444)\n",
      "Connectivities formed.\n",
      "100 BANK1 0.8731967670554959\n",
      "100 CEACAM6 0.3485770109667555\n",
      "100 FASN 0.8601626490802889\n",
      "100 FGL2 0.4373895855994238\n",
      "100 IL7R 0.7587160751633196\n",
      "100 KRT6B 0.5085190437285048\n",
      "100 POSTN 0.49715526552662365\n",
      "100 TCIM 0.6009481801996602\n",
      "results/hBreast/BayXenSmooth/clusters/PCA/25/KMEANSINIT=True/NEIGHBORSIZE=1/NUMCLUSTERS=17/SPATIALINIT=True/SAMPLEFORASSIGNMENT=True/SPATIALNORM=0.05/SPATIALPRIORMULT=1.0/SPOTSIZE=50/AGG=sum\n",
      "BayXenSmooth with run 50um, 1 neighbors, sample=True, spatial_norm=0.05, concentraion_amp=1.0, n_pcs=25 and agg=sum done!\n",
      "Starting Moran's I Calculation.\n"
     ]
    },
    {
     "name": "stderr",
     "output_type": "stream",
     "text": [
      "/home/roko/.cache/pypoetry/virtualenvs/xenium-1YUjn3qu-py3.10/lib/python3.10/site-packages/anndata/utils.py:292: UserWarning: X converted to numpy array with dtype float64\n",
      "  warnings.warn(f\"{name} converted to numpy array with dtype {arr.dtype}\")\n"
     ]
    },
    {
     "name": "stdout",
     "output_type": "stream",
     "text": [
      "Neighbors calculated.\n",
      "(23444, 23444) (23444, 23444)\n",
      "Connectivities formed.\n",
      "100 BANK1 0.9531406061449152\n",
      "100 CEACAM6 0.37459838880138824\n",
      "100 FASN 1.0500489802122914\n",
      "100 FGL2 0.47700642393181203\n",
      "100 IL7R 0.8254607939031932\n",
      "100 KRT6B 0.6229350142637559\n",
      "100 POSTN 0.4635203226831034\n",
      "100 TCIM 0.42342799336777137\n",
      "results/hBreast/BayXenSmooth/clusters/PCA/5/KMEANSINIT=True/NEIGHBORSIZE=1/NUMCLUSTERS=17/SPATIALINIT=True/SAMPLEFORASSIGNMENT=True/SPATIALNORM=0.1/SPATIALPRIORMULT=0.05/SPOTSIZE=50/AGG=sum\n",
      "BayXenSmooth with run 50um, 1 neighbors, sample=True, spatial_norm=0.1, concentraion_amp=0.05, n_pcs=5 and agg=sum done!\n",
      "Starting Moran's I Calculation.\n"
     ]
    },
    {
     "name": "stderr",
     "output_type": "stream",
     "text": [
      "/home/roko/.cache/pypoetry/virtualenvs/xenium-1YUjn3qu-py3.10/lib/python3.10/site-packages/anndata/utils.py:292: UserWarning: X converted to numpy array with dtype float64\n",
      "  warnings.warn(f\"{name} converted to numpy array with dtype {arr.dtype}\")\n"
     ]
    },
    {
     "name": "stdout",
     "output_type": "stream",
     "text": [
      "Neighbors calculated.\n",
      "(23444, 23444) (23444, 23444)\n",
      "Connectivities formed.\n",
      "100 BANK1 0.9072500728731554\n",
      "100 CEACAM6 0.3717530060227462\n",
      "100 FASN 1.031480437343003\n",
      "100 FGL2 0.47783966186775545\n",
      "100 IL7R 0.7885647883763515\n",
      "100 KRT6B 0.597339074578515\n",
      "100 POSTN 0.46644068886349177\n",
      "100 TCIM 0.40487597675087\n",
      "results/hBreast/BayXenSmooth/clusters/PCA/5/KMEANSINIT=True/NEIGHBORSIZE=1/NUMCLUSTERS=17/SPATIALINIT=True/SAMPLEFORASSIGNMENT=True/SPATIALNORM=0.1/SPATIALPRIORMULT=0.1/SPOTSIZE=50/AGG=sum\n",
      "BayXenSmooth with run 50um, 1 neighbors, sample=True, spatial_norm=0.1, concentraion_amp=0.1, n_pcs=5 and agg=sum done!\n",
      "Starting Moran's I Calculation.\n"
     ]
    },
    {
     "name": "stderr",
     "output_type": "stream",
     "text": [
      "/home/roko/.cache/pypoetry/virtualenvs/xenium-1YUjn3qu-py3.10/lib/python3.10/site-packages/anndata/utils.py:292: UserWarning: X converted to numpy array with dtype float64\n",
      "  warnings.warn(f\"{name} converted to numpy array with dtype {arr.dtype}\")\n"
     ]
    },
    {
     "name": "stdout",
     "output_type": "stream",
     "text": [
      "Neighbors calculated.\n",
      "(23444, 23444) (23444, 23444)\n",
      "Connectivities formed.\n",
      "100 BANK1 0.8728879377122845\n",
      "100 CEACAM6 0.37512187996270663\n",
      "100 FASN 1.0712787276135327\n",
      "100 FGL2 0.4580340528091506\n",
      "100 IL7R 0.7657182155103083\n",
      "100 KRT6B 0.6181940595734897\n",
      "100 POSTN 0.44353752566784943\n",
      "100 TCIM 0.4384664119924821\n",
      "results/hBreast/BayXenSmooth/clusters/PCA/5/KMEANSINIT=True/NEIGHBORSIZE=1/NUMCLUSTERS=17/SPATIALINIT=True/SAMPLEFORASSIGNMENT=True/SPATIALNORM=0.1/SPATIALPRIORMULT=0.25/SPOTSIZE=50/AGG=sum\n",
      "BayXenSmooth with run 50um, 1 neighbors, sample=True, spatial_norm=0.1, concentraion_amp=0.25, n_pcs=5 and agg=sum done!\n",
      "Starting Moran's I Calculation.\n"
     ]
    },
    {
     "name": "stderr",
     "output_type": "stream",
     "text": [
      "/home/roko/.cache/pypoetry/virtualenvs/xenium-1YUjn3qu-py3.10/lib/python3.10/site-packages/anndata/utils.py:292: UserWarning: X converted to numpy array with dtype float64\n",
      "  warnings.warn(f\"{name} converted to numpy array with dtype {arr.dtype}\")\n"
     ]
    },
    {
     "name": "stdout",
     "output_type": "stream",
     "text": [
      "Neighbors calculated.\n",
      "(23444, 23444) (23444, 23444)\n",
      "Connectivities formed.\n",
      "100 BANK1 0.8682944940597473\n",
      "100 CEACAM6 0.37438572249171526\n",
      "100 FASN 1.0405504627943347\n",
      "100 FGL2 0.46190252312863617\n",
      "100 IL7R 0.7572169406662346\n",
      "100 KRT6B 0.6199197770610395\n",
      "100 POSTN 0.46615877025580543\n",
      "100 TCIM 0.4430075710685773\n",
      "results/hBreast/BayXenSmooth/clusters/PCA/5/KMEANSINIT=True/NEIGHBORSIZE=1/NUMCLUSTERS=17/SPATIALINIT=True/SAMPLEFORASSIGNMENT=True/SPATIALNORM=0.1/SPATIALPRIORMULT=0.5/SPOTSIZE=50/AGG=sum\n",
      "BayXenSmooth with run 50um, 1 neighbors, sample=True, spatial_norm=0.1, concentraion_amp=0.5, n_pcs=5 and agg=sum done!\n",
      "Starting Moran's I Calculation.\n"
     ]
    },
    {
     "name": "stderr",
     "output_type": "stream",
     "text": [
      "/home/roko/.cache/pypoetry/virtualenvs/xenium-1YUjn3qu-py3.10/lib/python3.10/site-packages/anndata/utils.py:292: UserWarning: X converted to numpy array with dtype float64\n",
      "  warnings.warn(f\"{name} converted to numpy array with dtype {arr.dtype}\")\n"
     ]
    },
    {
     "name": "stdout",
     "output_type": "stream",
     "text": [
      "Neighbors calculated.\n",
      "(23444, 23444) (23444, 23444)\n",
      "Connectivities formed.\n",
      "100 BANK1 0.9289774189739445\n",
      "100 CEACAM6 0.3732433572782914\n",
      "100 FASN 1.039886409982794\n",
      "100 FGL2 0.472705296979055\n",
      "100 IL7R 0.7943954850624965\n",
      "100 KRT6B 0.6249497372887922\n",
      "100 POSTN 0.47305411692423416\n",
      "100 TCIM 0.4292912020561543\n",
      "results/hBreast/BayXenSmooth/clusters/PCA/5/KMEANSINIT=True/NEIGHBORSIZE=1/NUMCLUSTERS=17/SPATIALINIT=True/SAMPLEFORASSIGNMENT=True/SPATIALNORM=0.1/SPATIALPRIORMULT=0.75/SPOTSIZE=50/AGG=sum\n",
      "BayXenSmooth with run 50um, 1 neighbors, sample=True, spatial_norm=0.1, concentraion_amp=0.75, n_pcs=5 and agg=sum done!\n",
      "Starting Moran's I Calculation.\n"
     ]
    },
    {
     "name": "stderr",
     "output_type": "stream",
     "text": [
      "/home/roko/.cache/pypoetry/virtualenvs/xenium-1YUjn3qu-py3.10/lib/python3.10/site-packages/anndata/utils.py:292: UserWarning: X converted to numpy array with dtype float64\n",
      "  warnings.warn(f\"{name} converted to numpy array with dtype {arr.dtype}\")\n"
     ]
    },
    {
     "name": "stdout",
     "output_type": "stream",
     "text": [
      "Neighbors calculated.\n",
      "(23444, 23444) (23444, 23444)\n",
      "Connectivities formed.\n",
      "100 BANK1 0.8883224770512473\n",
      "100 CEACAM6 0.37292324068194443\n",
      "100 FASN 1.056466871820736\n",
      "100 FGL2 0.4547943702285565\n",
      "100 IL7R 0.7568336543711396\n",
      "100 KRT6B 0.6114882516204354\n",
      "100 POSTN 0.4350435626841277\n",
      "100 TCIM 0.4151671421336312\n",
      "results/hBreast/BayXenSmooth/clusters/PCA/5/KMEANSINIT=True/NEIGHBORSIZE=1/NUMCLUSTERS=17/SPATIALINIT=True/SAMPLEFORASSIGNMENT=True/SPATIALNORM=0.1/SPATIALPRIORMULT=1.0/SPOTSIZE=50/AGG=sum\n",
      "BayXenSmooth with run 50um, 1 neighbors, sample=True, spatial_norm=0.1, concentraion_amp=1.0, n_pcs=5 and agg=sum done!\n",
      "Starting Moran's I Calculation.\n"
     ]
    },
    {
     "name": "stderr",
     "output_type": "stream",
     "text": [
      "/home/roko/.cache/pypoetry/virtualenvs/xenium-1YUjn3qu-py3.10/lib/python3.10/site-packages/anndata/utils.py:292: UserWarning: X converted to numpy array with dtype float64\n",
      "  warnings.warn(f\"{name} converted to numpy array with dtype {arr.dtype}\")\n"
     ]
    },
    {
     "name": "stdout",
     "output_type": "stream",
     "text": [
      "Neighbors calculated.\n",
      "(23444, 23444) (23444, 23444)\n",
      "Connectivities formed.\n",
      "100 BANK1 0.930430996276356\n",
      "100 CEACAM6 0.3711339705809003\n",
      "100 FASN 1.0288685787417786\n",
      "100 FGL2 0.47896247857592344\n",
      "100 IL7R 0.8044421718783553\n",
      "100 KRT6B 0.6044068170053224\n",
      "100 POSTN 0.47850589016017936\n",
      "100 TCIM 0.4155781594114511\n",
      "results/hBreast/BayXenSmooth/clusters/PCA/5/KMEANSINIT=True/NEIGHBORSIZE=1/NUMCLUSTERS=17/SPATIALINIT=True/SAMPLEFORASSIGNMENT=True/SPATIALNORM=0.1/SPATIALPRIORMULT=1.5/SPOTSIZE=50/AGG=sum\n",
      "BayXenSmooth with run 50um, 1 neighbors, sample=True, spatial_norm=0.1, concentraion_amp=1.5, n_pcs=5 and agg=sum done!\n",
      "Starting Moran's I Calculation.\n"
     ]
    },
    {
     "name": "stderr",
     "output_type": "stream",
     "text": [
      "/home/roko/.cache/pypoetry/virtualenvs/xenium-1YUjn3qu-py3.10/lib/python3.10/site-packages/anndata/utils.py:292: UserWarning: X converted to numpy array with dtype float64\n",
      "  warnings.warn(f\"{name} converted to numpy array with dtype {arr.dtype}\")\n"
     ]
    },
    {
     "name": "stdout",
     "output_type": "stream",
     "text": [
      "Neighbors calculated.\n",
      "(23444, 23444) (23444, 23444)\n",
      "Connectivities formed.\n",
      "100 BANK1 0.9054269981912719\n",
      "100 CEACAM6 0.3669859606641132\n",
      "100 FASN 1.025250069104612\n",
      "100 FGL2 0.46423090130284317\n",
      "100 IL7R 0.7752811502247209\n",
      "100 KRT6B 0.5916028665284034\n",
      "100 POSTN 0.4721056090468173\n",
      "100 TCIM 0.41074675159210305\n",
      "results/hBreast/BayXenSmooth/clusters/PCA/5/KMEANSINIT=True/NEIGHBORSIZE=1/NUMCLUSTERS=17/SPATIALINIT=True/SAMPLEFORASSIGNMENT=True/SPATIALNORM=0.1/SPATIALPRIORMULT=2.0/SPOTSIZE=50/AGG=sum\n",
      "BayXenSmooth with run 50um, 1 neighbors, sample=True, spatial_norm=0.1, concentraion_amp=2.0, n_pcs=5 and agg=sum done!\n",
      "Starting Moran's I Calculation.\n"
     ]
    },
    {
     "name": "stderr",
     "output_type": "stream",
     "text": [
      "/home/roko/.cache/pypoetry/virtualenvs/xenium-1YUjn3qu-py3.10/lib/python3.10/site-packages/anndata/utils.py:292: UserWarning: X converted to numpy array with dtype float64\n",
      "  warnings.warn(f\"{name} converted to numpy array with dtype {arr.dtype}\")\n"
     ]
    },
    {
     "name": "stdout",
     "output_type": "stream",
     "text": [
      "Neighbors calculated.\n",
      "(23444, 23444) (23444, 23444)\n",
      "Connectivities formed.\n",
      "100 BANK1 0.9179134879870091\n",
      "100 CEACAM6 0.37416191510687\n",
      "100 FASN 1.0460052386587178\n",
      "100 FGL2 0.47786205842594415\n",
      "100 IL7R 0.8172765214917092\n",
      "100 KRT6B 0.6148548217140886\n",
      "100 POSTN 0.4766161635765868\n",
      "100 TCIM 0.415878749079743\n",
      "results/hBreast/BayXenSmooth/clusters/PCA/5/KMEANSINIT=True/NEIGHBORSIZE=1/NUMCLUSTERS=17/SPATIALINIT=True/SAMPLEFORASSIGNMENT=True/SPATIALNORM=0.1/SPATIALPRIORMULT=2.5/SPOTSIZE=50/AGG=sum\n",
      "BayXenSmooth with run 50um, 1 neighbors, sample=True, spatial_norm=0.1, concentraion_amp=2.5, n_pcs=5 and agg=sum done!\n",
      "Starting Moran's I Calculation.\n"
     ]
    },
    {
     "name": "stderr",
     "output_type": "stream",
     "text": [
      "/home/roko/.cache/pypoetry/virtualenvs/xenium-1YUjn3qu-py3.10/lib/python3.10/site-packages/anndata/utils.py:292: UserWarning: X converted to numpy array with dtype float64\n",
      "  warnings.warn(f\"{name} converted to numpy array with dtype {arr.dtype}\")\n"
     ]
    },
    {
     "name": "stdout",
     "output_type": "stream",
     "text": [
      "Neighbors calculated.\n",
      "(23444, 23444) (23444, 23444)\n",
      "Connectivities formed.\n",
      "100 BANK1 0.9049627051392478\n",
      "100 CEACAM6 0.3729553333158066\n",
      "100 FASN 0.9049543051186846\n",
      "100 FGL2 0.4218006490470221\n",
      "100 IL7R 0.7106844547071106\n",
      "100 KRT6B 0.3825129195941733\n",
      "100 POSTN 0.507849336960044\n",
      "100 TCIM 0.5474863503084769\n",
      "results/hBreast/BayXenSmooth/clusters/PCA/25/KMEANSINIT=True/NEIGHBORSIZE=1/NUMCLUSTERS=17/SPATIALINIT=True/SAMPLEFORASSIGNMENT=True/SPATIALNORM=0.1/SPATIALPRIORMULT=1.0/SPOTSIZE=50/AGG=sum\n",
      "BayXenSmooth with run 50um, 1 neighbors, sample=True, spatial_norm=0.1, concentraion_amp=1.0, n_pcs=25 and agg=sum done!\n",
      "Starting Moran's I Calculation.\n"
     ]
    },
    {
     "name": "stderr",
     "output_type": "stream",
     "text": [
      "/home/roko/.cache/pypoetry/virtualenvs/xenium-1YUjn3qu-py3.10/lib/python3.10/site-packages/anndata/utils.py:292: UserWarning: X converted to numpy array with dtype float64\n",
      "  warnings.warn(f\"{name} converted to numpy array with dtype {arr.dtype}\")\n"
     ]
    },
    {
     "name": "stdout",
     "output_type": "stream",
     "text": [
      "Neighbors calculated.\n",
      "(23444, 23444) (23444, 23444)\n",
      "Connectivities formed.\n",
      "100 BANK1 0.9986197132294972\n",
      "100 CEACAM6 0.3819425562941488\n",
      "100 FASN 1.097033499829174\n",
      "100 FGL2 0.46048059113109086\n",
      "100 IL7R 0.8169250165569232\n",
      "100 KRT6B 0.6108307896884976\n",
      "100 POSTN 0.4256041428401499\n",
      "100 TCIM 0.42270404063544215\n",
      "results/hBreast/BayXenSmooth/clusters/PCA/5/KMEANSINIT=True/NEIGHBORSIZE=1/NUMCLUSTERS=17/SPATIALINIT=False/SAMPLEFORASSIGNMENT=True/SPATIALNORM=0.0/SPATIALPRIORMULT=0.05/SPOTSIZE=50/AGG=mean\n",
      "BayXenSmooth with run 50um, 1 neighbors, sample=True, spatial_norm=0.0, concentraion_amp=0.05, n_pcs=5 and agg=mean done!\n",
      "Starting Moran's I Calculation.\n"
     ]
    },
    {
     "name": "stderr",
     "output_type": "stream",
     "text": [
      "/home/roko/.cache/pypoetry/virtualenvs/xenium-1YUjn3qu-py3.10/lib/python3.10/site-packages/anndata/utils.py:292: UserWarning: X converted to numpy array with dtype float64\n",
      "  warnings.warn(f\"{name} converted to numpy array with dtype {arr.dtype}\")\n"
     ]
    },
    {
     "name": "stdout",
     "output_type": "stream",
     "text": [
      "Neighbors calculated.\n",
      "(23444, 23444) (23444, 23444)\n",
      "Connectivities formed.\n",
      "100 BANK1 0.9838433596917956\n",
      "100 CEACAM6 0.37651187982945844\n",
      "100 FASN 1.059512765583304\n",
      "100 FGL2 0.4817964826578935\n",
      "100 IL7R 0.8429829771625433\n",
      "100 KRT6B 0.6230241330859128\n",
      "100 POSTN 0.46179973353505194\n",
      "100 TCIM 0.39891699680821235\n",
      "results/hBreast/BayXenSmooth/clusters/PCA/5/KMEANSINIT=True/NEIGHBORSIZE=1/NUMCLUSTERS=17/SPATIALINIT=False/SAMPLEFORASSIGNMENT=True/SPATIALNORM=0.0/SPATIALPRIORMULT=0.1/SPOTSIZE=50/AGG=mean\n",
      "BayXenSmooth with run 50um, 1 neighbors, sample=True, spatial_norm=0.0, concentraion_amp=0.1, n_pcs=5 and agg=mean done!\n",
      "Starting Moran's I Calculation.\n"
     ]
    },
    {
     "name": "stderr",
     "output_type": "stream",
     "text": [
      "/home/roko/.cache/pypoetry/virtualenvs/xenium-1YUjn3qu-py3.10/lib/python3.10/site-packages/anndata/utils.py:292: UserWarning: X converted to numpy array with dtype float64\n",
      "  warnings.warn(f\"{name} converted to numpy array with dtype {arr.dtype}\")\n"
     ]
    },
    {
     "name": "stdout",
     "output_type": "stream",
     "text": [
      "Neighbors calculated.\n",
      "(23444, 23444) (23444, 23444)\n",
      "Connectivities formed.\n",
      "100 BANK1 0.9399572474005183\n",
      "100 CEACAM6 0.3680126081531818\n",
      "100 FASN 1.003802471899859\n",
      "100 FGL2 0.4790682333637829\n",
      "100 IL7R 0.8204834254719078\n",
      "100 KRT6B 0.6170301567136428\n",
      "100 POSTN 0.4732445276069203\n",
      "100 TCIM 0.33957598593476856\n",
      "results/hBreast/BayXenSmooth/clusters/PCA/5/KMEANSINIT=True/NEIGHBORSIZE=1/NUMCLUSTERS=17/SPATIALINIT=False/SAMPLEFORASSIGNMENT=True/SPATIALNORM=0.0/SPATIALPRIORMULT=0.25/SPOTSIZE=50/AGG=mean\n",
      "BayXenSmooth with run 50um, 1 neighbors, sample=True, spatial_norm=0.0, concentraion_amp=0.25, n_pcs=5 and agg=mean done!\n",
      "Starting Moran's I Calculation.\n"
     ]
    },
    {
     "name": "stderr",
     "output_type": "stream",
     "text": [
      "/home/roko/.cache/pypoetry/virtualenvs/xenium-1YUjn3qu-py3.10/lib/python3.10/site-packages/anndata/utils.py:292: UserWarning: X converted to numpy array with dtype float64\n",
      "  warnings.warn(f\"{name} converted to numpy array with dtype {arr.dtype}\")\n"
     ]
    },
    {
     "name": "stdout",
     "output_type": "stream",
     "text": [
      "Neighbors calculated.\n",
      "(23444, 23444) (23444, 23444)\n",
      "Connectivities formed.\n",
      "100 BANK1 0.966858214938694\n",
      "100 CEACAM6 0.3615859295876864\n",
      "100 FASN 1.0066732483227452\n",
      "100 FGL2 0.4943465497951084\n",
      "100 IL7R 0.8220280633499898\n",
      "100 KRT6B 0.575602118578145\n",
      "100 POSTN 0.4919297060666955\n",
      "100 TCIM 0.41795875079926054\n",
      "results/hBreast/BayXenSmooth/clusters/PCA/5/KMEANSINIT=True/NEIGHBORSIZE=1/NUMCLUSTERS=17/SPATIALINIT=False/SAMPLEFORASSIGNMENT=True/SPATIALNORM=0.0/SPATIALPRIORMULT=0.5/SPOTSIZE=50/AGG=mean\n",
      "BayXenSmooth with run 50um, 1 neighbors, sample=True, spatial_norm=0.0, concentraion_amp=0.5, n_pcs=5 and agg=mean done!\n",
      "Starting Moran's I Calculation.\n"
     ]
    },
    {
     "name": "stderr",
     "output_type": "stream",
     "text": [
      "/home/roko/.cache/pypoetry/virtualenvs/xenium-1YUjn3qu-py3.10/lib/python3.10/site-packages/anndata/utils.py:292: UserWarning: X converted to numpy array with dtype float64\n",
      "  warnings.warn(f\"{name} converted to numpy array with dtype {arr.dtype}\")\n"
     ]
    },
    {
     "name": "stdout",
     "output_type": "stream",
     "text": [
      "Neighbors calculated.\n",
      "(23444, 23444) (23444, 23444)\n",
      "Connectivities formed.\n",
      "100 BANK1 0.9859554984062211\n",
      "100 CEACAM6 0.3836207930164718\n",
      "100 FASN 1.0355963948208478\n",
      "100 FGL2 0.4850833307073565\n",
      "100 IL7R 0.8299026500147191\n",
      "100 KRT6B 0.6146558912671158\n",
      "100 POSTN 0.49416896242864655\n",
      "100 TCIM 0.35864001675059604\n",
      "results/hBreast/BayXenSmooth/clusters/PCA/5/KMEANSINIT=True/NEIGHBORSIZE=1/NUMCLUSTERS=17/SPATIALINIT=False/SAMPLEFORASSIGNMENT=True/SPATIALNORM=0.0/SPATIALPRIORMULT=0.75/SPOTSIZE=50/AGG=mean\n",
      "BayXenSmooth with run 50um, 1 neighbors, sample=True, spatial_norm=0.0, concentraion_amp=0.75, n_pcs=5 and agg=mean done!\n",
      "Starting Moran's I Calculation.\n"
     ]
    },
    {
     "name": "stderr",
     "output_type": "stream",
     "text": [
      "/home/roko/.cache/pypoetry/virtualenvs/xenium-1YUjn3qu-py3.10/lib/python3.10/site-packages/anndata/utils.py:292: UserWarning: X converted to numpy array with dtype float64\n",
      "  warnings.warn(f\"{name} converted to numpy array with dtype {arr.dtype}\")\n"
     ]
    },
    {
     "name": "stdout",
     "output_type": "stream",
     "text": [
      "Neighbors calculated.\n",
      "(23444, 23444) (23444, 23444)\n",
      "Connectivities formed.\n",
      "100 BANK1 0.947815250435062\n",
      "100 CEACAM6 0.37435426541718314\n",
      "100 FASN 1.0538381491597937\n",
      "100 FGL2 0.48249310505919196\n",
      "100 IL7R 0.8041036105169607\n",
      "100 KRT6B 0.6341530349485223\n",
      "100 POSTN 0.47134052199231846\n",
      "100 TCIM 0.39910667815432166\n",
      "results/hBreast/BayXenSmooth/clusters/PCA/5/KMEANSINIT=True/NEIGHBORSIZE=1/NUMCLUSTERS=17/SPATIALINIT=False/SAMPLEFORASSIGNMENT=True/SPATIALNORM=0.0/SPATIALPRIORMULT=1.0/SPOTSIZE=50/AGG=mean\n",
      "BayXenSmooth with run 50um, 1 neighbors, sample=True, spatial_norm=0.0, concentraion_amp=1.0, n_pcs=5 and agg=mean done!\n",
      "Starting Moran's I Calculation.\n"
     ]
    },
    {
     "name": "stderr",
     "output_type": "stream",
     "text": [
      "/home/roko/.cache/pypoetry/virtualenvs/xenium-1YUjn3qu-py3.10/lib/python3.10/site-packages/anndata/utils.py:292: UserWarning: X converted to numpy array with dtype float64\n",
      "  warnings.warn(f\"{name} converted to numpy array with dtype {arr.dtype}\")\n"
     ]
    },
    {
     "name": "stdout",
     "output_type": "stream",
     "text": [
      "Neighbors calculated.\n",
      "(23444, 23444) (23444, 23444)\n",
      "Connectivities formed.\n",
      "100 BANK1 0.8904643115849363\n",
      "100 CEACAM6 0.35237635128967143\n",
      "100 FASN 0.9920044488934626\n",
      "100 FGL2 0.4633168541287805\n",
      "100 IL7R 0.7810479082157578\n",
      "100 KRT6B 0.5866102940516118\n",
      "100 POSTN 0.45488459503199297\n",
      "100 TCIM 0.33658667498138295\n",
      "results/hBreast/BayXenSmooth/clusters/PCA/5/KMEANSINIT=True/NEIGHBORSIZE=1/NUMCLUSTERS=17/SPATIALINIT=False/SAMPLEFORASSIGNMENT=True/SPATIALNORM=0.0/SPATIALPRIORMULT=1.5/SPOTSIZE=50/AGG=mean\n",
      "BayXenSmooth with run 50um, 1 neighbors, sample=True, spatial_norm=0.0, concentraion_amp=1.5, n_pcs=5 and agg=mean done!\n",
      "Starting Moran's I Calculation.\n"
     ]
    },
    {
     "name": "stderr",
     "output_type": "stream",
     "text": [
      "/home/roko/.cache/pypoetry/virtualenvs/xenium-1YUjn3qu-py3.10/lib/python3.10/site-packages/anndata/utils.py:292: UserWarning: X converted to numpy array with dtype float64\n",
      "  warnings.warn(f\"{name} converted to numpy array with dtype {arr.dtype}\")\n"
     ]
    },
    {
     "name": "stdout",
     "output_type": "stream",
     "text": [
      "Neighbors calculated.\n",
      "(23444, 23444) (23444, 23444)\n",
      "Connectivities formed.\n",
      "100 BANK1 0.9059004304370254\n",
      "100 CEACAM6 0.3689274650171756\n",
      "100 FASN 1.0322611537449025\n",
      "100 FGL2 0.46145282953351774\n",
      "100 IL7R 0.7719702504100727\n",
      "100 KRT6B 0.6113151364512781\n",
      "100 POSTN 0.46824429507418425\n",
      "100 TCIM 0.3773496854190781\n",
      "results/hBreast/BayXenSmooth/clusters/PCA/5/KMEANSINIT=True/NEIGHBORSIZE=1/NUMCLUSTERS=17/SPATIALINIT=False/SAMPLEFORASSIGNMENT=True/SPATIALNORM=0.0/SPATIALPRIORMULT=2.0/SPOTSIZE=50/AGG=mean\n",
      "BayXenSmooth with run 50um, 1 neighbors, sample=True, spatial_norm=0.0, concentraion_amp=2.0, n_pcs=5 and agg=mean done!\n",
      "Starting Moran's I Calculation.\n"
     ]
    },
    {
     "name": "stderr",
     "output_type": "stream",
     "text": [
      "/home/roko/.cache/pypoetry/virtualenvs/xenium-1YUjn3qu-py3.10/lib/python3.10/site-packages/anndata/utils.py:292: UserWarning: X converted to numpy array with dtype float64\n",
      "  warnings.warn(f\"{name} converted to numpy array with dtype {arr.dtype}\")\n"
     ]
    },
    {
     "name": "stdout",
     "output_type": "stream",
     "text": [
      "Neighbors calculated.\n",
      "(23444, 23444) (23444, 23444)\n",
      "Connectivities formed.\n",
      "100 BANK1 0.9229482847988237\n",
      "100 CEACAM6 0.36772919203456683\n",
      "100 FASN 1.0319912009586627\n",
      "100 FGL2 0.4823174829833439\n",
      "100 IL7R 0.8274502238814271\n",
      "100 KRT6B 0.6114678222057867\n",
      "100 POSTN 0.4660339967462674\n",
      "100 TCIM 0.34999948236616707\n",
      "results/hBreast/BayXenSmooth/clusters/PCA/5/KMEANSINIT=True/NEIGHBORSIZE=1/NUMCLUSTERS=17/SPATIALINIT=False/SAMPLEFORASSIGNMENT=True/SPATIALNORM=0.0/SPATIALPRIORMULT=2.5/SPOTSIZE=50/AGG=mean\n",
      "BayXenSmooth with run 50um, 1 neighbors, sample=True, spatial_norm=0.0, concentraion_amp=2.5, n_pcs=5 and agg=mean done!\n",
      "Starting Moran's I Calculation.\n"
     ]
    },
    {
     "name": "stderr",
     "output_type": "stream",
     "text": [
      "/home/roko/.cache/pypoetry/virtualenvs/xenium-1YUjn3qu-py3.10/lib/python3.10/site-packages/anndata/utils.py:292: UserWarning: X converted to numpy array with dtype float64\n",
      "  warnings.warn(f\"{name} converted to numpy array with dtype {arr.dtype}\")\n"
     ]
    },
    {
     "name": "stdout",
     "output_type": "stream",
     "text": [
      "Neighbors calculated.\n",
      "(23444, 23444) (23444, 23444)\n",
      "Connectivities formed.\n",
      "100 BANK1 0.8606301589183981\n",
      "100 CEACAM6 0.37282788278113355\n",
      "100 FASN 0.8877580304097856\n",
      "100 FGL2 0.4167522504743561\n",
      "100 IL7R 0.6956100581513104\n",
      "100 KRT6B 0.5559830558966686\n",
      "100 POSTN 0.4814816701746432\n",
      "100 TCIM 0.5558187903308119\n",
      "results/hBreast/BayXenSmooth/clusters/PCA/25/KMEANSINIT=True/NEIGHBORSIZE=1/NUMCLUSTERS=17/SPATIALINIT=False/SAMPLEFORASSIGNMENT=True/SPATIALNORM=0.0/SPATIALPRIORMULT=0.05/SPOTSIZE=50/AGG=mean\n",
      "BayXenSmooth with run 50um, 1 neighbors, sample=True, spatial_norm=0.0, concentraion_amp=0.05, n_pcs=25 and agg=mean done!\n",
      "Starting Moran's I Calculation.\n"
     ]
    },
    {
     "name": "stderr",
     "output_type": "stream",
     "text": [
      "/home/roko/.cache/pypoetry/virtualenvs/xenium-1YUjn3qu-py3.10/lib/python3.10/site-packages/anndata/utils.py:292: UserWarning: X converted to numpy array with dtype float64\n",
      "  warnings.warn(f\"{name} converted to numpy array with dtype {arr.dtype}\")\n"
     ]
    },
    {
     "name": "stdout",
     "output_type": "stream",
     "text": [
      "Neighbors calculated.\n",
      "(23444, 23444) (23444, 23444)\n",
      "Connectivities formed.\n",
      "100 BANK1 0.82275105363662\n",
      "100 CEACAM6 0.3682216652223662\n",
      "100 FASN 0.932188069415503\n",
      "100 FGL2 0.414963534758557\n",
      "100 IL7R 0.6901968279627904\n",
      "100 KRT6B 0.5133218809168012\n",
      "100 POSTN 0.4708835329265217\n",
      "100 TCIM 0.5701496633746399\n",
      "results/hBreast/BayXenSmooth/clusters/PCA/25/KMEANSINIT=True/NEIGHBORSIZE=1/NUMCLUSTERS=17/SPATIALINIT=False/SAMPLEFORASSIGNMENT=True/SPATIALNORM=0.0/SPATIALPRIORMULT=0.1/SPOTSIZE=50/AGG=mean\n",
      "BayXenSmooth with run 50um, 1 neighbors, sample=True, spatial_norm=0.0, concentraion_amp=0.1, n_pcs=25 and agg=mean done!\n",
      "Starting Moran's I Calculation.\n"
     ]
    },
    {
     "name": "stderr",
     "output_type": "stream",
     "text": [
      "/home/roko/.cache/pypoetry/virtualenvs/xenium-1YUjn3qu-py3.10/lib/python3.10/site-packages/anndata/utils.py:292: UserWarning: X converted to numpy array with dtype float64\n",
      "  warnings.warn(f\"{name} converted to numpy array with dtype {arr.dtype}\")\n"
     ]
    },
    {
     "name": "stdout",
     "output_type": "stream",
     "text": [
      "Neighbors calculated.\n",
      "(23444, 23444) (23444, 23444)\n",
      "Connectivities formed.\n",
      "100 BANK1 0.33436289289716903\n",
      "100 CEACAM6 0.3639866815173794\n",
      "100 FASN 0.8772088164771831\n",
      "100 FGL2 0.40018516299034296\n",
      "100 IL7R 0.5667098453693862\n",
      "100 KRT6B 0.5446252886119703\n",
      "100 POSTN 0.49841135806622233\n",
      "100 TCIM 0.5750530130387906\n",
      "results/hBreast/BayXenSmooth/clusters/PCA/25/KMEANSINIT=True/NEIGHBORSIZE=1/NUMCLUSTERS=17/SPATIALINIT=False/SAMPLEFORASSIGNMENT=True/SPATIALNORM=0.0/SPATIALPRIORMULT=0.25/SPOTSIZE=50/AGG=mean\n",
      "BayXenSmooth with run 50um, 1 neighbors, sample=True, spatial_norm=0.0, concentraion_amp=0.25, n_pcs=25 and agg=mean done!\n",
      "Starting Moran's I Calculation.\n"
     ]
    },
    {
     "name": "stderr",
     "output_type": "stream",
     "text": [
      "/home/roko/.cache/pypoetry/virtualenvs/xenium-1YUjn3qu-py3.10/lib/python3.10/site-packages/anndata/utils.py:292: UserWarning: X converted to numpy array with dtype float64\n",
      "  warnings.warn(f\"{name} converted to numpy array with dtype {arr.dtype}\")\n"
     ]
    },
    {
     "name": "stdout",
     "output_type": "stream",
     "text": [
      "Neighbors calculated.\n",
      "(23444, 23444) (23444, 23444)\n",
      "Connectivities formed.\n",
      "100 BANK1 0.5294457460420319\n",
      "100 CEACAM6 0.3722776665833333\n",
      "100 FASN 0.9291882935803595\n",
      "100 FGL2 0.42298584294376457\n",
      "100 IL7R 0.6546607552004434\n",
      "100 KRT6B 0.5321048000349727\n",
      "100 POSTN 0.47804266941558354\n",
      "100 TCIM 0.5227465102143389\n",
      "results/hBreast/BayXenSmooth/clusters/PCA/25/KMEANSINIT=True/NEIGHBORSIZE=1/NUMCLUSTERS=17/SPATIALINIT=False/SAMPLEFORASSIGNMENT=True/SPATIALNORM=0.0/SPATIALPRIORMULT=0.5/SPOTSIZE=50/AGG=mean\n",
      "BayXenSmooth with run 50um, 1 neighbors, sample=True, spatial_norm=0.0, concentraion_amp=0.5, n_pcs=25 and agg=mean done!\n",
      "Starting Moran's I Calculation.\n"
     ]
    },
    {
     "name": "stderr",
     "output_type": "stream",
     "text": [
      "/home/roko/.cache/pypoetry/virtualenvs/xenium-1YUjn3qu-py3.10/lib/python3.10/site-packages/anndata/utils.py:292: UserWarning: X converted to numpy array with dtype float64\n",
      "  warnings.warn(f\"{name} converted to numpy array with dtype {arr.dtype}\")\n"
     ]
    },
    {
     "name": "stdout",
     "output_type": "stream",
     "text": [
      "Neighbors calculated.\n",
      "(23444, 23444) (23444, 23444)\n",
      "Connectivities formed.\n",
      "100 BANK1 0.809667090696236\n",
      "100 CEACAM6 0.37581374294650044\n",
      "100 FASN 0.8877808527464792\n",
      "100 FGL2 0.40020524594386786\n",
      "100 IL7R 0.6764179617395399\n",
      "100 KRT6B 0.5367188791275782\n",
      "100 POSTN 0.4880265304459883\n",
      "100 TCIM 0.5075000106647697\n",
      "results/hBreast/BayXenSmooth/clusters/PCA/25/KMEANSINIT=True/NEIGHBORSIZE=1/NUMCLUSTERS=17/SPATIALINIT=False/SAMPLEFORASSIGNMENT=True/SPATIALNORM=0.0/SPATIALPRIORMULT=0.75/SPOTSIZE=50/AGG=mean\n",
      "BayXenSmooth with run 50um, 1 neighbors, sample=True, spatial_norm=0.0, concentraion_amp=0.75, n_pcs=25 and agg=mean done!\n",
      "Starting Moran's I Calculation.\n"
     ]
    },
    {
     "name": "stderr",
     "output_type": "stream",
     "text": [
      "/home/roko/.cache/pypoetry/virtualenvs/xenium-1YUjn3qu-py3.10/lib/python3.10/site-packages/anndata/utils.py:292: UserWarning: X converted to numpy array with dtype float64\n",
      "  warnings.warn(f\"{name} converted to numpy array with dtype {arr.dtype}\")\n"
     ]
    },
    {
     "name": "stdout",
     "output_type": "stream",
     "text": [
      "Neighbors calculated.\n",
      "(23444, 23444) (23444, 23444)\n",
      "Connectivities formed.\n",
      "100 BANK1 0.8100655890660485\n",
      "100 CEACAM6 0.36425626443453785\n",
      "100 FASN 0.8809203236807969\n",
      "100 FGL2 0.416201949290615\n",
      "100 IL7R 0.6979503556551169\n",
      "100 KRT6B 0.5529140646404757\n",
      "100 POSTN 0.4947342381580283\n",
      "100 TCIM 0.5215573028246941\n",
      "results/hBreast/BayXenSmooth/clusters/PCA/25/KMEANSINIT=True/NEIGHBORSIZE=1/NUMCLUSTERS=17/SPATIALINIT=False/SAMPLEFORASSIGNMENT=True/SPATIALNORM=0.0/SPATIALPRIORMULT=1.0/SPOTSIZE=50/AGG=mean\n",
      "BayXenSmooth with run 50um, 1 neighbors, sample=True, spatial_norm=0.0, concentraion_amp=1.0, n_pcs=25 and agg=mean done!\n",
      "Starting Moran's I Calculation.\n"
     ]
    },
    {
     "name": "stderr",
     "output_type": "stream",
     "text": [
      "/home/roko/.cache/pypoetry/virtualenvs/xenium-1YUjn3qu-py3.10/lib/python3.10/site-packages/anndata/utils.py:292: UserWarning: X converted to numpy array with dtype float64\n",
      "  warnings.warn(f\"{name} converted to numpy array with dtype {arr.dtype}\")\n"
     ]
    },
    {
     "name": "stdout",
     "output_type": "stream",
     "text": [
      "Neighbors calculated.\n",
      "(23444, 23444) (23444, 23444)\n",
      "Connectivities formed.\n",
      "100 BANK1 0.8819851797739283\n",
      "100 CEACAM6 0.3533165031093834\n",
      "100 FASN 0.9195617621528402\n",
      "100 FGL2 0.43404769015690087\n",
      "100 IL7R 0.738328846182229\n",
      "100 KRT6B 0.569460196754807\n",
      "100 POSTN 0.495866513565392\n",
      "100 TCIM 0.5381378927610572\n",
      "results/hBreast/BayXenSmooth/clusters/PCA/25/KMEANSINIT=True/NEIGHBORSIZE=1/NUMCLUSTERS=17/SPATIALINIT=False/SAMPLEFORASSIGNMENT=True/SPATIALNORM=0.0/SPATIALPRIORMULT=1.5/SPOTSIZE=50/AGG=mean\n",
      "BayXenSmooth with run 50um, 1 neighbors, sample=True, spatial_norm=0.0, concentraion_amp=1.5, n_pcs=25 and agg=mean done!\n",
      "Starting Moran's I Calculation.\n"
     ]
    },
    {
     "name": "stderr",
     "output_type": "stream",
     "text": [
      "/home/roko/.cache/pypoetry/virtualenvs/xenium-1YUjn3qu-py3.10/lib/python3.10/site-packages/anndata/utils.py:292: UserWarning: X converted to numpy array with dtype float64\n",
      "  warnings.warn(f\"{name} converted to numpy array with dtype {arr.dtype}\")\n"
     ]
    },
    {
     "name": "stdout",
     "output_type": "stream",
     "text": [
      "Neighbors calculated.\n",
      "(23444, 23444) (23444, 23444)\n",
      "Connectivities formed.\n",
      "100 BANK1 0.6500083795815196\n",
      "100 CEACAM6 0.35790943867756986\n",
      "100 FASN 0.8777895940166228\n",
      "100 FGL2 0.42184875539645633\n",
      "100 IL7R 0.5570785977939869\n",
      "100 KRT6B 0.5576026124530625\n",
      "100 POSTN 0.49698673235553803\n",
      "100 TCIM 0.6105396118203285\n",
      "results/hBreast/BayXenSmooth/clusters/PCA/25/KMEANSINIT=True/NEIGHBORSIZE=1/NUMCLUSTERS=17/SPATIALINIT=False/SAMPLEFORASSIGNMENT=True/SPATIALNORM=0.0/SPATIALPRIORMULT=2.0/SPOTSIZE=50/AGG=mean\n",
      "BayXenSmooth with run 50um, 1 neighbors, sample=True, spatial_norm=0.0, concentraion_amp=2.0, n_pcs=25 and agg=mean done!\n",
      "Starting Moran's I Calculation.\n"
     ]
    },
    {
     "name": "stderr",
     "output_type": "stream",
     "text": [
      "/home/roko/.cache/pypoetry/virtualenvs/xenium-1YUjn3qu-py3.10/lib/python3.10/site-packages/anndata/utils.py:292: UserWarning: X converted to numpy array with dtype float64\n",
      "  warnings.warn(f\"{name} converted to numpy array with dtype {arr.dtype}\")\n"
     ]
    },
    {
     "name": "stdout",
     "output_type": "stream",
     "text": [
      "Neighbors calculated.\n",
      "(23444, 23444) (23444, 23444)\n",
      "Connectivities formed.\n",
      "100 BANK1 0.9791837559893279\n",
      "100 CEACAM6 0.37429641758104587\n",
      "100 FASN 1.0677596129951574\n",
      "100 FGL2 0.4902512207556547\n",
      "100 IL7R 0.8437717710822248\n",
      "100 KRT6B 0.6382607824431935\n",
      "100 POSTN 0.4954295196211978\n",
      "100 TCIM 0.40539837298515197\n",
      "results/hBreast/BayXenSmooth/clusters/PCA/5/KMEANSINIT=True/NEIGHBORSIZE=1/NUMCLUSTERS=17/SPATIALINIT=True/SAMPLEFORASSIGNMENT=True/SPATIALNORM=0.05/SPATIALPRIORMULT=0.05/SPOTSIZE=50/AGG=mean\n",
      "BayXenSmooth with run 50um, 1 neighbors, sample=True, spatial_norm=0.05, concentraion_amp=0.05, n_pcs=5 and agg=mean done!\n",
      "Starting Moran's I Calculation.\n"
     ]
    },
    {
     "name": "stderr",
     "output_type": "stream",
     "text": [
      "/home/roko/.cache/pypoetry/virtualenvs/xenium-1YUjn3qu-py3.10/lib/python3.10/site-packages/anndata/utils.py:292: UserWarning: X converted to numpy array with dtype float64\n",
      "  warnings.warn(f\"{name} converted to numpy array with dtype {arr.dtype}\")\n"
     ]
    },
    {
     "name": "stdout",
     "output_type": "stream",
     "text": [
      "Neighbors calculated.\n",
      "(23444, 23444) (23444, 23444)\n",
      "Connectivities formed.\n",
      "100 BANK1 0.9671458166356068\n",
      "100 CEACAM6 0.35767330747608383\n",
      "100 FASN 1.0374792690662342\n",
      "100 FGL2 0.4768830601477548\n",
      "100 IL7R 0.8347809625908025\n",
      "100 KRT6B 0.6444145342878469\n",
      "100 POSTN 0.4709357452569802\n",
      "100 TCIM 0.40427133108900487\n",
      "results/hBreast/BayXenSmooth/clusters/PCA/5/KMEANSINIT=True/NEIGHBORSIZE=1/NUMCLUSTERS=17/SPATIALINIT=True/SAMPLEFORASSIGNMENT=True/SPATIALNORM=0.05/SPATIALPRIORMULT=0.1/SPOTSIZE=50/AGG=mean\n",
      "BayXenSmooth with run 50um, 1 neighbors, sample=True, spatial_norm=0.05, concentraion_amp=0.1, n_pcs=5 and agg=mean done!\n",
      "Starting Moran's I Calculation.\n"
     ]
    },
    {
     "name": "stderr",
     "output_type": "stream",
     "text": [
      "/home/roko/.cache/pypoetry/virtualenvs/xenium-1YUjn3qu-py3.10/lib/python3.10/site-packages/anndata/utils.py:292: UserWarning: X converted to numpy array with dtype float64\n",
      "  warnings.warn(f\"{name} converted to numpy array with dtype {arr.dtype}\")\n"
     ]
    },
    {
     "name": "stdout",
     "output_type": "stream",
     "text": [
      "Neighbors calculated.\n",
      "(23444, 23444) (23444, 23444)\n",
      "Connectivities formed.\n",
      "100 BANK1 0.9052690835361495\n",
      "100 CEACAM6 0.36840465563534874\n",
      "100 FASN 1.0548726470374847\n",
      "100 FGL2 0.4539226441256427\n",
      "100 IL7R 0.7673437678615405\n",
      "100 KRT6B 0.6146253455684874\n",
      "100 POSTN 0.4868406797675705\n",
      "100 TCIM 0.366041028136778\n",
      "results/hBreast/BayXenSmooth/clusters/PCA/5/KMEANSINIT=True/NEIGHBORSIZE=1/NUMCLUSTERS=17/SPATIALINIT=True/SAMPLEFORASSIGNMENT=True/SPATIALNORM=0.05/SPATIALPRIORMULT=0.25/SPOTSIZE=50/AGG=mean\n",
      "BayXenSmooth with run 50um, 1 neighbors, sample=True, spatial_norm=0.05, concentraion_amp=0.25, n_pcs=5 and agg=mean done!\n",
      "Starting Moran's I Calculation.\n"
     ]
    },
    {
     "name": "stderr",
     "output_type": "stream",
     "text": [
      "/home/roko/.cache/pypoetry/virtualenvs/xenium-1YUjn3qu-py3.10/lib/python3.10/site-packages/anndata/utils.py:292: UserWarning: X converted to numpy array with dtype float64\n",
      "  warnings.warn(f\"{name} converted to numpy array with dtype {arr.dtype}\")\n"
     ]
    },
    {
     "name": "stdout",
     "output_type": "stream",
     "text": [
      "Neighbors calculated.\n",
      "(23444, 23444) (23444, 23444)\n",
      "Connectivities formed.\n",
      "100 BANK1 0.93293834014772\n",
      "100 CEACAM6 0.3775880491564215\n",
      "100 FASN 1.0516040890729226\n",
      "100 FGL2 0.4709915735028621\n",
      "100 IL7R 0.809093034381488\n",
      "100 KRT6B 0.6169822708017831\n",
      "100 POSTN 0.4377783404828557\n",
      "100 TCIM 0.34320930933797067\n",
      "results/hBreast/BayXenSmooth/clusters/PCA/5/KMEANSINIT=True/NEIGHBORSIZE=1/NUMCLUSTERS=17/SPATIALINIT=True/SAMPLEFORASSIGNMENT=True/SPATIALNORM=0.05/SPATIALPRIORMULT=0.5/SPOTSIZE=50/AGG=mean\n",
      "BayXenSmooth with run 50um, 1 neighbors, sample=True, spatial_norm=0.05, concentraion_amp=0.5, n_pcs=5 and agg=mean done!\n",
      "Starting Moran's I Calculation.\n"
     ]
    },
    {
     "name": "stderr",
     "output_type": "stream",
     "text": [
      "/home/roko/.cache/pypoetry/virtualenvs/xenium-1YUjn3qu-py3.10/lib/python3.10/site-packages/anndata/utils.py:292: UserWarning: X converted to numpy array with dtype float64\n",
      "  warnings.warn(f\"{name} converted to numpy array with dtype {arr.dtype}\")\n"
     ]
    },
    {
     "name": "stdout",
     "output_type": "stream",
     "text": [
      "Neighbors calculated.\n",
      "(23444, 23444) (23444, 23444)\n",
      "Connectivities formed.\n",
      "100 BANK1 0.9174561074867235\n",
      "100 CEACAM6 0.3752133585261191\n",
      "100 FASN 1.0669811381780674\n",
      "100 FGL2 0.4491105681544464\n",
      "100 IL7R 0.7947384151562977\n",
      "100 KRT6B 0.6216084188843926\n",
      "100 POSTN 0.42530205203828914\n",
      "100 TCIM 0.4291495429721685\n",
      "results/hBreast/BayXenSmooth/clusters/PCA/5/KMEANSINIT=True/NEIGHBORSIZE=1/NUMCLUSTERS=17/SPATIALINIT=True/SAMPLEFORASSIGNMENT=True/SPATIALNORM=0.05/SPATIALPRIORMULT=0.75/SPOTSIZE=50/AGG=mean\n",
      "BayXenSmooth with run 50um, 1 neighbors, sample=True, spatial_norm=0.05, concentraion_amp=0.75, n_pcs=5 and agg=mean done!\n",
      "Starting Moran's I Calculation.\n"
     ]
    },
    {
     "name": "stderr",
     "output_type": "stream",
     "text": [
      "/home/roko/.cache/pypoetry/virtualenvs/xenium-1YUjn3qu-py3.10/lib/python3.10/site-packages/anndata/utils.py:292: UserWarning: X converted to numpy array with dtype float64\n",
      "  warnings.warn(f\"{name} converted to numpy array with dtype {arr.dtype}\")\n"
     ]
    },
    {
     "name": "stdout",
     "output_type": "stream",
     "text": [
      "Neighbors calculated.\n",
      "(23444, 23444) (23444, 23444)\n",
      "Connectivities formed.\n",
      "100 BANK1 0.9579355082298338\n",
      "100 CEACAM6 0.3735828541894453\n",
      "100 FASN 1.0585403078047153\n",
      "100 FGL2 0.48195062508010866\n",
      "100 IL7R 0.8333594050548935\n",
      "100 KRT6B 0.6450894140594438\n",
      "100 POSTN 0.45872093485661314\n",
      "100 TCIM 0.4108519024356112\n",
      "results/hBreast/BayXenSmooth/clusters/PCA/5/KMEANSINIT=True/NEIGHBORSIZE=1/NUMCLUSTERS=17/SPATIALINIT=True/SAMPLEFORASSIGNMENT=True/SPATIALNORM=0.05/SPATIALPRIORMULT=1.0/SPOTSIZE=50/AGG=mean\n",
      "BayXenSmooth with run 50um, 1 neighbors, sample=True, spatial_norm=0.05, concentraion_amp=1.0, n_pcs=5 and agg=mean done!\n",
      "Starting Moran's I Calculation.\n"
     ]
    },
    {
     "name": "stderr",
     "output_type": "stream",
     "text": [
      "/home/roko/.cache/pypoetry/virtualenvs/xenium-1YUjn3qu-py3.10/lib/python3.10/site-packages/anndata/utils.py:292: UserWarning: X converted to numpy array with dtype float64\n",
      "  warnings.warn(f\"{name} converted to numpy array with dtype {arr.dtype}\")\n"
     ]
    },
    {
     "name": "stdout",
     "output_type": "stream",
     "text": [
      "Neighbors calculated.\n",
      "(23444, 23444) (23444, 23444)\n",
      "Connectivities formed.\n",
      "100 BANK1 0.9272401027960275\n",
      "100 CEACAM6 0.37526908763060024\n",
      "100 FASN 1.0526912645400244\n",
      "100 FGL2 0.4876072822882819\n",
      "100 IL7R 0.8258899614928794\n",
      "100 KRT6B 0.6346493091602864\n",
      "100 POSTN 0.4691992962848951\n",
      "100 TCIM 0.44474398609421745\n",
      "results/hBreast/BayXenSmooth/clusters/PCA/5/KMEANSINIT=True/NEIGHBORSIZE=1/NUMCLUSTERS=17/SPATIALINIT=True/SAMPLEFORASSIGNMENT=True/SPATIALNORM=0.05/SPATIALPRIORMULT=1.5/SPOTSIZE=50/AGG=mean\n",
      "BayXenSmooth with run 50um, 1 neighbors, sample=True, spatial_norm=0.05, concentraion_amp=1.5, n_pcs=5 and agg=mean done!\n",
      "Starting Moran's I Calculation.\n"
     ]
    },
    {
     "name": "stderr",
     "output_type": "stream",
     "text": [
      "/home/roko/.cache/pypoetry/virtualenvs/xenium-1YUjn3qu-py3.10/lib/python3.10/site-packages/anndata/utils.py:292: UserWarning: X converted to numpy array with dtype float64\n",
      "  warnings.warn(f\"{name} converted to numpy array with dtype {arr.dtype}\")\n"
     ]
    },
    {
     "name": "stdout",
     "output_type": "stream",
     "text": [
      "Neighbors calculated.\n",
      "(23444, 23444) (23444, 23444)\n",
      "Connectivities formed.\n",
      "100 BANK1 0.9538569743931944\n",
      "100 CEACAM6 0.37043798869604116\n",
      "100 FASN 0.9908076441398546\n",
      "100 FGL2 0.49955449361525234\n",
      "100 IL7R 0.8290213360886183\n",
      "100 KRT6B 0.590790713451532\n",
      "100 POSTN 0.49144415692308496\n",
      "100 TCIM 0.40763519845641044\n",
      "results/hBreast/BayXenSmooth/clusters/PCA/5/KMEANSINIT=True/NEIGHBORSIZE=1/NUMCLUSTERS=17/SPATIALINIT=True/SAMPLEFORASSIGNMENT=True/SPATIALNORM=0.05/SPATIALPRIORMULT=2.0/SPOTSIZE=50/AGG=mean\n",
      "BayXenSmooth with run 50um, 1 neighbors, sample=True, spatial_norm=0.05, concentraion_amp=2.0, n_pcs=5 and agg=mean done!\n",
      "Starting Moran's I Calculation.\n"
     ]
    },
    {
     "name": "stderr",
     "output_type": "stream",
     "text": [
      "/home/roko/.cache/pypoetry/virtualenvs/xenium-1YUjn3qu-py3.10/lib/python3.10/site-packages/anndata/utils.py:292: UserWarning: X converted to numpy array with dtype float64\n",
      "  warnings.warn(f\"{name} converted to numpy array with dtype {arr.dtype}\")\n"
     ]
    },
    {
     "name": "stdout",
     "output_type": "stream",
     "text": [
      "Neighbors calculated.\n",
      "(23444, 23444) (23444, 23444)\n",
      "Connectivities formed.\n",
      "100 BANK1 0.9245058100283722\n",
      "100 CEACAM6 0.3678268151010229\n",
      "100 FASN 1.0290953113956798\n",
      "100 FGL2 0.47251481135026074\n",
      "100 IL7R 0.8085798115468906\n",
      "100 KRT6B 0.6070951142871284\n",
      "100 POSTN 0.4673949709344556\n",
      "100 TCIM 0.37227854210192896\n",
      "results/hBreast/BayXenSmooth/clusters/PCA/5/KMEANSINIT=True/NEIGHBORSIZE=1/NUMCLUSTERS=17/SPATIALINIT=True/SAMPLEFORASSIGNMENT=True/SPATIALNORM=0.05/SPATIALPRIORMULT=2.5/SPOTSIZE=50/AGG=mean\n",
      "BayXenSmooth with run 50um, 1 neighbors, sample=True, spatial_norm=0.05, concentraion_amp=2.5, n_pcs=5 and agg=mean done!\n",
      "Starting Moran's I Calculation.\n"
     ]
    },
    {
     "name": "stderr",
     "output_type": "stream",
     "text": [
      "/home/roko/.cache/pypoetry/virtualenvs/xenium-1YUjn3qu-py3.10/lib/python3.10/site-packages/anndata/utils.py:292: UserWarning: X converted to numpy array with dtype float64\n",
      "  warnings.warn(f\"{name} converted to numpy array with dtype {arr.dtype}\")\n"
     ]
    },
    {
     "name": "stdout",
     "output_type": "stream",
     "text": [
      "Neighbors calculated.\n",
      "(23444, 23444) (23444, 23444)\n",
      "Connectivities formed.\n",
      "100 BANK1 0.8726025274056093\n",
      "100 CEACAM6 0.3574125024028826\n",
      "100 FASN 0.868587383680019\n",
      "100 FGL2 0.4388971844433207\n",
      "100 IL7R 0.7376415740728703\n",
      "100 KRT6B 0.5667324270831631\n",
      "100 POSTN 0.49022905437097436\n",
      "100 TCIM 0.5632044414218796\n",
      "results/hBreast/BayXenSmooth/clusters/PCA/25/KMEANSINIT=True/NEIGHBORSIZE=1/NUMCLUSTERS=17/SPATIALINIT=True/SAMPLEFORASSIGNMENT=True/SPATIALNORM=0.05/SPATIALPRIORMULT=1.0/SPOTSIZE=50/AGG=mean\n",
      "BayXenSmooth with run 50um, 1 neighbors, sample=True, spatial_norm=0.05, concentraion_amp=1.0, n_pcs=25 and agg=mean done!\n",
      "Starting Moran's I Calculation.\n"
     ]
    },
    {
     "name": "stderr",
     "output_type": "stream",
     "text": [
      "/home/roko/.cache/pypoetry/virtualenvs/xenium-1YUjn3qu-py3.10/lib/python3.10/site-packages/anndata/utils.py:292: UserWarning: X converted to numpy array with dtype float64\n",
      "  warnings.warn(f\"{name} converted to numpy array with dtype {arr.dtype}\")\n"
     ]
    },
    {
     "name": "stdout",
     "output_type": "stream",
     "text": [
      "Neighbors calculated.\n",
      "(23444, 23444) (23444, 23444)\n",
      "Connectivities formed.\n",
      "100 BANK1 0.9333161791294661\n",
      "100 CEACAM6 0.38597403599399116\n",
      "100 FASN 1.0963106164836787\n",
      "100 FGL2 0.4709328241153865\n",
      "100 IL7R 0.8047467217735051\n",
      "100 KRT6B 0.6514173229806246\n",
      "100 POSTN 0.4375598610318505\n",
      "100 TCIM 0.41435892439044114\n",
      "results/hBreast/BayXenSmooth/clusters/PCA/5/KMEANSINIT=True/NEIGHBORSIZE=1/NUMCLUSTERS=17/SPATIALINIT=True/SAMPLEFORASSIGNMENT=True/SPATIALNORM=0.1/SPATIALPRIORMULT=0.05/SPOTSIZE=50/AGG=mean\n",
      "BayXenSmooth with run 50um, 1 neighbors, sample=True, spatial_norm=0.1, concentraion_amp=0.05, n_pcs=5 and agg=mean done!\n",
      "Starting Moran's I Calculation.\n"
     ]
    },
    {
     "name": "stderr",
     "output_type": "stream",
     "text": [
      "/home/roko/.cache/pypoetry/virtualenvs/xenium-1YUjn3qu-py3.10/lib/python3.10/site-packages/anndata/utils.py:292: UserWarning: X converted to numpy array with dtype float64\n",
      "  warnings.warn(f\"{name} converted to numpy array with dtype {arr.dtype}\")\n"
     ]
    },
    {
     "name": "stdout",
     "output_type": "stream",
     "text": [
      "Neighbors calculated.\n",
      "(23444, 23444) (23444, 23444)\n",
      "Connectivities formed.\n",
      "100 BANK1 0.9212809437956568\n",
      "100 CEACAM6 0.36018244467059507\n",
      "100 FASN 1.02309430336961\n",
      "100 FGL2 0.4777767080337257\n",
      "100 IL7R 0.8112752447859702\n",
      "100 KRT6B 0.5979849922674368\n",
      "100 POSTN 0.4719254054904855\n",
      "100 TCIM 0.3927936446005748\n",
      "results/hBreast/BayXenSmooth/clusters/PCA/5/KMEANSINIT=True/NEIGHBORSIZE=1/NUMCLUSTERS=17/SPATIALINIT=True/SAMPLEFORASSIGNMENT=True/SPATIALNORM=0.1/SPATIALPRIORMULT=0.1/SPOTSIZE=50/AGG=mean\n",
      "BayXenSmooth with run 50um, 1 neighbors, sample=True, spatial_norm=0.1, concentraion_amp=0.1, n_pcs=5 and agg=mean done!\n",
      "Starting Moran's I Calculation.\n"
     ]
    },
    {
     "name": "stderr",
     "output_type": "stream",
     "text": [
      "/home/roko/.cache/pypoetry/virtualenvs/xenium-1YUjn3qu-py3.10/lib/python3.10/site-packages/anndata/utils.py:292: UserWarning: X converted to numpy array with dtype float64\n",
      "  warnings.warn(f\"{name} converted to numpy array with dtype {arr.dtype}\")\n"
     ]
    },
    {
     "name": "stdout",
     "output_type": "stream",
     "text": [
      "Neighbors calculated.\n",
      "(23444, 23444) (23444, 23444)\n",
      "Connectivities formed.\n",
      "100 BANK1 0.9189603132438618\n",
      "100 CEACAM6 0.3677020908167922\n",
      "100 FASN 1.0254599374072781\n",
      "100 FGL2 0.4750066139673779\n",
      "100 IL7R 0.7995370041106861\n",
      "100 KRT6B 0.6063657198147704\n",
      "100 POSTN 0.4595427661037054\n",
      "100 TCIM 0.37838174214641257\n",
      "results/hBreast/BayXenSmooth/clusters/PCA/5/KMEANSINIT=True/NEIGHBORSIZE=1/NUMCLUSTERS=17/SPATIALINIT=True/SAMPLEFORASSIGNMENT=True/SPATIALNORM=0.1/SPATIALPRIORMULT=0.25/SPOTSIZE=50/AGG=mean\n",
      "BayXenSmooth with run 50um, 1 neighbors, sample=True, spatial_norm=0.1, concentraion_amp=0.25, n_pcs=5 and agg=mean done!\n",
      "Starting Moran's I Calculation.\n"
     ]
    },
    {
     "name": "stderr",
     "output_type": "stream",
     "text": [
      "/home/roko/.cache/pypoetry/virtualenvs/xenium-1YUjn3qu-py3.10/lib/python3.10/site-packages/anndata/utils.py:292: UserWarning: X converted to numpy array with dtype float64\n",
      "  warnings.warn(f\"{name} converted to numpy array with dtype {arr.dtype}\")\n"
     ]
    },
    {
     "name": "stdout",
     "output_type": "stream",
     "text": [
      "Neighbors calculated.\n",
      "(23444, 23444) (23444, 23444)\n",
      "Connectivities formed.\n",
      "100 BANK1 0.917395617446853\n",
      "100 CEACAM6 0.3665516196339645\n",
      "100 FASN 1.020207708741478\n",
      "100 FGL2 0.4679648284973376\n",
      "100 IL7R 0.7735635018790576\n",
      "100 KRT6B 0.5984924321441626\n",
      "100 POSTN 0.45372732819544037\n",
      "100 TCIM 0.37956932325427917\n",
      "results/hBreast/BayXenSmooth/clusters/PCA/5/KMEANSINIT=True/NEIGHBORSIZE=1/NUMCLUSTERS=17/SPATIALINIT=True/SAMPLEFORASSIGNMENT=True/SPATIALNORM=0.1/SPATIALPRIORMULT=0.5/SPOTSIZE=50/AGG=mean\n",
      "BayXenSmooth with run 50um, 1 neighbors, sample=True, spatial_norm=0.1, concentraion_amp=0.5, n_pcs=5 and agg=mean done!\n",
      "Starting Moran's I Calculation.\n"
     ]
    },
    {
     "name": "stderr",
     "output_type": "stream",
     "text": [
      "/home/roko/.cache/pypoetry/virtualenvs/xenium-1YUjn3qu-py3.10/lib/python3.10/site-packages/anndata/utils.py:292: UserWarning: X converted to numpy array with dtype float64\n",
      "  warnings.warn(f\"{name} converted to numpy array with dtype {arr.dtype}\")\n"
     ]
    },
    {
     "name": "stdout",
     "output_type": "stream",
     "text": [
      "Neighbors calculated.\n",
      "(23444, 23444) (23444, 23444)\n",
      "Connectivities formed.\n",
      "100 BANK1 0.9321875734995574\n",
      "100 CEACAM6 0.36501501149399035\n",
      "100 FASN 1.0357854226706453\n",
      "100 FGL2 0.4812858016607558\n",
      "100 IL7R 0.8007197674501204\n",
      "100 KRT6B 0.6278634494396097\n",
      "100 POSTN 0.4679970749630172\n",
      "100 TCIM 0.38460852259324585\n",
      "results/hBreast/BayXenSmooth/clusters/PCA/5/KMEANSINIT=True/NEIGHBORSIZE=1/NUMCLUSTERS=17/SPATIALINIT=True/SAMPLEFORASSIGNMENT=True/SPATIALNORM=0.1/SPATIALPRIORMULT=0.75/SPOTSIZE=50/AGG=mean\n",
      "BayXenSmooth with run 50um, 1 neighbors, sample=True, spatial_norm=0.1, concentraion_amp=0.75, n_pcs=5 and agg=mean done!\n",
      "Starting Moran's I Calculation.\n"
     ]
    },
    {
     "name": "stderr",
     "output_type": "stream",
     "text": [
      "/home/roko/.cache/pypoetry/virtualenvs/xenium-1YUjn3qu-py3.10/lib/python3.10/site-packages/anndata/utils.py:292: UserWarning: X converted to numpy array with dtype float64\n",
      "  warnings.warn(f\"{name} converted to numpy array with dtype {arr.dtype}\")\n"
     ]
    },
    {
     "name": "stdout",
     "output_type": "stream",
     "text": [
      "Neighbors calculated.\n",
      "(23444, 23444) (23444, 23444)\n",
      "Connectivities formed.\n",
      "100 BANK1 0.9308711765171895\n",
      "100 CEACAM6 0.3771099771021031\n",
      "100 FASN 1.0434938307395423\n",
      "100 FGL2 0.479597580546237\n",
      "100 IL7R 0.7901553981223137\n",
      "100 KRT6B 0.5973279313071793\n",
      "100 POSTN 0.4538927157461498\n",
      "100 TCIM 0.40155982717812505\n",
      "results/hBreast/BayXenSmooth/clusters/PCA/5/KMEANSINIT=True/NEIGHBORSIZE=1/NUMCLUSTERS=17/SPATIALINIT=True/SAMPLEFORASSIGNMENT=True/SPATIALNORM=0.1/SPATIALPRIORMULT=1.0/SPOTSIZE=50/AGG=mean\n",
      "BayXenSmooth with run 50um, 1 neighbors, sample=True, spatial_norm=0.1, concentraion_amp=1.0, n_pcs=5 and agg=mean done!\n",
      "Starting Moran's I Calculation.\n"
     ]
    },
    {
     "name": "stderr",
     "output_type": "stream",
     "text": [
      "/home/roko/.cache/pypoetry/virtualenvs/xenium-1YUjn3qu-py3.10/lib/python3.10/site-packages/anndata/utils.py:292: UserWarning: X converted to numpy array with dtype float64\n",
      "  warnings.warn(f\"{name} converted to numpy array with dtype {arr.dtype}\")\n"
     ]
    },
    {
     "name": "stdout",
     "output_type": "stream",
     "text": [
      "Neighbors calculated.\n",
      "(23444, 23444) (23444, 23444)\n",
      "Connectivities formed.\n",
      "100 BANK1 0.9112464065030659\n",
      "100 CEACAM6 0.3794095568918491\n",
      "100 FASN 1.0573014849476843\n",
      "100 FGL2 0.46535958437544206\n",
      "100 IL7R 0.816191777489175\n",
      "100 KRT6B 0.607094420186501\n",
      "100 POSTN 0.45570042741204125\n",
      "100 TCIM 0.4106270487916606\n",
      "results/hBreast/BayXenSmooth/clusters/PCA/5/KMEANSINIT=True/NEIGHBORSIZE=1/NUMCLUSTERS=17/SPATIALINIT=True/SAMPLEFORASSIGNMENT=True/SPATIALNORM=0.1/SPATIALPRIORMULT=1.5/SPOTSIZE=50/AGG=mean\n",
      "BayXenSmooth with run 50um, 1 neighbors, sample=True, spatial_norm=0.1, concentraion_amp=1.5, n_pcs=5 and agg=mean done!\n",
      "Starting Moran's I Calculation.\n"
     ]
    },
    {
     "name": "stderr",
     "output_type": "stream",
     "text": [
      "/home/roko/.cache/pypoetry/virtualenvs/xenium-1YUjn3qu-py3.10/lib/python3.10/site-packages/anndata/utils.py:292: UserWarning: X converted to numpy array with dtype float64\n",
      "  warnings.warn(f\"{name} converted to numpy array with dtype {arr.dtype}\")\n"
     ]
    },
    {
     "name": "stdout",
     "output_type": "stream",
     "text": [
      "Neighbors calculated.\n",
      "(23444, 23444) (23444, 23444)\n",
      "Connectivities formed.\n",
      "100 BANK1 0.9349488361038729\n",
      "100 CEACAM6 0.3685915966965449\n",
      "100 FASN 1.033029953733606\n",
      "100 FGL2 0.47093119534278255\n",
      "100 IL7R 0.8038693323211082\n",
      "100 KRT6B 0.6103623073029449\n",
      "100 POSTN 0.468612743256184\n",
      "100 TCIM 0.3983453779896109\n",
      "results/hBreast/BayXenSmooth/clusters/PCA/5/KMEANSINIT=True/NEIGHBORSIZE=1/NUMCLUSTERS=17/SPATIALINIT=True/SAMPLEFORASSIGNMENT=True/SPATIALNORM=0.1/SPATIALPRIORMULT=2.0/SPOTSIZE=50/AGG=mean\n",
      "BayXenSmooth with run 50um, 1 neighbors, sample=True, spatial_norm=0.1, concentraion_amp=2.0, n_pcs=5 and agg=mean done!\n",
      "Starting Moran's I Calculation.\n"
     ]
    },
    {
     "name": "stderr",
     "output_type": "stream",
     "text": [
      "/home/roko/.cache/pypoetry/virtualenvs/xenium-1YUjn3qu-py3.10/lib/python3.10/site-packages/anndata/utils.py:292: UserWarning: X converted to numpy array with dtype float64\n",
      "  warnings.warn(f\"{name} converted to numpy array with dtype {arr.dtype}\")\n"
     ]
    },
    {
     "name": "stdout",
     "output_type": "stream",
     "text": [
      "Neighbors calculated.\n",
      "(23444, 23444) (23444, 23444)\n",
      "Connectivities formed.\n",
      "100 BANK1 0.9673832967365793\n",
      "100 CEACAM6 0.3706691278209092\n",
      "100 FASN 1.050733734522156\n",
      "100 FGL2 0.4760768364066936\n",
      "100 IL7R 0.831472999196446\n",
      "100 KRT6B 0.6350127028346825\n",
      "100 POSTN 0.46531096018482304\n",
      "100 TCIM 0.43198741970696963\n",
      "results/hBreast/BayXenSmooth/clusters/PCA/5/KMEANSINIT=True/NEIGHBORSIZE=1/NUMCLUSTERS=17/SPATIALINIT=True/SAMPLEFORASSIGNMENT=True/SPATIALNORM=0.1/SPATIALPRIORMULT=2.5/SPOTSIZE=50/AGG=mean\n",
      "BayXenSmooth with run 50um, 1 neighbors, sample=True, spatial_norm=0.1, concentraion_amp=2.5, n_pcs=5 and agg=mean done!\n",
      "Starting Moran's I Calculation.\n"
     ]
    },
    {
     "name": "stderr",
     "output_type": "stream",
     "text": [
      "/home/roko/.cache/pypoetry/virtualenvs/xenium-1YUjn3qu-py3.10/lib/python3.10/site-packages/anndata/utils.py:292: UserWarning: X converted to numpy array with dtype float64\n",
      "  warnings.warn(f\"{name} converted to numpy array with dtype {arr.dtype}\")\n"
     ]
    },
    {
     "name": "stdout",
     "output_type": "stream",
     "text": [
      "Neighbors calculated.\n",
      "(23444, 23444) (23444, 23444)\n",
      "Connectivities formed.\n",
      "100 BANK1 0.8592442176306042\n",
      "100 CEACAM6 0.3643353905151732\n",
      "100 FASN 0.8923859758060102\n",
      "100 FGL2 0.4182955833880451\n",
      "100 IL7R 0.6991598613372765\n",
      "100 KRT6B 0.5691964372976819\n",
      "100 POSTN 0.49284882705260696\n",
      "100 TCIM 0.5432788651253356\n",
      "results/hBreast/BayXenSmooth/clusters/PCA/25/KMEANSINIT=True/NEIGHBORSIZE=1/NUMCLUSTERS=17/SPATIALINIT=True/SAMPLEFORASSIGNMENT=True/SPATIALNORM=0.1/SPATIALPRIORMULT=1.0/SPOTSIZE=50/AGG=mean\n",
      "BayXenSmooth with run 50um, 1 neighbors, sample=True, spatial_norm=0.1, concentraion_amp=1.0, n_pcs=25 and agg=mean done!\n"
     ]
    }
   ],
   "source": [
    "for spot_size in spot_sizes:\n",
    "    clustering = XeniumCluster(data=df_transcripts, dataset_name=dataset_name)\n",
    "    clustering.set_spot_size(spot_size)\n",
    "    clustering.create_spot_data(third_dim=False, save_data=True)\n",
    "    locations = clustering.xenium_spot_data.obs[[\"row\", \"col\"]]\n",
    "    for model in models:\n",
    "        print(model)\n",
    "        for neighboring_spots in num_neighboring_spots:\n",
    "            for K in K_values:\n",
    "                if model in [\"Leiden\", \"Louvain\"]:\n",
    "                    for resolution in resolutions:\n",
    "                        clusters = pd.read_csv(f\"results/{dataset_name}/{model}/{resolution}/clusters/{spot_size}/clusters_RES={resolution}.csv\")[f\"{model} cluster\"]\n",
    "                        save_results(gene_morans_i(clustering, locations, clusters, num_neighbors=neighboring_spots), dataset_name, model, \"morans_i_by_gene\", spot_size, resolution=resolution)\n",
    "                        # save_results(gene_gearys_c(clustering, locations, clusters), dataset_name, model, \"gearys_c_by_gene\", spot_size, resolution=resolution)\n",
    "                elif model == \"BayXenSmooth\":\n",
    "                    for neighborhood_size in neighborhood_sizes:\n",
    "                        for sample_for_assignment in [False, True]:\n",
    "                            for agg in aggs:\n",
    "                                for spatial_norm in spatial_norms:\n",
    "                                    for n_pcs in BayXenSmooth_PCs:\n",
    "                                        for concentration_amp in concentration_amps:\n",
    "                                            try:\n",
    "                                                clusters = pd.read_csv(f\"results/{dataset_name}/{model}/clusters/PCA/{n_pcs}/KMEANSINIT=True/NEIGHBORSIZE={neighborhood_size}/NUMCLUSTERS={K}/SPATIALINIT={True if spatial_norm > 0.0 else False}/SAMPLEFORASSIGNMENT={sample_for_assignment}/SPATIALNORM={spatial_norm}/SPATIALPRIORMULT={concentration_amp}/SPOTSIZE={spot_size}/AGG={agg}/clusters_K={K}.csv\")[f\"{model} cluster\"]\n",
    "                                                save_results(gene_morans_i(clustering, locations, clusters, num_neighbors=neighboring_spots), dataset_name, model, \"morans_i_by_gene\", spot_size, K=K, neighborhood_size=neighborhood_size, sample_for_assignment=sample_for_assignment, concentration_amp=concentration_amp, n_pcs=n_pcs)\n",
    "                                                # save_results(gene_gearys_c(clustering, locations, clusters), dataset_name, model, \"gearys_c_by_gene\", spot_size, K=K, neighborhood_size=neighborhood_size, sample_for_assignment=sample_for_assignment, concentration_amp=concentration_amp, n_pcs=n_pcs)\n",
    "                                                print(f\"BayXenSmooth with run {spot_size}um, {neighborhood_size} neighbors, sample={sample_for_assignment}, spatial_norm={spatial_norm}, concentraion_amp={concentration_amp}, n_pcs={n_pcs} and agg={agg} done!\")\n",
    "                                            except FileNotFoundError:\n",
    "                                                continue\n",
    "                else:\n",
    "                    clusters = pd.read_csv(f\"results/{dataset_name}/{model}/{K}/clusters/{spot_size}/clusters_K={K}.csv\")[f\"{model} cluster\"]\n",
    "                    save_results(gene_morans_i(clustering, locations, clusters, num_neighbors=neighboring_spots), dataset_name, model, \"morans_i_by_gene\", spot_size, K=K)\n",
    "                    # save_results(gene_gearys_c(clustering, locations, clusters), dataset_name, model, \"gearys_c_by_gene\", spot_size, K=K)"
   ]
  },
  {
   "cell_type": "markdown",
   "metadata": {},
   "source": [
    "# BayXenSmooth Best Moran's I"
   ]
  },
  {
   "cell_type": "code",
   "execution_count": 16,
   "metadata": {},
   "outputs": [],
   "source": [
    "import os\n",
    "import json\n",
    "\n",
    "# Define the directory where the results are stored\n",
    "results_dir = \"results/hBreast/BayXenSmooth\"\n",
    "\n",
    "# Loop through all subdirectories in the results directory\n",
    "morans_i_dict = {}\n",
    "for gene_name in MARKER_GENES:\n",
    "    current_max_expression = 0\n",
    "    for root, dirs, files in os.walk(results_dir):\n",
    "        for file in files:\n",
    "            # Check if the file is named morans_i_by_gene.json\n",
    "            if file == \"morans_i_by_gene.jsonl\":\n",
    "                # Construct the full path to the file\n",
    "                file_path = os.path.join(root, file)\n",
    "                # Open and read the file\n",
    "                with open(file_path, 'r') as f:\n",
    "                    # Load the JSON data\n",
    "                    data = [line for line in jsonlines.Reader(f)]\n",
    "                    # Print the data to verify it's been loaded\n",
    "                    morans_i = [x for x in data if gene_name in x]\n",
    "                    if morans_i[0][gene_name] > current_max_expression and \"SPOTSIZE=50\" in file_path:\n",
    "                        current_max_filepath = file_path\n",
    "                        current_max_expression = morans_i[0][gene_name]\n",
    "    morans_i_dict[gene_name] = current_max_expression, current_max_filepath"
   ]
  },
  {
   "cell_type": "code",
   "execution_count": 17,
   "metadata": {},
   "outputs": [
    {
     "data": {
      "text/plain": [
       "{'BANK1': (1.053305803363521,\n",
       "  'results/hBreast/BayXenSmooth/clusters/PCA/5/KMEANSINIT=True/NEIGHBORSIZE=1/NUMCLUSTERS=17/SPATIALINIT=True/SAMPLEFORASSIGNMENT=False/SPATIALNORM=0.05/SPATIALPRIORMULT=1.25/SPOTSIZE=50/AGG=mean/morans_i_by_gene.jsonl'),\n",
       " 'CEACAM6': (0.3976616677147201,\n",
       "  'results/hBreast/BayXenSmooth/clusters/PCA/5/KMEANSINIT=True/NEIGHBORSIZE=5/NUMCLUSTERS=17/SPATIALINIT=True/SAMPLEFORASSIGNMENT=True/SPATIALNORM=0.1/SPATIALPRIORMULT=0.05/SPOTSIZE=50/AGG=mean/morans_i_by_gene.jsonl'),\n",
       " 'FASN': (1.097033499829174,\n",
       "  'results/hBreast/BayXenSmooth/clusters/PCA/5/KMEANSINIT=True/NEIGHBORSIZE=1/NUMCLUSTERS=17/SPATIALINIT=False/SAMPLEFORASSIGNMENT=True/SPATIALNORM=0.0/SPATIALPRIORMULT=0.05/SPOTSIZE=50/AGG=mean/morans_i_by_gene.jsonl'),\n",
       " 'FGL2': (0.49955449361525234,\n",
       "  'results/hBreast/BayXenSmooth/clusters/PCA/5/KMEANSINIT=True/NEIGHBORSIZE=1/NUMCLUSTERS=17/SPATIALINIT=True/SAMPLEFORASSIGNMENT=True/SPATIALNORM=0.05/SPATIALPRIORMULT=2.0/SPOTSIZE=50/AGG=mean/morans_i_by_gene.jsonl'),\n",
       " 'IL7R': (0.8541675210364736,\n",
       "  'results/hBreast/BayXenSmooth/clusters/PCA/5/KMEANSINIT=True/NEIGHBORSIZE=1/NUMCLUSTERS=17/SPATIALINIT=True/SAMPLEFORASSIGNMENT=True/SPATIALNORM=0.05/SPATIALPRIORMULT=1.25/SPOTSIZE=50/AGG=mean/morans_i_by_gene.jsonl'),\n",
       " 'KRT6B': (0.6514173229806246,\n",
       "  'results/hBreast/BayXenSmooth/clusters/PCA/5/KMEANSINIT=True/NEIGHBORSIZE=1/NUMCLUSTERS=17/SPATIALINIT=True/SAMPLEFORASSIGNMENT=True/SPATIALNORM=0.1/SPATIALPRIORMULT=0.05/SPOTSIZE=50/AGG=mean/morans_i_by_gene.jsonl'),\n",
       " 'POSTN': (0.5127450015532266,\n",
       "  'results/hBreast/BayXenSmooth/clusters/PCA/25/KMEANSINIT=True/NEIGHBORSIZE=1/NUMCLUSTERS=17/SPATIALINIT=True/SAMPLEFORASSIGNMENT=False/SPATIALNORM=0.1/SPATIALPRIORMULT=1.0/SPOTSIZE=50/AGG=sum/morans_i_by_gene.jsonl'),\n",
       " 'TCIM': (0.6940305646397701,\n",
       "  'results/hBreast/BayXenSmooth/clusters/PCA/25/KMEANSINIT=True/NEIGHBORSIZE=5/NUMCLUSTERS=17/SPATIALINIT=True/SAMPLEFORASSIGNMENT=True/SPATIALNORM=1.0/SPATIALPRIORMULT=1.0/SPOTSIZE=50/AGG=mean/morans_i_by_gene.jsonl')}"
      ]
     },
     "execution_count": 17,
     "metadata": {},
     "output_type": "execute_result"
    }
   ],
   "source": [
    "morans_i_dict"
   ]
  },
  {
   "cell_type": "markdown",
   "metadata": {},
   "source": [
    "# Best Moran's I"
   ]
  },
  {
   "cell_type": "code",
   "execution_count": 89,
   "metadata": {},
   "outputs": [],
   "source": [
    "import os\n",
    "import json\n",
    "\n",
    "genes = [\"BANK1\", \"CEACAM6\", \"FASN\", \"FGL2\", \"IL7R\", \"KRT6B\", \"POSTN\", \"TCIM\"]\n",
    "\n",
    "# Define the directory where the results are stored\n",
    "results_dir = \"results/hBreast\"\n",
    "\n",
    "# Loop through all subdirectories in the results directory\n",
    "morans_i_dict = {}\n",
    "for gene_name in genes:\n",
    "    current_max_expression = 0\n",
    "    for root, dirs, files in os.walk(results_dir):\n",
    "        for file in files:\n",
    "            # Check if the file is named morans_i_by_gene.json\n",
    "            if file == \"morans_i_by_gene.jsonl\":\n",
    "                # Construct the full path to the file\n",
    "                file_path = os.path.join(root, file)\n",
    "                # Open and read the file\n",
    "                with open(file_path, 'r') as f:\n",
    "                    # Load the JSON data\n",
    "                    data = [line for line in jsonlines.Reader(f)]\n",
    "                    # Print the data to verify it's been loaded\n",
    "                    morans_i = [x for x in data if gene_name in x]\n",
    "                    if morans_i[0][gene_name] > current_max_expression and \"50/\" in file_path:\n",
    "                        current_max_filepath = file_path\n",
    "                        current_max_expression = morans_i[0][gene_name]\n",
    "    morans_i_dict[gene_name] = current_max_expression, current_max_filepath"
   ]
  },
  {
   "cell_type": "code",
   "execution_count": 90,
   "metadata": {},
   "outputs": [
    {
     "data": {
      "text/plain": [
       "{'BANK1': (1.8650058683752129,\n",
       "  'results/hBreast/Leiden/2.0/morans_i_by_gene/50/morans_i_by_gene.jsonl'),\n",
       " 'CEACAM6': (0.45023304324711766,\n",
       "  'results/hBreast/Hierarchical_No_Spatial/17/morans_i_by_gene/50/morans_i_by_gene.jsonl'),\n",
       " 'FASN': (1.2079717556829321,\n",
       "  'results/hBreast/Hierarchical_No_Spatial/17/morans_i_by_gene/50/morans_i_by_gene.jsonl'),\n",
       " 'FGL2': (0.7330348431125849,\n",
       "  'results/hBreast/Louvain/2.0/morans_i_by_gene/50/morans_i_by_gene.jsonl'),\n",
       " 'IL7R': (1.5203046247198084,\n",
       "  'results/hBreast/Leiden/2.0/morans_i_by_gene/50/morans_i_by_gene.jsonl'),\n",
       " 'KRT6B': (1.2138165811584587,\n",
       "  'results/hBreast/Leiden/2.0/morans_i_by_gene/50/morans_i_by_gene.jsonl'),\n",
       " 'POSTN': (0.716141225118721,\n",
       "  'results/hBreast/Louvain/2.0/morans_i_by_gene/50/morans_i_by_gene.jsonl'),\n",
       " 'TCIM': (1.024815921630369,\n",
       "  'results/hBreast/Louvain/2.0/morans_i_by_gene/50/morans_i_by_gene.jsonl')}"
      ]
     },
     "execution_count": 90,
     "metadata": {},
     "output_type": "execute_result"
    }
   ],
   "source": [
    "morans_i_dict"
   ]
  },
  {
   "cell_type": "code",
   "execution_count": 18,
   "metadata": {},
   "outputs": [],
   "source": [
    "import seaborn as sns\n",
    "import matplotlib.pyplot as plt"
   ]
  },
  {
   "cell_type": "code",
   "execution_count": 19,
   "metadata": {},
   "outputs": [
    {
     "name": "stdout",
     "output_type": "stream",
     "text": [
      "Starting Moran's I Calculation.\n"
     ]
    },
    {
     "name": "stderr",
     "output_type": "stream",
     "text": [
      "/home/roko/.cache/pypoetry/virtualenvs/xenium-1YUjn3qu-py3.10/lib/python3.10/site-packages/anndata/utils.py:292: UserWarning: X converted to numpy array with dtype float64\n",
      "  warnings.warn(f\"{name} converted to numpy array with dtype {arr.dtype}\")\n"
     ]
    },
    {
     "name": "stdout",
     "output_type": "stream",
     "text": [
      "Neighbors calculated.\n"
     ]
    },
    {
     "data": {
      "image/png": "[encoded data removed]",
      "text/plain": [
       "<Figure size 800x600 with 2 Axes>"
      ]
     },
     "metadata": {},
     "output_type": "display_data"
    },
    {
     "name": "stdout",
     "output_type": "stream",
     "text": [
      "(23444, 23444) (23444, 23444)\n",
      "Connectivities formed.\n"
     ]
    }
   ],
   "source": [
    "spots_per_side = 100\n",
    "\n",
    "print(\"Starting Moran's I Calculation.\")\n",
    "moran_clusters = ad.AnnData(locations)\n",
    "sc.pp.neighbors(moran_clusters, n_pcs=0, n_neighbors=100)\n",
    "print(\"Neighbors calculated.\")\n",
    "\n",
    "connectivities_submatrix = moran_clusters.obsp[\"connectivities\"][:spots_per_side, :spots_per_side].A\n",
    "# connectivities_submatrix = same_cluster[:spots_per_side, :spots_per_side]\n",
    "\n",
    "# Create a heatmap\n",
    "plt.figure(figsize=(8, 6))\n",
    "sns.heatmap(connectivities_submatrix, cmap='Blues')\n",
    "plt.title('Connectivities Heatmap')\n",
    "plt.xlabel('Spot Index')\n",
    "plt.ylabel('Spot Index')\n",
    "plt.show()\n",
    "\n",
    "# Create a binary adjacency matrix indicating if points are in the same cluster\n",
    "cluster_labels = clusters.values\n",
    "same_cluster = (cluster_labels[:, None] == cluster_labels).astype(int)\n",
    "print(moran_clusters.obsp[\"connectivities\"].shape, same_cluster.shape)\n",
    "moran_clusters.obsp[\"connectivities\"] = moran_clusters.obsp[\"connectivities\"].multiply(csr_matrix(same_cluster))\n",
    "print(\"Connectivities formed.\")\n",
    "\n",
    "# Calculate Moran's I for the genes\n",
    "morans_i = sc.metrics.morans_i(moran_clusters, vals=clustering.xenium_spot_data.X.T)\n",
    "\n",
    "morans_i_dict = dict(zip(clustering.xenium_spot_data.var.index, morans_i))"
   ]
  },
  {
   "cell_type": "code",
   "execution_count": 20,
   "metadata": {},
   "outputs": [
    {
     "data": {
      "image/png": "[encoded data removed]",
      "text/plain": [
       "<Figure size 800x600 with 2 Axes>"
      ]
     },
     "metadata": {},
     "output_type": "display_data"
    }
   ],
   "source": [
    "# Extract the first 10x10 submatrix of the connectivities matrix\n",
    "connectivities_submatrix = moran_clusters.obsp[\"connectivities\"][:spots_per_side, :spots_per_side].A\n",
    "# connectivities_submatrix = same_cluster[:spots_per_side, :spots_per_side]\n",
    "\n",
    "# Create a heatmap\n",
    "plt.figure(figsize=(8, 6))\n",
    "sns.heatmap(connectivities_submatrix, cmap='Blues')\n",
    "plt.title('Connectivities Heatmap')\n",
    "plt.xlabel('Spot Index')\n",
    "plt.ylabel('Spot Index')\n",
    "plt.show()"
   ]
  },
  {
   "cell_type": "code",
   "execution_count": 31,
   "metadata": {},
   "outputs": [
    {
     "data": {
      "image/png": "[encoded data removed]",
      "text/plain": [
       "<Figure size 800x600 with 2 Axes>"
      ]
     },
     "metadata": {},
     "output_type": "display_data"
    }
   ],
   "source": [
    "import seaborn as sns\n",
    "import matplotlib.pyplot as plt\n",
    "\n",
    "spots_per_side = 100\n",
    "\n",
    "# Extract the first 10x10 submatrix of the connectivities matrix\n",
    "# connectivities_submatrix = moran_clusters.obsp[\"connectivities\"][:spots_per_side, :spots_per_side].A\n",
    "connectivities_submatrix = same_cluster[:spots_per_side, :spots_per_side]\n",
    "\n",
    "# Create a heatmap\n",
    "plt.figure(figsize=(8, 6))\n",
    "sns.heatmap(connectivities_submatrix, cmap='Blues')\n",
    "plt.title('Connectivities Heatmap')\n",
    "plt.xlabel('Spot Index')\n",
    "plt.ylabel('Spot Index')\n",
    "plt.show()"
   ]
  },
  {
   "cell_type": "markdown",
   "metadata": {},
   "source": [
    "# Sanity Check of Clusters and Moran's I Values"
   ]
  },
  {
   "cell_type": "code",
   "execution_count": 39,
   "metadata": {},
   "outputs": [
    {
     "name": "stderr",
     "output_type": "stream",
     "text": [
      "/tmp/ipykernel_1146753/3024920468.py:15: FutureWarning: Series.__getitem__ treating keys as positions is deprecated. In a future version, integer keys will always be treated as labels (consistent with DataFrame behavior). To access a value by position, use `ser.iloc[pos]`\n",
      "  cluster_grid[rows, columns] = torch.tensor(clusters) + 1\n",
      "/tmp/ipykernel_1146753/3024920468.py:17: MatplotlibDeprecationWarning: The get_cmap function was deprecated in Matplotlib 3.7 and will be removed two minor releases later. Use ``matplotlib.colormaps[name]`` or ``matplotlib.colormaps.get_cmap(obj)`` instead.\n",
      "  colors = plt.cm.get_cmap('viridis', num_clusters + 1)\n"
     ]
    },
    {
     "data": {
      "text/plain": [
       "Text(0.5, 1.0, 'Prior Cluster Assignment with BayXenSmooth')"
      ]
     },
     "execution_count": 39,
     "metadata": {},
     "output_type": "execute_result"
    },
    {
     "data": {
      "image/png": "[encoded data removed]",
      "text/plain": [
       "<Figure size 600x600 with 2 Axes>"
      ]
     },
     "metadata": {},
     "output_type": "display_data"
    }
   ],
   "source": [
    "import torch\n",
    "import matplotlib.pyplot as plt\n",
    "from matplotlib.colors import ListedColormap\n",
    "\n",
    "num_clusters = K\n",
    "\n",
    "rows = locations[\"row\"].astype(int)\n",
    "columns = locations[\"col\"].astype(int)\n",
    "\n",
    "num_rows = max(rows) + 1\n",
    "num_cols = max(columns) + 1\n",
    "\n",
    "cluster_grid = torch.zeros((num_rows, num_cols), dtype=torch.long)\n",
    "\n",
    "cluster_grid[rows, columns] = torch.tensor(clusters) + 1\n",
    "\n",
    "colors = plt.cm.get_cmap('viridis', num_clusters + 1)\n",
    "\n",
    "colormap_colors = np.vstack(([[1, 1, 1, 1]], colors(np.linspace(0, 1, num_clusters))))\n",
    "colormap = ListedColormap(colormap_colors)\n",
    "\n",
    "plt.figure(figsize=(6, 6))\n",
    "plt.imshow(cluster_grid, cmap=colormap, interpolation='nearest', origin='lower')\n",
    "plt.colorbar(ticks=range(num_clusters + 1), label='Cluster Values')\n",
    "plt.title('Prior Cluster Assignment with BayXenSmooth')"
   ]
  },
  {
   "cell_type": "code",
   "execution_count": null,
   "metadata": {},
   "outputs": [],
   "source": []
  }
 ],
 "metadata": {
  "kernelspec": {
   "display_name": "xenium-1YUjn3qu-py3.10",
   "language": "python",
   "name": "python3"
  },
  "language_info": {
   "codemirror_mode": {
    "name": "ipython",
    "version": 3
   },
   "file_extension": ".py",
   "mimetype": "text/x-python",
   "name": "python",
   "nbconvert_exporter": "python",
   "pygments_lexer": "ipython3",
   "version": "3.10.12"
  }
 },
 "nbformat": 4,
 "nbformat_minor": 2
}
