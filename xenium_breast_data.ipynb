{
 "cells": [
  {
   "cell_type": "markdown",
   "metadata": {},
   "source": [
    "# Data Collection"
   ]
  },
  {
   "cell_type": "markdown",
   "metadata": {},
   "source": [
    "We will collect the data from the Xenium Datasets on the 10x Genomics platform."
   ]
  },
  {
   "cell_type": "code",
   "execution_count": 1,
   "metadata": {},
   "outputs": [],
   "source": [
    "import requests"
   ]
  },
  {
   "cell_type": "code",
   "execution_count": 2,
   "metadata": {},
   "outputs": [],
   "source": [
    "def download_file(url):\n",
    "    # Get the filename from the URL\n",
    "    filename = f\"data/{url.split('/')[-1]}\"\n",
    "\n",
    "    # Send a GET request to the URL\n",
    "    response = requests.get(url, stream=True)\n",
    "\n",
    "    # Check if the request was successful\n",
    "    if response.status_code == 200:\n",
    "        # Save the file\n",
    "        with open(filename, 'wb') as f:\n",
    "            for chunk in response.iter_content(chunk_size=1024):\n",
    "                if chunk:  # filter out keep-alive new chunks\n",
    "                    f.write(chunk)\n",
    "        print(f\"File '{filename}' downloaded successfully.\")\n",
    "    else:\n",
    "        print(f\"Error: Unable to download file. HTTP status code: {response.status_code}\")"
   ]
  },
  {
   "cell_type": "code",
   "execution_count": 3,
   "metadata": {},
   "outputs": [
    {
     "name": "stdout",
     "output_type": "stream",
     "text": [
      "File 'data/Xenium_V1_FFPE_Human_Breast_ILC_outs.zip' downloaded successfully.\n"
     ]
    }
   ],
   "source": [
    "url = \"https://cf.10xgenomics.com/samples/xenium/1.0.2/Xenium_V1_FFPE_Human_Breast_ILC/Xenium_V1_FFPE_Human_Breast_ILC_outs.zip\"\n",
    "download_file(url)"
   ]
  },
  {
   "cell_type": "markdown",
   "metadata": {},
   "source": [
    "# Get Data Array"
   ]
  },
  {
   "cell_type": "code",
   "execution_count": 4,
   "metadata": {},
   "outputs": [],
   "source": [
    "import zipfile"
   ]
  },
  {
   "cell_type": "code",
   "execution_count": 5,
   "metadata": {},
   "outputs": [],
   "source": [
    "with zipfile.ZipFile('data/Xenium_V1_FFPE_Human_Breast_ILC_outs.zip', 'r') as data:\n",
    "    data.extractall('data/hBreast')"
   ]
  },
  {
   "cell_type": "markdown",
   "metadata": {},
   "source": [
    "This should have extracted all the outs. For now, we are interested in the transcripts data."
   ]
  },
  {
   "cell_type": "code",
   "execution_count": null,
   "metadata": {},
   "outputs": [],
   "source": [
    "import pandas as pd\n",
    "import numpy as np"
   ]
  },
  {
   "cell_type": "code",
   "execution_count": null,
   "metadata": {},
   "outputs": [],
   "source": [
    "# Path to your .gz file\n",
    "file_path = 'data/hBreast/transcripts.csv.gz'\n",
    "\n",
    "# Read the gzipped CSV file into a DataFrame\n",
    "df_transcripts = pd.read_csv(file_path, compression='gzip')\n",
    "\n",
    "df_transcripts[\"error_prob\"] = 10 ** (-df_transcripts[\"qv\"]/10)"
   ]
  },
  {
   "cell_type": "code",
   "execution_count": null,
   "metadata": {},
   "outputs": [],
   "source": [
    "# Display the first few rows of the DataFrame\n",
    "print(df_transcripts.head())\n",
    "\n",
    "print(len(df_transcripts))"
   ]
  },
  {
   "cell_type": "code",
   "execution_count": null,
   "metadata": {},
   "outputs": [],
   "source": [
    "# Function to read a Parquet file and convert it to a pandas DataFrame\n",
    "def read_parquet_to_dataframe(file_path):\n",
    "    \"\"\"\n",
    "    Reads a Parquet file from the specified file path and converts it into a pandas DataFrame.\n",
    "\n",
    "    Parameters:\n",
    "    file_path (str): The file path of the Parquet file to be read.\n",
    "\n",
    "    Returns:\n",
    "    pd.DataFrame: A DataFrame containing the data from the Parquet file.\n",
    "    \"\"\"\n",
    "\n",
    "    # Using pandas to read the Parquet file\n",
    "    try:\n",
    "        df = pd.read_parquet(file_path)\n",
    "        return df\n",
    "    except Exception as e:\n",
    "        # If there's an error (e.g., file not found, file format issues), it will print the error message\n",
    "        print(f\"Error reading the Parquet file: {e}\")\n",
    "        return None"
   ]
  },
  {
   "cell_type": "code",
   "execution_count": null,
   "metadata": {},
   "outputs": [],
   "source": [
    "file_path = 'data/hBreast/transcripts.parquet' # Replace with your Parquet file path\n",
    "dataframe = read_parquet_to_dataframe(file_path)\n",
    "\n",
    "# Optional: Displaying the DataFrame if it's not None\n",
    "if dataframe is not None:\n",
    "    print(dataframe)"
   ]
  },
  {
   "cell_type": "markdown",
   "metadata": {},
   "source": [
    "# Convert the dataset s.t. each row is a cell."
   ]
  },
  {
   "cell_type": "code",
   "execution_count": null,
   "metadata": {},
   "outputs": [],
   "source": [
    "location_means = df_transcripts.groupby('cell_id').agg({\n",
    "    'x_location': 'mean',\n",
    "    'y_location': 'mean',\n",
    "    'z_location': 'mean'\n",
    "}).reset_index()"
   ]
  },
  {
   "cell_type": "code",
   "execution_count": null,
   "metadata": {},
   "outputs": [],
   "source": [
    "counts = df_transcripts.groupby(['cell_id', 'feature_name']).size().reset_index(name='count')\n",
    "print(counts.head())\n",
    "counts[\"normalized_log1p_count\"] = np.log1p(counts['count'])"
   ]
  },
  {
   "cell_type": "code",
   "execution_count": null,
   "metadata": {},
   "outputs": [],
   "source": [
    "counts_pivot = counts.pivot_table(index='cell_id', \n",
    "                                  columns='feature_name', \n",
    "                                  values='normalized_log1p_count', \n",
    "                                  fill_value=0)"
   ]
  },
  {
   "cell_type": "code",
   "execution_count": null,
   "metadata": {},
   "outputs": [],
   "source": [
    "breast_cells_df = location_means.join(counts_pivot, on='cell_id')"
   ]
  },
  {
   "cell_type": "code",
   "execution_count": null,
   "metadata": {},
   "outputs": [],
   "source": [
    "print(breast_cells_df.head())\n",
    "breast_cells_df.shape"
   ]
  },
  {
   "cell_type": "code",
   "execution_count": null,
   "metadata": {},
   "outputs": [],
   "source": [
    "# Drop the unassigned cell id\n",
    "breast_cells_df = breast_cells_df.query(\"cell_id != -1\")"
   ]
  },
  {
   "cell_type": "code",
   "execution_count": null,
   "metadata": {},
   "outputs": [],
   "source": [
    "print(breast_cells_df.shape)\n",
    "breast_cells_df.head()"
   ]
  },
  {
   "cell_type": "code",
   "execution_count": null,
   "metadata": {},
   "outputs": [],
   "source": [
    "breast_cells_df.to_csv(\"data/hBreast/hBreastST.csv\")"
   ]
  },
  {
   "cell_type": "markdown",
   "metadata": {},
   "source": [
    "# Plotting"
   ]
  },
  {
   "cell_type": "markdown",
   "metadata": {},
   "source": [
    "We can plot the the locations of the transcripts using a 3D scatterplot (only for AZGP1)."
   ]
  },
  {
   "cell_type": "code",
   "execution_count": null,
   "metadata": {},
   "outputs": [],
   "source": [
    "import matplotlib.pyplot as plt"
   ]
  },
  {
   "cell_type": "code",
   "execution_count": null,
   "metadata": {},
   "outputs": [],
   "source": [
    "fig = plt.figure()\n",
    "ax = fig.add_subplot(projection='3d')\n",
    "\n",
    "ax.scatter(breast_cells_df[\"x_location\"], breast_cells_df[\"y_location\"], breast_cells_df[\"z_location\"], s=5*breast_cells_df[\"ABCC11\"], alpha=0.1)"
   ]
  },
  {
   "cell_type": "markdown",
   "metadata": {},
   "source": [
    "# Clustering"
   ]
  },
  {
   "cell_type": "markdown",
   "metadata": {},
   "source": [
    "For now, we will use a very trivial clustering technique just to showcase what is possible with the data we have collected so far."
   ]
  },
  {
   "cell_type": "markdown",
   "metadata": {},
   "source": [
    "### Clustering with Scanpy"
   ]
  },
  {
   "cell_type": "code",
   "execution_count": null,
   "metadata": {},
   "outputs": [],
   "source": [
    "import scanpy as sc\n",
    "import anndata as ad\n",
    "import matplotlib.pyplot as plt"
   ]
  },
  {
   "cell_type": "code",
   "execution_count": null,
   "metadata": {},
   "outputs": [],
   "source": [
    "breast_sc_adata = ad.read_csv('data/hBreast/hBreastST.csv')"
   ]
  },
  {
   "cell_type": "code",
   "execution_count": null,
   "metadata": {},
   "outputs": [],
   "source": [
    "sc.tl.pca(breast_sc_adata, svd_solver='arpack')\n",
    "plt.rcParams['figure.facecolor'] = 'white'\n",
    "sc.pl.pca_variance_ratio(breast_sc_adata, log=True)"
   ]
  },
  {
   "cell_type": "code",
   "execution_count": null,
   "metadata": {},
   "outputs": [],
   "source": [
    "sc.pp.neighbors(breast_sc_adata, n_neighbors=15, n_pcs=20)"
   ]
  },
  {
   "cell_type": "code",
   "execution_count": null,
   "metadata": {},
   "outputs": [],
   "source": [
    "sc.tl.leiden(breast_sc_adata,resolution=2.2,key_added='leiden_2_2')\n",
    "sc.tl.leiden(breast_sc_adata,resolution=1.8,key_added='leiden_1_8')\n",
    "sc.tl.leiden(breast_sc_adata,resolution=1.4,key_added='leiden_1_4')\n",
    "sc.tl.leiden(breast_sc_adata,resolution=1.0,key_added='leiden_1_0')\n",
    "sc.tl.leiden(breast_sc_adata,resolution=0.8,key_added='leiden_0_8')\n",
    "sc.tl.leiden(breast_sc_adata,resolution=0.6,key_added='leiden_0_6')\n",
    "sc.tl.leiden(breast_sc_adata,resolution=0.025,key_added='leiden_0_025')"
   ]
  },
  {
   "cell_type": "code",
   "execution_count": null,
   "metadata": {},
   "outputs": [],
   "source": [
    "sc.tl.leiden(breast_sc_adata,resolution=0.001,key_added='leiden_0_001')"
   ]
  },
  {
   "cell_type": "code",
   "execution_count": null,
   "metadata": {},
   "outputs": [],
   "source": [
    "sc.tl.umap(breast_sc_adata, min_dist=0.1)"
   ]
  },
  {
   "cell_type": "code",
   "execution_count": null,
   "metadata": {},
   "outputs": [],
   "source": [
    "breast_sc_adata.obs['leiden_2_2'], breast_sc_adata.obs['leiden_0_6'], breast_sc_adata.obs['leiden_0_001']"
   ]
  },
  {
   "cell_type": "code",
   "execution_count": null,
   "metadata": {},
   "outputs": [],
   "source": [
    "# sc.set_figure_params(scanpy=True, dpi=150,figsize=(10,10))\n",
    "# plt.rcParams['figure.facecolor'] = 'white'\n",
    "sc.pl.umap(breast_sc_adata,size=30,color='leiden_0_001',legend_loc='on data',legend_fontsize=3,legend_fontoutline=1,show=False,palette=\"rainbow\")"
   ]
  },
  {
   "cell_type": "markdown",
   "metadata": {},
   "source": [
    "### Obviously, this looks way too cluttered. The reason? "
   ]
  }
 ],
 "metadata": {
  "kernelspec": {
   "display_name": "xenium-1YUjn3qu-py3.10",
   "language": "python",
   "name": "python3"
  },
  "language_info": {
   "codemirror_mode": {
    "name": "ipython",
    "version": 3
   },
   "file_extension": ".py",
   "mimetype": "text/x-python",
   "name": "python",
   "nbconvert_exporter": "python",
   "pygments_lexer": "ipython3",
   "version": "3.10.12"
  }
 },
 "nbformat": 4,
 "nbformat_minor": 2
}
