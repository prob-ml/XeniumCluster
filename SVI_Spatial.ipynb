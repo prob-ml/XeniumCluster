{
 "cells": [
  {
   "cell_type": "code",
   "execution_count": 590,
   "metadata": {},
   "outputs": [],
   "source": [
    "import math\n",
    "import os\n",
    "import torch\n",
    "import torch.distributions.constraints as constraints\n",
    "import pyro\n",
    "from pyro.optim import Adam, StepLR, ClippedAdam\n",
    "from pyro.infer import SVI, Trace_ELBO\n",
    "import pyro.distributions as dist\n",
    "import numpy as np\n",
    "import matplotlib.pyplot as plt\n",
    "from matplotlib.colors import ListedColormap\n",
    "\n",
    "import numpy as np\n",
    "import pandas as pd\n",
    "import scanpy as sc\n",
    "import matplotlib.pyplot as plt\n",
    "from matplotlib.colors import ListedColormap\n",
    "import torch\n",
    "from torch.utils.data import DataLoader, TensorDataset\n",
    "import lightning as L\n",
    "import torch.nn.functional as F\n",
    "import optuna\n",
    "import tensorboard\n",
    "from lightning.pytorch.loggers import TensorBoardLogger\n",
    "\n",
    "import warnings\n",
    "warnings.filterwarnings(\"ignore\")\n",
    "from importlib import reload\n",
    "\n",
    "import torchclustermetrics \n",
    "reload(torchclustermetrics)\n",
    "from torchclustermetrics import silhouette\n",
    "\n",
    "# this ensures that I can update the class without losing my variables in my notebook\n",
    "import xenium_cluster\n",
    "reload(xenium_cluster)\n",
    "from xenium_cluster import XeniumCluster\n",
    "from utils.metrics import *\n",
    "\n",
    "from sklearn.decomposition import PCA"
   ]
  },
  {
   "cell_type": "code",
   "execution_count": 2,
   "metadata": {},
   "outputs": [
    {
     "data": {
      "text/plain": [
       "(     transcript_id  cell_id  overlaps_nucleus feature_name  x_location  \\\n",
       " 0  281474976710657   191815                 1          LUM   4797.2383   \n",
       " 1  281474976710663   214084                 1       SEC11C   4801.7330   \n",
       " 2  281474976710672   191342                 0         TCIM   4804.4920   \n",
       " 3  281474976710673   191574                 0         STC1   4805.0483   \n",
       " 4  281474976710674   192193                 0         STC1   4805.7170   \n",
       " \n",
       "    y_location  z_location         qv  \n",
       " 0   550.61346   15.421524  18.445875  \n",
       " 1   905.11600   14.925031  31.019386  \n",
       " 2   596.05396   14.681485  22.270780  \n",
       " 3   414.38370   19.306356  16.183300  \n",
       " 4   273.81440   16.112896  26.251837  ,\n",
       " (43775350, 8))"
      ]
     },
     "execution_count": 2,
     "metadata": {},
     "output_type": "execute_result"
    }
   ],
   "source": [
    "# Path to your .gz file\n",
    "file_path = 'data/hBreast/transcripts.csv.gz'\n",
    "\n",
    "# Read the gzipped CSV file into a DataFrame\n",
    "df_transcripts = pd.read_csv(file_path, compression='gzip')\n",
    "df_transcripts.head(), df_transcripts.shape"
   ]
  },
  {
   "cell_type": "code",
   "execution_count": 3,
   "metadata": {},
   "outputs": [],
   "source": [
    "clustering = XeniumCluster(data=df_transcripts, dataset_name=\"hBreast\")\n",
    "clustering.set_spot_size(100)\n",
    "clustering.create_spot_data(third_dim=False, save_data=True)"
   ]
  },
  {
   "cell_type": "code",
   "execution_count": 4,
   "metadata": {},
   "outputs": [],
   "source": [
    "valid_genes_mask = ~clustering.xenium_spot_data.var_names.str.startswith('BLANK_') & ~clustering.xenium_spot_data.var_names.str.startswith('NegControl')\n",
    "clustering.xenium_spot_data = clustering.xenium_spot_data[:, valid_genes_mask]"
   ]
  },
  {
   "cell_type": "code",
   "execution_count": 21,
   "metadata": {},
   "outputs": [
    {
     "name": "stdout",
     "output_type": "stream",
     "text": [
      "WARNING: adata.X seems to be already log-transformed.\n"
     ]
    }
   ],
   "source": [
    "clustering.normalize_counts(clustering.xenium_spot_data)"
   ]
  },
  {
   "cell_type": "code",
   "execution_count": 6,
   "metadata": {},
   "outputs": [
    {
     "data": {
      "text/plain": [
       "(7312, 5)"
      ]
     },
     "execution_count": 6,
     "metadata": {},
     "output_type": "execute_result"
    }
   ],
   "source": [
    "sc.tl.pca(clustering.xenium_spot_data, svd_solver='arpack', n_comps=5)\n",
    "clustering.xenium_spot_data.obsm[\"X_pca\"].shape"
   ]
  },
  {
   "cell_type": "code",
   "execution_count": 726,
   "metadata": {},
   "outputs": [],
   "source": [
    "def spatial_loss(model, guide, data, original_positions, batch_size=256, weight=1.0, sigma=1.0, *args, **kwargs):\n",
    "\n",
    "    elbo_loss_fn = Trace_ELBO(num_particles=10).differentiable_loss\n",
    "    elbo_loss = elbo_loss_fn(model, guide, data, *args, **kwargs)\n",
    "    \n",
    "    def smoothness_loss(cluster_probs, original_positions, sigma):\n",
    "        pairwise_distances = torch.cdist(original_positions, original_positions, p=2)\n",
    "        adjacency_matrix = torch.exp(-pairwise_distances**2 / (2 * sigma**2))\n",
    "        # cluster_probs = F.softmax(cluster_probs, dim=1)\n",
    "        cluster_probs = F.gumbel_softmax(cluster_probs, tau=0.25, dim=1)\n",
    "        diffs = cluster_probs.unsqueeze(1) - cluster_probs.unsqueeze(0)\n",
    "        smoothness_loss_value = torch.sum(adjacency_matrix * torch.sum(diffs**2, dim=-1))\n",
    "        return smoothness_loss_value\n",
    "    \n",
    "    with pyro.plate(\"data\", len(original_positions), subsample_size=batch_size) as ind:\n",
    "        cluster_probs = (pyro.param(\"cluster_concentration_params_q\")[ind])\n",
    "        positions = original_positions[ind]\n",
    "    \n",
    "    spatial_loss_value = smoothness_loss(cluster_probs, positions, sigma)\n",
    "    \n",
    "    total_loss = elbo_loss + weight * spatial_loss_value\n",
    "    \n",
    "    # print(f\"ELBO: {elbo_loss.item()}, SPATIAL: {weight * spatial_loss_value.item()}, CUSTOM: {total_loss.item()}\")\n",
    "\n",
    "    return total_loss"
   ]
  },
  {
   "cell_type": "code",
   "execution_count": 727,
   "metadata": {},
   "outputs": [],
   "source": [
    "NUM_CLUSTERS = 4\n",
    "BATCH_SIZE = 256\n",
    "\n",
    "# Clear the param store in case we're in a REPL\n",
    "pyro.clear_param_store()"
   ]
  },
  {
   "cell_type": "code",
   "execution_count": 728,
   "metadata": {},
   "outputs": [],
   "source": [
    "# Load the data (5 PCs for each spot)\n",
    "data = torch.tensor(clustering.xenium_spot_data.obsm[\"X_pca\"]).float()"
   ]
  },
  {
   "cell_type": "code",
   "execution_count": 729,
   "metadata": {},
   "outputs": [],
   "source": [
    "def model(data):\n",
    "    # Define priors for the cluster assignment probabilities and Gaussian parameters\n",
    "    with pyro.plate(\"data\", len(data), subsample_size=BATCH_SIZE) as ind:\n",
    "        batch_data = data[ind]\n",
    "        cluster_probs = pyro.sample(\"cluster_probs\", dist.Dirichlet(torch.ones(BATCH_SIZE, NUM_CLUSTERS)))\n",
    "        \n",
    "        # Define the means and variances of the Gaussian components\n",
    "        cluster_means = pyro.sample(\"cluster_means\", dist.Normal(0., 1.).expand([NUM_CLUSTERS, batch_data.size(1)]).to_event(2))\n",
    "        cluster_scales = pyro.sample(\"cluster_scales\", dist.LogNormal(0., 1.).expand([NUM_CLUSTERS, batch_data.size(1)]).to_event(2))\n",
    "        \n",
    "        # Likelihood of data given cluster assignments\n",
    "        pyro.sample(\"obs\", dist.MixtureOfDiagNormals(cluster_means, cluster_scales, cluster_probs).to_event(1), obs=batch_data)\n",
    "\n",
    "def guide(data):\n",
    "    # Initialize cluster assignment probabilities for the entire dataset\n",
    "    cluster_concentration_params_q = pyro.param(\"cluster_concentration_params_q\", torch.ones(data.size(0), NUM_CLUSTERS), constraint=dist.constraints.positive)\n",
    "    # Global variational parameters for means and scales\n",
    "    cluster_means_q = pyro.param(\"cluster_means_q\", torch.randn(NUM_CLUSTERS, data.size(1)))\n",
    "    cluster_scales_q = pyro.param(\"cluster_scales_q\", torch.ones(NUM_CLUSTERS, data.size(1)), constraint=dist.constraints.positive)\n",
    "    \n",
    "    with pyro.plate(\"data\", len(data), subsample_size=BATCH_SIZE) as ind:\n",
    "\n",
    "        batch_cluster_concentration_params_q = cluster_concentration_params_q[ind]\n",
    "\n",
    "        # pyro.sample(\"cluster_probs\", dist.Categorical(batch_cluster_probs_q))\n",
    "        pyro.sample(\"cluster_probs\", dist.Dirichlet(batch_cluster_concentration_params_q))\n",
    "        pyro.sample(\"cluster_means\", dist.Normal(cluster_means_q, 0.1).to_event(2))\n",
    "        pyro.sample(\"cluster_scales\", dist.LogNormal(cluster_scales_q, 0.1).to_event(2))"
   ]
  },
  {
   "cell_type": "code",
   "execution_count": 730,
   "metadata": {},
   "outputs": [],
   "source": [
    "from pyro.optim import PyroOptim, PyroLRScheduler\n",
    "from torch.optim import Adam, lr_scheduler\n",
    "\n",
    "starting_lr = 0.01\n",
    "ending_lr = 0.00001\n",
    "N_STEPS = 10000\n",
    "\n",
    "# Setup the optimizer\n",
    "adam_params = {\"lr\": 0.01, \"betas\": (0.90, 0.999)}\n",
    "optimizer = PyroOptim(Adam, adam_params)\n",
    "scheduler = PyroLRScheduler(lr_scheduler.StepLR, {'optimizer': Adam, 'optim_args': {'lr': 0.01}, 'step_size': 1, 'gamma': (ending_lr / starting_lr) ** (1 / N_STEPS)})"
   ]
  },
  {
   "cell_type": "code",
   "execution_count": 731,
   "metadata": {},
   "outputs": [],
   "source": [
    "original_positions = torch.tensor(clustering.xenium_spot_data.obs[[\"row\", \"col\"]].to_numpy())\n",
    "original_positions /= original_positions.max()\n",
    "# original_positions = (original_positions - original_positions.mean(dim=0)) / original_positions.std(dim=0)"
   ]
  },
  {
   "cell_type": "code",
   "execution_count": 732,
   "metadata": {},
   "outputs": [],
   "source": [
    "# Setup the inference algorithm\n",
    "svi = SVI(model, guide, scheduler, loss=lambda model, guide, data, original_positions: spatial_loss(model, guide, data, original_positions))"
   ]
  },
  {
   "cell_type": "code",
   "execution_count": 733,
   "metadata": {},
   "outputs": [
    {
     "name": "stdout",
     "output_type": "stream",
     "text": [
      "Step 0 : loss = 62598075.2393\n",
      "Current learning rate: 0.009993094630025899\n",
      "Step 100 : loss = 29808712.4425\n",
      "Current learning rate: 0.009326098541743008\n",
      "Step 200 : loss = 27645158.1002\n",
      "Current learning rate: 0.008703621573738218\n",
      "Step 300 : loss = 26926980.88\n",
      "Current learning rate: 0.00812269226620068\n"
     ]
    }
   ],
   "source": [
    "# Do gradient steps\n",
    "for step in range(N_STEPS):\n",
    "    loss = svi.step(data, original_positions)\n",
    "    svi.optim.step()\n",
    "    if step % 100 == 0:\n",
    "        print(f\"Step {step} : loss = {round(loss, 4)}\")\n",
    "        # Access the underlying PyTorch scheduler\n",
    "        # Assuming that we are dealing with one optimizer and scheduler\n",
    "        pytorch_scheduler = next(iter(scheduler.optim_objs.values()))\n",
    "\n",
    "        # Get the last learning rate\n",
    "        current_lr = pytorch_scheduler.get_last_lr()[0]  # Get the last learning rate of the first param group\n",
    "        print(f\"Current learning rate: {current_lr}\")"
   ]
  },
  {
   "cell_type": "code",
   "execution_count": 716,
   "metadata": {},
   "outputs": [
    {
     "name": "stdout",
     "output_type": "stream",
     "text": [
      "tensor([0, 0, 0,  ..., 0, 0, 0]) tensor([[8.0618e-01, 1.8287e-01, 1.0952e-02, 6.9042e-08],\n",
      "        [8.4024e-01, 1.2477e-01, 3.1447e-03, 3.1840e-02],\n",
      "        [9.7868e-01, 2.0445e-02, 5.2776e-05, 8.2519e-04],\n",
      "        ...,\n",
      "        [9.1836e-01, 3.1601e-05, 8.1577e-02, 3.4790e-05],\n",
      "        [9.9211e-01, 4.5861e-03, 2.0183e-03, 1.2885e-03],\n",
      "        [9.4976e-01, 2.9793e-02, 3.3218e-03, 1.7127e-02]],\n",
      "       grad_fn=<_DirichletBackward>)\n"
     ]
    }
   ],
   "source": [
    "# Grab the learned variational parameters\n",
    "cluster_concentration_params_q = pyro.param(\"cluster_concentration_params_q\")\n",
    "cluster_probs_q = pyro.sample(\"cluster_probs\", dist.Dirichlet(cluster_concentration_params_q))\n",
    "cluster_concentration_params_q = cluster_concentration_params_q.detach().numpy()\n",
    "\n",
    "cluster_assigments_q = cluster_probs_q.argmax(dim=1)\n",
    "cluster_means_q = pyro.param(\"cluster_means_q\").detach().numpy()\n",
    "cluster_scales_q = pyro.param(\"cluster_scales_q\").detach().numpy()\n",
    "\n",
    "# Output the learned cluster probabilities for each data point\n",
    "print(cluster_assigments_q, cluster_probs_q)"
   ]
  },
  {
   "cell_type": "code",
   "execution_count": 717,
   "metadata": {},
   "outputs": [
    {
     "name": "stdout",
     "output_type": "stream",
     "text": [
      "torch.Size([7312, 4, 15])\n"
     ]
    },
    {
     "data": {
      "text/plain": [
       "[tensor(0.2355, grad_fn=<UnbindBackward0>),\n",
       " tensor(0.2373, grad_fn=<UnbindBackward0>),\n",
       " tensor(0.2808, grad_fn=<UnbindBackward0>),\n",
       " tensor(0.2464, grad_fn=<UnbindBackward0>)]"
      ]
     },
     "execution_count": 717,
     "metadata": {},
     "output_type": "execute_result"
    }
   ],
   "source": [
    "# Grab the learned variational parameters\n",
    "cluster_concentration_params_q = pyro.param(\"cluster_concentration_params_q\")\n",
    "cluster_probs_q = []\n",
    "for i in range(15):\n",
    "    cluster_probs_q_i = pyro.sample(f\"cluster_probs_{i}\", dist.Dirichlet(cluster_concentration_params_q))\n",
    "    cluster_probs_q.append(cluster_probs_q_i)\n",
    "cluster_concentration_params_q = cluster_concentration_params_q.detach().numpy()\n",
    "cluster_probs_q = torch.stack(cluster_probs_q, dim=-1)\n",
    "print(cluster_probs_q.shape)\n",
    "list(cluster_probs_q.mean(dim=(0,2)))"
   ]
  },
  {
   "cell_type": "code",
   "execution_count": 718,
   "metadata": {},
   "outputs": [
    {
     "data": {
      "text/plain": [
       "tensor([[[9.6539e-01, 9.0100e-01, 8.6353e-01,  ..., 9.4942e-01,\n",
       "          9.9334e-01, 8.2083e-01],\n",
       "         [8.2327e-03, 1.1889e-03, 2.1913e-02,  ..., 7.1488e-04,\n",
       "          6.4859e-03, 4.7349e-05],\n",
       "         [6.5090e-03, 9.7224e-02, 1.9129e-06,  ..., 6.7098e-03,\n",
       "          1.7264e-04, 1.7903e-01],\n",
       "         [1.9869e-02, 5.8823e-04, 1.1456e-01,  ..., 4.3155e-02,\n",
       "          2.3321e-08, 9.1403e-05]],\n",
       "\n",
       "        [[7.9890e-01, 9.6121e-01, 8.1788e-01,  ..., 9.6161e-01,\n",
       "          9.7974e-01, 8.9305e-01],\n",
       "         [2.8195e-02, 3.1647e-02, 1.6821e-01,  ..., 2.0124e-03,\n",
       "          1.6332e-02, 1.0440e-01],\n",
       "         [1.7207e-01, 6.5647e-04, 5.7510e-11,  ..., 2.6059e-02,\n",
       "          3.9291e-03, 6.6665e-04],\n",
       "         [8.3204e-04, 6.4913e-03, 1.3913e-02,  ..., 1.0317e-02,\n",
       "          3.7291e-06, 1.8828e-03]],\n",
       "\n",
       "        [[9.7828e-01, 8.6256e-01, 9.9970e-01,  ..., 9.8103e-01,\n",
       "          9.3836e-01, 9.8839e-01],\n",
       "         [1.2562e-02, 8.9245e-02, 1.9966e-04,  ..., 1.7554e-02,\n",
       "          5.7168e-03, 3.7346e-05],\n",
       "         [6.3821e-03, 4.7999e-02, 1.0436e-04,  ..., 2.2120e-04,\n",
       "          5.5777e-02, 8.0018e-03],\n",
       "         [2.7793e-03, 1.9336e-04, 3.6536e-08,  ..., 1.1984e-03,\n",
       "          1.4949e-04, 3.5737e-03]],\n",
       "\n",
       "        ...,\n",
       "\n",
       "        [[8.9884e-01, 8.9924e-01, 9.9997e-01,  ..., 8.3943e-01,\n",
       "          9.7889e-01, 9.8590e-01],\n",
       "         [1.4043e-02, 3.5116e-02, 3.1091e-05,  ..., 1.6056e-01,\n",
       "          1.2817e-05, 6.7617e-05],\n",
       "         [1.4497e-04, 6.5621e-02, 6.9867e-09,  ..., 5.1125e-06,\n",
       "          2.1051e-02, 1.5006e-04],\n",
       "         [8.6969e-02, 1.8038e-05, 8.6727e-11,  ..., 3.7218e-07,\n",
       "          5.0565e-05, 1.3884e-02]],\n",
       "\n",
       "        [[8.7266e-01, 9.8868e-01, 6.2276e-01,  ..., 8.7470e-01,\n",
       "          7.6951e-01, 4.9861e-01],\n",
       "         [7.3687e-03, 1.4889e-05, 3.7590e-01,  ..., 8.1353e-02,\n",
       "          3.6538e-02, 8.6682e-03],\n",
       "         [9.9515e-02, 2.0818e-06, 7.2998e-06,  ..., 1.6784e-02,\n",
       "          2.2408e-02, 4.9270e-01],\n",
       "         [2.0457e-02, 1.1301e-02, 1.3327e-03,  ..., 2.7166e-02,\n",
       "          1.7155e-01, 2.4689e-05]],\n",
       "\n",
       "        [[6.6884e-01, 8.3400e-01, 9.7600e-01,  ..., 8.2024e-01,\n",
       "          8.3809e-01, 9.1420e-01],\n",
       "         [1.9036e-02, 6.9674e-02, 1.0200e-02,  ..., 3.3352e-04,\n",
       "          8.9658e-02, 7.4713e-02],\n",
       "         [3.0679e-01, 6.0707e-08, 3.8733e-05,  ..., 2.8330e-03,\n",
       "          5.5244e-03, 5.9957e-03],\n",
       "         [5.3354e-03, 9.6328e-02, 1.3759e-02,  ..., 1.7659e-01,\n",
       "          6.6732e-02, 5.0926e-03]]], grad_fn=<StackBackward0>)"
      ]
     },
     "execution_count": 718,
     "metadata": {},
     "output_type": "execute_result"
    }
   ],
   "source": [
    "cluster_probs_q"
   ]
  },
  {
   "cell_type": "code",
   "execution_count": 719,
   "metadata": {},
   "outputs": [
    {
     "data": {
      "text/plain": [
       "(array([1672.,    0.,    0., 1712.,    0.,    0., 2120.,    0.,    0.,\n",
       "        1808.]),\n",
       " array([0. , 0.3, 0.6, 0.9, 1.2, 1.5, 1.8, 2.1, 2.4, 2.7, 3. ]),\n",
       " <BarContainer object of 10 artists>)"
      ]
     },
     "execution_count": 719,
     "metadata": {},
     "output_type": "execute_result"
    },
    {
     "data": {
      "image/png": "[encoded data removed]",
      "text/plain": [
       "<Figure size 640x480 with 1 Axes>"
      ]
     },
     "metadata": {},
     "output_type": "display_data"
    }
   ],
   "source": [
    "plt.hist(cluster_assigments_q)"
   ]
  },
  {
   "cell_type": "code",
   "execution_count": 720,
   "metadata": {},
   "outputs": [
    {
     "data": {
      "text/plain": [
       "(array([[ 1.539 , -5.6858,  1.6372,  0.5688, -0.9381],\n",
       "        [-1.6965, -4.3951, -0.4386,  0.6383,  1.372 ],\n",
       "        [-1.1912,  1.4211, -0.8675, -1.3549, -1.1165],\n",
       "        [ 0.5054,  5.4208,  0.0236,  0.4444,  0.7138]], dtype=float32),\n",
       " array([[3.1619, 0.0755, 0.0098, 0.0065, 0.0056],\n",
       "        [2.9071, 1.2217, 0.2371, 0.6384, 0.4734],\n",
       "        [2.7796, 0.9964, 0.6089, 0.8098, 0.6322],\n",
       "        [2.4721, 1.6175, 1.4815, 1.2628, 0.8031]], dtype=float32))"
      ]
     },
     "execution_count": 720,
     "metadata": {},
     "output_type": "execute_result"
    }
   ],
   "source": [
    "np.set_printoptions(suppress=True) \n",
    "np.round(cluster_means_q, 4), np.round(cluster_scales_q, 4)"
   ]
  },
  {
   "cell_type": "code",
   "execution_count": 721,
   "metadata": {},
   "outputs": [],
   "source": [
    "rows = clustering.xenium_spot_data.obs[\"row\"].astype(int)\n",
    "columns = clustering.xenium_spot_data.obs[\"col\"].astype(int)\n",
    "\n",
    "num_rows = int(max(rows) - min(rows) + 1)\n",
    "num_cols = int(max(columns) - min(columns) + 1)"
   ]
  },
  {
   "cell_type": "code",
   "execution_count": 722,
   "metadata": {},
   "outputs": [],
   "source": [
    "cluster_grid = torch.zeros((num_rows, num_cols), dtype=torch.long)\n",
    "\n",
    "cluster_grid[rows, columns] = cluster_assigments_q + 1"
   ]
  },
  {
   "cell_type": "code",
   "execution_count": 723,
   "metadata": {},
   "outputs": [
    {
     "data": {
      "image/png": "[encoded data removed]",
      "text/plain": [
       "<Figure size 600x600 with 2 Axes>"
      ]
     },
     "metadata": {},
     "output_type": "display_data"
    }
   ],
   "source": [
    "colors = plt.cm.get_cmap('viridis', NUM_CLUSTERS)\n",
    "colormap = ListedColormap(colors(np.linspace(0, 1, NUM_CLUSTERS)))\n",
    "\n",
    "# Plotting\n",
    "plt.figure(figsize=(6, 6))\n",
    "plt.imshow(cluster_grid, cmap=colormap, interpolation='nearest', origin='lower')\n",
    "plt.colorbar(ticks=range(NUM_CLUSTERS), label='Cluster Values')\n",
    "plt.title('Cluster Visualization with Unique Colors')\n",
    "plt.show()"
   ]
  },
  {
   "cell_type": "code",
   "execution_count": null,
   "metadata": {},
   "outputs": [],
   "source": []
  }
 ],
 "metadata": {
  "kernelspec": {
   "display_name": "xenium-1YUjn3qu-py3.10",
   "language": "python",
   "name": "python3"
  },
  "language_info": {
   "codemirror_mode": {
    "name": "ipython",
    "version": 3
   },
   "file_extension": ".py",
   "mimetype": "text/x-python",
   "name": "python",
   "nbconvert_exporter": "python",
   "pygments_lexer": "ipython3",
   "version": "3.10.12"
  }
 },
 "nbformat": 4,
 "nbformat_minor": 2
}
