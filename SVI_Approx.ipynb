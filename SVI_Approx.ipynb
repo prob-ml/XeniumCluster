{
 "cells": [
  {
   "cell_type": "code",
   "execution_count": 10,
   "metadata": {},
   "outputs": [],
   "source": [
    "import argparse\n",
    "import os\n",
    "import torch\n",
    "import pyro\n",
    "import json\n",
    "import math\n",
    "from tqdm import tqdm\n",
    "from pyro.infer import SVI, Trace_ELBO, TraceMeanField_ELBO\n",
    "from pyro.optim import PyroOptim\n",
    "from pyro.optim import Adam\n",
    "import pyro.distributions as dist\n",
    "import numpy as np\n",
    "import matplotlib.pyplot as plt\n",
    "from matplotlib.colors import ListedColormap\n",
    "from matplotlib.cm import get_cmap\n",
    "from scipy.sparse import csr_matrix\n",
    "from scipy.spatial import KDTree\n",
    "import seaborn as sns\n",
    "\n",
    "import numpy as np\n",
    "import pandas as pd\n",
    "import anndata as ad\n",
    "import scanpy as sc\n",
    "import lightning as L\n",
    "import torch.nn.functional as F\n",
    "from torch.utils.data import DataLoader\n",
    "\n",
    "import subprocess\n",
    "import warnings\n",
    "warnings.filterwarnings(\"ignore\")\n",
    "from importlib import reload\n",
    "\n",
    "# this ensures that I can update the class without losing my variables in my notebook\n",
    "import xenium_cluster\n",
    "reload(xenium_cluster)\n",
    "from xenium_cluster import XeniumCluster\n",
    "from utils.metrics import *\n",
    "\n",
    "from sklearn.decomposition import PCA\n",
    "from sklearn.preprocessing import StandardScaler\n",
    "from sklearn.cluster import KMeans\n",
    "\n",
    "import GPUtil"
   ]
  },
  {
   "cell_type": "code",
   "execution_count": 11,
   "metadata": {},
   "outputs": [
    {
     "name": "stdout",
     "output_type": "stream",
     "text": [
      "YAY! GPU available :3\n"
     ]
    },
    {
     "name": "stdout",
     "output_type": "stream",
     "text": [
      "Using GPU: 2 with the lowest memory usage.\n"
     ]
    }
   ],
   "source": [
    "if torch.cuda.is_available():\n",
    "    print(\"YAY! GPU available :3\")\n",
    "    \n",
    "    # Get all available GPUs sorted by memory usage (lowest first)\n",
    "    available_gpus = GPUtil.getAvailable(order='memory', limit=1)\n",
    "    \n",
    "    if available_gpus:\n",
    "        selected_gpu = available_gpus[0]\n",
    "        \n",
    "        # Set the GPU with the lowest memory usage\n",
    "        torch.cuda.set_device(selected_gpu)\n",
    "        torch.set_default_tensor_type(torch.cuda.FloatTensor)\n",
    "        \n",
    "        print(f\"Using GPU: {selected_gpu} with the lowest memory usage.\")\n",
    "    else:\n",
    "        print(\"No GPUs available with low memory usage.\")\n",
    "else:\n",
    "    print(\"No GPU available :(\")"
   ]
  },
  {
   "cell_type": "code",
   "execution_count": 12,
   "metadata": {},
   "outputs": [],
   "source": [
    "def prepare_DLPFC_data(\n",
    "    section_id=151670,\n",
    "    num_pcs=5,\n",
    "    log_normalize=True,\n",
    "):\n",
    "    section = ad.read_h5ad(f\"data/DLPFC/{section_id}.h5ad\")\n",
    "    section.var[\"feature_name\"] = section.var.index\n",
    "\n",
    "    spatial_locations = section.obs[[\"array_row\", \"array_col\"]]\n",
    "    spatial_locations.columns = [\"row\", \"col\"]\n",
    "\n",
    "    clustering = XeniumCluster(data=section.X, dataset_name=\"DLPFC\")\n",
    "    clustering.xenium_spot_data = section\n",
    "    if log_normalize:\n",
    "        clustering.xenium_spot_data.X = np.log1p(clustering.xenium_spot_data.X)\n",
    "\n",
    "    clustering.pca(clustering.xenium_spot_data, num_pcs)\n",
    "    data = clustering.xenium_spot_data.obsm[\"X_pca\"]\n",
    "\n",
    "    return data, spatial_locations, clustering\n",
    "\n",
    "def prepare_Xenium_data(\n",
    "        dataset=\"hBreast\", \n",
    "        spots=True, \n",
    "        spot_size=100, \n",
    "        third_dim=False, \n",
    "        log_normalize=True,\n",
    "        likelihood_mode=\"PCA\",\n",
    "        num_pcs=5,\n",
    "        hvg_var_prop=0.5,\n",
    "        min_expressions_per_spot=10\n",
    "    ):\n",
    "\n",
    "    data_filepath = f\"data/spot_data/{dataset}/hBreast_SPOTSIZE={spot_size}um_z={third_dim}.h5ad\"\n",
    "    \n",
    "    if spots:\n",
    "\n",
    "        if os.path.exists(data_filepath):\n",
    "\n",
    "            clustering = XeniumCluster(data=None, dataset_name=\"hBreast\")\n",
    "            clustering.set_spot_size(spot_size)\n",
    "            print(\"Loading data.\")\n",
    "            clustering.xenium_spot_data = ad.read_h5ad(data_filepath)\n",
    "\n",
    "        else:\n",
    "\n",
    "            # Path to your .gz file\n",
    "            file_path = f'data/{dataset}/transcripts.csv.gz'\n",
    "\n",
    "            # Read the gzipped CSV file into a DataFrame\n",
    "            df_transcripts = pd.read_csv(file_path, compression='gzip')\n",
    "            df_transcripts[\"error_prob\"] = 10 ** (-df_transcripts[\"qv\"]/10)\n",
    "            df_transcripts.head(), df_transcripts.shape\n",
    "\n",
    "            # drop cells without ids\n",
    "            df_transcripts = df_transcripts[df_transcripts[\"cell_id\"] != -1]\n",
    "\n",
    "            # drop blanks and controls\n",
    "            df_transcripts = df_transcripts[~df_transcripts[\"feature_name\"].str.startswith('BLANK_') & ~df_transcripts[\"feature_name\"].str.startswith('NegControl')]\n",
    "\n",
    "            clustering = XeniumCluster(data=df_transcripts, dataset_name=\"hBreast\")\n",
    "            clustering.set_spot_size(spot_size)\n",
    "\n",
    "            if not os.path.exists(data_filepath):\n",
    "                print(\"Generating and saving data\")\n",
    "                clustering.create_spot_data(third_dim=third_dim, save_data=True)\n",
    "                clustering.xenium_spot_data.write_h5ad(data_filepath)\n",
    "\n",
    "        print(\"Number of spots: \", clustering.xenium_spot_data.shape[0])\n",
    "        clustering.xenium_spot_data = clustering.xenium_spot_data[clustering.xenium_spot_data.X.sum(axis=1) > min_expressions_per_spot]\n",
    "        print(\"Number of spots after filtering: \", clustering.xenium_spot_data.shape[0])\n",
    "\n",
    "        if log_normalize:\n",
    "            clustering.normalize_counts(clustering.xenium_spot_data)\n",
    "\n",
    "        if likelihood_mode == \"PCA\":\n",
    "            clustering.pca(clustering.xenium_spot_data, num_pcs)\n",
    "            data = clustering.xenium_spot_data.obsm[\"X_pca\"]\n",
    "        elif likelihood_mode == \"HVG\":\n",
    "            min_dispersion = torch.distributions.normal.Normal(0.0, 1.0).icdf(hvg_var_prop)\n",
    "            clustering.filter_only_high_variable_genes(clustering.xenium_spot_data, flavor=\"seurat\", min_mean=0.0125, max_mean=1000, min_disp=min_dispersion)\n",
    "            clustering.xenium_spot_data = clustering.xenium_spot_data[:,clustering.xenium_spot_data.var.highly_variable==True]\n",
    "            data = clustering.xenium_spot_data.X\n",
    "        elif likelihood_mode == \"ALL\":\n",
    "            data = clustering.xenium_spot_data.X\n",
    "\n",
    "        spatial_locations = clustering.xenium_spot_data.obs[[\"row\", \"col\"]]\n",
    "    \n",
    "    # prepare cells data\n",
    "    else:\n",
    "\n",
    "        cells = df_transcripts.groupby(['cell_id', 'feature_name']).size().reset_index(name='count')\n",
    "        cells_pivot = cells.pivot_table(index='cell_id', \n",
    "                                        columns='feature_name', \n",
    "                                        values='count', \n",
    "                                        fill_value=0)\n",
    "        \n",
    "        location_means = df_transcripts.groupby('cell_id').agg({\n",
    "            'x_location': 'mean',\n",
    "            'y_location': 'mean',\n",
    "            'z_location': 'mean'\n",
    "        }).reset_index()\n",
    "\n",
    "        cells_pivot = location_means.join(cells_pivot, on='cell_id')\n",
    "\n",
    "        if log_normalize:\n",
    "            # log normalization\n",
    "            cells_pivot.iloc[:, 4:] = np.log1p(cells_pivot.iloc[:, 4:])\n",
    "\n",
    "        if likelihood_mode == \"PCA\":\n",
    "            pca = PCA(n_components=num_pcs)\n",
    "            data = pca.fit_transform(cells_pivot.iloc[:, 4:])\n",
    "\n",
    "        elif likelihood_mode == \"HVG\":\n",
    "            genes = cells_pivot.iloc[:, 4:]\n",
    "            gene_variances = genes.var(axis=0)\n",
    "            gene_variances = gene_variances.sort_values(ascending=False)\n",
    "            gene_var_proportions = (gene_variances / sum(gene_variances))\n",
    "            relevant_genes = list(gene_var_proportions[(gene_var_proportions.cumsum() < hvg_var_prop)].index)\n",
    "            cells_pivot.iloc[:, 4:] = cells_pivot.iloc[:, 4:][[relevant_genes]]\n",
    "            data = cells_pivot.iloc[:, 4:]\n",
    "\n",
    "        elif likelihood_mode == \"ALL\":\n",
    "            data = cells_pivot.iloc[:, 4:]\n",
    "\n",
    "        spatial_locations = cells_pivot[[\"x_location\", \"y_location\"]]\n",
    "\n",
    "    # the last one is to regain var/obs access from original data\n",
    "    return data, spatial_locations, clustering "
   ]
  },
  {
   "cell_type": "code",
   "execution_count": 13,
   "metadata": {},
   "outputs": [],
   "source": [
    "spot_size=50\n",
    "data_mode=\"PCA\"\n",
    "num_pcs=3\n",
    "hvg_var_prop=0.9\n",
    "dataset_name=\"hBreast\"\n",
    "kmeans_init=True\n",
    "custom_init=\"mclust\"\n",
    "spatial_init=True\n",
    "num_clusters=7\n",
    "batch_size=512\n",
    "neighborhood_size=1\n",
    "neighborhood_agg=\"mean\"\n",
    "concentration_amplification=10.0\n",
    "# uncertainty_values = [1/num_clusters, 2/num_clusters, 3/num_clusters, 4/num_clusters, 5/num_clusters]\n",
    "uncertainty_values = [0.25, 0.5, 0.75, 0.9, 0.99]\n",
    "evaluate_markers=False\n",
    "spatial_normalize=0.00"
   ]
  },
  {
   "cell_type": "code",
   "execution_count": 14,
   "metadata": {},
   "outputs": [
    {
     "name": "stdout",
     "output_type": "stream",
     "text": [
      "Loading data.\n",
      "Number of spots:  23444\n",
      "Number of spots after filtering:  23444\n"
     ]
    }
   ],
   "source": [
    "gene_data, spatial_locations, original_adata = prepare_Xenium_data(\n",
    "    dataset=\"hBreast\", \n",
    "    spots=True, \n",
    "    spot_size=spot_size, \n",
    "    third_dim=False, \n",
    "    log_normalize=True, \n",
    "    likelihood_mode=data_mode, \n",
    "    num_pcs=num_pcs,\n",
    "    hvg_var_prop=hvg_var_prop,\n",
    "    min_expressions_per_spot=0\n",
    ")"
   ]
  },
  {
   "cell_type": "code",
   "execution_count": 15,
   "metadata": {},
   "outputs": [],
   "source": [
    "def save_filepath(model, component, sample_for_assignment=None):\n",
    "\n",
    "    total_file_path = (\n",
    "        f\"results/{dataset_name}/{model}/{component}/{data_file_path}/\"\n",
    "        f\"INIT={custom_init}/NEIGHBORSIZE={neighborhood_size}/NUMCLUSTERS={num_clusters}\"\n",
    "        f\"/SPATIALINIT={spatial_init}/SAMPLEFORASSIGNMENT={sample_for_assignment}\"\n",
    "        f\"/SPATIALNORM={spatial_normalize}/SPATIALPRIORMULT={concentration_amplification}/SPOTSIZE={spot_size}/AGG={neighborhood_agg}\"\n",
    "    )\n",
    "\n",
    "    return total_file_path"
   ]
  },
  {
   "cell_type": "code",
   "execution_count": 16,
   "metadata": {},
   "outputs": [],
   "source": [
    "def custom_cluster_initialization(original_adata, method, K=17):\n",
    "\n",
    "    original_adata.generate_neighborhood_graph(original_adata.xenium_spot_data, plot_pcas=False)\n",
    "\n",
    "    # This function initializes clusters based on the specified method\n",
    "    if method == \"K-Means\":\n",
    "        initial_clusters = original_adata.KMeans(original_adata.xenium_spot_data, save_plot=False, K=K, include_spatial=False)\n",
    "    elif method == \"Hierarchical\":\n",
    "        initial_clusters = original_adata.Hierarchical(original_adata.xenium_spot_data, save_plot=True, num_clusters=K)\n",
    "    elif method == \"Leiden\":\n",
    "        initial_clusters = original_adata.Leiden(original_adata.xenium_spot_data, resolutions=[0.75], save_plot=False, K=K)[0.75]\n",
    "    elif method == \"Louvain\":\n",
    "        initial_clusters = original_adata.Louvain(original_adata.xenium_spot_data, resolutions=[1.0], save_plot=False, K=K)[1.0]\n",
    "    elif method == \"mclust\":\n",
    "        original_adata.pca(original_adata.xenium_spot_data, num_pcs)\n",
    "        initial_clusters = original_adata.mclust(original_adata.xenium_spot_data, G=K, model_name = \"EEE\")\n",
    "    else:\n",
    "        raise ValueError(f\"Unknown method: {method}\")\n",
    "\n",
    "    return initial_clusters"
   ]
  },
  {
   "cell_type": "code",
   "execution_count": 17,
   "metadata": {},
   "outputs": [
    {
     "name": "stderr",
     "output_type": "stream",
     "text": [
      "100%|██████████| 23444/23444 [00:01<00:00, 16723.07it/s]\n"
     ]
    },
    {
     "data": {
      "image/png": "[encoded data removed]",
      "text/plain": [
       "<Figure size 600x600 with 2 Axes>"
      ]
     },
     "metadata": {},
     "output_type": "display_data"
    },
    {
     "data": {
      "image/png": "[encoded data removed]",
      "text/plain": [
       "<Figure size 600x600 with 2 Axes>"
      ]
     },
     "metadata": {},
     "output_type": "display_data"
    },
    {
     "data": {
      "image/png": "[encoded data removed]",
      "text/plain": [
       "<Figure size 600x600 with 2 Axes>"
      ]
     },
     "metadata": {},
     "output_type": "display_data"
    }
   ],
   "source": [
    "# Clamping\n",
    "MIN_CONCENTRATION = 0.01\n",
    "\n",
    "num_posterior_samples = 1000\n",
    "\n",
    "spatial_init_data = StandardScaler().fit_transform(gene_data)\n",
    "gene_data = StandardScaler().fit_transform(gene_data)\n",
    "empirical_prior_means = torch.zeros(num_clusters, spatial_init_data.shape[1])\n",
    "empirical_prior_scales = torch.ones(num_clusters, spatial_init_data.shape[1])\n",
    "\n",
    "rows = spatial_locations[\"row\"].astype(int)\n",
    "columns = spatial_locations[\"col\"].astype(int)\n",
    "\n",
    "num_rows = max(rows) + 1\n",
    "num_cols = max(columns) + 1\n",
    "\n",
    "if custom_init or kmeans_init:\n",
    "\n",
    "    if custom_init:\n",
    "\n",
    "        initial_clusters = custom_cluster_initialization(original_adata, custom_init, K=num_clusters)\n",
    "\n",
    "    elif kmeans_init:\n",
    "\n",
    "        kmeans_init_data = np.concatenate((spatial_locations, original_adata.xenium_spot_data.X), axis=1)\n",
    "        kmeans_init_data = StandardScaler().fit_transform(kmeans_init_data)\n",
    "\n",
    "        if spatial_normalize:\n",
    "\n",
    "            spatial_dim = spatial_locations.shape[1]\n",
    "            gene_dim = original_adata.xenium_spot_data.X.shape[1]\n",
    "            spatial_factor = (gene_dim * spatial_normalize / (spatial_dim * (1 - spatial_normalize))) ** 0.5\n",
    "            kmeans_init_data[:, :spatial_locations.shape[1]] *= spatial_factor\n",
    "\n",
    "        kmeans = KMeans(n_clusters=num_clusters).fit(kmeans_init_data)\n",
    "\n",
    "        initial_clusters = kmeans.predict(kmeans_init_data)\n",
    "\n",
    "    match data_mode:\n",
    "        case \"PCA\":\n",
    "            data_file_path = f\"{data_mode}/{num_pcs}\"\n",
    "        case \"HVG\": \n",
    "            data_file_path = f\"{data_mode}/{hvg_var_prop}\"\n",
    "        case \"ALL\":\n",
    "            data_file_path = f\"{data_mode}\"\n",
    "        case _:\n",
    "            raise ValueError(\"The data mode specified is not supported.\")\n",
    "        \n",
    "    if kmeans_init and not custom_init:\n",
    "\n",
    "        if not os.path.exists(kmeans_clusters_filepath := save_filepath(\"KMeans\", \"clusters\")):\n",
    "            os.makedirs(kmeans_clusters_filepath)\n",
    "        _ = plt.savefig(\n",
    "            f\"{kmeans_clusters_filepath}/result.png\"\n",
    "        )\n",
    "\n",
    "        cluster_grid = torch.zeros((num_rows, num_cols), dtype=torch.int)\n",
    "        \n",
    "        cluster_grid[rows, columns] = torch.tensor(initial_clusters, dtype=torch.int) + 1\n",
    "\n",
    "        colors = plt.cm.get_cmap('viridis', num_clusters + 1)\n",
    "        colormap = ListedColormap(colors(np.linspace(0, 1, num_clusters + 1)))\n",
    "\n",
    "        plt.figure(figsize=(6, 6))\n",
    "        plt.imshow(cluster_grid.cpu(), cmap=colormap, interpolation='nearest', origin='lower')\n",
    "        plt.colorbar(ticks=range(num_clusters + 1), label='Cluster Values')\n",
    "        plt.title('Cluster Assignment with KMeans')\n",
    "\n",
    "    if dataset_name == \"DLPFC\":\n",
    "        # Create a DataFrame for easier handling\n",
    "        data = pd.DataFrame({\n",
    "            'ClusterAssignments': initial_clusters,\n",
    "            'Region': original_adata.xenium_spot_data.obs[\"Region\"]\n",
    "        })\n",
    "\n",
    "        # Drop rows where 'Region' is NaN\n",
    "        filtered_data = data.dropna(subset=['Region'])\n",
    "\n",
    "        # Calculate ARI and NMI only for the non-NaN entries\n",
    "        ari = ARI(filtered_data['ClusterAssignments'], filtered_data['Region'])\n",
    "        nmi = NMI(filtered_data['ClusterAssignments'], filtered_data['Region'])\n",
    "        cluster_metrics = {\n",
    "            \"ARI\": ari,\n",
    "            \"NMI\": nmi\n",
    "        }\n",
    "\n",
    "        data_file_path = f\"{data_mode}/{num_pcs}\"\n",
    "\n",
    "        if not os.path.exists(kmeans_cluster_metrics_filepath := save_filepath(\"KMeans\", \"cluster_metrics\")):\n",
    "            os.makedirs(kmeans_cluster_metrics_filepath)\n",
    "        with open(f\"{kmeans_cluster_metrics_filepath}/mpd.json\", 'w') as fp:\n",
    "            json.dump(cluster_metrics, fp)\n",
    "\n",
    "    for i in range(num_clusters):\n",
    "        cluster_data = gene_data[initial_clusters == i]\n",
    "        if cluster_data.size > 0:  # Check if there are any elements in the cluster_data\n",
    "            empirical_prior_means[i] = torch.tensor(cluster_data.mean(axis=0))\n",
    "            empirical_prior_scales[i] = torch.tensor(cluster_data.std(axis=0))\n",
    "    cluster_probs_prior = torch.zeros((initial_clusters.shape[0], num_clusters))\n",
    "    cluster_probs_prior[torch.arange(initial_clusters.shape[0]), initial_clusters - 1] = 1.\n",
    "\n",
    "else:\n",
    "\n",
    "    cluster_probs_prior = torch.ones((len(gene_data), num_clusters), dtype=float)\n",
    "\n",
    "locations_tensor = torch.tensor(spatial_locations.to_numpy())\n",
    "\n",
    "# Compute the number of elements in each dimension\n",
    "num_spots = cluster_probs_prior.shape[0]\n",
    "\n",
    "# Initialize an empty tensor for spatial concentration priors\n",
    "spatial_cluster_probs_prior = torch.zeros_like(cluster_probs_prior, dtype=torch.float64)\n",
    "\n",
    "spot_locations = KDTree(locations_tensor.cpu())  # Ensure this tensor is in host memory\n",
    "neighboring_spot_indexes = spot_locations.query_ball_point(locations_tensor.cpu(), r=neighborhood_size, p=1, workers=8)\n",
    "\n",
    "# Iterate over each spot\n",
    "for i in tqdm(range(num_spots)):\n",
    "\n",
    "    # Select priors in the neighborhood\n",
    "    priors_in_neighborhood = cluster_probs_prior[neighboring_spot_indexes[i]]\n",
    "    # print(f\"Spot {i} has {len(neighboring_spot_indexes[i])} neighbors\")\n",
    "    # print(priors_in_neighborhood)\n",
    "\n",
    "    # Compute the sum or mean, or apply a custom weighting function\n",
    "    if neighborhood_agg == \"mean\":\n",
    "        neighborhood_priors = priors_in_neighborhood.mean(dim=0)\n",
    "    else:\n",
    "        locations = original_adata.xenium_spot_data.obs[[\"x_location\", \"y_location\", \"z_location\"]].values\n",
    "        neighboring_locations = locations[neighboring_spot_indexes[i]].astype(float)\n",
    "        distances = torch.tensor(np.linalg.norm(neighboring_locations - locations[i], axis=1))\n",
    "        def distance_weighting(x):\n",
    "            weight = 1/(1 + x/spot_size)\n",
    "            # print(weight)\n",
    "            return weight / weight.sum()\n",
    "        neighborhood_priors = (priors_in_neighborhood * distance_weighting(distances).reshape(-1, 1)).sum(dim=0)\n",
    "    # Update the cluster probabilities\n",
    "    spatial_cluster_probs_prior[i] += neighborhood_priors\n",
    "\n",
    "spatial_cluster_probs_prior = spatial_cluster_probs_prior.clamp(MIN_CONCENTRATION)\n",
    "sample_for_assignment_options = [True, False]\n",
    "\n",
    "num_prior_samples = 100\n",
    "for sample_for_assignment in sample_for_assignment_options:\n",
    "\n",
    "    if sample_for_assignment:\n",
    "        cluster_assignments_prior_TRUE = pyro.sample(\"cluster_assignments\", dist.Categorical(spatial_cluster_probs_prior).expand_by([num_prior_samples])).detach().mode(dim=0).values\n",
    "        cluster_assignments_prior = cluster_assignments_prior_TRUE\n",
    "    else:\n",
    "        cluster_assignments_prior_FALSE = spatial_cluster_probs_prior.argmax(dim=1)\n",
    "        cluster_assignments_prior = cluster_assignments_prior_FALSE\n",
    "\n",
    "    # Load the data\n",
    "    data = torch.tensor(gene_data).float()\n",
    "\n",
    "    cluster_grid_PRIOR = torch.zeros((num_rows, num_cols), dtype=torch.long)\n",
    "\n",
    "    cluster_grid_PRIOR[rows, columns] = cluster_assignments_prior + 1\n",
    "\n",
    "    colors = plt.cm.get_cmap('viridis', num_clusters + 1)\n",
    "    \n",
    "    colormap_colors = np.vstack(([[1, 1, 1, 1]], colors(np.linspace(0, 1, num_clusters))))\n",
    "    colormap = ListedColormap(colormap_colors)\n",
    "\n",
    "    plt.figure(figsize=(6, 6))\n",
    "    plt.imshow(cluster_grid_PRIOR.cpu(), cmap=colormap, interpolation='nearest', origin='lower')\n",
    "    plt.colorbar(ticks=range(num_clusters + 1), label='Cluster Values')\n",
    "    plt.title('Prior Cluster Assignment with BayXenSmooth')\n",
    "\n",
    "    if not os.path.exists(bayxensmooth_clusters_filepath := save_filepath(\"BayXenSmooth\", \"clusters\", sample_for_assignment)):\n",
    "        os.makedirs(bayxensmooth_clusters_filepath)\n",
    "    _ = plt.savefig(\n",
    "        f\"{bayxensmooth_clusters_filepath}/prior_result.png\"\n",
    "    )"
   ]
  },
  {
   "cell_type": "code",
   "execution_count": 18,
   "metadata": {},
   "outputs": [
    {
     "data": {
      "text/plain": [
       "0.025412046137464853"
      ]
     },
     "execution_count": 18,
     "metadata": {},
     "output_type": "execute_result"
    }
   ],
   "source": [
    "# grab the mpd distance of cluster labels\n",
    "mpd = {}\n",
    "for label in range(1, num_clusters + 1):\n",
    "    current_cluster_locations = torch.stack(torch.where((cluster_grid_PRIOR.cpu() == label)), axis=1).to(float)\n",
    "    mpd[f\"Cluster {label}\"] = spot_size * torch.mean(torch.cdist(current_cluster_locations, current_cluster_locations, p = 2)).item()\n",
    "sum(mpd.values()) / 1_000_000"
   ]
  },
  {
   "cell_type": "code",
   "execution_count": 19,
   "metadata": {},
   "outputs": [],
   "source": [
    "empirical_prior_means_guide = empirical_prior_means.clone().detach()\n",
    "empirical_prior_scales_guide = empirical_prior_scales.clone().detach()"
   ]
  },
  {
   "cell_type": "code",
   "execution_count": 20,
   "metadata": {},
   "outputs": [],
   "source": [
    "learn_global_variances = True"
   ]
  },
  {
   "cell_type": "code",
   "execution_count": 21,
   "metadata": {},
   "outputs": [],
   "source": [
    "torch.set_printoptions(sci_mode=False)\n",
    "PRIOR_SCALE = np.sqrt(0.1) # higher means weaker\n",
    "NUM_PARTICLES = 25\n",
    "\n",
    "expected_total_param_dim = 2 # K x D\n",
    "\n",
    "def model(data):\n",
    "\n",
    "    with pyro.plate(\"clusters\", num_clusters):\n",
    "\n",
    "        # Define the means and variances of the Gaussian components\n",
    "        cluster_means = pyro.sample(\"cluster_means\", dist.Normal(empirical_prior_means, 1.0).to_event(1))\n",
    "        cluster_scales = pyro.sample(\"cluster_scales\", dist.LogNormal(empirical_prior_scales, 0.25).to_event(1))\n",
    "\n",
    "    # Define priors for the cluster assignment probabilities and Gaussian parameters\n",
    "    with pyro.plate(\"data\", len(data), subsample_size=batch_size) as ind:\n",
    "        batch_data = data[ind]\n",
    "        mu = torch.log(spatial_cluster_probs_prior[ind])\n",
    "        cov_matrix = torch.eye(mu.shape[1], dtype=mu.dtype, device=mu.device) * 10.0\n",
    "        cluster_probs_logits = pyro.sample(\"cluster_logits\", dist.MultivariateNormal(mu, cov_matrix))\n",
    "        cluster_probs = torch.softmax(cluster_probs_logits, dim=-1)\n",
    "        # likelihood for batch\n",
    "        if cluster_means.dim() == expected_total_param_dim:\n",
    "            pyro.sample(f\"obs\", dist.MixtureOfDiagNormals(\n",
    "                    cluster_means.unsqueeze(0).expand(batch_size, -1, -1), \n",
    "                    cluster_scales.unsqueeze(0).expand(batch_size, -1, -1), +\n",
    "                    cluster_probs\n",
    "                ), \n",
    "                obs=batch_data\n",
    "            )\n",
    "        # likelihood for batch WITH vectorization of particles\n",
    "        else:\n",
    "            pyro.sample(f\"obs\", dist.MixtureOfDiagNormals(\n",
    "                    cluster_means.unsqueeze(1).expand(-1, batch_size, -1, -1), \n",
    "                    cluster_scales.unsqueeze(1).expand(-1, batch_size, -1, -1), \n",
    "                    cluster_probs\n",
    "                ), \n",
    "                obs=batch_data\n",
    "            )\n",
    "\n",
    "def guide(data):\n",
    "    # Initialize cluster assignment probabilities for the entire dataset\n",
    "    cluster_probs_logits_q_mean = pyro.param(\"cluster_logits_q_mean\", torch.log(spatial_cluster_probs_prior) + torch.randn_like(spatial_cluster_probs_prior) * 0.1)\n",
    "    cluster_probs_logits_q_scale = pyro.param(\"cluster_logits_q_scale\", torch.ones_like(spatial_cluster_probs_prior, dtype=spatial_cluster_probs_prior.dtype, device=spatial_cluster_probs_prior.device) * 2.5, dist.constraints.positive)\n",
    "\n",
    "    with pyro.plate(\"clusters\", num_clusters):\n",
    "        # Global variational parameters for means and scales\n",
    "        cluster_means_q_mean = pyro.param(\"cluster_means_q_mean\", empirical_prior_means + torch.randn_like(empirical_prior_means) * 0.05)\n",
    "        cluster_scales_q_mean = pyro.param(\"cluster_scales_q_mean\", empirical_prior_scales + torch.randn_like(empirical_prior_scales) * 0.01, constraint=dist.constraints.positive)\n",
    "        if learn_global_variances:\n",
    "            cluster_means_q_scale = pyro.param(\"cluster_means_q_scale\", torch.ones_like(empirical_prior_means) * 1.0, constraint=dist.constraints.positive)\n",
    "            cluster_scales_q_scale = pyro.param(\"cluster_scales_q_scale\", torch.ones_like(empirical_prior_scales) * 0.25, constraint=dist.constraints.positive)\n",
    "            cluster_means = pyro.sample(\"cluster_means\", dist.Normal(cluster_means_q_mean, cluster_means_q_scale).to_event(1))\n",
    "            cluster_scales = pyro.sample(\"cluster_scales\", dist.LogNormal(cluster_scales_q_mean, cluster_scales_q_scale).to_event(1))\n",
    "        else:\n",
    "            cluster_means = pyro.sample(\"cluster_means\", dist.Delta(cluster_means_q_mean).to_event(1))\n",
    "            cluster_scales = pyro.sample(\"cluster_scales\", dist.Delta(cluster_scales_q_mean).to_event(1))\n",
    "\n",
    "    with pyro.plate(\"data\", len(data), subsample_size=batch_size) as ind:\n",
    "\n",
    "        batch_probs_logits_q_mean = cluster_probs_logits_q_mean[ind]\n",
    "        batch_probs_logits_q_scale = cluster_probs_logits_q_scale[ind]\n",
    "        logits = pyro.sample(\"cluster_logits\", dist.Normal(batch_probs_logits_q_mean, batch_probs_logits_q_scale).to_event(1))\n",
    "        cluster_probs = torch.softmax(logits, dim=-1)  # Convert logits to probabilities"
   ]
  },
  {
   "cell_type": "code",
   "execution_count": 22,
   "metadata": {},
   "outputs": [
    {
     "data": {
      "text/plain": [
       "(torch.Size([7, 3]), torch.Size([7, 3]))"
      ]
     },
     "execution_count": 22,
     "metadata": {},
     "output_type": "execute_result"
    }
   ],
   "source": [
    "empirical_prior_means.shape, empirical_prior_scales.shape"
   ]
  },
  {
   "cell_type": "code",
   "execution_count": 23,
   "metadata": {},
   "outputs": [
    {
     "name": "stdout",
     "output_type": "stream",
     "text": [
      "digraph {\n",
      "\tsubgraph cluster_clusters {\n",
      "\t\tlabel=clusters labeljust=r labelloc=b\n",
      "\t\tcluster_means [label=cluster_means fillcolor=white shape=ellipse style=filled]\n",
      "\t\tcluster_scales [label=cluster_scales fillcolor=white shape=ellipse style=filled]\n",
      "\t}\n",
      "\tsubgraph cluster_data {\n",
      "\t\tlabel=data labeljust=r labelloc=b\n",
      "\t\tcluster_logits [label=cluster_logits fillcolor=white shape=ellipse style=filled]\n",
      "\t\tobs [label=obs fillcolor=gray shape=ellipse style=filled]\n",
      "\t}\n",
      "\tcluster_means -> obs\n",
      "\tcluster_scales -> obs\n",
      "\tcluster_logits -> obs\n",
      "\tdistribution_description_node [label=\"cluster_means ~ Normal\\lcluster_scales ~ LogNormal\\lcluster_logits ~ MultivariateNormal\\lobs ~ MixtureOfDiagNormals\\l\" shape=plaintext]\n",
      "}\n",
      "\n"
     ]
    }
   ],
   "source": [
    "print(pyro.render_model(model, model_args=(data,), render_distributions=True, render_params=True))"
   ]
  },
  {
   "cell_type": "code",
   "execution_count": 24,
   "metadata": {},
   "outputs": [
    {
     "name": "stderr",
     "output_type": "stream",
     "text": [
      "Epoch 1:   1%|          | 1/100 [00:01<02:36,  1.58s/it]"
     ]
    },
    {
     "name": "stdout",
     "output_type": "stream",
     "text": [
      "Epoch 0 : loss = 12431.0089\n",
      "tensor([0.0101, 0.0075, 0.0103, 0.0087, 0.0104, 0.9444, 0.0086],\n",
      "       dtype=torch.float64)\n"
     ]
    },
    {
     "name": "stderr",
     "output_type": "stream",
     "text": [
      "Epoch 2:   2%|▏         | 2/100 [00:02<01:55,  1.18s/it]"
     ]
    },
    {
     "name": "stdout",
     "output_type": "stream",
     "text": [
      "Epoch 1 : loss = 11892.9337\n",
      "tensor([0.0101, 0.0075, 0.0103, 0.0087, 0.0104, 0.9444, 0.0086],\n",
      "       dtype=torch.float64)\n"
     ]
    },
    {
     "name": "stderr",
     "output_type": "stream",
     "text": [
      "Epoch 3:   3%|▎         | 3/100 [00:03<01:42,  1.05s/it]"
     ]
    },
    {
     "name": "stdout",
     "output_type": "stream",
     "text": [
      "Epoch 2 : loss = 11433.6686\n",
      "tensor([0.0101, 0.0082, 0.0102, 0.0095, 0.0104, 0.9421, 0.0095],\n",
      "       dtype=torch.float64)\n"
     ]
    },
    {
     "name": "stderr",
     "output_type": "stream",
     "text": [
      "Epoch 4:   4%|▍         | 4/100 [00:04<01:35,  1.01it/s]"
     ]
    },
    {
     "name": "stdout",
     "output_type": "stream",
     "text": [
      "Epoch 3 : loss = 11089.1187\n",
      "tensor([0.0091, 0.0083, 0.0095, 0.0096, 0.0095, 0.9445, 0.0094],\n",
      "       dtype=torch.float64)\n"
     ]
    },
    {
     "name": "stderr",
     "output_type": "stream",
     "text": [
      "Epoch 5:   5%|▌         | 5/100 [00:05<01:30,  1.05it/s]"
     ]
    },
    {
     "name": "stdout",
     "output_type": "stream",
     "text": [
      "Epoch 4 : loss = 10792.8992\n",
      "tensor([0.0091, 0.0084, 0.0092, 0.0095, 0.0093, 0.9452, 0.0093],\n",
      "       dtype=torch.float64)\n"
     ]
    },
    {
     "name": "stderr",
     "output_type": "stream",
     "text": [
      "Epoch 6:   6%|▌         | 6/100 [00:06<01:28,  1.07it/s]"
     ]
    },
    {
     "name": "stdout",
     "output_type": "stream",
     "text": [
      "Epoch 5 : loss = 10593.5378\n",
      "tensor([0.0092, 0.0084, 0.0091, 0.0095, 0.0092, 0.9453, 0.0093],\n",
      "       dtype=torch.float64)\n"
     ]
    },
    {
     "name": "stderr",
     "output_type": "stream",
     "text": [
      "Epoch 7:   7%|▋         | 7/100 [00:06<01:26,  1.07it/s]"
     ]
    },
    {
     "name": "stdout",
     "output_type": "stream",
     "text": [
      "Epoch 6 : loss = 10407.0057\n",
      "tensor([0.0092, 0.0084, 0.0091, 0.0095, 0.0092, 0.9453, 0.0093],\n",
      "       dtype=torch.float64)\n"
     ]
    },
    {
     "name": "stderr",
     "output_type": "stream",
     "text": [
      "Epoch 8:   8%|▊         | 8/100 [00:07<01:25,  1.08it/s]"
     ]
    },
    {
     "name": "stdout",
     "output_type": "stream",
     "text": [
      "Epoch 7 : loss = 10259.1376\n",
      "tensor([0.0092, 0.0087, 0.0091, 0.0093, 0.0093, 0.9452, 0.0094],\n",
      "       dtype=torch.float64)\n"
     ]
    },
    {
     "name": "stderr",
     "output_type": "stream",
     "text": [
      "Epoch 9:   9%|▉         | 9/100 [00:08<01:23,  1.08it/s]"
     ]
    },
    {
     "name": "stdout",
     "output_type": "stream",
     "text": [
      "Epoch 8 : loss = 10142.8093\n",
      "tensor([0.0086, 0.0087, 0.0089, 0.0088, 0.0089, 0.9470, 0.0091],\n",
      "       dtype=torch.float64)\n"
     ]
    },
    {
     "name": "stderr",
     "output_type": "stream",
     "text": [
      "Epoch 10:  10%|█         | 10/100 [00:09<01:22,  1.09it/s]"
     ]
    },
    {
     "name": "stdout",
     "output_type": "stream",
     "text": [
      "Epoch 9 : loss = 10061.5398\n",
      "tensor([0.0092, 0.0091, 0.0092, 0.0093, 0.0093, 0.9445, 0.0093],\n",
      "       dtype=torch.float64)\n"
     ]
    },
    {
     "name": "stderr",
     "output_type": "stream",
     "text": [
      "Epoch 11:  11%|█         | 11/100 [00:10<01:21,  1.09it/s]"
     ]
    },
    {
     "name": "stdout",
     "output_type": "stream",
     "text": [
      "Epoch 10 : loss = 9976.6655\n",
      "tensor([0.0093, 0.0091, 0.0092, 0.0094, 0.0093, 0.9444, 0.0094],\n",
      "       dtype=torch.float64)\n"
     ]
    },
    {
     "name": "stderr",
     "output_type": "stream",
     "text": [
      "Epoch 12:  12%|█▏        | 12/100 [00:11<01:20,  1.09it/s]"
     ]
    },
    {
     "name": "stdout",
     "output_type": "stream",
     "text": [
      "Epoch 11 : loss = 9921.7713\n",
      "tensor([0.0089, 0.0087, 0.0087, 0.0088, 0.0086, 0.9474, 0.0090],\n",
      "       dtype=torch.float64)\n"
     ]
    },
    {
     "name": "stderr",
     "output_type": "stream",
     "text": [
      "Epoch 13:  13%|█▎        | 13/100 [00:12<01:19,  1.09it/s]"
     ]
    },
    {
     "name": "stdout",
     "output_type": "stream",
     "text": [
      "Epoch 12 : loss = 9849.2081\n",
      "tensor([0.0089, 0.0087, 0.0087, 0.0088, 0.0085, 0.9474, 0.0090],\n",
      "       dtype=torch.float64)\n"
     ]
    },
    {
     "name": "stderr",
     "output_type": "stream",
     "text": [
      "Epoch 14:  14%|█▍        | 14/100 [00:13<01:18,  1.10it/s]"
     ]
    },
    {
     "name": "stdout",
     "output_type": "stream",
     "text": [
      "Epoch 13 : loss = 9790.9327\n",
      "tensor([0.0085, 0.0088, 0.0086, 0.0093, 0.0088, 0.9470, 0.0090],\n",
      "       dtype=torch.float64)\n"
     ]
    },
    {
     "name": "stderr",
     "output_type": "stream",
     "text": [
      "Epoch 15:  15%|█▌        | 15/100 [00:14<01:17,  1.09it/s]"
     ]
    },
    {
     "name": "stdout",
     "output_type": "stream",
     "text": [
      "Epoch 14 : loss = 9728.2977\n",
      "tensor([0.0085, 0.0089, 0.0086, 0.0093, 0.0088, 0.9469, 0.0090],\n",
      "       dtype=torch.float64)\n"
     ]
    },
    {
     "name": "stderr",
     "output_type": "stream",
     "text": [
      "Epoch 16:  16%|█▌        | 16/100 [00:15<01:16,  1.10it/s]"
     ]
    },
    {
     "name": "stdout",
     "output_type": "stream",
     "text": [
      "Epoch 15 : loss = 9694.6355\n",
      "tensor([0.0085, 0.0089, 0.0086, 0.0093, 0.0088, 0.9469, 0.0090],\n",
      "       dtype=torch.float64)\n"
     ]
    },
    {
     "name": "stderr",
     "output_type": "stream",
     "text": [
      "Epoch 17:  17%|█▋        | 17/100 [00:16<01:15,  1.10it/s]"
     ]
    },
    {
     "name": "stdout",
     "output_type": "stream",
     "text": [
      "Epoch 16 : loss = 9647.3839\n",
      "tensor([0.0081, 0.0082, 0.0077, 0.0080, 0.0081, 0.9518, 0.0081],\n",
      "       dtype=torch.float64)\n"
     ]
    },
    {
     "name": "stderr",
     "output_type": "stream",
     "text": [
      "Epoch 18:  18%|█▊        | 18/100 [00:17<01:14,  1.10it/s]"
     ]
    },
    {
     "name": "stdout",
     "output_type": "stream",
     "text": [
      "Epoch 17 : loss = 9639.0132\n",
      "tensor([0.0081, 0.0082, 0.0077, 0.0079, 0.0081, 0.9520, 0.0081],\n",
      "       dtype=torch.float64)\n"
     ]
    },
    {
     "name": "stderr",
     "output_type": "stream",
     "text": [
      "Epoch 19:  19%|█▉        | 19/100 [00:17<01:13,  1.10it/s]"
     ]
    },
    {
     "name": "stdout",
     "output_type": "stream",
     "text": [
      "Epoch 18 : loss = 9602.4427\n",
      "tensor([0.0084, 0.0080, 0.0079, 0.0081, 0.0081, 0.9517, 0.0078],\n",
      "       dtype=torch.float64)\n"
     ]
    },
    {
     "name": "stderr",
     "output_type": "stream",
     "text": [
      "Epoch 20:  20%|██        | 20/100 [00:18<01:12,  1.10it/s]"
     ]
    },
    {
     "name": "stdout",
     "output_type": "stream",
     "text": [
      "Epoch 19 : loss = 9562.8081\n",
      "tensor([0.0084, 0.0080, 0.0078, 0.0081, 0.0083, 0.9516, 0.0078],\n",
      "       dtype=torch.float64)\n"
     ]
    },
    {
     "name": "stderr",
     "output_type": "stream",
     "text": [
      "Epoch 21:  21%|██        | 21/100 [00:19<01:11,  1.10it/s]"
     ]
    },
    {
     "name": "stdout",
     "output_type": "stream",
     "text": [
      "Epoch 20 : loss = 9524.4871\n",
      "tensor([0.0084, 0.0080, 0.0078, 0.0081, 0.0083, 0.9516, 0.0078],\n",
      "       dtype=torch.float64)\n"
     ]
    },
    {
     "name": "stderr",
     "output_type": "stream",
     "text": [
      "Epoch 22:  22%|██▏       | 22/100 [00:20<01:11,  1.10it/s]"
     ]
    },
    {
     "name": "stdout",
     "output_type": "stream",
     "text": [
      "Epoch 21 : loss = 9493.7968\n",
      "tensor([0.0075, 0.0075, 0.0073, 0.0075, 0.0072, 0.9557, 0.0072],\n",
      "       dtype=torch.float64)\n"
     ]
    },
    {
     "name": "stderr",
     "output_type": "stream",
     "text": [
      "Epoch 23:  23%|██▎       | 23/100 [00:21<01:10,  1.10it/s]"
     ]
    },
    {
     "name": "stdout",
     "output_type": "stream",
     "text": [
      "Epoch 22 : loss = 9473.7194\n",
      "tensor([0.0077, 0.0073, 0.0075, 0.0075, 0.0074, 0.9555, 0.0073],\n",
      "       dtype=torch.float64)\n"
     ]
    },
    {
     "name": "stderr",
     "output_type": "stream",
     "text": [
      "Epoch 24:  24%|██▍       | 24/100 [00:22<01:09,  1.10it/s]"
     ]
    },
    {
     "name": "stdout",
     "output_type": "stream",
     "text": [
      "Epoch 23 : loss = 9454.9852\n",
      "tensor([0.0077, 0.0075, 0.0080, 0.0081, 0.0075, 0.9536, 0.0076],\n",
      "       dtype=torch.float64)\n"
     ]
    },
    {
     "name": "stderr",
     "output_type": "stream",
     "text": [
      "Epoch 25:  25%|██▌       | 25/100 [00:23<01:08,  1.10it/s]"
     ]
    },
    {
     "name": "stdout",
     "output_type": "stream",
     "text": [
      "Epoch 24 : loss = 9430.5247\n",
      "tensor([0.0077, 0.0075, 0.0080, 0.0081, 0.0075, 0.9536, 0.0076],\n",
      "       dtype=torch.float64)\n"
     ]
    },
    {
     "name": "stderr",
     "output_type": "stream",
     "text": [
      "Epoch 26:  26%|██▌       | 26/100 [00:24<01:07,  1.10it/s]"
     ]
    },
    {
     "name": "stdout",
     "output_type": "stream",
     "text": [
      "Epoch 25 : loss = 9394.7494\n",
      "tensor([0.0077, 0.0075, 0.0080, 0.0081, 0.0075, 0.9536, 0.0076],\n",
      "       dtype=torch.float64)\n"
     ]
    },
    {
     "name": "stderr",
     "output_type": "stream",
     "text": [
      "Epoch 27:  27%|██▋       | 27/100 [00:25<01:06,  1.10it/s]"
     ]
    },
    {
     "name": "stdout",
     "output_type": "stream",
     "text": [
      "Epoch 26 : loss = 9390.5161\n",
      "tensor([0.0074, 0.0072, 0.0075, 0.0076, 0.0074, 0.9555, 0.0074],\n",
      "       dtype=torch.float64)\n"
     ]
    },
    {
     "name": "stderr",
     "output_type": "stream",
     "text": [
      "Epoch 28:  28%|██▊       | 28/100 [00:26<01:05,  1.10it/s]"
     ]
    },
    {
     "name": "stdout",
     "output_type": "stream",
     "text": [
      "Epoch 27 : loss = 9350.123\n",
      "tensor([0.0075, 0.0073, 0.0076, 0.0077, 0.0076, 0.9548, 0.0075],\n",
      "       dtype=torch.float64)\n"
     ]
    },
    {
     "name": "stderr",
     "output_type": "stream",
     "text": [
      "Epoch 29:  29%|██▉       | 29/100 [00:27<01:04,  1.10it/s]"
     ]
    },
    {
     "name": "stdout",
     "output_type": "stream",
     "text": [
      "Epoch 28 : loss = 9337.9653\n",
      "tensor([0.0075, 0.0073, 0.0076, 0.0077, 0.0076, 0.9548, 0.0075],\n",
      "       dtype=torch.float64)\n"
     ]
    },
    {
     "name": "stderr",
     "output_type": "stream",
     "text": [
      "Epoch 30:  30%|███       | 30/100 [00:27<01:03,  1.10it/s]"
     ]
    },
    {
     "name": "stdout",
     "output_type": "stream",
     "text": [
      "Epoch 29 : loss = 9345.2189\n",
      "tensor([0.0079, 0.0074, 0.0075, 0.0076, 0.0078, 0.9544, 0.0075],\n",
      "       dtype=torch.float64)\n"
     ]
    },
    {
     "name": "stderr",
     "output_type": "stream",
     "text": [
      "Epoch 31:  31%|███       | 31/100 [00:28<01:02,  1.10it/s]"
     ]
    },
    {
     "name": "stdout",
     "output_type": "stream",
     "text": [
      "Epoch 30 : loss = 9292.9518\n",
      "tensor([0.0068, 0.0068, 0.0064, 0.0071, 0.0066, 0.9592, 0.0071],\n",
      "       dtype=torch.float64)\n"
     ]
    },
    {
     "name": "stderr",
     "output_type": "stream",
     "text": [
      "Epoch 32:  32%|███▏      | 32/100 [00:29<01:01,  1.10it/s]"
     ]
    },
    {
     "name": "stdout",
     "output_type": "stream",
     "text": [
      "Epoch 31 : loss = 9301.5377\n",
      "tensor([0.0065, 0.0066, 0.0065, 0.0067, 0.0064, 0.9604, 0.0069],\n",
      "       dtype=torch.float64)\n"
     ]
    },
    {
     "name": "stderr",
     "output_type": "stream",
     "text": [
      "Epoch 33:  33%|███▎      | 33/100 [00:30<01:00,  1.10it/s]"
     ]
    },
    {
     "name": "stdout",
     "output_type": "stream",
     "text": [
      "Epoch 32 : loss = 9275.3553\n",
      "tensor([0.0066, 0.0066, 0.0064, 0.0067, 0.0064, 0.9604, 0.0069],\n",
      "       dtype=torch.float64)\n"
     ]
    },
    {
     "name": "stderr",
     "output_type": "stream",
     "text": [
      "Epoch 34:  34%|███▍      | 34/100 [00:31<01:00,  1.10it/s]"
     ]
    },
    {
     "name": "stdout",
     "output_type": "stream",
     "text": [
      "Epoch 33 : loss = 9232.8944\n",
      "tensor([0.0066, 0.0066, 0.0064, 0.0067, 0.0064, 0.9604, 0.0069],\n",
      "       dtype=torch.float64)\n"
     ]
    },
    {
     "name": "stderr",
     "output_type": "stream",
     "text": [
      "Epoch 35:  35%|███▌      | 35/100 [00:32<00:59,  1.10it/s]"
     ]
    },
    {
     "name": "stdout",
     "output_type": "stream",
     "text": [
      "Epoch 34 : loss = 9248.2822\n",
      "tensor([0.0062, 0.0064, 0.0062, 0.0063, 0.0063, 0.9619, 0.0066],\n",
      "       dtype=torch.float64)\n"
     ]
    },
    {
     "name": "stderr",
     "output_type": "stream",
     "text": [
      "Epoch 36:  36%|███▌      | 36/100 [00:33<00:58,  1.10it/s]"
     ]
    },
    {
     "name": "stdout",
     "output_type": "stream",
     "text": [
      "Epoch 35 : loss = 9213.5696\n",
      "tensor([0.0065, 0.0063, 0.0063, 0.0063, 0.0062, 0.9621, 0.0063],\n",
      "       dtype=torch.float64)\n"
     ]
    },
    {
     "name": "stderr",
     "output_type": "stream",
     "text": [
      "Epoch 37:  37%|███▋      | 37/100 [00:34<00:57,  1.10it/s]"
     ]
    },
    {
     "name": "stdout",
     "output_type": "stream",
     "text": [
      "Epoch 36 : loss = 9210.9125\n",
      "tensor([0.0061, 0.0062, 0.0061, 0.0063, 0.0058, 0.9633, 0.0061],\n",
      "       dtype=torch.float64)\n"
     ]
    },
    {
     "name": "stderr",
     "output_type": "stream",
     "text": [
      "Epoch 38:  38%|███▊      | 38/100 [00:35<00:56,  1.10it/s]"
     ]
    },
    {
     "name": "stdout",
     "output_type": "stream",
     "text": [
      "Epoch 37 : loss = 9211.1133\n",
      "tensor([0.0066, 0.0063, 0.0062, 0.0064, 0.0061, 0.9619, 0.0065],\n",
      "       dtype=torch.float64)\n"
     ]
    },
    {
     "name": "stderr",
     "output_type": "stream",
     "text": [
      "Epoch 39:  39%|███▉      | 39/100 [00:36<00:55,  1.10it/s]"
     ]
    },
    {
     "name": "stdout",
     "output_type": "stream",
     "text": [
      "Epoch 38 : loss = 9183.5317\n",
      "tensor([0.0067, 0.0064, 0.0063, 0.0065, 0.0062, 0.9614, 0.0066],\n",
      "       dtype=torch.float64)\n"
     ]
    },
    {
     "name": "stderr",
     "output_type": "stream",
     "text": [
      "Epoch 40:  40%|████      | 40/100 [00:37<00:54,  1.10it/s]"
     ]
    },
    {
     "name": "stdout",
     "output_type": "stream",
     "text": [
      "Epoch 39 : loss = 9185.6187\n",
      "tensor([0.0067, 0.0064, 0.0063, 0.0065, 0.0062, 0.9614, 0.0066],\n",
      "       dtype=torch.float64)\n"
     ]
    },
    {
     "name": "stderr",
     "output_type": "stream",
     "text": [
      "Epoch 41:  41%|████      | 41/100 [00:37<00:53,  1.10it/s]"
     ]
    },
    {
     "name": "stdout",
     "output_type": "stream",
     "text": [
      "Epoch 40 : loss = 9147.469\n",
      "tensor([0.0066, 0.0066, 0.0061, 0.0067, 0.0064, 0.9614, 0.0063],\n",
      "       dtype=torch.float64)\n"
     ]
    },
    {
     "name": "stderr",
     "output_type": "stream",
     "text": [
      "Epoch 42:  42%|████▏     | 42/100 [00:38<00:52,  1.10it/s]"
     ]
    },
    {
     "name": "stdout",
     "output_type": "stream",
     "text": [
      "Epoch 41 : loss = 9156.7334\n",
      "tensor([0.0067, 0.0066, 0.0065, 0.0065, 0.0062, 0.9613, 0.0062],\n",
      "       dtype=torch.float64)\n"
     ]
    },
    {
     "name": "stderr",
     "output_type": "stream",
     "text": [
      "Epoch 43:  43%|████▎     | 43/100 [00:39<00:51,  1.10it/s]"
     ]
    },
    {
     "name": "stdout",
     "output_type": "stream",
     "text": [
      "Epoch 42 : loss = 9147.5297\n",
      "tensor([0.0067, 0.0066, 0.0065, 0.0065, 0.0062, 0.9613, 0.0062],\n",
      "       dtype=torch.float64)\n"
     ]
    },
    {
     "name": "stderr",
     "output_type": "stream",
     "text": [
      "Epoch 44:  44%|████▍     | 44/100 [00:40<00:51,  1.10it/s]"
     ]
    },
    {
     "name": "stdout",
     "output_type": "stream",
     "text": [
      "Epoch 43 : loss = 9147.4809\n",
      "tensor([0.0067, 0.0066, 0.0065, 0.0065, 0.0062, 0.9613, 0.0062],\n",
      "       dtype=torch.float64)\n"
     ]
    },
    {
     "name": "stderr",
     "output_type": "stream",
     "text": [
      "Epoch 45:  45%|████▌     | 45/100 [00:41<00:50,  1.10it/s]"
     ]
    },
    {
     "name": "stdout",
     "output_type": "stream",
     "text": [
      "Epoch 44 : loss = 9126.4519\n",
      "tensor([0.0067, 0.0066, 0.0065, 0.0065, 0.0062, 0.9613, 0.0062],\n",
      "       dtype=torch.float64)\n"
     ]
    },
    {
     "name": "stderr",
     "output_type": "stream",
     "text": [
      "Epoch 46:  46%|████▌     | 46/100 [00:42<00:49,  1.10it/s]"
     ]
    },
    {
     "name": "stdout",
     "output_type": "stream",
     "text": [
      "Epoch 45 : loss = 9145.8344\n",
      "tensor([0.0067, 0.0066, 0.0065, 0.0065, 0.0062, 0.9613, 0.0062],\n",
      "       dtype=torch.float64)\n"
     ]
    },
    {
     "name": "stderr",
     "output_type": "stream",
     "text": [
      "Epoch 47:  47%|████▋     | 47/100 [00:43<00:48,  1.10it/s]"
     ]
    },
    {
     "name": "stdout",
     "output_type": "stream",
     "text": [
      "Epoch 46 : loss = 9099.1223\n",
      "tensor([0.0070, 0.0068, 0.0067, 0.0067, 0.0066, 0.9597, 0.0065],\n",
      "       dtype=torch.float64)\n"
     ]
    },
    {
     "name": "stderr",
     "output_type": "stream",
     "text": [
      "Epoch 48:  48%|████▊     | 48/100 [00:44<00:47,  1.10it/s]"
     ]
    },
    {
     "name": "stdout",
     "output_type": "stream",
     "text": [
      "Epoch 47 : loss = 9131.9519\n",
      "tensor([0.0068, 0.0067, 0.0065, 0.0068, 0.0067, 0.9604, 0.0061],\n",
      "       dtype=torch.float64)\n"
     ]
    },
    {
     "name": "stderr",
     "output_type": "stream",
     "text": [
      "Epoch 49:  49%|████▉     | 49/100 [00:45<00:46,  1.10it/s]"
     ]
    },
    {
     "name": "stdout",
     "output_type": "stream",
     "text": [
      "Epoch 48 : loss = 9109.9181\n",
      "tensor([0.0066, 0.0066, 0.0064, 0.0069, 0.0067, 0.9608, 0.0059],\n",
      "       dtype=torch.float64)\n"
     ]
    },
    {
     "name": "stderr",
     "output_type": "stream",
     "text": [
      "Epoch 50:  50%|█████     | 50/100 [00:46<00:45,  1.10it/s]"
     ]
    },
    {
     "name": "stdout",
     "output_type": "stream",
     "text": [
      "Epoch 49 : loss = 9052.0179\n",
      "tensor([0.0066, 0.0066, 0.0064, 0.0069, 0.0067, 0.9608, 0.0059],\n",
      "       dtype=torch.float64)\n"
     ]
    },
    {
     "name": "stderr",
     "output_type": "stream",
     "text": [
      "Epoch 51:  51%|█████     | 51/100 [00:47<00:44,  1.10it/s]"
     ]
    },
    {
     "name": "stdout",
     "output_type": "stream",
     "text": [
      "Epoch 50 : loss = 9093.4207\n",
      "tensor([0.0064, 0.0064, 0.0063, 0.0067, 0.0066, 0.9616, 0.0060],\n",
      "       dtype=torch.float64)\n"
     ]
    },
    {
     "name": "stderr",
     "output_type": "stream",
     "text": [
      "Epoch 52:  52%|█████▏    | 52/100 [00:47<00:43,  1.10it/s]"
     ]
    },
    {
     "name": "stdout",
     "output_type": "stream",
     "text": [
      "Epoch 51 : loss = 9064.4014\n",
      "tensor([0.0068, 0.0069, 0.0067, 0.0069, 0.0065, 0.9597, 0.0065],\n",
      "       dtype=torch.float64)\n"
     ]
    },
    {
     "name": "stderr",
     "output_type": "stream",
     "text": [
      "Epoch 53:  53%|█████▎    | 53/100 [00:48<00:42,  1.10it/s]"
     ]
    },
    {
     "name": "stdout",
     "output_type": "stream",
     "text": [
      "Epoch 52 : loss = 9074.0728\n",
      "tensor([0.0068, 0.0069, 0.0067, 0.0069, 0.0065, 0.9596, 0.0065],\n",
      "       dtype=torch.float64)\n"
     ]
    },
    {
     "name": "stderr",
     "output_type": "stream",
     "text": [
      "Epoch 54:  54%|█████▍    | 54/100 [00:49<00:41,  1.10it/s]"
     ]
    },
    {
     "name": "stdout",
     "output_type": "stream",
     "text": [
      "Epoch 53 : loss = 9073.294\n",
      "tensor([0.0068, 0.0069, 0.0067, 0.0069, 0.0065, 0.9596, 0.0065],\n",
      "       dtype=torch.float64)\n"
     ]
    },
    {
     "name": "stderr",
     "output_type": "stream",
     "text": [
      "Epoch 55:  55%|█████▌    | 55/100 [00:50<00:41,  1.10it/s]"
     ]
    },
    {
     "name": "stdout",
     "output_type": "stream",
     "text": [
      "Epoch 54 : loss = 9062.5155\n",
      "tensor([0.0067, 0.0068, 0.0067, 0.0068, 0.0065, 0.9600, 0.0064],\n",
      "       dtype=torch.float64)\n"
     ]
    },
    {
     "name": "stderr",
     "output_type": "stream",
     "text": [
      "Epoch 56:  56%|█████▌    | 56/100 [00:51<00:40,  1.10it/s]"
     ]
    },
    {
     "name": "stdout",
     "output_type": "stream",
     "text": [
      "Epoch 55 : loss = 9033.0834\n",
      "tensor([0.0066, 0.0064, 0.0065, 0.0068, 0.0064, 0.9613, 0.0060],\n",
      "       dtype=torch.float64)\n"
     ]
    },
    {
     "name": "stderr",
     "output_type": "stream",
     "text": [
      "Epoch 57:  57%|█████▋    | 57/100 [00:52<00:39,  1.10it/s]"
     ]
    },
    {
     "name": "stdout",
     "output_type": "stream",
     "text": [
      "Epoch 56 : loss = 9054.7694\n",
      "tensor([0.0066, 0.0062, 0.0064, 0.0068, 0.0064, 0.9618, 0.0058],\n",
      "       dtype=torch.float64)\n"
     ]
    },
    {
     "name": "stderr",
     "output_type": "stream",
     "text": [
      "Epoch 58:  58%|█████▊    | 58/100 [00:53<00:38,  1.09it/s]"
     ]
    },
    {
     "name": "stdout",
     "output_type": "stream",
     "text": [
      "Epoch 57 : loss = 9018.4727\n",
      "tensor([0.0066, 0.0062, 0.0064, 0.0068, 0.0064, 0.9618, 0.0058],\n",
      "       dtype=torch.float64)\n"
     ]
    },
    {
     "name": "stderr",
     "output_type": "stream",
     "text": [
      "Epoch 59:  59%|█████▉    | 59/100 [00:54<00:37,  1.10it/s]"
     ]
    },
    {
     "name": "stdout",
     "output_type": "stream",
     "text": [
      "Epoch 58 : loss = 9023.3085\n",
      "tensor([0.0066, 0.0066, 0.0069, 0.0072, 0.0069, 0.9588, 0.0070],\n",
      "       dtype=torch.float64)\n"
     ]
    },
    {
     "name": "stderr",
     "output_type": "stream",
     "text": [
      "Epoch 60:  60%|██████    | 60/100 [00:55<00:36,  1.08it/s]"
     ]
    },
    {
     "name": "stdout",
     "output_type": "stream",
     "text": [
      "Epoch 59 : loss = 9022.5553\n",
      "tensor([0.0067, 0.0066, 0.0068, 0.0065, 0.0067, 0.9601, 0.0067],\n",
      "       dtype=torch.float64)\n"
     ]
    },
    {
     "name": "stderr",
     "output_type": "stream",
     "text": [
      "\n"
     ]
    },
    {
     "ename": "KeyboardInterrupt",
     "evalue": "",
     "output_type": "error",
     "traceback": [
      "\u001b[0;31m---------------------------------------------------------------------------\u001b[0m",
      "\u001b[0;31mKeyboardInterrupt\u001b[0m                         Traceback (most recent call last)",
      "Cell \u001b[0;32mIn[24], line 35\u001b[0m\n\u001b[1;32m     33\u001b[0m running_loss \u001b[38;5;241m=\u001b[39m \u001b[38;5;241m0.0\u001b[39m\n\u001b[1;32m     34\u001b[0m \u001b[38;5;28;01mfor\u001b[39;00m step \u001b[38;5;129;01min\u001b[39;00m \u001b[38;5;28mrange\u001b[39m(NUM_BATCHES):\n\u001b[0;32m---> 35\u001b[0m     loss \u001b[38;5;241m=\u001b[39m \u001b[43msvi\u001b[49m\u001b[38;5;241;43m.\u001b[39;49m\u001b[43mstep\u001b[49m\u001b[43m(\u001b[49m\u001b[43mdata\u001b[49m\u001b[43m)\u001b[49m\n\u001b[1;32m     36\u001b[0m     running_loss \u001b[38;5;241m+\u001b[39m\u001b[38;5;241m=\u001b[39m loss \u001b[38;5;241m/\u001b[39m batch_size\n\u001b[1;32m     37\u001b[0m     \u001b[38;5;66;03m# running_loss += (loss + SPATIAL_PENALTY_WEIGHT * spatial_penalty()) / batch_size\u001b[39;00m\n\u001b[1;32m     38\u001b[0m \u001b[38;5;66;03m# svi.optim.step()\u001b[39;00m\n",
      "File \u001b[0;32m~/.cache/pypoetry/virtualenvs/xenium-1YUjn3qu-py3.10/lib/python3.10/site-packages/pyro/infer/svi.py:145\u001b[0m, in \u001b[0;36mSVI.step\u001b[0;34m(self, *args, **kwargs)\u001b[0m\n\u001b[1;32m    143\u001b[0m \u001b[38;5;66;03m# get loss and compute gradients\u001b[39;00m\n\u001b[1;32m    144\u001b[0m \u001b[38;5;28;01mwith\u001b[39;00m poutine\u001b[38;5;241m.\u001b[39mtrace(param_only\u001b[38;5;241m=\u001b[39m\u001b[38;5;28;01mTrue\u001b[39;00m) \u001b[38;5;28;01mas\u001b[39;00m param_capture:\n\u001b[0;32m--> 145\u001b[0m     loss \u001b[38;5;241m=\u001b[39m \u001b[38;5;28;43mself\u001b[39;49m\u001b[38;5;241;43m.\u001b[39;49m\u001b[43mloss_and_grads\u001b[49m\u001b[43m(\u001b[49m\u001b[38;5;28;43mself\u001b[39;49m\u001b[38;5;241;43m.\u001b[39;49m\u001b[43mmodel\u001b[49m\u001b[43m,\u001b[49m\u001b[43m \u001b[49m\u001b[38;5;28;43mself\u001b[39;49m\u001b[38;5;241;43m.\u001b[39;49m\u001b[43mguide\u001b[49m\u001b[43m,\u001b[49m\u001b[43m \u001b[49m\u001b[38;5;241;43m*\u001b[39;49m\u001b[43margs\u001b[49m\u001b[43m,\u001b[49m\u001b[43m \u001b[49m\u001b[38;5;241;43m*\u001b[39;49m\u001b[38;5;241;43m*\u001b[39;49m\u001b[43mkwargs\u001b[49m\u001b[43m)\u001b[49m\n\u001b[1;32m    147\u001b[0m params \u001b[38;5;241m=\u001b[39m \u001b[38;5;28mset\u001b[39m(\n\u001b[1;32m    148\u001b[0m     site[\u001b[38;5;124m\"\u001b[39m\u001b[38;5;124mvalue\u001b[39m\u001b[38;5;124m\"\u001b[39m]\u001b[38;5;241m.\u001b[39munconstrained() \u001b[38;5;28;01mfor\u001b[39;00m site \u001b[38;5;129;01min\u001b[39;00m param_capture\u001b[38;5;241m.\u001b[39mtrace\u001b[38;5;241m.\u001b[39mnodes\u001b[38;5;241m.\u001b[39mvalues()\n\u001b[1;32m    149\u001b[0m )\n\u001b[1;32m    151\u001b[0m \u001b[38;5;66;03m# actually perform gradient steps\u001b[39;00m\n\u001b[1;32m    152\u001b[0m \u001b[38;5;66;03m# torch.optim objects gets instantiated for any params that haven't been seen yet\u001b[39;00m\n",
      "File \u001b[0;32m~/.cache/pypoetry/virtualenvs/xenium-1YUjn3qu-py3.10/lib/python3.10/site-packages/pyro/infer/trace_elbo.py:157\u001b[0m, in \u001b[0;36mTrace_ELBO.loss_and_grads\u001b[0;34m(self, model, guide, *args, **kwargs)\u001b[0m\n\u001b[1;32m    153\u001b[0m     \u001b[38;5;28;01mif\u001b[39;00m trainable_params \u001b[38;5;129;01mand\u001b[39;00m \u001b[38;5;28mgetattr\u001b[39m(\n\u001b[1;32m    154\u001b[0m         surrogate_loss_particle, \u001b[38;5;124m\"\u001b[39m\u001b[38;5;124mrequires_grad\u001b[39m\u001b[38;5;124m\"\u001b[39m, \u001b[38;5;28;01mFalse\u001b[39;00m\n\u001b[1;32m    155\u001b[0m     ):\n\u001b[1;32m    156\u001b[0m         surrogate_loss_particle \u001b[38;5;241m=\u001b[39m surrogate_loss_particle \u001b[38;5;241m/\u001b[39m \u001b[38;5;28mself\u001b[39m\u001b[38;5;241m.\u001b[39mnum_particles\n\u001b[0;32m--> 157\u001b[0m         \u001b[43msurrogate_loss_particle\u001b[49m\u001b[38;5;241;43m.\u001b[39;49m\u001b[43mbackward\u001b[49m\u001b[43m(\u001b[49m\u001b[43mretain_graph\u001b[49m\u001b[38;5;241;43m=\u001b[39;49m\u001b[38;5;28;43mself\u001b[39;49m\u001b[38;5;241;43m.\u001b[39;49m\u001b[43mretain_graph\u001b[49m\u001b[43m)\u001b[49m\n\u001b[1;32m    158\u001b[0m warn_if_nan(loss, \u001b[38;5;124m\"\u001b[39m\u001b[38;5;124mloss\u001b[39m\u001b[38;5;124m\"\u001b[39m)\n\u001b[1;32m    159\u001b[0m \u001b[38;5;28;01mreturn\u001b[39;00m loss\n",
      "File \u001b[0;32m~/.cache/pypoetry/virtualenvs/xenium-1YUjn3qu-py3.10/lib/python3.10/site-packages/torch/_tensor.py:525\u001b[0m, in \u001b[0;36mTensor.backward\u001b[0;34m(self, gradient, retain_graph, create_graph, inputs)\u001b[0m\n\u001b[1;32m    515\u001b[0m \u001b[38;5;28;01mif\u001b[39;00m has_torch_function_unary(\u001b[38;5;28mself\u001b[39m):\n\u001b[1;32m    516\u001b[0m     \u001b[38;5;28;01mreturn\u001b[39;00m handle_torch_function(\n\u001b[1;32m    517\u001b[0m         Tensor\u001b[38;5;241m.\u001b[39mbackward,\n\u001b[1;32m    518\u001b[0m         (\u001b[38;5;28mself\u001b[39m,),\n\u001b[0;32m   (...)\u001b[0m\n\u001b[1;32m    523\u001b[0m         inputs\u001b[38;5;241m=\u001b[39minputs,\n\u001b[1;32m    524\u001b[0m     )\n\u001b[0;32m--> 525\u001b[0m \u001b[43mtorch\u001b[49m\u001b[38;5;241;43m.\u001b[39;49m\u001b[43mautograd\u001b[49m\u001b[38;5;241;43m.\u001b[39;49m\u001b[43mbackward\u001b[49m\u001b[43m(\u001b[49m\n\u001b[1;32m    526\u001b[0m \u001b[43m    \u001b[49m\u001b[38;5;28;43mself\u001b[39;49m\u001b[43m,\u001b[49m\u001b[43m \u001b[49m\u001b[43mgradient\u001b[49m\u001b[43m,\u001b[49m\u001b[43m \u001b[49m\u001b[43mretain_graph\u001b[49m\u001b[43m,\u001b[49m\u001b[43m \u001b[49m\u001b[43mcreate_graph\u001b[49m\u001b[43m,\u001b[49m\u001b[43m \u001b[49m\u001b[43minputs\u001b[49m\u001b[38;5;241;43m=\u001b[39;49m\u001b[43minputs\u001b[49m\n\u001b[1;32m    527\u001b[0m \u001b[43m\u001b[49m\u001b[43m)\u001b[49m\n",
      "File \u001b[0;32m~/.cache/pypoetry/virtualenvs/xenium-1YUjn3qu-py3.10/lib/python3.10/site-packages/torch/autograd/__init__.py:267\u001b[0m, in \u001b[0;36mbackward\u001b[0;34m(tensors, grad_tensors, retain_graph, create_graph, grad_variables, inputs)\u001b[0m\n\u001b[1;32m    262\u001b[0m     retain_graph \u001b[38;5;241m=\u001b[39m create_graph\n\u001b[1;32m    264\u001b[0m \u001b[38;5;66;03m# The reason we repeat the same comment below is that\u001b[39;00m\n\u001b[1;32m    265\u001b[0m \u001b[38;5;66;03m# some Python versions print out the first line of a multi-line function\u001b[39;00m\n\u001b[1;32m    266\u001b[0m \u001b[38;5;66;03m# calls in the traceback and some print out the last line\u001b[39;00m\n\u001b[0;32m--> 267\u001b[0m \u001b[43m_engine_run_backward\u001b[49m\u001b[43m(\u001b[49m\n\u001b[1;32m    268\u001b[0m \u001b[43m    \u001b[49m\u001b[43mtensors\u001b[49m\u001b[43m,\u001b[49m\n\u001b[1;32m    269\u001b[0m \u001b[43m    \u001b[49m\u001b[43mgrad_tensors_\u001b[49m\u001b[43m,\u001b[49m\n\u001b[1;32m    270\u001b[0m \u001b[43m    \u001b[49m\u001b[43mretain_graph\u001b[49m\u001b[43m,\u001b[49m\n\u001b[1;32m    271\u001b[0m \u001b[43m    \u001b[49m\u001b[43mcreate_graph\u001b[49m\u001b[43m,\u001b[49m\n\u001b[1;32m    272\u001b[0m \u001b[43m    \u001b[49m\u001b[43minputs\u001b[49m\u001b[43m,\u001b[49m\n\u001b[1;32m    273\u001b[0m \u001b[43m    \u001b[49m\u001b[43mallow_unreachable\u001b[49m\u001b[38;5;241;43m=\u001b[39;49m\u001b[38;5;28;43;01mTrue\u001b[39;49;00m\u001b[43m,\u001b[49m\n\u001b[1;32m    274\u001b[0m \u001b[43m    \u001b[49m\u001b[43maccumulate_grad\u001b[49m\u001b[38;5;241;43m=\u001b[39;49m\u001b[38;5;28;43;01mTrue\u001b[39;49;00m\u001b[43m,\u001b[49m\n\u001b[1;32m    275\u001b[0m \u001b[43m\u001b[49m\u001b[43m)\u001b[49m\n",
      "File \u001b[0;32m~/.cache/pypoetry/virtualenvs/xenium-1YUjn3qu-py3.10/lib/python3.10/site-packages/torch/autograd/graph.py:744\u001b[0m, in \u001b[0;36m_engine_run_backward\u001b[0;34m(t_outputs, *args, **kwargs)\u001b[0m\n\u001b[1;32m    742\u001b[0m     unregister_hooks \u001b[38;5;241m=\u001b[39m _register_logging_hooks_on_whole_graph(t_outputs)\n\u001b[1;32m    743\u001b[0m \u001b[38;5;28;01mtry\u001b[39;00m:\n\u001b[0;32m--> 744\u001b[0m     \u001b[38;5;28;01mreturn\u001b[39;00m \u001b[43mVariable\u001b[49m\u001b[38;5;241;43m.\u001b[39;49m\u001b[43m_execution_engine\u001b[49m\u001b[38;5;241;43m.\u001b[39;49m\u001b[43mrun_backward\u001b[49m\u001b[43m(\u001b[49m\u001b[43m  \u001b[49m\u001b[38;5;66;43;03m# Calls into the C++ engine to run the backward pass\u001b[39;49;00m\n\u001b[1;32m    745\u001b[0m \u001b[43m        \u001b[49m\u001b[43mt_outputs\u001b[49m\u001b[43m,\u001b[49m\u001b[43m \u001b[49m\u001b[38;5;241;43m*\u001b[39;49m\u001b[43margs\u001b[49m\u001b[43m,\u001b[49m\u001b[43m \u001b[49m\u001b[38;5;241;43m*\u001b[39;49m\u001b[38;5;241;43m*\u001b[39;49m\u001b[43mkwargs\u001b[49m\n\u001b[1;32m    746\u001b[0m \u001b[43m    \u001b[49m\u001b[43m)\u001b[49m  \u001b[38;5;66;03m# Calls into the C++ engine to run the backward pass\u001b[39;00m\n\u001b[1;32m    747\u001b[0m \u001b[38;5;28;01mfinally\u001b[39;00m:\n\u001b[1;32m    748\u001b[0m     \u001b[38;5;28;01mif\u001b[39;00m attach_logging_hooks:\n",
      "\u001b[0;31mKeyboardInterrupt\u001b[0m: "
     ]
    }
   ],
   "source": [
    "pyro.clear_param_store()\n",
    "NUM_EPOCHS = 100\n",
    "NUM_BATCHES = int(math.ceil(data.shape[0] / batch_size))\n",
    "\n",
    "def per_param_callable(param_name):\n",
    "    if param_name == 'cluster_means_q_mean':\n",
    "        return {\"lr\": 0.005, \"betas\": (0.9, 0.999)}\n",
    "    elif param_name == 'cluster_scales_q_mean':\n",
    "        return {\"lr\": 0.001, \"betas\": (0.9, 0.999)}\n",
    "    else:\n",
    "        return {\"lr\": 0.005, \"betas\": (0.9, 0.999)}\n",
    "\n",
    "scheduler = Adam(per_param_callable)\n",
    "\n",
    "# Setup the inference algorithm\n",
    "svi = SVI(model, guide, scheduler, loss=TraceMeanField_ELBO(num_particles=NUM_PARTICLES, vectorize_particles=True))\n",
    "\n",
    "# Create a DataLoader for the data\n",
    "# Convert data to CUDA tensors before creating the DataLoader\n",
    "data = data.to('cuda')\n",
    "\n",
    "# Clear the param store in case we're in a REPL\n",
    "pyro.clear_param_store()\n",
    "\n",
    "epoch_pbar = tqdm(range(NUM_EPOCHS))\n",
    "cluster_means_trace = []\n",
    "cluster_scales_trace = []\n",
    "current_min_loss = float('inf')\n",
    "PATIENCE = 10\n",
    "patience_counter = 0\n",
    "for epoch in epoch_pbar:\n",
    "    epoch_pbar.set_description(f\"Epoch {epoch}\")\n",
    "    running_loss = 0.0\n",
    "    for step in range(NUM_BATCHES):\n",
    "        loss = svi.step(data)\n",
    "        running_loss += loss / batch_size\n",
    "        # running_loss += (loss + SPATIAL_PENALTY_WEIGHT * spatial_penalty()) / batch_size\n",
    "    # svi.optim.step()\n",
    "    if epoch % 1 == 0:\n",
    "        print(f\"Epoch {epoch} : loss = {round(running_loss, 4)}\")\n",
    "        current_cluster_means = pyro.param(\"cluster_means_q_mean\").detach().cpu().numpy()\n",
    "        cluster_means_trace.append(current_cluster_means)\n",
    "        current_cluster_scales = pyro.param(\"cluster_scales_q_mean\").detach().cpu().numpy()\n",
    "        cluster_scales_trace.append(current_cluster_scales)\n",
    "        # print(current_cluster_means[0])\n",
    "        if running_loss > current_min_loss:\n",
    "            patience_counter += 1\n",
    "        else:\n",
    "            current_min_loss = running_loss\n",
    "            patience_counter = 0\n",
    "        if patience_counter >= PATIENCE:\n",
    "            break \n",
    "        l2_norm = torch.norm(torch.softmax(pyro.param(\"cluster_logits_q_mean\").detach(), dim=-1) - spatial_cluster_probs_prior, p=2)\n",
    "        # print(torch.softmax(pyro.param(\"cluster_logits_q_mean\").detach(), dim=-1)[0])\n",
    "\n",
    "\n",
    "        # cluster_concentration_params_q = pyro.param(\"cluster_concentration_params_q\", concentration_priors, constraint=dist.constraints.positive).clamp(min=MIN_CONCENTRATION)\n",
    "        # if sample_for_assignment:\n",
    "        #     cluster_probs_q = pyro.sample(\"cluster_probs\", dist.Dirichlet(cluster_concentration_params_q, validate_args=True)).detach()     \n",
    "        # else:\n",
    "        #     # the probs aren't sampled and we calculate the EV instead\n",
    "        #     cluster_probs_q = (cluster_concentration_params_q / cluster_concentration_params_q.sum(dim=1, keepdim=True))\n",
    "        # cluster_assignments_q = cluster_probs_q.argmax(dim=1)\n",
    "\n",
    "        # if dataset_name == \"DLPFC\":\n",
    "        #     # Create a DataFrame for easier handling\n",
    "        #     cluster_data = pd.DataFrame({\n",
    "        #         'ClusterAssignments': cluster_assignments_q,\n",
    "        #         'Region': original_adata.xenium_spot_data.obs[\"Region\"]\n",
    "        #     })\n",
    "\n",
    "        #     # Drop rows where 'Region' is NaN\n",
    "        #     filtered_data = cluster_data.dropna(subset=['Region'])\n",
    "\n",
    "        #     # Calculate ARI and NMI only for the non-NaN entries\n",
    "        #     ari = ARI(filtered_data['ClusterAssignments'], filtered_data['Region'])\n",
    "        #     nmi = NMI(filtered_data['ClusterAssignments'], filtered_data['Region'])\n",
    "        #     print(f\"Step {step} : ARI = {ari} NMI = {nmi}\")"
   ]
  },
  {
   "cell_type": "code",
   "execution_count": null,
   "metadata": {},
   "outputs": [],
   "source": [
    "torch.abs(pyro.param(\"cluster_means_q_mean\").detach() - empirical_prior_means).mean()"
   ]
  },
  {
   "cell_type": "code",
   "execution_count": null,
   "metadata": {},
   "outputs": [],
   "source": [
    "pyro.param(\"cluster_means_q_mean\").detach(), empirical_prior_means"
   ]
  },
  {
   "cell_type": "code",
   "execution_count": 18,
   "metadata": {},
   "outputs": [],
   "source": [
    "# cluster_means_trace = np.array(cluster_means_trace)  # Shape: [num_epochs, num_clusters, data_dim]\n",
    "# import matplotlib.pyplot as plt\n",
    "\n",
    "# num_epochs, num_clusters, data_dim = cluster_means_trace.shape\n",
    "\n",
    "# for cluster_idx in range(num_clusters):\n",
    "#     for dim_idx in range(data_dim):\n",
    "#         plt.plot(\n",
    "#             range(num_epochs),\n",
    "#             cluster_means_trace[:, cluster_idx, dim_idx],\n",
    "#             label=f\"Cluster {cluster_idx}, Dim {dim_idx}\"\n",
    "#         )\n",
    "#         plt.xlabel(\"Epoch\")\n",
    "#         plt.ylabel(\"Cluster Mean Value\")\n",
    "#         plt.title(f\"Trace Plot for Cluster {cluster_idx}, Dimension {dim_idx}\")\n",
    "#         plt.legend()\n",
    "#         plt.show()\n",
    "#         break\n"
   ]
  },
  {
   "cell_type": "code",
   "execution_count": 19,
   "metadata": {},
   "outputs": [],
   "source": [
    "# cluster_scales_trace = np.array(cluster_scales_trace)  # Shape: [num_epochs, num_clusters, data_dim]\n",
    "# import matplotlib.pyplot as plt\n",
    "\n",
    "# num_epochs, num_clusters, data_dim = cluster_scales_trace.shape\n",
    "\n",
    "# for cluster_idx in range(num_clusters):\n",
    "#     for dim_idx in range(data_dim):\n",
    "#         plt.plot(\n",
    "#             range(num_epochs),\n",
    "#             cluster_scales_trace[:, cluster_idx, dim_idx],\n",
    "#             label=f\"Cluster {cluster_idx}, Dim {dim_idx}\"\n",
    "#         )\n",
    "#         plt.xlabel(\"Epoch\")\n",
    "#         plt.ylabel(\"Cluster Scale Value\")\n",
    "#         plt.title(f\"Trace Plot for Cluster {cluster_idx}, Dimension {dim_idx}\")\n",
    "#         plt.legend()\n",
    "#         plt.show()\n",
    "#         break"
   ]
  },
  {
   "cell_type": "code",
   "execution_count": null,
   "metadata": {},
   "outputs": [],
   "source": [
    "torch.set_default_tensor_type(torch.FloatTensor)\n",
    "\n",
    "# Grab the learned variational parameters\n",
    "num_posterior_samples = 1000\n",
    "sample_for_assignment_options = [True, False]\n",
    "\n",
    "for sample_for_assignment in sample_for_assignment_options:\n",
    "    cluster_logits_q_mean = pyro.param(\"cluster_logits_q_mean\")\n",
    "    cluster_logits_q_scale = pyro.param(\"cluster_logits_q_scale\")\n",
    "    if sample_for_assignment:\n",
    "        cluster_probs_q = torch.softmax(pyro.sample(\"cluster_probs\", dist.Normal(cluster_logits_q_mean, cluster_logits_q_scale).expand_by([num_posterior_samples]).to_event(1)).mean(dim=0), dim=-1)\n",
    "        cluster_assignments_q = pyro.sample(\"cluster_assignments\", dist.Categorical(cluster_probs_q).expand_by([num_posterior_samples])).mode(dim=0).values\n",
    "        cluster_assignments_prior = cluster_assignments_prior_TRUE\n",
    "    else:\n",
    "        cluster_probs_q = torch.softmax(cluster_logits_q_mean, dim=-1)\n",
    "        cluster_assignments_q = cluster_probs_q.argmax(dim=1)\n",
    "        cluster_assignments_prior = cluster_assignments_prior_FALSE\n",
    "    \n",
    "    cluster_means_q_mean = pyro.param(\"cluster_means_q_mean\").cpu().detach()\n",
    "    cluster_scales_q_mean = pyro.param(\"cluster_scales_q_mean\").cpu().detach()\n",
    "    cluster_probs_q = cluster_probs_q.cpu().detach()\n",
    "    cluster_assignments_q = cluster_assignments_q.cpu().detach()\n",
    "    cluster_assignments_prior = cluster_assignments_prior.cpu().detach()\n",
    "\n",
    "    # Plotting\n",
    "    if spot_size:\n",
    "\n",
    "        rows = spatial_locations[\"row\"].astype(int)\n",
    "        columns = spatial_locations[\"col\"].astype(int)\n",
    "\n",
    "        num_rows = max(rows) + 1\n",
    "        num_cols = max(columns) + 1\n",
    "\n",
    "        cluster_grid = torch.zeros((num_rows, num_cols), dtype=torch.long)\n",
    "\n",
    "        cluster_grid[rows, columns] = cluster_assignments_q + 1\n",
    "\n",
    "        colors = plt.cm.get_cmap('viridis', num_clusters + 1)\n",
    "\n",
    "        colormap_colors = np.vstack(([[1, 1, 1, 1]], colors(np.linspace(0, 1, num_clusters))))\n",
    "        colormap = ListedColormap(colormap_colors)\n",
    "\n",
    "        plt.figure(figsize=(6, 6))\n",
    "        plt.imshow(cluster_grid.cpu(), cmap=colormap, interpolation='nearest', origin='lower')\n",
    "        plt.colorbar(ticks=range(num_clusters + 1), label='Cluster Values')\n",
    "        plt.title('Posterior Cluster Assignment with BayXenSmooth')\n",
    "\n",
    "        match data_mode:\n",
    "            case \"PCA\":\n",
    "                data_file_path = f\"{data_mode}/{num_pcs}\"\n",
    "            case \"HVG\": \n",
    "                data_file_path = f\"{data_mode}/{hvg_var_prop}\"\n",
    "            case \"ALL\":\n",
    "                data_file_path = f\"{data_mode}\"\n",
    "            case _:\n",
    "                raise ValueError(\"The data mode specified is not supported.\")\n",
    "\n",
    "        if not os.path.exists(bayxensmooth_clusters_filepath := save_filepath(\"BayXenSmooth\", \"clusters\", sample_for_assignment)):\n",
    "            os.makedirs(bayxensmooth_clusters_filepath)\n",
    "        _ = plt.savefig(\n",
    "            f\"{bayxensmooth_clusters_filepath}/result.png\"\n",
    "        )\n",
    "\n",
    "        clusters = pd.DataFrame(cluster_assignments_q.cpu(), columns=[\"BayXenSmooth cluster\"]).to_csv(f\"{bayxensmooth_clusters_filepath}/clusters_K={num_clusters}.csv\")\n",
    "        soft_clusters = pd.DataFrame(cluster_probs_q, columns=[f'P(z_i = {i})'  for i in range(1, num_clusters + 1)]).to_csv(f\"{bayxensmooth_clusters_filepath}/soft_clusters_K={num_clusters}.csv\")\n",
    "\n",
    "        if not os.path.exists(bayxensmooth_similar_filepath := save_filepath(\"BayXenSmooth\", \"prior_v_posterior\", sample_for_assignment)):\n",
    "            os.makedirs(bayxensmooth_similar_filepath)\n",
    "        with open(f\"{bayxensmooth_similar_filepath}/similarity.txt\", 'w') as fp:\n",
    "            prior_similarity = torch.mean((cluster_assignments_prior == cluster_assignments_q).float()).item()\n",
    "            fp.write(str(prior_similarity))\n",
    "            print(prior_similarity)\n",
    "\n",
    "        # grab the mpd distance of cluster labels\n",
    "        mpd = {}\n",
    "        for label in range(1, num_clusters + 1):\n",
    "            current_cluster_locations = torch.stack(torch.where((cluster_grid.cpu() == label)), axis=1).to(float)\n",
    "            mpd[f\"Cluster {label}\"] = spot_size * torch.mean(torch.cdist(current_cluster_locations, current_cluster_locations, p = 2)).item()\n",
    "        print(\"mpd\", sum(mpd.values()) / 1_000_000)\n",
    "\n",
    "        if not os.path.exists(bayxensmooth_mpd_filepath := save_filepath(\"BayXenSmooth\", \"mpd\", sample_for_assignment)):\n",
    "            os.makedirs(bayxensmooth_mpd_filepath)\n",
    "        with open(f\"{bayxensmooth_mpd_filepath}/mpd.json\", 'w') as fp:\n",
    "            json.dump(mpd, fp)\n",
    "\n",
    "        cmap = get_cmap('rainbow')\n",
    "\n",
    "        if isinstance(original_adata.xenium_spot_data.X, csr_matrix):\n",
    "            labels = np.unique(cluster_assignments_q)  # Define the number of clusters\n",
    "            gene_columns = original_adata.xenium_spot_data.var.index  # Column names from another source\n",
    "            mean_expression_by_cluster = pd.DataFrame(columns=gene_columns)\n",
    "\n",
    "            # Loop through each cluster label\n",
    "            for label in labels:\n",
    "                # Find indexes of current cluster\n",
    "                current_cluster_indexes = torch.where(cluster_assignments_q == label)[0].numpy()\n",
    "                \n",
    "                # Efficiently extract the rows for the current cluster using fancy indexing\n",
    "                expressions = original_adata.xenium_spot_data.X[current_cluster_indexes, :]\n",
    "                print(label, expressions.shape)\n",
    "                \n",
    "                # Compute mean expressions; the result is still a csr_matrix\n",
    "                mean_expressions = expressions.mean(axis=0)\n",
    "                \n",
    "                # Convert mean_expressions to a dense format and then to a DataFrame\n",
    "                mean_expressions_df = pd.DataFrame(mean_expressions.A, columns=gene_columns)\n",
    "                \n",
    "                # Append the result to the mean_expression_by_cluster DataFrame\n",
    "                mean_expression_by_cluster = pd.concat([mean_expression_by_cluster, mean_expressions_df], ignore_index=True)\n",
    "        else:\n",
    "            # identify marker genes within each cluster\n",
    "            mean_expression_by_cluster = pd.DataFrame(columns=original_adata.xenium_spot_data.var.index)\n",
    "\n",
    "            for label in range(num_clusters):\n",
    "                current_cluster_indexes = list(torch.where(cluster_assignments_q == label)[0].cpu().numpy())\n",
    "                expressions = pd.DataFrame(original_adata.xenium_spot_data.X, columns=original_adata.xenium_spot_data.var.index).iloc[current_cluster_indexes, :]\n",
    "                mean_expressions = expressions.mean(axis=0).to_frame().T\n",
    "                mean_expression_by_cluster = pd.concat([mean_expression_by_cluster, mean_expressions], ignore_index=True)\n",
    "\n",
    "        if evaluate_markers:\n",
    "            for i, gene in enumerate(mean_expression_by_cluster.columns):\n",
    "                # using subplots() to draw vertical lines \n",
    "                fig, ax = plt.subplots(figsize=(6, 6)) \n",
    "                ax.vlines(mean_expression_by_cluster[gene].index, ymin=0, ymax=mean_expression_by_cluster[gene], color=cmap(i / (len(mean_expression_by_cluster.columns) - 1))) \n",
    "                \n",
    "                # drawing the markers\n",
    "                ax.plot(mean_expression_by_cluster[gene].index, mean_expression_by_cluster[gene], \"^\", c=cmap(i / (len(mean_expression_by_cluster.columns) - 1))) \n",
    "                ax.set_ylim(0) \n",
    "                \n",
    "                # formatting and details \n",
    "                ax.set_xlabel('Cluster Label') \n",
    "                ax.set_ylabel('Mean Expression') \n",
    "                ax.set_title(gene) \n",
    "                ax.set_xticks(mean_expression_by_cluster[gene].index) \n",
    "                if not os.path.exists(bayxensmooth_expression_filepath := save_filepath(\"BayXenSmooth\", \"expressions\", sample_for_assignment)):\n",
    "                    os.makedirs(f\"{bayxensmooth_expression_filepath}\")\n",
    "                _ = plt.savefig(\n",
    "                    f\"{bayxensmooth_expression_filepath}/GENE={gene}.png\"\n",
    "                )\n",
    "        \n",
    "        # confidence mapping\n",
    "        cluster_confidences = torch.zeros((num_rows, num_cols), dtype=torch.double)\n",
    "\n",
    "        cluster_confidences[rows, columns] = cluster_probs_q.max(dim=1).values\n",
    "\n",
    "        heatmap_bins = 21\n",
    "        colors = plt.cm.get_cmap('YlOrRd', heatmap_bins)\n",
    "        colormap_colors = np.vstack(([[1, 1, 1, 1]], colors(np.linspace(0, 1, heatmap_bins - 1))))\n",
    "        colormap = ListedColormap(colormap_colors)\n",
    "\n",
    "        plt.figure(figsize=(6, 6))\n",
    "        plt.imshow(cluster_confidences, cmap=colormap, interpolation='nearest', origin='lower')\n",
    "        # plt.xticks([])  # Remove x-axis tick marks\n",
    "        # plt.yticks([])  # Remove y-axis tick marks\n",
    "        plt.gca().spines['top'].set_visible(False)  # Remove top border\n",
    "        plt.gca().spines['right'].set_visible(False)  # Remove right border\n",
    "        # plt.gca().spines['bottom'].set_visible(False)  # Remove bottom border\n",
    "        # plt.gca().spines['left'].set_visible(False)  # Remove left border\n",
    "        cbar = plt.colorbar(fraction=0.046, pad=0.04)  # Make colorbar the same height as the figure\n",
    "        plt.title(r'$P(z_i = k)$')\n",
    "\n",
    "\n",
    "        colors = plt.cm.get_cmap('Greys', num_clusters + 1)\n",
    "        colormap = ListedColormap(colors(np.linspace(0, 1, num_clusters + 1)))\n",
    "\n",
    "        confidence_proportions = {}\n",
    "        for uncertainty_value in uncertainty_values:\n",
    "            confidence_matrix = (cluster_confidences > uncertainty_value).float()\n",
    "            confidence_proportions[uncertainty_value] = torch.mean(confidence_matrix).item()\n",
    "            plt.figure(figsize=(6, 6))\n",
    "            plt.imshow(cluster_confidences > uncertainty_value, cmap=colormap, interpolation='nearest', origin='lower')\n",
    "            # plt.xticks([])  # Remove x-axis tick marks\n",
    "            # plt.yticks([])  # Remove y-axis tick marks\n",
    "            plt.gca().spines['top'].set_visible(False)  # Remove top border\n",
    "            plt.gca().spines['right'].set_visible(False)  # Remove right border\n",
    "            # plt.gca().spines['bottom'].set_visible(False)  # Remove bottom border\n",
    "            # plt.gca().spines['left'].set_visible(False)  # Remove left border\n",
    "            cbar = plt.colorbar(fraction=0.046, pad=0.04)  # Make colorbar the same height as the figure\n",
    "            # PLOT ALL UNCERTAINTY VALUESs\n",
    "            plt.title(r'$\\max_k \\, P(z_i = k) > $' + f'{uncertainty_value}')\n",
    "            if not os.path.exists(bayxensmooth_uncertainty_filepath := save_filepath(\"BayXenSmooth\", \"uncertainty\", sample_for_assignment)):\n",
    "                os.makedirs(bayxensmooth_uncertainty_filepath)\n",
    "            _ = plt.savefig(\n",
    "                f\"{bayxensmooth_uncertainty_filepath}/CONFIDENCE={uncertainty_value}.png\"\n",
    "            )\n",
    "\n",
    "    else:\n",
    "\n",
    "        plt.scatter(spatial_locations[\"x_location\"], spatial_locations[\"y_location\"], s=1, c=cluster_assignments_q)\n",
    "        if not os.path.exists(bayxensmooth_clusters_filepath := save_filepath(\"BayXenSmooth\", \"clusters\", sample_for_assignment)):\n",
    "            os.makedirs(bayxensmooth_clusters_filepath)\n",
    "        _ = plt.savefig(\n",
    "            f\"{bayxensmooth_clusters_filepath}/result.png\"\n",
    "        )\n",
    "    \n",
    "    gene_data, spatial_locations, original_adata = prepare_Xenium_data(\n",
    "        dataset=\"hBreast\", \n",
    "        spots=True, \n",
    "        spot_size=spot_size, \n",
    "        third_dim=False, \n",
    "        log_normalize=False, \n",
    "        likelihood_mode=data_mode, \n",
    "        num_pcs=num_pcs,\n",
    "        hvg_var_prop=hvg_var_prop,\n",
    "        min_expressions_per_spot=0\n",
    "    )\n",
    "\n",
    "    print(\"BXS MORAN\", sample_for_assignment)\n",
    "    clusters = pd.DataFrame(cluster_assignments_q.cpu(), columns=[\"BayXenSmooth cluster\"])\n",
    "    morans_i_gene_dict = gene_morans_i(original_adata, spatial_locations, clusters[\"BayXenSmooth cluster\"])\n",
    "    # gearys_c_gene_dict = gene_gearys_c(original_adata, spatial_locations, clusters[\"BayXenSmooth cluster\"])\n",
    "    marker_genes = [\"BANK1\", \"CEACAM6\", \"FASN\", \"FGL2\", \"IL7R\", \"KRT6B\", \"POSTN\", \"TCIM\"]\n",
    "    morans_i_markers = {k: v for k, v in morans_i_gene_dict.items() if k in marker_genes}\n",
    "    # gearys_c_markers = {k: v for k, v in gearys_c_gene_dict.items() if k in marker_genes}\n",
    "    print(morans_i_markers)\n",
    "\n",
    "    print(\"INITIAL MORAN\", sample_for_assignment)\n",
    "    clusters = pd.DataFrame(initial_clusters, columns=[\"initial cluster\"])\n",
    "    morans_i_gene_dict = gene_morans_i(original_adata, spatial_locations, clusters[\"initial cluster\"])\n",
    "    # gearys_c_gene_dict = gene_gearys_c(original_adata, spatial_locations, clusters[\"BayXenSmooth cluster\"])\n",
    "    marker_genes = [\"BANK1\", \"CEACAM6\", \"FASN\", \"FGL2\", \"IL7R\", \"KRT6B\", \"POSTN\", \"TCIM\"]\n",
    "    morans_i_markers = {k: v for k, v in morans_i_gene_dict.items() if k in marker_genes}\n",
    "    # gearys_c_markers = {k: v for k, v in gearys_c_gene_dict.items() if k in marker_genes}\n",
    "\n",
    "    print(morans_i_markers)"
   ]
  },
  {
   "cell_type": "code",
   "execution_count": null,
   "metadata": {},
   "outputs": [],
   "source": [
    "rows = spatial_locations[\"row\"].astype(int)\n",
    "columns = spatial_locations[\"col\"].astype(int)\n",
    "\n",
    "num_rows = max(rows) + 1\n",
    "num_cols = max(columns) + 1\n",
    "\n",
    "cluster_grid = torch.zeros((num_rows, num_cols), dtype=torch.double).cpu()\n",
    "\n",
    "soft_assignments = pd.read_csv(\n",
    "    \"results/hBreast/BayXenSmooth/clusters/PCA/3/INIT=K-Means/NEIGHBORSIZE=1/NUMCLUSTERS=17/SAMPLEFORASSIGNMENT=True/SPATIALPRIORMULT=DIRECT/SPOTSIZE=50/AGG=mean/MU_PRIOR=1.0/SIGMA_PRIOR=0.25/LOGITS_PRIOR=1.0/LEARN_GLOBAL_VARS=True/soft_clusters_K=17.csv\",\n",
    "    index_col=0\n",
    ")\n",
    "print(soft_assignments.head())\n",
    "cluster_confidences = torch.tensor(soft_assignments.values.max(axis=1)).cpu()\n",
    "\n",
    "cluster_grid[rows, columns] = cluster_confidences\n",
    "\n",
    "heatmap_bins = 21\n",
    "colors = plt.cm.get_cmap('YlOrRd', heatmap_bins)\n",
    "colormap_colors = np.vstack(([[1, 1, 1, 1]], colors(np.linspace(0, 1, heatmap_bins - 1))))\n",
    "colormap = ListedColormap(colormap_colors)\n",
    "\n",
    "plt.figure(figsize=(6, 6))\n",
    "plt.imshow(cluster_grid, cmap=colormap, interpolation='nearest', origin='lower')\n",
    "# plt.xticks([])  # Remove x-axis tick marks\n",
    "# plt.yticks([])  # Remove y-axis tick marks\n",
    "plt.gca().spines['top'].set_visible(False)  # Remove top border\n",
    "plt.gca().spines['right'].set_visible(False)  # Remove right border\n",
    "# plt.gca().spines['bottom'].set_visible(False)  # Remove bottom border\n",
    "# plt.gca().spines['left'].set_visible(False)  # Remove left border\n",
    "cbar = plt.colorbar(fraction=0.046, pad=0.04)  # Make colorbar the same height as the figure\n",
    "plt.title(r'$\\max_k \\,\\, P(z_i = k)$')"
   ]
  },
  {
   "cell_type": "code",
   "execution_count": null,
   "metadata": {},
   "outputs": [],
   "source": [
    "heatmap_bins = 21\n",
    "colors = plt.cm.get_cmap('YlOrRd', heatmap_bins)\n",
    "colormap_colors = np.vstack(([[1, 1, 1, 1]], colors(np.linspace(0, 1, heatmap_bins - 1))))\n",
    "colormap = ListedColormap(colormap_colors)\n",
    "\n",
    "plt.figure(figsize=(6, 6))\n",
    "plt.imshow(cluster_confidences, cmap=colormap, interpolation='nearest', origin='lower')\n",
    "# plt.xticks([])  # Remove x-axis tick marks\n",
    "# plt.yticks([])  # Remove y-axis tick marks\n",
    "plt.gca().spines['top'].set_visible(False)  # Remove top border\n",
    "plt.gca().spines['right'].set_visible(False)  # Remove right border\n",
    "# plt.gca().spines['bottom'].set_visible(False)  # Remove bottom border\n",
    "# plt.gca().spines['left'].set_visible(False)  # Remove left border\n",
    "cbar = plt.colorbar(fraction=0.046, pad=0.04)  # Make colorbar the same height as the figure\n",
    "plt.title(r'$\\max_k P(z_i = k)$')\n",
    "\n",
    "# confidence_proportions = {}\n",
    "# for uncertainty_value in uncertainty_values:\n",
    "#     confidence_matrix = (cluster_confidences > uncertainty_value).float()\n",
    "#     confidence_proportions[uncertainty_value] = torch.mean(confidence_matrix).item()\n",
    "#     plt.figure(figsize=(6, 6))\n",
    "#     plt.imshow(cluster_confidences > uncertainty_value, cmap=colormap, interpolation='nearest', origin='lower')\n",
    "#     plt.colorbar(ticks=range(num_clusters + 1), label='Cluster Values')\n",
    "#     # PLOT ALL UNCERTAINTY VALUESs\n",
    "#     plt.title(r'$P(z_i = k) > $' + f'{uncertainty_value}')\n",
    "#     if not os.path.exists(bayxensmooth_uncertainty_filepath := save_filepath(\"BayXenSmooth\", \"uncertainty\", sample_for_assignment)):\n",
    "#         os.makedirs(bayxensmooth_uncertainty_filepath)\n",
    "#     _ = plt.savefig(\n",
    "#         f\"{bayxensmooth_uncertainty_filepath}/CONFIDENCE={uncertainty_value}.png\"\n",
    "#     )"
   ]
  },
  {
   "cell_type": "code",
   "execution_count": null,
   "metadata": {},
   "outputs": [],
   "source": [
    "plt.figure(figsize=(6, 6))\n",
    "same_labels = (cluster_grid_PRIOR.cpu() == cluster_grid.cpu()).float() * 2 - 1\n",
    "same_labels[cluster_grid_PRIOR.cpu() == 0] = 0\n",
    "colors = plt.cm.get_cmap('bwr', heatmap_bins)\n",
    "plt.imshow(same_labels, cmap=colors, interpolation='nearest', origin='lower')\n",
    "plt.colorbar(ticks=[-1,0,1], label='Prior = Posterior', fraction=0.046, pad=0.04)  # Make colorbar the same height as the figure\n",
    "print(f\"Proportion of Same Labels: {same_labels.float().mean()}\")\n",
    "_ = plt.title(r'$w_{i, prior} = w_{i, posterior}$')"
   ]
  },
  {
   "cell_type": "code",
   "execution_count": null,
   "metadata": {},
   "outputs": [],
   "source": []
  }
 ],
 "metadata": {
  "kernelspec": {
   "display_name": "xenium-1YUjn3qu-py3.10",
   "language": "python",
   "name": "python3"
  },
  "language_info": {
   "codemirror_mode": {
    "name": "ipython",
    "version": 3
   },
   "file_extension": ".py",
   "mimetype": "text/x-python",
   "name": "python",
   "nbconvert_exporter": "python",
   "pygments_lexer": "ipython3",
   "version": "3.10.12"
  }
 },
 "nbformat": 4,
 "nbformat_minor": 2
}
