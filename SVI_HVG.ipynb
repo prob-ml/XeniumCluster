{
 "cells": [
  {
   "cell_type": "code",
   "execution_count": 1,
   "metadata": {},
   "outputs": [
    {
     "name": "stderr",
     "output_type": "stream",
     "text": [
      "/home/roko/.cache/pypoetry/virtualenvs/xenium-1YUjn3qu-py3.10/lib/python3.10/site-packages/tqdm/auto.py:21: TqdmWarning: IProgress not found. Please update jupyter and ipywidgets. See https://ipywidgets.readthedocs.io/en/stable/user_install.html\n",
      "  from .autonotebook import tqdm as notebook_tqdm\n"
     ]
    }
   ],
   "source": [
    "import math\n",
    "import os\n",
    "import torch\n",
    "import torch.distributions.constraints as constraints\n",
    "import pyro\n",
    "from pyro.optim import Adam\n",
    "from pyro.infer import SVI, Trace_ELBO\n",
    "import pyro.distributions as dist\n",
    "import numpy as np\n",
    "import matplotlib.pyplot as plt\n",
    "from matplotlib.colors import ListedColormap\n",
    "\n",
    "import numpy as np\n",
    "import pandas as pd\n",
    "import scanpy as sc\n",
    "import matplotlib.pyplot as plt\n",
    "from matplotlib.colors import ListedColormap\n",
    "import torch\n",
    "from torch.utils.data import DataLoader, TensorDataset\n",
    "import lightning as L\n",
    "import torch.nn.functional as F\n",
    "import optuna\n",
    "import tensorboard\n",
    "from lightning.pytorch.loggers import TensorBoardLogger\n",
    "\n",
    "import warnings\n",
    "warnings.filterwarnings(\"ignore\")\n",
    "from importlib import reload\n",
    "\n",
    "import torchclustermetrics \n",
    "reload(torchclustermetrics)\n",
    "from torchclustermetrics import silhouette\n",
    "\n",
    "# this ensures that I can update the class without losing my variables in my notebook\n",
    "import xenium_cluster\n",
    "reload(xenium_cluster)\n",
    "from xenium_cluster import XeniumCluster\n",
    "from utils.metrics import *\n",
    "\n",
    "from sklearn.decomposition import PCA\n",
    "from sklearn.preprocessing import StandardScaler\n",
    "\n",
    "\n",
    "from sklearn.cluster import KMeans;"
   ]
  },
  {
   "cell_type": "code",
   "execution_count": 2,
   "metadata": {},
   "outputs": [
    {
     "data": {
      "text/plain": [
       "(     transcript_id  cell_id  overlaps_nucleus feature_name  x_location  \\\n",
       " 0  281474976710657   191815                 1          LUM   4797.2383   \n",
       " 1  281474976710663   214084                 1       SEC11C   4801.7330   \n",
       " 2  281474976710672   191342                 0         TCIM   4804.4920   \n",
       " 3  281474976710673   191574                 0         STC1   4805.0483   \n",
       " 4  281474976710674   192193                 0         STC1   4805.7170   \n",
       " \n",
       "    y_location  z_location         qv  error_prob  \n",
       " 0   550.61346   15.421524  18.445875    0.014303  \n",
       " 1   905.11600   14.925031  31.019386    0.000791  \n",
       " 2   596.05396   14.681485  22.270780    0.005928  \n",
       " 3   414.38370   19.306356  16.183300    0.024081  \n",
       " 4   273.81440   16.112896  26.251837    0.002370  ,\n",
       " (43775350, 9))"
      ]
     },
     "execution_count": 2,
     "metadata": {},
     "output_type": "execute_result"
    }
   ],
   "source": [
    "# Path to your .gz file\n",
    "file_path = 'data/hBreast/transcripts.csv.gz'\n",
    "\n",
    "# Read the gzipped CSV file into a DataFrame\n",
    "df_transcripts = pd.read_csv(file_path, compression='gzip')\n",
    "df_transcripts[\"error_prob\"] = 10 ** (-df_transcripts[\"qv\"]/10)\n",
    "df_transcripts.head(), df_transcripts.shape"
   ]
  },
  {
   "cell_type": "code",
   "execution_count": 3,
   "metadata": {},
   "outputs": [],
   "source": [
    "# drop cells without ids\n",
    "df_transcripts = df_transcripts[df_transcripts[\"cell_id\"] != -1]"
   ]
  },
  {
   "cell_type": "code",
   "execution_count": 4,
   "metadata": {},
   "outputs": [
    {
     "data": {
      "text/plain": [
       "22"
      ]
     },
     "execution_count": 4,
     "metadata": {},
     "output_type": "execute_result"
    }
   ],
   "source": [
    "sum(df_transcripts[\"error_prob\"] > 0.25)"
   ]
  },
  {
   "cell_type": "code",
   "execution_count": 5,
   "metadata": {},
   "outputs": [],
   "source": [
    "clustering = XeniumCluster(data=df_transcripts, dataset_name=\"hBreast\")\n",
    "clustering.set_spot_size(100)\n",
    "clustering.create_spot_data(third_dim=False, save_data=True)"
   ]
  },
  {
   "cell_type": "code",
   "execution_count": 6,
   "metadata": {},
   "outputs": [],
   "source": [
    "valid_genes_mask = ~clustering.xenium_spot_data.var_names.str.startswith('BLANK_') & ~clustering.xenium_spot_data.var_names.str.startswith('NegControl')\n",
    "clustering.xenium_spot_data = clustering.xenium_spot_data[:, valid_genes_mask]"
   ]
  },
  {
   "cell_type": "code",
   "execution_count": 7,
   "metadata": {},
   "outputs": [],
   "source": [
    "clustering.normalize_counts(clustering.xenium_spot_data)"
   ]
  },
  {
   "cell_type": "code",
   "execution_count": 8,
   "metadata": {},
   "outputs": [
    {
     "data": {
      "text/plain": [
       "(6138, 5)"
      ]
     },
     "execution_count": 8,
     "metadata": {},
     "output_type": "execute_result"
    }
   ],
   "source": [
    "sc.tl.pca(clustering.xenium_spot_data, svd_solver='arpack', n_comps=5)\n",
    "clustering.xenium_spot_data.obsm[\"X_pca\"].shape"
   ]
  },
  {
   "cell_type": "code",
   "execution_count": 52,
   "metadata": {},
   "outputs": [],
   "source": [
    "NUM_CLUSTERS = 3\n",
    "BATCH_SIZE = 256\n",
    "\n",
    "# Clear the param store in case we're in a REPL\n",
    "pyro.clear_param_store()"
   ]
  },
  {
   "cell_type": "code",
   "execution_count": 53,
   "metadata": {},
   "outputs": [],
   "source": [
    "spatial_pca = np.concatenate((clustering.xenium_spot_data.obs[[\"x_location\", \"y_location\"]], clustering.xenium_spot_data.X), axis=1)\n",
    "spatial_pca = StandardScaler().fit_transform(spatial_pca)"
   ]
  },
  {
   "cell_type": "code",
   "execution_count": 54,
   "metadata": {},
   "outputs": [],
   "source": [
    "kmeans = KMeans(n_clusters=NUM_CLUSTERS).fit(spatial_pca)"
   ]
  },
  {
   "cell_type": "code",
   "execution_count": 55,
   "metadata": {},
   "outputs": [],
   "source": [
    "kmeans_initial_clusters = kmeans.predict(spatial_pca)"
   ]
  },
  {
   "cell_type": "code",
   "execution_count": 56,
   "metadata": {},
   "outputs": [],
   "source": [
    "rows = clustering.xenium_spot_data.obs[\"row\"].astype(int)\n",
    "columns = clustering.xenium_spot_data.obs[\"col\"].astype(int)\n",
    "\n",
    "num_rows = int(max(rows) - min(rows) + 1)\n",
    "num_cols = int(max(columns) - min(columns) + 1)"
   ]
  },
  {
   "cell_type": "code",
   "execution_count": 57,
   "metadata": {},
   "outputs": [],
   "source": [
    "cluster_grid = torch.zeros((num_rows, num_cols), dtype=torch.long)\n",
    "\n",
    "cluster_grid[rows, columns] = torch.tensor(kmeans_initial_clusters.astype(int)) + 1"
   ]
  },
  {
   "cell_type": "code",
   "execution_count": 58,
   "metadata": {},
   "outputs": [
    {
     "data": {
      "image/png": "[encoded data removed]",
      "text/plain": [
       "<Figure size 600x600 with 2 Axes>"
      ]
     },
     "metadata": {},
     "output_type": "display_data"
    }
   ],
   "source": [
    "colors = plt.cm.get_cmap('viridis', NUM_CLUSTERS + 1)\n",
    "colormap = ListedColormap(colors(np.linspace(0, 1, NUM_CLUSTERS + 1)))\n",
    "\n",
    "# Plotting\n",
    "plt.figure(figsize=(6, 6))\n",
    "plt.imshow(cluster_grid, cmap=colormap, interpolation='nearest', origin='lower')\n",
    "plt.colorbar(ticks=range(NUM_CLUSTERS + 1), label='Cluster Values')\n",
    "plt.title(f'K Means (Spatial) w/ {NUM_CLUSTERS} Classes')\n",
    "plt.savefig(f\"results/hBreast/KMeans/KMeans{NUM_CLUSTERS}Spatial.png\")\n",
    "plt.show()"
   ]
  },
  {
   "cell_type": "code",
   "execution_count": 63,
   "metadata": {},
   "outputs": [
    {
     "data": {
      "text/plain": [
       "tensor([[0.1265, 0.1888, 1.0473, 0.1979, 0.1880, 0.0430],\n",
       "        [0.1522, 0.4338, 1.0435, 0.3602, 0.0388, 0.0175],\n",
       "        [0.0623, 0.2214, 1.0812, 0.5293, 0.0637, 0.0449],\n",
       "        ...,\n",
       "        [0.0837, 0.1868, 1.2293, 0.0207, 0.1415, 0.4433],\n",
       "        [0.2502, 0.0411, 1.0509, 0.2947, 0.0943, 0.5196],\n",
       "        [0.1423, 0.0909, 1.1709, 0.0621, 0.0445, 0.4955]], dtype=torch.float64)"
      ]
     },
     "execution_count": 63,
     "metadata": {},
     "output_type": "execute_result"
    }
   ],
   "source": [
    "concentration_priors = torch.tensor(pd.get_dummies(kmeans_initial_clusters, dtype=float).to_numpy())\n",
    "concentration_w_locations = torch.cat((torch.tensor(clustering.xenium_spot_data.obs[[\"row\", \"col\"]].to_numpy()), concentration_priors), dim=1)\n",
    "concentration_w_locations"
   ]
  },
  {
   "cell_type": "code",
   "execution_count": null,
   "metadata": {},
   "outputs": [],
   "source": [
    "spatial_concentration_priors = concentration_priors.clone()\n",
    "for concentration, spatial_concentration in zip(concentration_w_locations, spatial_concentration_priors):\n",
    "    row, col = concentration[:2]\n",
    "    \n",
    "    # Apply the conditions for neighborhood\n",
    "    is_row_near = (concentration_w_locations[:, 0] >= (row - 1)) & (concentration_w_locations[:, 0] <= (row + 1))\n",
    "    is_col_near = (concentration_w_locations[:, 1] >= (col - 1)) & (concentration_w_locations[:, 1] <= (col + 1))\n",
    "    \n",
    "    # Combine the row and column conditions\n",
    "    neighborhood_mask = is_row_near & is_col_near\n",
    "    \n",
    "    # Select the neighborhood based on the mask\n",
    "    neighborhood = concentration_priors[neighborhood_mask]\n",
    "    \n",
    "    # Compute the mean of the data columns in the neighborhood\n",
    "    mean_values = neighborhood.mean(dim=0)\n",
    "    \n",
    "    # Assign the mean back to the corresponding locations in the original tensor (modify this as needed)\n",
    "    spatial_concentration += mean_values"
   ]
  },
  {
   "cell_type": "code",
   "execution_count": null,
   "metadata": {},
   "outputs": [],
   "source": [
    "concentration_priors = spatial_concentration_priors\n",
    "concentration_priors += torch.distributions.half_normal.HalfNormal(0.2).sample((concentration_priors.shape))\n",
    "torch.round(concentration_priors, decimals=4)"
   ]
  },
  {
   "cell_type": "code",
   "execution_count": 64,
   "metadata": {},
   "outputs": [],
   "source": [
    "# Load the data, which is just all expressions now (not PCA)\n",
    "\n",
    "# TO DO: MAKE THIS ONLY HVG\n",
    "data = torch.tensor(clustering.xenium_spot_data.X).float()"
   ]
  },
  {
   "cell_type": "code",
   "execution_count": 65,
   "metadata": {},
   "outputs": [],
   "source": [
    "def model(data):\n",
    "    # Define priors for the cluster assignment probabilities and Gaussian parameters\n",
    "    with pyro.plate(\"data\", len(data), subsample_size=BATCH_SIZE) as ind:\n",
    "        batch_data = data[ind]\n",
    "        batch_concentration_priors = concentration_priors[ind]\n",
    "        cluster_probs = pyro.sample(\"cluster_probs\", dist.Dirichlet(batch_concentration_priors))\n",
    "        \n",
    "        # Define the means and variances of the Gaussian components\n",
    "        cluster_means = pyro.sample(\"cluster_means\", dist.Normal(0., 1.).expand([NUM_CLUSTERS, batch_data.size(1)]).to_event(2))\n",
    "        cluster_scales = pyro.sample(\"cluster_scales\", dist.LogNormal(0., 1.).expand([NUM_CLUSTERS, batch_data.size(1)]).to_event(2))\n",
    "        \n",
    "        # Likelihood of data given cluster assignments\n",
    "        pyro.sample(\"obs\", dist.MixtureOfDiagNormals(cluster_means, cluster_scales, cluster_probs).to_event(1), obs=batch_data)\n",
    "\n",
    "def guide(data):\n",
    "    MIN_CONCENTRATION = 0.1\n",
    "    # Initialize cluster assignment probabilities for the entire dataset\n",
    "    cluster_concentration_params_q = pyro.param(\"cluster_concentration_params_q\", torch.ones(data.size(0), NUM_CLUSTERS), constraint=dist.constraints.positive) + MIN_CONCENTRATION\n",
    "    # Global variational parameters for means and scales\n",
    "    cluster_means_q = pyro.param(\"cluster_means_q\", torch.randn(NUM_CLUSTERS, data.size(1)))\n",
    "    cluster_scales_q = pyro.param(\"cluster_scales_q\", torch.ones(NUM_CLUSTERS, data.size(1)), constraint=dist.constraints.positive)\n",
    "    \n",
    "    with pyro.plate(\"data\", len(data), subsample_size=BATCH_SIZE) as ind:\n",
    "\n",
    "        batch_cluster_concentration_params_q = cluster_concentration_params_q[ind]\n",
    "\n",
    "        # pyro.sample(\"cluster_assignments\", dist.Categorical(batch_cluster_probs_q))\n",
    "        pyro.sample(\"cluster_probs\", dist.Dirichlet(batch_cluster_concentration_params_q))\n",
    "        pyro.sample(\"cluster_means\", dist.Normal(cluster_means_q, 0.1).to_event(2))\n",
    "        pyro.sample(\"cluster_scales\", dist.LogNormal(cluster_scales_q, 0.1).to_event(2))"
   ]
  },
  {
   "cell_type": "code",
   "execution_count": 69,
   "metadata": {},
   "outputs": [],
   "source": [
    "from pyro.optim import PyroOptim, PyroLRScheduler\n",
    "from torch.optim import Adam, lr_scheduler\n",
    "\n",
    "starting_lr = 0.01\n",
    "ending_lr = 0.00001\n",
    "N_STEPS = 1000\n",
    "\n",
    "# Setup the optimizer\n",
    "adam_params = {\"lr\": 0.01, \"betas\": (0.90, 0.999)}\n",
    "optimizer = PyroOptim(Adam, adam_params)\n",
    "scheduler = PyroLRScheduler(lr_scheduler.StepLR, {'optimizer': Adam, 'optim_args': {'lr': starting_lr}, 'step_size': 1, 'gamma': (ending_lr / starting_lr) ** (1 / N_STEPS)})"
   ]
  },
  {
   "cell_type": "code",
   "execution_count": 70,
   "metadata": {},
   "outputs": [],
   "source": [
    "# Setup the inference algorithm\n",
    "svi = SVI(model, guide, scheduler, loss=Trace_ELBO(num_particles=1))"
   ]
  },
  {
   "cell_type": "code",
   "execution_count": 71,
   "metadata": {},
   "outputs": [
    {
     "name": "stdout",
     "output_type": "stream",
     "text": [
      "0\n",
      "Step 0 : loss = 1081.6487\n",
      "5\n",
      "10\n",
      "15\n",
      "20\n",
      "25\n",
      "30\n",
      "35\n",
      "40\n",
      "45\n",
      "50\n",
      "55\n",
      "60\n",
      "65\n",
      "70\n",
      "75\n",
      "80\n",
      "85\n",
      "90\n",
      "95\n",
      "100\n",
      "Step 100 : loss = 877.9467\n",
      "105\n",
      "110\n",
      "115\n",
      "120\n",
      "125\n",
      "130\n",
      "135\n",
      "140\n",
      "145\n",
      "150\n",
      "155\n",
      "160\n",
      "165\n",
      "170\n",
      "175\n",
      "180\n",
      "185\n",
      "190\n",
      "195\n",
      "200\n",
      "Step 200 : loss = 807.4929\n",
      "205\n",
      "210\n",
      "215\n",
      "220\n",
      "225\n",
      "230\n",
      "235\n",
      "240\n",
      "245\n",
      "250\n",
      "255\n",
      "260\n",
      "265\n",
      "270\n",
      "275\n",
      "280\n",
      "285\n",
      "290\n",
      "295\n",
      "300\n",
      "Step 300 : loss = 783.3975\n",
      "305\n",
      "310\n",
      "315\n",
      "320\n",
      "325\n",
      "330\n",
      "335\n",
      "340\n",
      "345\n",
      "350\n",
      "355\n",
      "360\n",
      "365\n",
      "370\n",
      "375\n",
      "380\n",
      "385\n",
      "390\n",
      "395\n",
      "400\n",
      "Step 400 : loss = 771.5223\n",
      "405\n",
      "410\n",
      "415\n",
      "420\n",
      "425\n",
      "430\n",
      "435\n",
      "440\n",
      "445\n",
      "450\n",
      "455\n",
      "460\n",
      "465\n",
      "470\n",
      "475\n",
      "480\n",
      "485\n",
      "490\n",
      "495\n",
      "500\n",
      "Step 500 : loss = 773.7475\n",
      "505\n",
      "510\n",
      "515\n",
      "520\n",
      "525\n",
      "530\n",
      "535\n",
      "540\n",
      "545\n",
      "550\n",
      "555\n",
      "560\n",
      "565\n",
      "570\n",
      "575\n",
      "580\n",
      "585\n",
      "590\n",
      "595\n",
      "600\n",
      "Step 600 : loss = 768.4984\n",
      "605\n",
      "610\n",
      "615\n",
      "620\n",
      "625\n",
      "630\n",
      "635\n",
      "640\n",
      "645\n",
      "650\n",
      "655\n",
      "660\n",
      "665\n",
      "670\n",
      "675\n",
      "680\n",
      "685\n",
      "690\n",
      "695\n",
      "700\n",
      "Step 700 : loss = 771.9046\n",
      "705\n",
      "710\n",
      "715\n",
      "720\n",
      "725\n",
      "730\n",
      "735\n",
      "740\n",
      "745\n",
      "750\n",
      "755\n",
      "760\n",
      "765\n",
      "770\n",
      "775\n",
      "780\n",
      "785\n",
      "790\n",
      "795\n",
      "800\n",
      "Step 800 : loss = 768.6442\n",
      "805\n",
      "810\n",
      "815\n",
      "820\n",
      "825\n",
      "830\n",
      "835\n",
      "840\n",
      "845\n",
      "850\n",
      "855\n",
      "860\n",
      "865\n",
      "870\n",
      "875\n",
      "880\n",
      "885\n",
      "890\n",
      "895\n",
      "900\n",
      "Step 900 : loss = 762.3486\n",
      "905\n",
      "910\n",
      "915\n",
      "920\n",
      "925\n",
      "930\n",
      "935\n",
      "940\n",
      "945\n",
      "950\n",
      "955\n",
      "960\n",
      "965\n",
      "970\n",
      "975\n",
      "980\n",
      "985\n",
      "990\n",
      "995\n"
     ]
    }
   ],
   "source": [
    "for step in range(N_STEPS):\n",
    "    loss = svi.step(data)\n",
    "    svi.optim.step()\n",
    "    if step % 5 == 0:\n",
    "        print(step)\n",
    "    if step % 100 == 0:\n",
    "        print(f\"Step {step} : loss = {round(loss/1e6, 4)}\")"
   ]
  },
  {
   "cell_type": "code",
   "execution_count": 79,
   "metadata": {},
   "outputs": [
    {
     "name": "stdout",
     "output_type": "stream",
     "text": [
      "tensor([2, 0, 3,  ..., 2, 2, 0]) tensor([[0.0217, 0.0094, 0.4356, 0.1141, 0.2172, 0.2020],\n",
      "        [0.4903, 0.3034, 0.0394, 0.0785, 0.0247, 0.0637],\n",
      "        [0.2817, 0.0054, 0.1094, 0.2869, 0.2009, 0.1157],\n",
      "        ...,\n",
      "        [0.0109, 0.1313, 0.5966, 0.0468, 0.0319, 0.1825],\n",
      "        [0.2302, 0.1349, 0.2803, 0.0255, 0.1886, 0.1404],\n",
      "        [0.3572, 0.2004, 0.0456, 0.0015, 0.1897, 0.2055]])\n"
     ]
    }
   ],
   "source": [
    "# Grab the learned variational parameters\n",
    "cluster_concentration_params_q = pyro.param(\"cluster_concentration_params_q\")\n",
    "cluster_probs_q = pyro.sample(\"cluster_probs\", dist.Dirichlet(cluster_concentration_params_q)).detach()\n",
    "cluster_concentration_params_q = cluster_concentration_params_q.detach()\n",
    "\n",
    "cluster_assignments_q = cluster_probs_q.argmax(dim=1)\n",
    "cluster_means_q = pyro.param(\"cluster_means_q\").detach()\n",
    "cluster_scales_q = pyro.param(\"cluster_scales_q\").detach()\n",
    "\n",
    "# Output the learned cluster probabilities for each data point\n",
    "print(cluster_assignments_q, cluster_probs_q)"
   ]
  },
  {
   "cell_type": "code",
   "execution_count": 80,
   "metadata": {},
   "outputs": [
    {
     "data": {
      "text/plain": [
       "(array([ 898.,    0.,  876.,    0., 1067.,    0., 1086.,    0.,  880.,\n",
       "        1331.]),\n",
       " array([0. , 0.5, 1. , 1.5, 2. , 2.5, 3. , 3.5, 4. , 4.5, 5. ]),\n",
       " <BarContainer object of 10 artists>)"
      ]
     },
     "execution_count": 80,
     "metadata": {},
     "output_type": "execute_result"
    },
    {
     "data": {
      "image/png": "[encoded data removed]",
      "text/plain": [
       "<Figure size 640x480 with 1 Axes>"
      ]
     },
     "metadata": {},
     "output_type": "display_data"
    }
   ],
   "source": [
    "plt.hist(cluster_assignments_q)"
   ]
  },
  {
   "cell_type": "code",
   "execution_count": 81,
   "metadata": {},
   "outputs": [
    {
     "data": {
      "text/plain": [
       "(tensor([[ 3.6690e-01, -1.6110e-01,  1.3560e-01,  ...,  4.7660e-01,\n",
       "           1.4815e+00,  7.9280e-01],\n",
       "         [-6.7700e-01, -1.4160e-01,  1.2000e-02,  ...,  3.4000e-03,\n",
       "           2.0000e-04, -3.7050e-01],\n",
       "         [ 9.1200e-02,  5.8740e-01,  9.1900e-01,  ...,  1.0826e+00,\n",
       "           1.8759e+00,  7.1650e-01],\n",
       "         [ 1.0146e+00,  1.8516e+00,  2.3346e+00,  ...,  2.5001e+00,\n",
       "           2.2400e+00,  3.5740e-01],\n",
       "         [ 4.0000e-04,  1.5170e-01,  2.8500e-02,  ...,  8.2600e-02,\n",
       "           2.8140e-01, -3.1260e-01],\n",
       "         [ 2.9865e+00,  1.2099e+00,  3.0118e+00,  ...,  1.7636e+00,\n",
       "           2.6353e+00,  1.0851e+00]]),\n",
       " tensor([[0.7390, 1.1500, 0.6763,  ..., 0.7334, 0.7606, 0.7249],\n",
       "         [0.4036, 0.4027, 0.4325,  ..., 0.4330, 0.4273, 0.4124],\n",
       "         [0.2300, 0.6083, 0.2563,  ..., 0.2592, 0.2731, 0.2348],\n",
       "         [0.3242, 0.8487, 0.2969,  ..., 0.2910, 0.4668, 0.8466],\n",
       "         [0.6501, 0.5641, 0.6421,  ..., 0.6208, 0.6005, 0.5991],\n",
       "         [0.3150, 1.0935, 0.3004,  ..., 0.2923, 0.2932, 1.0566]]))"
      ]
     },
     "execution_count": 81,
     "metadata": {},
     "output_type": "execute_result"
    }
   ],
   "source": [
    "np.set_printoptions(suppress=True) \n",
    "np.round(cluster_means_q, 4), np.round(cluster_scales_q, 4)"
   ]
  },
  {
   "cell_type": "code",
   "execution_count": 82,
   "metadata": {},
   "outputs": [],
   "source": [
    "rows = clustering.xenium_spot_data.obs[\"row\"].astype(int)\n",
    "columns = clustering.xenium_spot_data.obs[\"col\"].astype(int)\n",
    "\n",
    "num_rows = int(max(rows) - min(rows) + 1)\n",
    "num_cols = int(max(columns) - min(columns) + 1)"
   ]
  },
  {
   "cell_type": "code",
   "execution_count": 83,
   "metadata": {},
   "outputs": [],
   "source": [
    "cluster_grid = torch.zeros((num_rows, num_cols), dtype=torch.long)\n",
    "\n",
    "cluster_grid[rows, columns] = cluster_assignments_q + 1"
   ]
  },
  {
   "cell_type": "code",
   "execution_count": 84,
   "metadata": {},
   "outputs": [
    {
     "data": {
      "image/png": "[encoded data removed]",
      "text/plain": [
       "<Figure size 600x600 with 2 Axes>"
      ]
     },
     "metadata": {},
     "output_type": "display_data"
    }
   ],
   "source": [
    "colors = plt.cm.get_cmap('viridis', NUM_CLUSTERS + 1)\n",
    "colormap = ListedColormap(colors(np.linspace(0, 1, NUM_CLUSTERS + 1)))\n",
    "\n",
    "# Plotting\n",
    "plt.figure(figsize=(6, 6))\n",
    "plt.imshow(cluster_grid, cmap=colormap, interpolation='nearest', origin='lower')\n",
    "plt.colorbar(ticks=range(NUM_CLUSTERS + 1), label='Cluster Values')\n",
    "plt.title('Cluster Visualization with Unique Colors')\n",
    "plt.show()"
   ]
  },
  {
   "cell_type": "code",
   "execution_count": 85,
   "metadata": {},
   "outputs": [
    {
     "data": {
      "image/png": "[encoded data removed]",
      "text/plain": [
       "<Figure size 600x600 with 2 Axes>"
      ]
     },
     "metadata": {},
     "output_type": "display_data"
    }
   ],
   "source": [
    "# confidence mapping\n",
    "cluster_confidences = torch.zeros((num_rows, num_cols), dtype=torch.float)\n",
    "\n",
    "cluster_confidences[rows, columns] = cluster_probs_q.max(dim=1).values\n",
    "\n",
    "colors = plt.cm.get_cmap('Greys', NUM_CLUSTERS + 1)\n",
    "colormap = ListedColormap(colors(np.linspace(0, 1, NUM_CLUSTERS + 1)))\n",
    "\n",
    "# Plotting\n",
    "plt.figure(figsize=(6, 6))\n",
    "plt.imshow(cluster_confidences > 0.5, cmap=colormap, interpolation='nearest', origin='lower')\n",
    "plt.colorbar(ticks=range(NUM_CLUSTERS + 1), label='Cluster Values')\n",
    "plt.title(r'$P(z_i = k) > 0.5$')\n",
    "plt.show()"
   ]
  },
  {
   "cell_type": "code",
   "execution_count": null,
   "metadata": {},
   "outputs": [],
   "source": []
  }
 ],
 "metadata": {
  "kernelspec": {
   "display_name": "xenium-1YUjn3qu-py3.10",
   "language": "python",
   "name": "python3"
  },
  "language_info": {
   "codemirror_mode": {
    "name": "ipython",
    "version": 3
   },
   "file_extension": ".py",
   "mimetype": "text/x-python",
   "name": "python",
   "nbconvert_exporter": "python",
   "pygments_lexer": "ipython3",
   "version": "3.10.12"
  }
 },
 "nbformat": 4,
 "nbformat_minor": 2
}
