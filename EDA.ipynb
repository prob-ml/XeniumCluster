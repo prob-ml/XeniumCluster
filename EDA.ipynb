{
 "cells": [
  {
   "cell_type": "code",
   "execution_count": null,
   "metadata": {},
   "outputs": [],
   "source": [
    "import numpy as np\n",
    "import pandas as pd\n",
    "import scanpy as sc\n",
    "import matplotlib.pyplot as plt\n",
    "from matplotlib.colors import ListedColormap\n",
    "import torch\n",
    "from torch.utils.data import DataLoader, TensorDataset\n",
    "import lightning as L\n",
    "import torch.nn.functional as F\n",
    "import optuna\n",
    "import tensorboard\n",
    "from lightning.pytorch.loggers import TensorBoardLogger\n",
    "\n",
    "import warnings\n",
    "warnings.filterwarnings(\"ignore\")\n",
    "from importlib import reload\n",
    "\n",
    "import torchclustermetrics \n",
    "reload(torchclustermetrics)\n",
    "from torchclustermetrics import silhouette\n",
    "\n",
    "# this ensures that I can update the class without losing my variables in my notebook\n",
    "import xenium_cluster\n",
    "reload(xenium_cluster)\n",
    "from xenium_cluster import XeniumCluster\n",
    "from utils.metrics import *\n",
    "\n",
    "from sklearn.decomposition import PCA"
   ]
  },
  {
   "cell_type": "code",
   "execution_count": null,
   "metadata": {},
   "outputs": [],
   "source": [
    "# Path to your .gz file\n",
    "file_path = 'data/hBreast/transcripts.csv.gz'\n",
    "\n",
    "# Read the gzipped CSV file into a DataFrame\n",
    "df_transcripts = pd.read_csv(file_path, compression='gzip')\n",
    "df_transcripts.head(), df_transcripts.shape"
   ]
  },
  {
   "cell_type": "code",
   "execution_count": null,
   "metadata": {},
   "outputs": [],
   "source": [
    "df_transcripts = df_transcripts[~df_transcripts[\"feature_name\"].str.startswith('BLANK_') & ~df_transcripts[\"feature_name\"].str.startswith('NegControl')]"
   ]
  },
  {
   "cell_type": "code",
   "execution_count": null,
   "metadata": {},
   "outputs": [],
   "source": [
    "random_rows = df_transcripts.sample(n=10000, random_state=1)  # random_state is used for reproducibility"
   ]
  },
  {
   "cell_type": "code",
   "execution_count": null,
   "metadata": {},
   "outputs": [],
   "source": [
    "plt.scatter(random_rows[\"x_location\"], random_rows[\"y_location\"], s=1, c=pd.Categorical(random_rows[\"feature_name\"]).codes, cmap='viridis')\n",
    "plt.colorbar(label='Feature Name')  # Adds a colorbar with labels to the plot\n",
    "plt.xlabel('X Location')\n",
    "plt.ylabel('Y Location')\n",
    "plt.title('Transcripts in a Xenium Tissue')\n",
    "\n",
    "\n",
    "k = 55\n",
    "plt.xticks(range(int(random_rows[\"x_location\"].min()), int(random_rows[\"x_location\"].max()) + 1, k), labels=[])\n",
    "plt.yticks(range(int(random_rows[\"y_location\"].min()), int(random_rows[\"y_location\"].max()) + 1, k), labels=[])\n",
    "\n",
    "plt.grid(True, which='both', color='gray', linewidth=0.5, linestyle='--')\n",
    "\n",
    "plt.show()"
   ]
  },
  {
   "cell_type": "code",
   "execution_count": null,
   "metadata": {},
   "outputs": [],
   "source": [
    "plt.scatter(random_rows[\"x_location\"], random_rows[\"y_location\"], s=1, c=random_rows[\"overlaps_nucleus\"], cmap='viridis')\n",
    "plt.colorbar(label='Feature Name')  # Adds a colorbar with labels to the plot\n",
    "plt.xlabel('X Location')\n",
    "plt.ylabel('Y Location')\n",
    "plt.title('Nucleii in a Xenium Tissue')\n",
    "\n",
    "\n",
    "k = 55\n",
    "plt.xticks(range(int(random_rows[\"x_location\"].min()), int(random_rows[\"x_location\"].max()) + 1, k), labels=[])\n",
    "plt.yticks(range(int(random_rows[\"y_location\"].min()), int(random_rows[\"y_location\"].max()) + 1, k), labels=[])\n",
    "\n",
    "plt.grid(True, which='both', color='gray', linewidth=0.5, linestyle='--')\n",
    "\n",
    "plt.show()"
   ]
  },
  {
   "cell_type": "markdown",
   "metadata": {},
   "source": [
    "# EDA on Spot Data"
   ]
  },
  {
   "cell_type": "markdown",
   "metadata": {},
   "source": [
    "For now, we will focus on the 2D case and ignore the 3D information."
   ]
  },
  {
   "cell_type": "code",
   "execution_count": null,
   "metadata": {},
   "outputs": [],
   "source": [
    "clustering = XeniumCluster(data=df_transcripts, dataset_name=\"hBreast\")\n",
    "clustering.set_spot_size(100)\n",
    "clustering.create_spot_data(third_dim=False, save_data=True)"
   ]
  },
  {
   "cell_type": "code",
   "execution_count": null,
   "metadata": {},
   "outputs": [],
   "source": [
    "valid_genes_mask = ~clustering.xenium_spot_data.var_names.str.startswith('BLANK_') & ~clustering.xenium_spot_data.var_names.str.startswith('NegControl')\n",
    "clustering.xenium_spot_data = clustering.xenium_spot_data[:, valid_genes_mask]"
   ]
  },
  {
   "cell_type": "code",
   "execution_count": null,
   "metadata": {},
   "outputs": [],
   "source": [
    "clustering.normalize_counts(clustering.xenium_spot_data)"
   ]
  },
  {
   "cell_type": "code",
   "execution_count": null,
   "metadata": {},
   "outputs": [],
   "source": [
    "clustering.xenium_spot_data.obs"
   ]
  },
  {
   "cell_type": "markdown",
   "metadata": {},
   "source": [
    "### PCA on Unfiltered Spot Data"
   ]
  },
  {
   "cell_type": "code",
   "execution_count": null,
   "metadata": {},
   "outputs": [],
   "source": [
    "sc.tl.pca(clustering.xenium_spot_data, svd_solver='arpack', n_comps=50)\n",
    "clustering.xenium_spot_data.obsm[\"X_pca\"]"
   ]
  },
  {
   "cell_type": "code",
   "execution_count": null,
   "metadata": {},
   "outputs": [],
   "source": [
    "clustering.xenium_spot_data.varm[\"PCs\"]\n",
    "clustering.xenium_spot_data.varm[\"PCs\"]"
   ]
  },
  {
   "cell_type": "code",
   "execution_count": null,
   "metadata": {},
   "outputs": [],
   "source": [
    "data = np.save('PC.npy', clustering.xenium_spot_data.varm[\"PCs\"])"
   ]
  },
  {
   "cell_type": "code",
   "execution_count": null,
   "metadata": {},
   "outputs": [],
   "source": [
    "plt.plot(np.abs(clustering.xenium_spot_data.varm[\"PCs\"][:, 0]))"
   ]
  },
  {
   "cell_type": "code",
   "execution_count": null,
   "metadata": {},
   "outputs": [],
   "source": [
    "plt.plot(np.abs(clustering.xenium_spot_data.varm[\"PCs\"][:, 1]))"
   ]
  },
  {
   "cell_type": "code",
   "execution_count": null,
   "metadata": {},
   "outputs": [],
   "source": [
    "sc.pl.pca_variance_ratio(clustering.xenium_spot_data)\n",
    "plt.savefig(\"results/EDA/spotPCA.png\")"
   ]
  },
  {
   "cell_type": "code",
   "execution_count": null,
   "metadata": {},
   "outputs": [],
   "source": [
    "clustering.filter_only_high_variable_genes(clustering.xenium_spot_data, plot_highly_variable_genes=True)"
   ]
  },
  {
   "cell_type": "markdown",
   "metadata": {},
   "source": [
    "### PCA on Highly-Variable Spot Data"
   ]
  },
  {
   "cell_type": "code",
   "execution_count": null,
   "metadata": {},
   "outputs": [],
   "source": [
    "clustering.xenium_spot_data = clustering.xenium_spot_data[:,clustering.xenium_spot_data.var.highly_variable==True]\n",
    "\n",
    "sc.tl.pca(clustering.xenium_spot_data, svd_solver='arpack')\n",
    "clustering.xenium_spot_data.obsm[\"X_pca\"]"
   ]
  },
  {
   "cell_type": "code",
   "execution_count": null,
   "metadata": {},
   "outputs": [],
   "source": [
    "clustering.xenium_spot_data.varm[\"PCs\"]"
   ]
  },
  {
   "cell_type": "code",
   "execution_count": null,
   "metadata": {},
   "outputs": [],
   "source": [
    "sc.pl.pca_variance_ratio(clustering.xenium_spot_data)"
   ]
  },
  {
   "cell_type": "code",
   "execution_count": null,
   "metadata": {},
   "outputs": [],
   "source": [
    "plt.plot(np.abs(clustering.xenium_spot_data.varm[\"PCs\"][:, 0]))"
   ]
  },
  {
   "cell_type": "code",
   "execution_count": null,
   "metadata": {},
   "outputs": [],
   "source": [
    "plt.plot(np.abs(clustering.xenium_spot_data.varm[\"PCs\"][:, 1]))"
   ]
  },
  {
   "cell_type": "code",
   "execution_count": null,
   "metadata": {},
   "outputs": [],
   "source": [
    "clustering.xenium_spot_data.var"
   ]
  },
  {
   "cell_type": "markdown",
   "metadata": {},
   "source": [
    "# EDA on Cell Data"
   ]
  },
  {
   "cell_type": "code",
   "execution_count": null,
   "metadata": {},
   "outputs": [],
   "source": [
    "cells = df_transcripts.groupby(['cell_id', 'feature_name']).size().reset_index(name='count')\n",
    "cells_pivot = cells.pivot_table(index='cell_id', \n",
    "                                columns='feature_name', \n",
    "                                values='count', \n",
    "                                fill_value=0)\n",
    "cells_pivot.shape"
   ]
  },
  {
   "cell_type": "code",
   "execution_count": null,
   "metadata": {},
   "outputs": [],
   "source": [
    "location_means = df_transcripts.groupby('cell_id').agg({\n",
    "    'x_location': 'mean',\n",
    "    'y_location': 'mean',\n",
    "    'z_location': 'mean'\n",
    "}).reset_index()\n",
    "\n",
    "cells_pivot = location_means.join(cells_pivot, on='cell_id')"
   ]
  },
  {
   "cell_type": "code",
   "execution_count": null,
   "metadata": {},
   "outputs": [],
   "source": [
    "# log normalization\n",
    "cells_pivot.iloc[:, 4:] = np.log1p(cells_pivot.iloc[:, 4:])"
   ]
  },
  {
   "cell_type": "code",
   "execution_count": null,
   "metadata": {},
   "outputs": [],
   "source": [
    "cells_pivot = cells_pivot[cells_pivot[\"cell_id\"] != -1]"
   ]
  },
  {
   "cell_type": "code",
   "execution_count": null,
   "metadata": {},
   "outputs": [],
   "source": [
    "cells_pivot.head()"
   ]
  },
  {
   "cell_type": "code",
   "execution_count": null,
   "metadata": {},
   "outputs": [],
   "source": [
    "random_cells = cells_pivot.sample(n=10000, random_state=1)  # random_state is used for reproducibility"
   ]
  },
  {
   "cell_type": "code",
   "execution_count": null,
   "metadata": {},
   "outputs": [],
   "source": [
    "int(random_cells[\"x_location\"].min()), int(random_cells[\"x_location\"].max())\n"
   ]
  },
  {
   "cell_type": "code",
   "execution_count": null,
   "metadata": {},
   "outputs": [],
   "source": [
    "int(random_cells[\"y_location\"].min()), int(random_cells[\"y_location\"].max())"
   ]
  },
  {
   "cell_type": "code",
   "execution_count": null,
   "metadata": {},
   "outputs": [],
   "source": [
    "plt.scatter(random_cells[\"x_location\"], random_cells[\"y_location\"], s=1)\n",
    "plt.xlabel('X Location')\n",
    "plt.ylabel('Y Location')\n",
    "plt.title('Cells in a Xenium Tissue')\n",
    "\n",
    "\n",
    "k = 55\n",
    "plt.xticks(range(int(random_cells[\"x_location\"].min()), int(random_cells[\"x_location\"].max()) + 1, k), labels=[])\n",
    "plt.yticks(range(int(random_cells[\"y_location\"].min()), int(random_cells[\"y_location\"].max()) + 1, k), labels=[])\n",
    "\n",
    "plt.grid(True, which='both', color='gray', linewidth=0.5, linestyle='--')\n",
    "\n",
    "plt.savefig(\"results/EDA/cells.png\")\n",
    "\n",
    "plt.show()"
   ]
  },
  {
   "cell_type": "code",
   "execution_count": null,
   "metadata": {},
   "outputs": [],
   "source": [
    "plt.scatter(random_cells[\"x_location\"], random_cells[\"y_location\"], s=1)\n",
    "plt.xlabel('X Location')\n",
    "plt.ylabel('Y Location')\n",
    "plt.title('Cells in a Xenium Tissue')\n",
    "\n",
    "\n",
    "k = 55\n",
    "plt.xticks(range(int(random_cells[\"x_location\"].min()), int(random_cells[\"x_location\"].max()) + 1, k), labels=[])\n",
    "plt.yticks(range(int(random_cells[\"y_location\"].min()), int(random_cells[\"y_location\"].max()) + 1, k), labels=[])\n",
    "\n",
    "plt.grid(True, which='both', color='gray', linewidth=0.5, linestyle='--')\n",
    "\n",
    "plt.savefig(\"results/EDA/cells.png\")\n",
    "\n",
    "plt.show()"
   ]
  },
  {
   "cell_type": "code",
   "execution_count": null,
   "metadata": {},
   "outputs": [],
   "source": [
    "import matplotlib.pyplot as plt\n",
    "import numpy as np\n",
    "\n",
    "# Assuming 'random_cells' is your DataFrame and it contains 'x_location' and 'y_location'\n",
    "\n",
    "# Create scatter plot\n",
    "plt.scatter(random_cells[\"x_location\"], random_cells[\"y_location\"], s=10)\n",
    "plt.xlabel('X Location')\n",
    "plt.ylabel('Y Location')\n",
    "plt.title('Cells in a Xenium Tissue')\n",
    "\n",
    "# Define the grid interval\n",
    "k = 55\n",
    "plt.xticks(range(int(random_cells[\"x_location\"].min()), int(random_cells[\"x_location\"].max()) + 1, k), fontsize=6)\n",
    "plt.yticks(range(int(random_cells[\"y_location\"].min()), int(random_cells[\"y_location\"].max()) + 1, k), fontsize=6)\n",
    "\n",
    "# Set gridlines\n",
    "plt.grid(True, which='both', color='gray', linewidth=0.5, linestyle='--')\n",
    "\n",
    "# Define the zoom area size\n",
    "zoom_size = 1000  # Define how large the zoom area should be\n",
    "\n",
    "# Select a random center point for the zoom\n",
    "center_x = np.random.randint(2100, 2500)\n",
    "center_y = np.random.randint(7000, random_cells[\"y_location\"].max())\n",
    "\n",
    "# Set the limits for the zoom area\n",
    "plt.xlim(center_x - zoom_size / 2, center_x + zoom_size / 2)\n",
    "plt.ylim(center_y - zoom_size / 2, center_y + zoom_size / 2)\n",
    "\n",
    "plt.savefig(\"results/EDA/zoomed_cells.png\")\n",
    "\n",
    "# Show the plot with zoomed area\n",
    "plt.show()\n"
   ]
  },
  {
   "cell_type": "code",
   "execution_count": null,
   "metadata": {},
   "outputs": [],
   "source": [
    "pca = PCA(n_components=20)\n",
    "pca.fit(cells_pivot.iloc[:, 4:])"
   ]
  },
  {
   "cell_type": "code",
   "execution_count": null,
   "metadata": {},
   "outputs": [],
   "source": [
    "np.set_printoptions(suppress=True)\n",
    "print(np.round(pca.explained_variance_ratio_, 4))"
   ]
  },
  {
   "cell_type": "code",
   "execution_count": null,
   "metadata": {},
   "outputs": [],
   "source": [
    "cells_pivot.head()"
   ]
  },
  {
   "cell_type": "code",
   "execution_count": null,
   "metadata": {},
   "outputs": [],
   "source": [
    "genes = cells_pivot.iloc[:, 4:]\n",
    "gene_dispersions = genes.var(axis=0) / (genes.mean(axis=0) ** 2)\n",
    "gene_dispersions.sort_values(ascending=False)"
   ]
  },
  {
   "cell_type": "code",
   "execution_count": null,
   "metadata": {},
   "outputs": [],
   "source": [
    "gene_dispersions_proportions = (gene_dispersions / sum(gene_dispersions)).sort_values(ascending=False)\n",
    "gene_dispersions_proportions"
   ]
  },
  {
   "cell_type": "code",
   "execution_count": null,
   "metadata": {},
   "outputs": [],
   "source": [
    "gene_dispersions_proportions.cumsum()"
   ]
  },
  {
   "cell_type": "code",
   "execution_count": null,
   "metadata": {},
   "outputs": [],
   "source": [
    "gene_dispersions_proportions[(gene_dispersions_proportions.cumsum() < 0.65)].index, len(gene_dispersions_proportions[(gene_dispersions_proportions.cumsum() < 0.65)].index)"
   ]
  },
  {
   "cell_type": "code",
   "execution_count": null,
   "metadata": {},
   "outputs": [],
   "source": [
    "gene_variances = genes.var(axis=0)\n",
    "gene_variances = gene_variances.sort_values(ascending=False)\n",
    "gene_var_proportions = (gene_variances / sum(gene_variances))\n",
    "gene_var_proportions"
   ]
  },
  {
   "cell_type": "code",
   "execution_count": null,
   "metadata": {},
   "outputs": [],
   "source": [
    "gene_var_proportions.cumsum()"
   ]
  },
  {
   "cell_type": "code",
   "execution_count": null,
   "metadata": {},
   "outputs": [],
   "source": [
    "gene_var_proportions[(gene_var_proportions.cumsum() < 0.95)].index, len(gene_dispersions_proportions[(gene_var_proportions.cumsum() < 0.95)].index)"
   ]
  },
  {
   "cell_type": "code",
   "execution_count": null,
   "metadata": {},
   "outputs": [],
   "source": []
  }
 ],
 "metadata": {
  "kernelspec": {
   "display_name": "xenium-1YUjn3qu-py3.10",
   "language": "python",
   "name": "python3"
  },
  "language_info": {
   "codemirror_mode": {
    "name": "ipython",
    "version": 3
   },
   "file_extension": ".py",
   "mimetype": "text/x-python",
   "name": "python",
   "nbconvert_exporter": "python",
   "pygments_lexer": "ipython3",
   "version": "3.10.12"
  }
 },
 "nbformat": 4,
 "nbformat_minor": 2
}
